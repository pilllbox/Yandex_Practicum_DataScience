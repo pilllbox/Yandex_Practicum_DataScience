{
 "cells": [
  {
   "cell_type": "markdown",
   "id": "729e5a6c",
   "metadata": {},
   "source": [
    "# Анализ данных аренды самокатов GoFast\n",
    "\n",
    "Чтобы совершать поездки по городу, пользователи сервиса GoFast пользуются мобильным приложением. \n",
    "\n",
    "Сервисом можно пользоваться:\n",
    "- без подписки\n",
    "    - абонентская плата отсутствует;\n",
    "    - стоимость одной минуты поездки — 8 рублей;\n",
    "    - стоимость старта (начала поездки) — 50 рублей;\n",
    "- с подпиской Ultra\n",
    "    - абонентская плата — 199 рублей в месяц;\n",
    "    - стоимость одной минуты поездки — 6 рублей;\n",
    "    - стоимость старта — бесплатно.\n",
    "    \n",
    "**Цель:** Проанализировать данные и проверить некоторые гипотезы, которые могут помочь бизнесу вырасти.\n",
    "    \n",
    "**Описание данных:**\n",
    "\n",
    "Предоставлены три таблицы: \n",
    "1. Пользователи\n",
    "\n",
    "- `user_id` - уникальный идентификатор пользователя\n",
    "- `name` - имя пользователя\n",
    "- `age` - возраст\n",
    "- `city` - город\n",
    "- `subscription_type` - тип подписки (free, ultra)\n",
    "\n",
    "2. Поездки\n",
    "\n",
    "- `user_id`\t- уникальный идентификатор пользователя\n",
    "- `distance` - расстояние, которое пользователь проехал в текущей сессии (в метрах)\n",
    "- `duration` - продолжительность сессии (в минутах) — время с того момента, как пользователь нажал кнопку «Начать поездку» до момента, как он нажал кнопку «Завершить поездку»\n",
    "- `date` - дата совершения поездки\n",
    "\n",
    "3. Подписки \n",
    "\n",
    "- `subscription_type` - тип подписки\n",
    "- `minute_price` - стоимость одной минуты поездки по данной подписке\n",
    "- `start_ride_price` - стоимость начала поездки\n",
    "- `subscription_fee` - стоимость ежемесячного платежа\n",
    "\n",
    "**План работы:**\n",
    "\n",
    "1. Загрузка данных\n",
    "2. Предобработка данных\n",
    "3. Исследовательский анализ данных\n",
    "4. Объединение данных\n",
    "5. Подсчет выручки\n",
    "6. Проверка гипотез\n",
    "7. Решение задач с помощью распределений"
   ]
  },
  {
   "cell_type": "code",
   "execution_count": 1,
   "id": "72576667",
   "metadata": {},
   "outputs": [],
   "source": [
    "import pandas as pd\n",
    "from matplotlib import pyplot as plt\n",
    "import math\n",
    "from scipy import stats as st\n",
    "from scipy.stats import binom, norm"
   ]
  },
  {
   "cell_type": "markdown",
   "id": "c42cbe00",
   "metadata": {},
   "source": [
    "### Шаг 1. Загрузка данных"
   ]
  },
  {
   "cell_type": "code",
   "execution_count": 2,
   "id": "eff9f206",
   "metadata": {},
   "outputs": [],
   "source": [
    "users = pd.read_csv('C:/FATHER/datasets/users_go.csv')\n",
    "\n",
    "rides = pd.read_csv('C:/FATHER/datasets/rides_go.csv')\n",
    "\n",
    "subscriptions = pd.read_csv('C:/FATHER/datasets/subscriptions_go.csv')"
   ]
  },
  {
   "cell_type": "markdown",
   "id": "e28ef564",
   "metadata": {},
   "source": [
    "Посмотрим информацию о пользователях."
   ]
  },
  {
   "cell_type": "code",
   "execution_count": 3,
   "id": "2163cdb8",
   "metadata": {},
   "outputs": [
    {
     "data": {
      "text/html": [
       "<div>\n",
       "<style scoped>\n",
       "    .dataframe tbody tr th:only-of-type {\n",
       "        vertical-align: middle;\n",
       "    }\n",
       "\n",
       "    .dataframe tbody tr th {\n",
       "        vertical-align: top;\n",
       "    }\n",
       "\n",
       "    .dataframe thead th {\n",
       "        text-align: right;\n",
       "    }\n",
       "</style>\n",
       "<table border=\"1\" class=\"dataframe\">\n",
       "  <thead>\n",
       "    <tr style=\"text-align: right;\">\n",
       "      <th></th>\n",
       "      <th>user_id</th>\n",
       "      <th>name</th>\n",
       "      <th>age</th>\n",
       "      <th>city</th>\n",
       "      <th>subscription_type</th>\n",
       "    </tr>\n",
       "  </thead>\n",
       "  <tbody>\n",
       "    <tr>\n",
       "      <th>0</th>\n",
       "      <td>1</td>\n",
       "      <td>Кира</td>\n",
       "      <td>22</td>\n",
       "      <td>Тюмень</td>\n",
       "      <td>ultra</td>\n",
       "    </tr>\n",
       "    <tr>\n",
       "      <th>1</th>\n",
       "      <td>2</td>\n",
       "      <td>Станислав</td>\n",
       "      <td>31</td>\n",
       "      <td>Омск</td>\n",
       "      <td>ultra</td>\n",
       "    </tr>\n",
       "    <tr>\n",
       "      <th>2</th>\n",
       "      <td>3</td>\n",
       "      <td>Алексей</td>\n",
       "      <td>20</td>\n",
       "      <td>Москва</td>\n",
       "      <td>ultra</td>\n",
       "    </tr>\n",
       "    <tr>\n",
       "      <th>3</th>\n",
       "      <td>4</td>\n",
       "      <td>Константин</td>\n",
       "      <td>26</td>\n",
       "      <td>Ростов-на-Дону</td>\n",
       "      <td>ultra</td>\n",
       "    </tr>\n",
       "    <tr>\n",
       "      <th>4</th>\n",
       "      <td>5</td>\n",
       "      <td>Адель</td>\n",
       "      <td>28</td>\n",
       "      <td>Омск</td>\n",
       "      <td>ultra</td>\n",
       "    </tr>\n",
       "  </tbody>\n",
       "</table>\n",
       "</div>"
      ],
      "text/plain": [
       "   user_id        name  age            city subscription_type\n",
       "0        1        Кира   22          Тюмень             ultra\n",
       "1        2   Станислав   31            Омск             ultra\n",
       "2        3     Алексей   20          Москва             ultra\n",
       "3        4  Константин   26  Ростов-на-Дону             ultra\n",
       "4        5       Адель   28            Омск             ultra"
      ]
     },
     "execution_count": 3,
     "metadata": {},
     "output_type": "execute_result"
    }
   ],
   "source": [
    "users.head()"
   ]
  },
  {
   "cell_type": "code",
   "execution_count": 4,
   "id": "0c83aa76",
   "metadata": {},
   "outputs": [
    {
     "name": "stdout",
     "output_type": "stream",
     "text": [
      "<class 'pandas.core.frame.DataFrame'>\n",
      "RangeIndex: 1565 entries, 0 to 1564\n",
      "Data columns (total 5 columns):\n",
      " #   Column             Non-Null Count  Dtype \n",
      "---  ------             --------------  ----- \n",
      " 0   user_id            1565 non-null   int64 \n",
      " 1   name               1565 non-null   object\n",
      " 2   age                1565 non-null   int64 \n",
      " 3   city               1565 non-null   object\n",
      " 4   subscription_type  1565 non-null   object\n",
      "dtypes: int64(2), object(3)\n",
      "memory usage: 61.3+ KB\n"
     ]
    }
   ],
   "source": [
    "users.info()"
   ]
  },
  {
   "cell_type": "markdown",
   "id": "feceaaed",
   "metadata": {},
   "source": [
    "Посмотрим информацио о поездках"
   ]
  },
  {
   "cell_type": "code",
   "execution_count": 5,
   "id": "b71af7f4",
   "metadata": {},
   "outputs": [
    {
     "data": {
      "text/html": [
       "<div>\n",
       "<style scoped>\n",
       "    .dataframe tbody tr th:only-of-type {\n",
       "        vertical-align: middle;\n",
       "    }\n",
       "\n",
       "    .dataframe tbody tr th {\n",
       "        vertical-align: top;\n",
       "    }\n",
       "\n",
       "    .dataframe thead th {\n",
       "        text-align: right;\n",
       "    }\n",
       "</style>\n",
       "<table border=\"1\" class=\"dataframe\">\n",
       "  <thead>\n",
       "    <tr style=\"text-align: right;\">\n",
       "      <th></th>\n",
       "      <th>user_id</th>\n",
       "      <th>distance</th>\n",
       "      <th>duration</th>\n",
       "      <th>date</th>\n",
       "    </tr>\n",
       "  </thead>\n",
       "  <tbody>\n",
       "    <tr>\n",
       "      <th>0</th>\n",
       "      <td>1</td>\n",
       "      <td>4409.919140</td>\n",
       "      <td>25.599769</td>\n",
       "      <td>2021-01-01</td>\n",
       "    </tr>\n",
       "    <tr>\n",
       "      <th>1</th>\n",
       "      <td>1</td>\n",
       "      <td>2617.592153</td>\n",
       "      <td>15.816871</td>\n",
       "      <td>2021-01-18</td>\n",
       "    </tr>\n",
       "    <tr>\n",
       "      <th>2</th>\n",
       "      <td>1</td>\n",
       "      <td>754.159807</td>\n",
       "      <td>6.232113</td>\n",
       "      <td>2021-04-20</td>\n",
       "    </tr>\n",
       "    <tr>\n",
       "      <th>3</th>\n",
       "      <td>1</td>\n",
       "      <td>2694.783254</td>\n",
       "      <td>18.511000</td>\n",
       "      <td>2021-08-11</td>\n",
       "    </tr>\n",
       "    <tr>\n",
       "      <th>4</th>\n",
       "      <td>1</td>\n",
       "      <td>4028.687306</td>\n",
       "      <td>26.265803</td>\n",
       "      <td>2021-08-28</td>\n",
       "    </tr>\n",
       "  </tbody>\n",
       "</table>\n",
       "</div>"
      ],
      "text/plain": [
       "   user_id     distance   duration        date\n",
       "0        1  4409.919140  25.599769  2021-01-01\n",
       "1        1  2617.592153  15.816871  2021-01-18\n",
       "2        1   754.159807   6.232113  2021-04-20\n",
       "3        1  2694.783254  18.511000  2021-08-11\n",
       "4        1  4028.687306  26.265803  2021-08-28"
      ]
     },
     "execution_count": 5,
     "metadata": {},
     "output_type": "execute_result"
    }
   ],
   "source": [
    "rides.head()"
   ]
  },
  {
   "cell_type": "code",
   "execution_count": 6,
   "id": "294b285a",
   "metadata": {},
   "outputs": [
    {
     "name": "stdout",
     "output_type": "stream",
     "text": [
      "<class 'pandas.core.frame.DataFrame'>\n",
      "RangeIndex: 18068 entries, 0 to 18067\n",
      "Data columns (total 4 columns):\n",
      " #   Column    Non-Null Count  Dtype  \n",
      "---  ------    --------------  -----  \n",
      " 0   user_id   18068 non-null  int64  \n",
      " 1   distance  18068 non-null  float64\n",
      " 2   duration  18068 non-null  float64\n",
      " 3   date      18068 non-null  object \n",
      "dtypes: float64(2), int64(1), object(1)\n",
      "memory usage: 564.8+ KB\n"
     ]
    }
   ],
   "source": [
    "rides.info()"
   ]
  },
  {
   "cell_type": "markdown",
   "id": "d752f915",
   "metadata": {},
   "source": [
    "Посмотрим информацию о подписках"
   ]
  },
  {
   "cell_type": "code",
   "execution_count": 7,
   "id": "0b09cbbb",
   "metadata": {},
   "outputs": [
    {
     "data": {
      "text/html": [
       "<div>\n",
       "<style scoped>\n",
       "    .dataframe tbody tr th:only-of-type {\n",
       "        vertical-align: middle;\n",
       "    }\n",
       "\n",
       "    .dataframe tbody tr th {\n",
       "        vertical-align: top;\n",
       "    }\n",
       "\n",
       "    .dataframe thead th {\n",
       "        text-align: right;\n",
       "    }\n",
       "</style>\n",
       "<table border=\"1\" class=\"dataframe\">\n",
       "  <thead>\n",
       "    <tr style=\"text-align: right;\">\n",
       "      <th></th>\n",
       "      <th>subscription_type</th>\n",
       "      <th>minute_price</th>\n",
       "      <th>start_ride_price</th>\n",
       "      <th>subscription_fee</th>\n",
       "    </tr>\n",
       "  </thead>\n",
       "  <tbody>\n",
       "    <tr>\n",
       "      <th>0</th>\n",
       "      <td>free</td>\n",
       "      <td>8</td>\n",
       "      <td>50</td>\n",
       "      <td>0</td>\n",
       "    </tr>\n",
       "    <tr>\n",
       "      <th>1</th>\n",
       "      <td>ultra</td>\n",
       "      <td>6</td>\n",
       "      <td>0</td>\n",
       "      <td>199</td>\n",
       "    </tr>\n",
       "  </tbody>\n",
       "</table>\n",
       "</div>"
      ],
      "text/plain": [
       "  subscription_type  minute_price  start_ride_price  subscription_fee\n",
       "0              free             8                50                 0\n",
       "1             ultra             6                 0               199"
      ]
     },
     "execution_count": 7,
     "metadata": {},
     "output_type": "execute_result"
    }
   ],
   "source": [
    "subscriptions"
   ]
  },
  {
   "cell_type": "code",
   "execution_count": 8,
   "id": "d8a03dad",
   "metadata": {},
   "outputs": [
    {
     "name": "stdout",
     "output_type": "stream",
     "text": [
      "<class 'pandas.core.frame.DataFrame'>\n",
      "RangeIndex: 2 entries, 0 to 1\n",
      "Data columns (total 4 columns):\n",
      " #   Column             Non-Null Count  Dtype \n",
      "---  ------             --------------  ----- \n",
      " 0   subscription_type  2 non-null      object\n",
      " 1   minute_price       2 non-null      int64 \n",
      " 2   start_ride_price   2 non-null      int64 \n",
      " 3   subscription_fee   2 non-null      int64 \n",
      "dtypes: int64(3), object(1)\n",
      "memory usage: 192.0+ bytes\n"
     ]
    }
   ],
   "source": [
    "subscriptions.info()"
   ]
  },
  {
   "cell_type": "markdown",
   "id": "23477808",
   "metadata": {},
   "source": [
    "**Вывод:**\n",
    "\n",
    "Нам предоставлены три таблицы. В таблице `users` 1565 строчка, в таблице `rides` - 18068, в `subscriptions` - 2. Все столбцы представлены в нужном типе данных, кроме столбца `date` в таблице `rides`."
   ]
  },
  {
   "cell_type": "markdown",
   "id": "e95ebca7",
   "metadata": {},
   "source": [
    "### Шаг 2. Предобработка данных"
   ]
  },
  {
   "cell_type": "markdown",
   "id": "ed957f18",
   "metadata": {},
   "source": [
    "В таблице `rides` приведем тип данных столбца `date` к типу даты Pandas."
   ]
  },
  {
   "cell_type": "code",
   "execution_count": 9,
   "id": "78b6300d",
   "metadata": {},
   "outputs": [],
   "source": [
    "rides['date'] = pd.to_datetime(rides['date'], format='%Y-%m-%d')"
   ]
  },
  {
   "cell_type": "markdown",
   "id": "105b2a33",
   "metadata": {},
   "source": [
    " Создадим новый столбец с номером месяца на основе столбца date."
   ]
  },
  {
   "cell_type": "code",
   "execution_count": 10,
   "id": "215be871",
   "metadata": {},
   "outputs": [],
   "source": [
    "rides['month'] = pd.DatetimeIndex(rides['date']).month"
   ]
  },
  {
   "cell_type": "markdown",
   "id": "c75bea24",
   "metadata": {},
   "source": [
    "Проверим нет ли в данных пропущенных значений."
   ]
  },
  {
   "cell_type": "code",
   "execution_count": 11,
   "id": "1898f245",
   "metadata": {},
   "outputs": [
    {
     "data": {
      "text/plain": [
       "user_id              0\n",
       "name                 0\n",
       "age                  0\n",
       "city                 0\n",
       "subscription_type    0\n",
       "dtype: int64"
      ]
     },
     "execution_count": 11,
     "metadata": {},
     "output_type": "execute_result"
    }
   ],
   "source": [
    "users.isna().sum()"
   ]
  },
  {
   "cell_type": "code",
   "execution_count": 12,
   "id": "e65baca7",
   "metadata": {},
   "outputs": [
    {
     "data": {
      "text/plain": [
       "user_id     0\n",
       "distance    0\n",
       "duration    0\n",
       "date        0\n",
       "month       0\n",
       "dtype: int64"
      ]
     },
     "execution_count": 12,
     "metadata": {},
     "output_type": "execute_result"
    }
   ],
   "source": [
    "rides.isna().sum()"
   ]
  },
  {
   "cell_type": "code",
   "execution_count": 13,
   "id": "75d2c7f0",
   "metadata": {},
   "outputs": [
    {
     "data": {
      "text/plain": [
       "subscription_type    0\n",
       "minute_price         0\n",
       "start_ride_price     0\n",
       "subscription_fee     0\n",
       "dtype: int64"
      ]
     },
     "execution_count": 13,
     "metadata": {},
     "output_type": "execute_result"
    }
   ],
   "source": [
    "subscriptions.isna().sum()"
   ]
  },
  {
   "cell_type": "markdown",
   "id": "854dd5ed",
   "metadata": {},
   "source": [
    "Проверим нет ли в данных дубликатов."
   ]
  },
  {
   "cell_type": "code",
   "execution_count": 14,
   "id": "3a3bcdd7",
   "metadata": {},
   "outputs": [
    {
     "data": {
      "text/plain": [
       "31"
      ]
     },
     "execution_count": 14,
     "metadata": {},
     "output_type": "execute_result"
    }
   ],
   "source": [
    "users.duplicated().sum()"
   ]
  },
  {
   "cell_type": "markdown",
   "id": "8e2a7718",
   "metadata": {},
   "source": [
    "Удалим дубликаты в таблице `users`."
   ]
  },
  {
   "cell_type": "code",
   "execution_count": 15,
   "id": "03c8f48c",
   "metadata": {},
   "outputs": [],
   "source": [
    "users = users.drop_duplicates()"
   ]
  },
  {
   "cell_type": "code",
   "execution_count": 16,
   "id": "5dc67857",
   "metadata": {},
   "outputs": [
    {
     "data": {
      "text/plain": [
       "0"
      ]
     },
     "execution_count": 16,
     "metadata": {},
     "output_type": "execute_result"
    }
   ],
   "source": [
    "rides.duplicated().sum()"
   ]
  },
  {
   "cell_type": "markdown",
   "id": "dd77500a",
   "metadata": {},
   "source": [
    "В таблице `subscriptions` всего две строчки, которые не повторяются."
   ]
  },
  {
   "cell_type": "markdown",
   "id": "dc35e9db",
   "metadata": {},
   "source": [
    "**Вывод:**\n",
    "\n",
    "Мы проверили есть ли в данных дубликаты и удалили имеющиеся. Пропусков в данных нет. Можно приступать к исследовательскому анализу."
   ]
  },
  {
   "cell_type": "markdown",
   "id": "212593c7",
   "metadata": {},
   "source": [
    "### Шаг 3. Исследовательский анализ данных"
   ]
  },
  {
   "cell_type": "markdown",
   "id": "65af58c8",
   "metadata": {},
   "source": [
    "Опишем и визуализируем общую информацию о пользователях и поездках."
   ]
  },
  {
   "cell_type": "markdown",
   "id": "75b156f6",
   "metadata": {},
   "source": [
    "#### Частота встречаемости городов."
   ]
  },
  {
   "cell_type": "code",
   "execution_count": 17,
   "id": "4f65ff69",
   "metadata": {},
   "outputs": [
    {
     "data": {
      "text/html": [
       "<div>\n",
       "<style scoped>\n",
       "    .dataframe tbody tr th:only-of-type {\n",
       "        vertical-align: middle;\n",
       "    }\n",
       "\n",
       "    .dataframe tbody tr th {\n",
       "        vertical-align: top;\n",
       "    }\n",
       "\n",
       "    .dataframe thead th {\n",
       "        text-align: right;\n",
       "    }\n",
       "</style>\n",
       "<table border=\"1\" class=\"dataframe\">\n",
       "  <thead>\n",
       "    <tr style=\"text-align: right;\">\n",
       "      <th></th>\n",
       "      <th>count</th>\n",
       "    </tr>\n",
       "    <tr>\n",
       "      <th>city</th>\n",
       "      <th></th>\n",
       "    </tr>\n",
       "  </thead>\n",
       "  <tbody>\n",
       "    <tr>\n",
       "      <th>Пятигорск</th>\n",
       "      <td>219</td>\n",
       "    </tr>\n",
       "    <tr>\n",
       "      <th>Екатеринбург</th>\n",
       "      <td>204</td>\n",
       "    </tr>\n",
       "    <tr>\n",
       "      <th>Ростов-на-Дону</th>\n",
       "      <td>198</td>\n",
       "    </tr>\n",
       "    <tr>\n",
       "      <th>Краснодар</th>\n",
       "      <td>193</td>\n",
       "    </tr>\n",
       "    <tr>\n",
       "      <th>Сочи</th>\n",
       "      <td>189</td>\n",
       "    </tr>\n",
       "    <tr>\n",
       "      <th>Омск</th>\n",
       "      <td>183</td>\n",
       "    </tr>\n",
       "    <tr>\n",
       "      <th>Тюмень</th>\n",
       "      <td>180</td>\n",
       "    </tr>\n",
       "    <tr>\n",
       "      <th>Москва</th>\n",
       "      <td>168</td>\n",
       "    </tr>\n",
       "  </tbody>\n",
       "</table>\n",
       "</div>"
      ],
      "text/plain": [
       "                count\n",
       "city                 \n",
       "Пятигорск         219\n",
       "Екатеринбург      204\n",
       "Ростов-на-Дону    198\n",
       "Краснодар         193\n",
       "Сочи              189\n",
       "Омск              183\n",
       "Тюмень            180\n",
       "Москва            168"
      ]
     },
     "execution_count": 17,
     "metadata": {},
     "output_type": "execute_result"
    }
   ],
   "source": [
    "city = users.pivot_table(index='city',values='name',aggfunc='count').sort_values(by='name',ascending=False)\n",
    "city.columns=['count']\n",
    "city"
   ]
  },
  {
   "cell_type": "code",
   "execution_count": 18,
   "id": "63008091",
   "metadata": {},
   "outputs": [
    {
     "data": {
      "image/png": "[encoded data removed]",
      "text/plain": [
       "<Figure size 800x500 with 1 Axes>"
      ]
     },
     "metadata": {},
     "output_type": "display_data"
    }
   ],
   "source": [
    "(city.plot(kind='bar', figsize=(8,5)),\n",
    "    plt.title('Частота встречаемости городов'));\n",
    "     "
   ]
  },
  {
   "cell_type": "markdown",
   "id": "70b70ee5",
   "metadata": {},
   "source": [
    "#### Соотношение пользователей с подпиской и без подписки."
   ]
  },
  {
   "cell_type": "code",
   "execution_count": 19,
   "id": "f9e6ce53",
   "metadata": {},
   "outputs": [
    {
     "data": {
      "image/png": "[encoded data removed]",
      "text/plain": [
       "<Figure size 800x500 with 1 Axes>"
      ]
     },
     "metadata": {},
     "output_type": "display_data"
    }
   ],
   "source": [
    "subscription = users['subscription_type'].value_counts()\n",
    "\n",
    "(subscription.plot(kind='bar', figsize=(8,5)),\n",
    "    plt.title('Количество пользоватеелй с подпиской и без'));"
   ]
  },
  {
   "cell_type": "code",
   "execution_count": 20,
   "id": "d5cf84a2",
   "metadata": {},
   "outputs": [
    {
     "name": "stdout",
     "output_type": "stream",
     "text": [
      "Пользователей без подписки в 1.19 раза больше чем с подпиской.\n"
     ]
    }
   ],
   "source": [
    "print('Пользователей без подписки в', round(subscription[0]/subscription[1],2), 'раза больше чем с подпиской.')"
   ]
  },
  {
   "cell_type": "markdown",
   "id": "c7f484bf",
   "metadata": {},
   "source": [
    "#### Возраст пользователей."
   ]
  },
  {
   "cell_type": "code",
   "execution_count": 21,
   "id": "8d4fef62",
   "metadata": {},
   "outputs": [
    {
     "data": {
      "image/png": "[encoded data removed]",
      "text/plain": [
       "<Figure size 1500x800 with 1 Axes>"
      ]
     },
     "metadata": {},
     "output_type": "display_data"
    }
   ],
   "source": [
    "age = users['age'].value_counts().sort_index()\n",
    "\n",
    "(age.plot(kind='bar', figsize=(15,8)),\n",
    "    plt.title('Возраст пользователей'),\n",
    "    plt.xlabel('Возраст'),\n",
    "    plt.ylabel('Количество пользователей'));"
   ]
  },
  {
   "cell_type": "markdown",
   "id": "da7ff6bf",
   "metadata": {},
   "source": [
    "#### Расстояния, которые пользователи проезжают за одну поездку."
   ]
  },
  {
   "cell_type": "code",
   "execution_count": 22,
   "id": "cc79a96e",
   "metadata": {},
   "outputs": [
    {
     "data": {
      "image/png": "[encoded data removed]",
      "text/plain": [
       "<Figure size 800x500 with 1 Axes>"
      ]
     },
     "metadata": {},
     "output_type": "display_data"
    }
   ],
   "source": [
    "rides['distance'].hist(bins=25, figsize=(8,5))\n",
    "plt.title('Расстояние за одну поездку')\n",
    "plt.xlabel('Расстояние в метрах')\n",
    "plt.ylabel('Количество поездок');"
   ]
  },
  {
   "cell_type": "markdown",
   "id": "8e5082a0",
   "metadata": {},
   "source": [
    "#### Продолжительность поездок."
   ]
  },
  {
   "cell_type": "code",
   "execution_count": 23,
   "id": "21bd5353",
   "metadata": {},
   "outputs": [
    {
     "data": {
      "image/png": "[encoded data removed]",
      "text/plain": [
       "<Figure size 800x500 with 1 Axes>"
      ]
     },
     "metadata": {},
     "output_type": "display_data"
    }
   ],
   "source": [
    "rides['duration'].hist(bins=25, figsize=(8,5))\n",
    "plt.title('Время одной поездки')\n",
    "plt.xlabel('Время в минутах')\n",
    "plt.ylabel('Количество поездок');"
   ]
  },
  {
   "cell_type": "markdown",
   "id": "d4fdc4c1",
   "metadata": {},
   "source": [
    "**Вывод:**\n",
    "\n",
    "1. Больше всего в данных пользователей из Пятигорска, меньше всего из Москвы. Количество пользователей в каждом городе от 168 до 219 человек.\n",
    "2. Пользователей без подписки больше, но всего в 1,19 раза.\n",
    "3. Возраст пользоватлей нормально распределен. Больше все пользвателей в возрасте 25 лет и намного меньше в возрасте до 15 и после 35.\n",
    "4. Чаще всего пользователи за одну поездку проезжают около трех километров.\n",
    "5. Чаще всего поездки длятся от 15 до 20 минут.\n"
   ]
  },
  {
   "cell_type": "markdown",
   "id": "4ef51331",
   "metadata": {},
   "source": [
    "### Шаг 4. Объединение данных"
   ]
  },
  {
   "cell_type": "markdown",
   "id": "b1debb62",
   "metadata": {},
   "source": [
    "Объединим данные из трех таблиц в один датафрейм."
   ]
  },
  {
   "cell_type": "code",
   "execution_count": 24,
   "id": "4a9e2c7a",
   "metadata": {},
   "outputs": [],
   "source": [
    "data = users.merge(rides, on='user_id')\n",
    "data = data.merge(subscriptions, on='subscription_type')"
   ]
  },
  {
   "cell_type": "markdown",
   "id": "41258661",
   "metadata": {},
   "source": [
    "Проверим нужного ли размера получился датафрейм и не осталось ли пропусков после соединения таблиц."
   ]
  },
  {
   "cell_type": "code",
   "execution_count": 25,
   "id": "5092bbf4",
   "metadata": {},
   "outputs": [
    {
     "name": "stdout",
     "output_type": "stream",
     "text": [
      "<class 'pandas.core.frame.DataFrame'>\n",
      "Int64Index: 18068 entries, 0 to 18067\n",
      "Data columns (total 12 columns):\n",
      " #   Column             Non-Null Count  Dtype         \n",
      "---  ------             --------------  -----         \n",
      " 0   user_id            18068 non-null  int64         \n",
      " 1   name               18068 non-null  object        \n",
      " 2   age                18068 non-null  int64         \n",
      " 3   city               18068 non-null  object        \n",
      " 4   subscription_type  18068 non-null  object        \n",
      " 5   distance           18068 non-null  float64       \n",
      " 6   duration           18068 non-null  float64       \n",
      " 7   date               18068 non-null  datetime64[ns]\n",
      " 8   month              18068 non-null  int64         \n",
      " 9   minute_price       18068 non-null  int64         \n",
      " 10  start_ride_price   18068 non-null  int64         \n",
      " 11  subscription_fee   18068 non-null  int64         \n",
      "dtypes: datetime64[ns](1), float64(2), int64(6), object(3)\n",
      "memory usage: 1.8+ MB\n"
     ]
    }
   ],
   "source": [
    "data.info()"
   ]
  },
  {
   "cell_type": "markdown",
   "id": "3108bba4",
   "metadata": {},
   "source": [
    "Количество строк в этом датафрейме должно быть равно количеству строк из датафрейма `rides`, то есть 18068. По выводу функции `info()` мы видим, что так и есть. Также заметим, что ни в одном столбце нет пропусков."
   ]
  },
  {
   "cell_type": "markdown",
   "id": "ce1d38d3",
   "metadata": {},
   "source": [
    "Разделим созданный датафрейм на два новых с данными о пользователях с подпиской и без."
   ]
  },
  {
   "cell_type": "code",
   "execution_count": 26,
   "id": "1cf8348f",
   "metadata": {},
   "outputs": [
    {
     "data": {
      "text/html": [
       "<div>\n",
       "<style scoped>\n",
       "    .dataframe tbody tr th:only-of-type {\n",
       "        vertical-align: middle;\n",
       "    }\n",
       "\n",
       "    .dataframe tbody tr th {\n",
       "        vertical-align: top;\n",
       "    }\n",
       "\n",
       "    .dataframe thead th {\n",
       "        text-align: right;\n",
       "    }\n",
       "</style>\n",
       "<table border=\"1\" class=\"dataframe\">\n",
       "  <thead>\n",
       "    <tr style=\"text-align: right;\">\n",
       "      <th></th>\n",
       "      <th>user_id</th>\n",
       "      <th>name</th>\n",
       "      <th>age</th>\n",
       "      <th>city</th>\n",
       "      <th>subscription_type</th>\n",
       "      <th>distance</th>\n",
       "      <th>duration</th>\n",
       "      <th>date</th>\n",
       "      <th>month</th>\n",
       "      <th>minute_price</th>\n",
       "      <th>start_ride_price</th>\n",
       "      <th>subscription_fee</th>\n",
       "    </tr>\n",
       "  </thead>\n",
       "  <tbody>\n",
       "    <tr>\n",
       "      <th>0</th>\n",
       "      <td>1</td>\n",
       "      <td>Кира</td>\n",
       "      <td>22</td>\n",
       "      <td>Тюмень</td>\n",
       "      <td>ultra</td>\n",
       "      <td>4409.919140</td>\n",
       "      <td>25.599769</td>\n",
       "      <td>2021-01-01</td>\n",
       "      <td>1</td>\n",
       "      <td>6</td>\n",
       "      <td>0</td>\n",
       "      <td>199</td>\n",
       "    </tr>\n",
       "    <tr>\n",
       "      <th>1</th>\n",
       "      <td>1</td>\n",
       "      <td>Кира</td>\n",
       "      <td>22</td>\n",
       "      <td>Тюмень</td>\n",
       "      <td>ultra</td>\n",
       "      <td>2617.592153</td>\n",
       "      <td>15.816871</td>\n",
       "      <td>2021-01-18</td>\n",
       "      <td>1</td>\n",
       "      <td>6</td>\n",
       "      <td>0</td>\n",
       "      <td>199</td>\n",
       "    </tr>\n",
       "    <tr>\n",
       "      <th>2</th>\n",
       "      <td>1</td>\n",
       "      <td>Кира</td>\n",
       "      <td>22</td>\n",
       "      <td>Тюмень</td>\n",
       "      <td>ultra</td>\n",
       "      <td>754.159807</td>\n",
       "      <td>6.232113</td>\n",
       "      <td>2021-04-20</td>\n",
       "      <td>4</td>\n",
       "      <td>6</td>\n",
       "      <td>0</td>\n",
       "      <td>199</td>\n",
       "    </tr>\n",
       "    <tr>\n",
       "      <th>3</th>\n",
       "      <td>1</td>\n",
       "      <td>Кира</td>\n",
       "      <td>22</td>\n",
       "      <td>Тюмень</td>\n",
       "      <td>ultra</td>\n",
       "      <td>2694.783254</td>\n",
       "      <td>18.511000</td>\n",
       "      <td>2021-08-11</td>\n",
       "      <td>8</td>\n",
       "      <td>6</td>\n",
       "      <td>0</td>\n",
       "      <td>199</td>\n",
       "    </tr>\n",
       "    <tr>\n",
       "      <th>4</th>\n",
       "      <td>1</td>\n",
       "      <td>Кира</td>\n",
       "      <td>22</td>\n",
       "      <td>Тюмень</td>\n",
       "      <td>ultra</td>\n",
       "      <td>4028.687306</td>\n",
       "      <td>26.265803</td>\n",
       "      <td>2021-08-28</td>\n",
       "      <td>8</td>\n",
       "      <td>6</td>\n",
       "      <td>0</td>\n",
       "      <td>199</td>\n",
       "    </tr>\n",
       "  </tbody>\n",
       "</table>\n",
       "</div>"
      ],
      "text/plain": [
       "   user_id  name  age    city subscription_type     distance   duration  \\\n",
       "0        1  Кира   22  Тюмень             ultra  4409.919140  25.599769   \n",
       "1        1  Кира   22  Тюмень             ultra  2617.592153  15.816871   \n",
       "2        1  Кира   22  Тюмень             ultra   754.159807   6.232113   \n",
       "3        1  Кира   22  Тюмень             ultra  2694.783254  18.511000   \n",
       "4        1  Кира   22  Тюмень             ultra  4028.687306  26.265803   \n",
       "\n",
       "        date  month  minute_price  start_ride_price  subscription_fee  \n",
       "0 2021-01-01      1             6                 0               199  \n",
       "1 2021-01-18      1             6                 0               199  \n",
       "2 2021-04-20      4             6                 0               199  \n",
       "3 2021-08-11      8             6                 0               199  \n",
       "4 2021-08-28      8             6                 0               199  "
      ]
     },
     "execution_count": 26,
     "metadata": {},
     "output_type": "execute_result"
    }
   ],
   "source": [
    "data_ultra = data[data['subscription_type'] == 'ultra'].reset_index(drop=True)\n",
    "data_ultra.head(5)"
   ]
  },
  {
   "cell_type": "code",
   "execution_count": 27,
   "id": "1512e5ac",
   "metadata": {
    "scrolled": true
   },
   "outputs": [
    {
     "data": {
      "text/html": [
       "<div>\n",
       "<style scoped>\n",
       "    .dataframe tbody tr th:only-of-type {\n",
       "        vertical-align: middle;\n",
       "    }\n",
       "\n",
       "    .dataframe tbody tr th {\n",
       "        vertical-align: top;\n",
       "    }\n",
       "\n",
       "    .dataframe thead th {\n",
       "        text-align: right;\n",
       "    }\n",
       "</style>\n",
       "<table border=\"1\" class=\"dataframe\">\n",
       "  <thead>\n",
       "    <tr style=\"text-align: right;\">\n",
       "      <th></th>\n",
       "      <th>user_id</th>\n",
       "      <th>name</th>\n",
       "      <th>age</th>\n",
       "      <th>city</th>\n",
       "      <th>subscription_type</th>\n",
       "      <th>distance</th>\n",
       "      <th>duration</th>\n",
       "      <th>date</th>\n",
       "      <th>month</th>\n",
       "      <th>minute_price</th>\n",
       "      <th>start_ride_price</th>\n",
       "      <th>subscription_fee</th>\n",
       "    </tr>\n",
       "  </thead>\n",
       "  <tbody>\n",
       "    <tr>\n",
       "      <th>0</th>\n",
       "      <td>700</td>\n",
       "      <td>Айдар</td>\n",
       "      <td>22</td>\n",
       "      <td>Омск</td>\n",
       "      <td>free</td>\n",
       "      <td>2515.690719</td>\n",
       "      <td>14.944286</td>\n",
       "      <td>2021-01-02</td>\n",
       "      <td>1</td>\n",
       "      <td>8</td>\n",
       "      <td>50</td>\n",
       "      <td>0</td>\n",
       "    </tr>\n",
       "    <tr>\n",
       "      <th>1</th>\n",
       "      <td>700</td>\n",
       "      <td>Айдар</td>\n",
       "      <td>22</td>\n",
       "      <td>Омск</td>\n",
       "      <td>free</td>\n",
       "      <td>846.932642</td>\n",
       "      <td>16.234663</td>\n",
       "      <td>2021-02-01</td>\n",
       "      <td>2</td>\n",
       "      <td>8</td>\n",
       "      <td>50</td>\n",
       "      <td>0</td>\n",
       "    </tr>\n",
       "    <tr>\n",
       "      <th>2</th>\n",
       "      <td>700</td>\n",
       "      <td>Айдар</td>\n",
       "      <td>22</td>\n",
       "      <td>Омск</td>\n",
       "      <td>free</td>\n",
       "      <td>4004.434142</td>\n",
       "      <td>20.016628</td>\n",
       "      <td>2021-02-04</td>\n",
       "      <td>2</td>\n",
       "      <td>8</td>\n",
       "      <td>50</td>\n",
       "      <td>0</td>\n",
       "    </tr>\n",
       "    <tr>\n",
       "      <th>3</th>\n",
       "      <td>700</td>\n",
       "      <td>Айдар</td>\n",
       "      <td>22</td>\n",
       "      <td>Омск</td>\n",
       "      <td>free</td>\n",
       "      <td>1205.911290</td>\n",
       "      <td>9.782872</td>\n",
       "      <td>2021-02-10</td>\n",
       "      <td>2</td>\n",
       "      <td>8</td>\n",
       "      <td>50</td>\n",
       "      <td>0</td>\n",
       "    </tr>\n",
       "    <tr>\n",
       "      <th>4</th>\n",
       "      <td>700</td>\n",
       "      <td>Айдар</td>\n",
       "      <td>22</td>\n",
       "      <td>Омск</td>\n",
       "      <td>free</td>\n",
       "      <td>3047.379435</td>\n",
       "      <td>17.427673</td>\n",
       "      <td>2021-02-14</td>\n",
       "      <td>2</td>\n",
       "      <td>8</td>\n",
       "      <td>50</td>\n",
       "      <td>0</td>\n",
       "    </tr>\n",
       "  </tbody>\n",
       "</table>\n",
       "</div>"
      ],
      "text/plain": [
       "   user_id   name  age  city subscription_type     distance   duration  \\\n",
       "0      700  Айдар   22  Омск              free  2515.690719  14.944286   \n",
       "1      700  Айдар   22  Омск              free   846.932642  16.234663   \n",
       "2      700  Айдар   22  Омск              free  4004.434142  20.016628   \n",
       "3      700  Айдар   22  Омск              free  1205.911290   9.782872   \n",
       "4      700  Айдар   22  Омск              free  3047.379435  17.427673   \n",
       "\n",
       "        date  month  minute_price  start_ride_price  subscription_fee  \n",
       "0 2021-01-02      1             8                50                 0  \n",
       "1 2021-02-01      2             8                50                 0  \n",
       "2 2021-02-04      2             8                50                 0  \n",
       "3 2021-02-10      2             8                50                 0  \n",
       "4 2021-02-14      2             8                50                 0  "
      ]
     },
     "execution_count": 27,
     "metadata": {},
     "output_type": "execute_result"
    }
   ],
   "source": [
    "data_free = data.query('subscription_type == \"free\"').reset_index(drop=True)\n",
    "data_free.head(5)"
   ]
  },
  {
   "cell_type": "markdown",
   "id": "fcce4713",
   "metadata": {},
   "source": [
    "Визуализируем информацию о расстоянии и времени поездок для пользователей обеих категорий."
   ]
  },
  {
   "cell_type": "code",
   "execution_count": 28,
   "id": "274cd9e3",
   "metadata": {},
   "outputs": [
    {
     "data": {
      "image/png": "[encoded data removed]",
      "text/plain": [
       "<Figure size 640x480 with 1 Axes>"
      ]
     },
     "metadata": {},
     "output_type": "display_data"
    }
   ],
   "source": [
    "ax = data_ultra['distance'].plot(kind='hist',bins=25, \n",
    "                                 histtype='step',alpha=0.7, \n",
    "                                 label='Пользователи с подпиской', \n",
    "                                 legend=True)\n",
    "\n",
    "\n",
    "data_free['distance'].plot(kind='hist',bins=25,\n",
    "                           alpha=0.7, histtype='step',\n",
    "                           label='Пользователи без подписки',\n",
    "                           ax=ax, legend=True)\n",
    "\n",
    "\n",
    "\n",
    "plt.title('Расстояние за одну поездку')\n",
    "plt.xlabel('Расстояние в метрах')\n",
    "plt.ylabel('Количество поездок')\n",
    "plt.show()"
   ]
  },
  {
   "cell_type": "code",
   "execution_count": 29,
   "id": "4964d171",
   "metadata": {},
   "outputs": [
    {
     "data": {
      "image/png": "[encoded data removed]",
      "text/plain": [
       "<Figure size 640x480 with 1 Axes>"
      ]
     },
     "metadata": {},
     "output_type": "display_data"
    }
   ],
   "source": [
    "ax = data_ultra['duration'].plot(kind='hist',bins=25, \n",
    "                                 histtype='step',alpha=0.7, \n",
    "                                 label='Пользователи с подпиской',\n",
    "                                 legend=True)\n",
    "\n",
    "\n",
    "data_free['duration'].plot(kind='hist',bins=25,\n",
    "                           alpha=0.7, histtype='step',\n",
    "                           label='Пользователи без подписки',\n",
    "                           ax=ax, legend=True)\n",
    "\n",
    "\n",
    "\n",
    "plt.title('Время одной поездки')\n",
    "plt.xlabel('Время в минутах')\n",
    "plt.ylabel('Количество поездок')\n",
    "plt.show()"
   ]
  },
  {
   "cell_type": "markdown",
   "id": "0523adc8",
   "metadata": {},
   "source": [
    "**Вывод:**\n",
    "\n",
    "Мы создали два датафрейма, в которых хранятся данные о пользлвателях с подпиской и без нее.\n",
    "\n",
    "Расстояние, которые пользователи проезжают за одну поездку, у обоих категорий почти одинаково. Чаще всего оно составляет 3 километра. Однако пользователи без подписки чаще ездят на расстояния меньше 2 км.\n",
    "\n",
    "Время также почти совпадет. Чаще всего длительность поезки от 15 до 20 минут. Но можно заметить, что пользователи с подпиской чаще совершают поездки дольше 30 минут. \n",
    "\n",
    "Неточность в сравнении графиков может быть обусловлена тем, что данных о пользователях с подпиской меньше чем данных о пользлвателях без нее."
   ]
  },
  {
   "cell_type": "markdown",
   "id": "402d620f",
   "metadata": {},
   "source": [
    "### Шаг 5. Подсчёт выручки"
   ]
  },
  {
   "cell_type": "markdown",
   "id": "488be59c",
   "metadata": {},
   "source": [
    "Создадим датафрейм с агрегированными данными о поездках, где посчитаем общее расстояние и время по каждому месяцу для каждого пользователя."
   ]
  },
  {
   "cell_type": "code",
   "execution_count": 30,
   "id": "de316028",
   "metadata": {},
   "outputs": [],
   "source": [
    "# Округлим длительность перед расчетами\n",
    "data['duration'] = round(data['duration'])"
   ]
  },
  {
   "cell_type": "code",
   "execution_count": 31,
   "id": "aa4bb74c",
   "metadata": {},
   "outputs": [],
   "source": [
    "s_type = lambda x: x.value_counts().index[0]"
   ]
  },
  {
   "cell_type": "code",
   "execution_count": 32,
   "id": "27b76f47",
   "metadata": {},
   "outputs": [
    {
     "data": {
      "text/html": [
       "<div>\n",
       "<style scoped>\n",
       "    .dataframe tbody tr th:only-of-type {\n",
       "        vertical-align: middle;\n",
       "    }\n",
       "\n",
       "    .dataframe tbody tr th {\n",
       "        vertical-align: top;\n",
       "    }\n",
       "\n",
       "    .dataframe thead th {\n",
       "        text-align: right;\n",
       "    }\n",
       "</style>\n",
       "<table border=\"1\" class=\"dataframe\">\n",
       "  <thead>\n",
       "    <tr style=\"text-align: right;\">\n",
       "      <th></th>\n",
       "      <th>user_id</th>\n",
       "      <th>month</th>\n",
       "      <th>total_distance</th>\n",
       "      <th>rides</th>\n",
       "      <th>total_duration</th>\n",
       "      <th>subscription_type</th>\n",
       "    </tr>\n",
       "  </thead>\n",
       "  <tbody>\n",
       "    <tr>\n",
       "      <th>0</th>\n",
       "      <td>1</td>\n",
       "      <td>1</td>\n",
       "      <td>7027.511294</td>\n",
       "      <td>2</td>\n",
       "      <td>42.0</td>\n",
       "      <td>ultra</td>\n",
       "    </tr>\n",
       "    <tr>\n",
       "      <th>1</th>\n",
       "      <td>1</td>\n",
       "      <td>4</td>\n",
       "      <td>754.159807</td>\n",
       "      <td>1</td>\n",
       "      <td>6.0</td>\n",
       "      <td>ultra</td>\n",
       "    </tr>\n",
       "    <tr>\n",
       "      <th>2</th>\n",
       "      <td>1</td>\n",
       "      <td>8</td>\n",
       "      <td>6723.470560</td>\n",
       "      <td>2</td>\n",
       "      <td>45.0</td>\n",
       "      <td>ultra</td>\n",
       "    </tr>\n",
       "    <tr>\n",
       "      <th>3</th>\n",
       "      <td>1</td>\n",
       "      <td>10</td>\n",
       "      <td>5809.911100</td>\n",
       "      <td>2</td>\n",
       "      <td>32.0</td>\n",
       "      <td>ultra</td>\n",
       "    </tr>\n",
       "    <tr>\n",
       "      <th>4</th>\n",
       "      <td>1</td>\n",
       "      <td>11</td>\n",
       "      <td>7003.499363</td>\n",
       "      <td>3</td>\n",
       "      <td>53.0</td>\n",
       "      <td>ultra</td>\n",
       "    </tr>\n",
       "    <tr>\n",
       "      <th>5</th>\n",
       "      <td>1</td>\n",
       "      <td>12</td>\n",
       "      <td>6751.629942</td>\n",
       "      <td>2</td>\n",
       "      <td>28.0</td>\n",
       "      <td>ultra</td>\n",
       "    </tr>\n",
       "    <tr>\n",
       "      <th>6</th>\n",
       "      <td>2</td>\n",
       "      <td>3</td>\n",
       "      <td>10187.723006</td>\n",
       "      <td>3</td>\n",
       "      <td>61.0</td>\n",
       "      <td>ultra</td>\n",
       "    </tr>\n",
       "    <tr>\n",
       "      <th>7</th>\n",
       "      <td>2</td>\n",
       "      <td>4</td>\n",
       "      <td>6164.381824</td>\n",
       "      <td>2</td>\n",
       "      <td>39.0</td>\n",
       "      <td>ultra</td>\n",
       "    </tr>\n",
       "    <tr>\n",
       "      <th>8</th>\n",
       "      <td>2</td>\n",
       "      <td>6</td>\n",
       "      <td>3255.338202</td>\n",
       "      <td>1</td>\n",
       "      <td>14.0</td>\n",
       "      <td>ultra</td>\n",
       "    </tr>\n",
       "    <tr>\n",
       "      <th>9</th>\n",
       "      <td>2</td>\n",
       "      <td>7</td>\n",
       "      <td>6780.722964</td>\n",
       "      <td>2</td>\n",
       "      <td>46.0</td>\n",
       "      <td>ultra</td>\n",
       "    </tr>\n",
       "  </tbody>\n",
       "</table>\n",
       "</div>"
      ],
      "text/plain": [
       "   user_id  month  total_distance  rides  total_duration subscription_type\n",
       "0        1      1     7027.511294      2            42.0             ultra\n",
       "1        1      4      754.159807      1             6.0             ultra\n",
       "2        1      8     6723.470560      2            45.0             ultra\n",
       "3        1     10     5809.911100      2            32.0             ultra\n",
       "4        1     11     7003.499363      3            53.0             ultra\n",
       "5        1     12     6751.629942      2            28.0             ultra\n",
       "6        2      3    10187.723006      3            61.0             ultra\n",
       "7        2      4     6164.381824      2            39.0             ultra\n",
       "8        2      6     3255.338202      1            14.0             ultra\n",
       "9        2      7     6780.722964      2            46.0             ultra"
      ]
     },
     "execution_count": 32,
     "metadata": {},
     "output_type": "execute_result"
    }
   ],
   "source": [
    "data_group = data.groupby(['user_id', 'month'], as_index=False).agg({'distance':['sum', 'count'],\n",
    "                                                                     'duration':['sum'],\n",
    "                                                                     'subscription_type':[s_type]})\n",
    "\n",
    "data_group.columns = ['user_id','month','total_distance','rides','total_duration','subscription_type']\n",
    "data_group.head(10)"
   ]
  },
  {
   "cell_type": "markdown",
   "id": "1bc00caf",
   "metadata": {},
   "source": [
    "В этот датафрейм добавим столбец с помесячной выручкой, которую принёс каждый пользователь. "
   ]
  },
  {
   "cell_type": "code",
   "execution_count": 33,
   "id": "88e7ce27",
   "metadata": {},
   "outputs": [
    {
     "data": {
      "text/html": [
       "<div>\n",
       "<style scoped>\n",
       "    .dataframe tbody tr th:only-of-type {\n",
       "        vertical-align: middle;\n",
       "    }\n",
       "\n",
       "    .dataframe tbody tr th {\n",
       "        vertical-align: top;\n",
       "    }\n",
       "\n",
       "    .dataframe thead th {\n",
       "        text-align: right;\n",
       "    }\n",
       "</style>\n",
       "<table border=\"1\" class=\"dataframe\">\n",
       "  <thead>\n",
       "    <tr style=\"text-align: right;\">\n",
       "      <th></th>\n",
       "      <th>user_id</th>\n",
       "      <th>month</th>\n",
       "      <th>total_distance</th>\n",
       "      <th>rides</th>\n",
       "      <th>total_duration</th>\n",
       "      <th>subscription_type</th>\n",
       "      <th>proceeds</th>\n",
       "    </tr>\n",
       "  </thead>\n",
       "  <tbody>\n",
       "    <tr>\n",
       "      <th>11326</th>\n",
       "      <td>1534</td>\n",
       "      <td>6</td>\n",
       "      <td>3409.468534</td>\n",
       "      <td>2</td>\n",
       "      <td>24.0</td>\n",
       "      <td>free</td>\n",
       "      <td>292</td>\n",
       "    </tr>\n",
       "    <tr>\n",
       "      <th>11327</th>\n",
       "      <td>1534</td>\n",
       "      <td>8</td>\n",
       "      <td>7622.453034</td>\n",
       "      <td>2</td>\n",
       "      <td>47.0</td>\n",
       "      <td>free</td>\n",
       "      <td>476</td>\n",
       "    </tr>\n",
       "    <tr>\n",
       "      <th>11328</th>\n",
       "      <td>1534</td>\n",
       "      <td>9</td>\n",
       "      <td>4928.173852</td>\n",
       "      <td>1</td>\n",
       "      <td>23.0</td>\n",
       "      <td>free</td>\n",
       "      <td>234</td>\n",
       "    </tr>\n",
       "    <tr>\n",
       "      <th>11329</th>\n",
       "      <td>1534</td>\n",
       "      <td>11</td>\n",
       "      <td>13350.015305</td>\n",
       "      <td>4</td>\n",
       "      <td>76.0</td>\n",
       "      <td>free</td>\n",
       "      <td>808</td>\n",
       "    </tr>\n",
       "    <tr>\n",
       "      <th>11330</th>\n",
       "      <td>1534</td>\n",
       "      <td>12</td>\n",
       "      <td>2371.711192</td>\n",
       "      <td>1</td>\n",
       "      <td>16.0</td>\n",
       "      <td>free</td>\n",
       "      <td>178</td>\n",
       "    </tr>\n",
       "  </tbody>\n",
       "</table>\n",
       "</div>"
      ],
      "text/plain": [
       "       user_id  month  total_distance  rides  total_duration  \\\n",
       "11326     1534      6     3409.468534      2            24.0   \n",
       "11327     1534      8     7622.453034      2            47.0   \n",
       "11328     1534      9     4928.173852      1            23.0   \n",
       "11329     1534     11    13350.015305      4            76.0   \n",
       "11330     1534     12     2371.711192      1            16.0   \n",
       "\n",
       "      subscription_type  proceeds  \n",
       "11326              free       292  \n",
       "11327              free       476  \n",
       "11328              free       234  \n",
       "11329              free       808  \n",
       "11330              free       178  "
      ]
     },
     "execution_count": 33,
     "metadata": {},
     "output_type": "execute_result"
    }
   ],
   "source": [
    "def proceeds (x):\n",
    "    y = x[3] * subscriptions.loc[subscriptions['subscription_type']==x[5],'start_ride_price']\\\n",
    "                                + math.ceil(x[4])*subscriptions.loc[subscriptions['subscription_type']==x[5],'minute_price']\\\n",
    "                                + subscriptions.loc[subscriptions['subscription_type']==x[5],'subscription_fee']\n",
    "    return y.values[0]\n",
    "\n",
    "\n",
    "data_group['proceeds'] = data_group.apply( proceeds, axis=1)\n",
    "data_group.tail()\n"
   ]
  },
  {
   "cell_type": "markdown",
   "id": "41545ac0",
   "metadata": {},
   "source": [
    "### Шаг 6. Проверка гипотез"
   ]
  },
  {
   "cell_type": "markdown",
   "id": "3d2d38d4",
   "metadata": {},
   "source": [
    "Проверим несколько гипотез."
   ]
  },
  {
   "cell_type": "markdown",
   "id": "8c3f643b",
   "metadata": {},
   "source": [
    "#### Первая гипотеза\n",
    "Нужно понять тратят ли пользователи с подпиской больше времени на поездки.\n",
    "\n",
    "**Нулевая гипотеза**: Пользователи с подпиской тратят столько же времени на поездки как и пользователи без подписки.\n",
    "\n",
    "**Альтернативная гипотеза**:  Пользователи с подпиской тратят больше времени на поездки чем пользователи без подписки."
   ]
  },
  {
   "cell_type": "code",
   "execution_count": 34,
   "id": "24b1a2d8",
   "metadata": {},
   "outputs": [
    {
     "name": "stdout",
     "output_type": "stream",
     "text": [
      "p-value: 5.6757813771289775e-37\n",
      "Отвергаем нулевую гипотезу\n"
     ]
    }
   ],
   "source": [
    "alpha = 0.05\n",
    "\n",
    "results = st.ttest_ind(data_ultra['duration'], data_free['duration'], equal_var=False, alternative='greater')\n",
    "\n",
    "print('p-value:', results.pvalue)\n",
    "\n",
    "if (results.pvalue < alpha):\n",
    "    print('Отвергаем нулевую гипотезу')\n",
    "else:\n",
    "    print('Не получилось отвергнуть нулевую гипотезу') "
   ]
  },
  {
   "cell_type": "markdown",
   "id": "3faaeb79",
   "metadata": {},
   "source": [
    "#### Вторая гипотеза\n",
    "\n",
    "Расстояние одной поездки в 3130 метров — оптимальное с точки зрения износа самоката. Проверим не превышает ли среднее расстояние, которое проезжают пользователи с подпиской за одну поездку, 3130 метров.\n",
    "\n",
    "**Нулевая гипотеза**: Среднее расстояние, которое проезжают пользователи с подпиской за одну поездку, равно 3130 м.\n",
    "\n",
    "**Альтернативная гипотеза**: Среднее расстояние, которое проезжают пользователи с подпиской за одну поездку, больше 3130 м."
   ]
  },
  {
   "cell_type": "code",
   "execution_count": 35,
   "id": "ef3af796",
   "metadata": {},
   "outputs": [
    {
     "name": "stdout",
     "output_type": "stream",
     "text": [
      "p-value: 0.9195368847849785\n",
      "Не отвергаем нулевую гипотезу\n"
     ]
    }
   ],
   "source": [
    "ave_dist = 3130\n",
    "\n",
    "alpha = 0.05 \n",
    "\n",
    "results = st.ttest_1samp(data_ultra['distance'], ave_dist, alternative='greater')\n",
    "\n",
    "print('p-value:', results.pvalue)\n",
    "\n",
    "if (results.pvalue < alpha):\n",
    "    print('Отвергаем нулевую гипотезу')\n",
    "else:\n",
    "    print('Не отвергаем нулевую гипотезу') "
   ]
  },
  {
   "cell_type": "markdown",
   "id": "b8684f34",
   "metadata": {},
   "source": [
    "#### Третья гипотеза\n",
    "**Нулевая гипотеза**: Помесячная выручка от пользователей с подпиской по месяцам равна выручке от пользователей без подписки. \n",
    "\n",
    "**Альтернативная гипотеза**: Помесячная выручка от пользователей с подпиской по месяцам выше, чем выручка от пользователей без подписки. \n"
   ]
  },
  {
   "cell_type": "code",
   "execution_count": 36,
   "id": "d9f8abca",
   "metadata": {},
   "outputs": [
    {
     "name": "stdout",
     "output_type": "stream",
     "text": [
      "p-value: 1.6046721201208006e-47\n",
      "Отвергаем нулевую гипотезу\n"
     ]
    }
   ],
   "source": [
    "pr_ultra = data_group.loc[data_group['subscription_type'] == 'ultra','proceeds']\n",
    "pr_free = data_group.loc[data_group['subscription_type'] == 'free', 'proceeds']\n",
    "\n",
    "alpha = 0.05\n",
    "\n",
    "results = st.ttest_ind(pr_ultra, pr_free, equal_var=False, alternative='greater')\n",
    "\n",
    "print('p-value:', results.pvalue)\n",
    "\n",
    "if (results.pvalue < alpha):\n",
    "    print('Отвергаем нулевую гипотезу')\n",
    "else:\n",
    "    print('Не получилось отвергнуть нулевую гипотезу')"
   ]
  },
  {
   "cell_type": "markdown",
   "id": "9c40c0e2",
   "metadata": {},
   "source": [
    "#### Четвертая гипотеза\n",
    "\n",
    "Представим такую ситуацию: техническая команда сервиса обновила сервера, с которыми взаимодействует мобильное приложение. Она надеется, что из-за этого количество обращений в техподдержку значимо снизилось. Некоторый файл содержит для каждого пользователя данные о количестве обращений до обновления и после него. \n",
    "\n",
    "**Нулевая гипотеза**: Количество обращений в техподдержку не изменилось.\n",
    "\n",
    "**Альтернативная гипотеза**: Количество обращений в техподдержку стало меньше.\n",
    "\n",
    "Это левосторонняя гипотеза. Чтобы проверить ее, нужно будет обратиться к методу `scipy.stats.ttest_rel()`, так как данные зависимы друг от друга."
   ]
  },
  {
   "cell_type": "markdown",
   "id": "7115a609",
   "metadata": {},
   "source": [
    "**Вывод**:\n",
    "1. Есть основания полагать, что пользователи с подпиской тратят значительно больше времени на поездки чем пользователи без подписки.\n",
    "2. Среднее расстояние, которое проезжают пользователи с подпиской за одну поездку, чаще всего равно или меньше 3130 м.\n",
    "3. Скорее всего помесячная выручка от пользователей с подпиской по месяцам выше, чем выручка от пользователей без подписки.\n",
    "4. Чтобы проверить четвертую гипотезу нужно воспользаваться методом `scipy.stats.ttest_rel()`."
   ]
  },
  {
   "cell_type": "markdown",
   "id": "61213c5e",
   "metadata": {},
   "source": [
    "### Шаг 7. Распределения"
   ]
  },
  {
   "cell_type": "markdown",
   "id": "2b44fef5",
   "metadata": {},
   "source": [
    "Отделу маркетинга GoFast поставили задачу: нужно провести акцию с раздачей промокодов на один бесплатный месяц подписки, в рамках которой как минимум 100 существующих клиентов должны продлить эту подписку. То есть по завершении периода действия подписки пользователь может либо отказаться от неё, либо продлить, совершив соответствующий платёж. \n",
    "\n",
    "Эта акция уже проводилась ранее и по итогу выяснилось, что после бесплатного пробного периода подписку продлевают 10 % пользователей.\n",
    "\n",
    "Выясним, какое минимальное количество промокодов нужно разослать, чтобы вероятность не выполнить план была примерно 5 %. "
   ]
  },
  {
   "cell_type": "code",
   "execution_count": 37,
   "id": "90faacc9",
   "metadata": {},
   "outputs": [
    {
     "name": "stdout",
     "output_type": "stream",
     "text": [
      "Минимально нужно разослать 1161 промокодов.\n",
      "Вероятность не выполнить план примерно 5 %.\n"
     ]
    }
   ],
   "source": [
    "p = 0.1\n",
    "\n",
    "for n in range(1000, 2000):\n",
    "    result = 0\n",
    "    for k in range (0,100):\n",
    "        \n",
    "        result += binom.pmf(k, n, p)\n",
    "    \n",
    "    if 4.9 < result*100 <= 5 :\n",
    "        \n",
    "        print('Минимально нужно разослать',n,'промокодов.')\n",
    "        print('Вероятность не выполнить план примерно',round(result*100),'%.')\n",
    "        break"
   ]
  },
  {
   "cell_type": "code",
   "execution_count": 38,
   "id": "d5a699cf",
   "metadata": {},
   "outputs": [
    {
     "data": {
      "image/png": "[encoded data removed]",
      "text/plain": [
       "<Figure size 1000x1000 with 1 Axes>"
      ]
     },
     "metadata": {},
     "output_type": "display_data"
    }
   ],
   "source": [
    "n = 1168 \n",
    "p = 0.1 \n",
    "\n",
    "distr = []\n",
    "\n",
    "for k in range(0, 201):\n",
    "    choose = math.factorial(n) / (math.factorial(k) * math.factorial(n - k))\n",
    "    prob = choose * p**k * (1 - p)**(n - k) \n",
    "    distr.append(prob)\n",
    "    \n",
    "plt.figure(figsize=(10, 10))    \n",
    "plt.bar(range(0, 201), distr)\n",
    "plt.xlabel('Количество успехов')\n",
    "plt.ylabel('Вероятность исходов')\n",
    "plt.title('График биноминального распределения успехов промокода')\n",
    "plt.show()"
   ]
  },
  {
   "cell_type": "markdown",
   "id": "35c8dbdc",
   "metadata": {},
   "source": [
    "Отдел маркетинга рассылает клиентам push-уведомления в мобильном приложении. Клиенты могут открыть его или не открывать. Известно, что уведомления открывают около 40 % получивших клиентов. Отдел планирует разослать 1 млн уведомлений. \n",
    "\n",
    "С помощью аппроксимации построим примерный график распределения и оценим вероятность того, что уведомление откроют не более 399,5 тыс. пользователей."
   ]
  },
  {
   "cell_type": "code",
   "execution_count": 39,
   "id": "8ea1c805",
   "metadata": {},
   "outputs": [
    {
     "data": {
      "image/png": "[encoded data removed]",
      "text/plain": [
       "<Figure size 600x600 with 1 Axes>"
      ]
     },
     "metadata": {},
     "output_type": "display_data"
    }
   ],
   "source": [
    "def linspace(start, stop, num):\n",
    "    step = (stop - start) / (num - 1)\n",
    "    result = []\n",
    "    for i in range(num):\n",
    "        result.append(start + step * i)\n",
    "    return result\n",
    " \n",
    "\n",
    "n = 1000000\n",
    "p = 0.4\n",
    "\n",
    "# границы промежутка, в котором будем строить аппроксимацию\n",
    "left = int(n * p - 4 * math.sqrt(n * p * (1 - p)))\n",
    "right = int(n * p + 4 * math.sqrt(n * p * (1 - p)))\n",
    "\n",
    "mu = n * p\n",
    "sigma = math.sqrt(n * p * (1 - p))\n",
    " \n",
    "x = linspace(left, right, 100)\n",
    "\n",
    "plt.figure(figsize=(6, 6))\n",
    "\n",
    "plt.plot(x, st.norm(mu, sigma).cdf(x))\n",
    "\n",
    "x_ticks = list(range(int(mu - 3 * sigma), int(mu + 3 * sigma), 1000))\n",
    "plt.xticks(x_ticks)\n",
    "\n",
    "plt.title('Нормальная аппроксимация биномиального распределения успехов уведомления')\n",
    "plt.xlabel('Количество успехов')\n",
    "plt.ylabel('Вероятность исходов')\n",
    "plt.grid (True)\n",
    "plt.show()\n"
   ]
  },
  {
   "cell_type": "code",
   "execution_count": 40,
   "id": "c84df097",
   "metadata": {},
   "outputs": [
    {
     "name": "stdout",
     "output_type": "stream",
     "text": [
      "0.15371708296369768\n"
     ]
    }
   ],
   "source": [
    "n = 1000000\n",
    "p = 0.4\n",
    "\n",
    "mu = n * p\n",
    "sigma = math.sqrt(n * p * (1 - p))\n",
    "\n",
    "distr = st.norm(mu, sigma) \n",
    "\n",
    "result = distr.cdf(399500)\n",
    "print(result)"
   ]
  },
  {
   "cell_type": "markdown",
   "id": "dd4df506",
   "metadata": {},
   "source": [
    "**Вывод**:\n",
    "1. Чтобы вероятность не выполнить план была примерно 5 %, нужно разослать миниму 1161 промокод. На графике видно что при таком количество промокодов, вероятность, что 100 человек не продлят подписку, достаточно мала.\n",
    "2. По графику можно предположить, что уведомление откроют не более 399,5 тыс. пользователей с вероятностью меньше 20%. Сделав вычисления, мы узначи, что точна вероятность составляет 15,4%."
   ]
  },
  {
   "cell_type": "markdown",
   "id": "3507df8a",
   "metadata": {},
   "source": [
    "### Общий вывод"
   ]
  },
  {
   "cell_type": "markdown",
   "id": "73b56bad",
   "metadata": {},
   "source": [
    "Мы проанализировали данные и проверили некоторые гипотезы, которые могут помочь бизнесу вырасти.\n",
    "\n",
    "Мы выполнили все пункты плана:\n",
    "1. Загрузили данные\n",
    "\n",
    "\n",
    "2. Провели предобработку данных\n",
    "    - Изменили тип данных, где это было необходимо\n",
    "    - Добавили новый столбец с номером месяца\n",
    "    - Проверили наличие пропущенных значений, дубликатов в датафреймах и обработали их.\n",
    "    \n",
    "    \n",
    "3. Провели исследовательский анализ данных и сделали следующие выводы:\n",
    "    - Больше всего в данных пользователей из Пятигорска, меньше всего из Москвы. Количество пользователей в каждом городе больше 150 и меньше 250 человек.\n",
    "    - Пользователей без подписки больше, но всего в 1,19 раза.\n",
    "    - Возраст пользоватлей нормально распределен. Больше все пользвателей в возрасте 25 лет и намного меньше в возрасте до 15 и после 35.\n",
    "    - Чаще всего пользователи за одну поездку проезжают около трех километров.\n",
    "    - Чаще всего поездки длятся от 15 до 20 минут.\n",
    "    \n",
    "    \n",
    "4. Объединили данные, а также сравнили информацию о расстоянии и времени поездок для пользователей с подпиской и без нее. Сделали выводы:\n",
    "    - Чаще всего расстояние, которые пользователи проезжают за одну поездку, составляет 3 километра. Однако пользователи без подписки чаще ездят на расстояния меньше 2 км.\n",
    "    - Чаще всего длительность поезки от 15 до 20 минут. Но можно заметить, что пользователи с подпиской чаще совершают поездки дольше 30 минут.\n",
    "    \n",
    "    \n",
    "5. Посчитали выручку по месяцам, которую приносит каждый пользователь.\n",
    "\n",
    "\n",
    "6. Проверили гипотезы и сделали выводы:\n",
    "    - Есть основания полагать, что пользователи с подпиской тратят значительно больше времени на поездки чем пользователи без подписки.\n",
    "    - Среднее расстояние, которое проезжают пользователи с подпиской за одну поездку, чаще всего равно или меньше 3130 м.\n",
    "    - Скорее всего помесячная выручка от пользователей с подпиской по месяцам выше, чем выручка от пользователей без подписки.\n",
    "    \n",
    "    \n",
    "7. Решили задачи с помощью распределений"
   ]
  }
 ],
 "metadata": {
  "ExecuteTimeLog": [
   {
    "duration": 379,
    "start_time": "2023-10-07T08:10:32.084Z"
   },
   {
    "duration": 66,
    "start_time": "2023-10-07T08:20:12.731Z"
   },
   {
    "duration": 6,
    "start_time": "2023-10-07T08:20:13.311Z"
   },
   {
    "duration": 192,
    "start_time": "2023-10-07T08:20:15.461Z"
   },
   {
    "duration": 14,
    "start_time": "2023-10-07T08:20:17.509Z"
   },
   {
    "duration": 13,
    "start_time": "2023-10-07T08:20:18.537Z"
   },
   {
    "duration": 10,
    "start_time": "2023-10-07T08:20:28.467Z"
   },
   {
    "duration": 9,
    "start_time": "2023-10-07T08:22:25.750Z"
   },
   {
    "duration": 12,
    "start_time": "2023-10-07T08:22:26.741Z"
   },
   {
    "duration": 7,
    "start_time": "2023-10-07T08:22:28.173Z"
   },
   {
    "duration": 6,
    "start_time": "2023-10-07T08:22:28.787Z"
   },
   {
    "duration": 8,
    "start_time": "2023-10-07T08:22:40.666Z"
   },
   {
    "duration": 6,
    "start_time": "2023-10-07T08:22:41.485Z"
   },
   {
    "duration": 11,
    "start_time": "2023-10-07T08:22:47.321Z"
   },
   {
    "duration": 7,
    "start_time": "2023-10-07T08:32:15.799Z"
   },
   {
    "duration": 10,
    "start_time": "2023-10-07T08:32:25.340Z"
   },
   {
    "duration": 4,
    "start_time": "2023-10-07T08:39:20.721Z"
   },
   {
    "duration": 9,
    "start_time": "2023-10-07T08:39:43.143Z"
   },
   {
    "duration": 13,
    "start_time": "2023-10-07T08:39:51.278Z"
   },
   {
    "duration": 9,
    "start_time": "2023-10-07T08:40:18.852Z"
   },
   {
    "duration": 13,
    "start_time": "2023-10-07T08:40:52.916Z"
   },
   {
    "duration": 6,
    "start_time": "2023-10-07T08:41:00.474Z"
   },
   {
    "duration": 4,
    "start_time": "2023-10-07T08:41:41.253Z"
   },
   {
    "duration": 12,
    "start_time": "2023-10-07T08:42:55.259Z"
   },
   {
    "duration": 7,
    "start_time": "2023-10-07T08:43:22.436Z"
   },
   {
    "duration": 6,
    "start_time": "2023-10-07T08:43:34.107Z"
   },
   {
    "duration": 6,
    "start_time": "2023-10-07T08:43:54.963Z"
   },
   {
    "duration": 6,
    "start_time": "2023-10-07T08:44:42.304Z"
   },
   {
    "duration": 13,
    "start_time": "2023-10-07T08:46:37.173Z"
   },
   {
    "duration": 5,
    "start_time": "2023-10-07T08:46:58.051Z"
   },
   {
    "duration": 8,
    "start_time": "2023-10-07T08:47:28.720Z"
   },
   {
    "duration": 577,
    "start_time": "2023-10-07T08:56:04.790Z"
   },
   {
    "duration": 152,
    "start_time": "2023-10-07T08:56:35.882Z"
   },
   {
    "duration": 148,
    "start_time": "2023-10-07T08:56:41.751Z"
   },
   {
    "duration": 142,
    "start_time": "2023-10-07T08:56:54.160Z"
   },
   {
    "duration": 3,
    "start_time": "2023-10-07T08:58:48.444Z"
   },
   {
    "duration": 149,
    "start_time": "2023-10-07T08:58:53.167Z"
   },
   {
    "duration": 8,
    "start_time": "2023-10-07T09:01:51.885Z"
   },
   {
    "duration": 7,
    "start_time": "2023-10-07T09:02:03.457Z"
   },
   {
    "duration": 105,
    "start_time": "2023-10-07T09:04:40.399Z"
   },
   {
    "duration": 154,
    "start_time": "2023-10-07T09:04:54.717Z"
   },
   {
    "duration": 134,
    "start_time": "2023-10-07T09:05:26.053Z"
   },
   {
    "duration": 130,
    "start_time": "2023-10-07T09:05:59.306Z"
   },
   {
    "duration": 145,
    "start_time": "2023-10-07T09:14:02.135Z"
   },
   {
    "duration": 4,
    "start_time": "2023-10-07T09:15:24.925Z"
   },
   {
    "duration": 4,
    "start_time": "2023-10-07T09:15:40.182Z"
   },
   {
    "duration": 4,
    "start_time": "2023-10-07T09:16:51.706Z"
   },
   {
    "duration": 235,
    "start_time": "2023-10-07T09:18:50.019Z"
   },
   {
    "duration": 260,
    "start_time": "2023-10-07T09:19:05.840Z"
   },
   {
    "duration": 268,
    "start_time": "2023-10-07T09:19:17.040Z"
   },
   {
    "duration": 273,
    "start_time": "2023-10-07T09:19:39.015Z"
   },
   {
    "duration": 315,
    "start_time": "2023-10-07T09:20:18.256Z"
   },
   {
    "duration": 9,
    "start_time": "2023-10-07T09:20:36.081Z"
   },
   {
    "duration": 5,
    "start_time": "2023-10-07T09:20:43.177Z"
   },
   {
    "duration": 272,
    "start_time": "2023-10-07T09:21:00.873Z"
   },
   {
    "duration": 12,
    "start_time": "2023-10-07T09:21:21.402Z"
   },
   {
    "duration": 271,
    "start_time": "2023-10-07T09:21:42.580Z"
   },
   {
    "duration": 253,
    "start_time": "2023-10-07T09:22:15.030Z"
   },
   {
    "duration": 262,
    "start_time": "2023-10-07T09:23:19.296Z"
   },
   {
    "duration": 296,
    "start_time": "2023-10-07T09:23:24.496Z"
   },
   {
    "duration": 280,
    "start_time": "2023-10-07T09:25:53.509Z"
   },
   {
    "duration": 291,
    "start_time": "2023-10-07T09:26:02.439Z"
   },
   {
    "duration": 359,
    "start_time": "2023-10-07T09:26:20.297Z"
   },
   {
    "duration": 130,
    "start_time": "2023-10-07T09:31:05.006Z"
   },
   {
    "duration": 142,
    "start_time": "2023-10-07T09:33:15.615Z"
   },
   {
    "duration": 134,
    "start_time": "2023-10-07T09:33:20.184Z"
   },
   {
    "duration": 126,
    "start_time": "2023-10-07T09:33:24.227Z"
   },
   {
    "duration": 144,
    "start_time": "2023-10-07T09:35:06.833Z"
   },
   {
    "duration": 151,
    "start_time": "2023-10-07T09:35:16.463Z"
   },
   {
    "duration": 185,
    "start_time": "2023-10-07T09:35:51.126Z"
   },
   {
    "duration": 163,
    "start_time": "2023-10-07T09:35:58.356Z"
   },
   {
    "duration": 177,
    "start_time": "2023-10-07T09:38:28.634Z"
   },
   {
    "duration": 87,
    "start_time": "2023-10-07T10:00:28.834Z"
   },
   {
    "duration": 22,
    "start_time": "2023-10-07T10:00:35.679Z"
   },
   {
    "duration": 31,
    "start_time": "2023-10-07T10:01:49.904Z"
   },
   {
    "duration": 16,
    "start_time": "2023-10-07T10:10:25.593Z"
   },
   {
    "duration": 22,
    "start_time": "2023-10-07T10:13:03.629Z"
   },
   {
    "duration": 25,
    "start_time": "2023-10-07T10:13:14.459Z"
   },
   {
    "duration": 13,
    "start_time": "2023-10-07T10:14:02.237Z"
   },
   {
    "duration": 137,
    "start_time": "2023-10-07T10:15:04.820Z"
   },
   {
    "duration": 21,
    "start_time": "2023-10-07T10:15:27.397Z"
   },
   {
    "duration": 25,
    "start_time": "2023-10-07T10:17:35.449Z"
   },
   {
    "duration": 19,
    "start_time": "2023-10-07T10:17:39.286Z"
   },
   {
    "duration": 16,
    "start_time": "2023-10-07T10:18:26.799Z"
   },
   {
    "duration": 13,
    "start_time": "2023-10-07T10:18:29.770Z"
   },
   {
    "duration": 167,
    "start_time": "2023-10-07T10:21:43.807Z"
   },
   {
    "duration": 246,
    "start_time": "2023-10-07T10:21:47.010Z"
   },
   {
    "duration": 163,
    "start_time": "2023-10-07T10:21:49.826Z"
   },
   {
    "duration": 171,
    "start_time": "2023-10-07T10:21:52.182Z"
   },
   {
    "duration": 157,
    "start_time": "2023-10-07T10:23:23.156Z"
   },
   {
    "duration": 221,
    "start_time": "2023-10-07T10:23:24.434Z"
   },
   {
    "duration": 164,
    "start_time": "2023-10-07T10:23:25.455Z"
   },
   {
    "duration": 170,
    "start_time": "2023-10-07T10:23:26.254Z"
   },
   {
    "duration": 176,
    "start_time": "2023-10-07T10:32:37.597Z"
   },
   {
    "duration": 170,
    "start_time": "2023-10-07T10:34:00.040Z"
   },
   {
    "duration": 250,
    "start_time": "2023-10-07T10:34:09.048Z"
   },
   {
    "duration": 294,
    "start_time": "2023-10-07T10:34:37.537Z"
   },
   {
    "duration": 258,
    "start_time": "2023-10-07T10:34:45.134Z"
   },
   {
    "duration": 286,
    "start_time": "2023-10-07T10:35:37.001Z"
   },
   {
    "duration": 108,
    "start_time": "2023-10-07T10:37:49.804Z"
   },
   {
    "duration": 31,
    "start_time": "2023-10-07T10:37:58.020Z"
   },
   {
    "duration": 289,
    "start_time": "2023-10-07T10:38:10.198Z"
   },
   {
    "duration": 80,
    "start_time": "2023-10-07T10:40:45.456Z"
   },
   {
    "duration": 163,
    "start_time": "2023-10-07T10:41:01.788Z"
   },
   {
    "duration": 191,
    "start_time": "2023-10-07T10:41:27.148Z"
   },
   {
    "duration": 292,
    "start_time": "2023-10-07T10:42:23.006Z"
   },
   {
    "duration": 191,
    "start_time": "2023-10-07T10:42:31.544Z"
   },
   {
    "duration": 266,
    "start_time": "2023-10-07T10:44:16.006Z"
   },
   {
    "duration": 518,
    "start_time": "2023-10-07T10:44:36.511Z"
   },
   {
    "duration": 411,
    "start_time": "2023-10-07T10:44:44.029Z"
   },
   {
    "duration": 409,
    "start_time": "2023-10-07T10:45:14.234Z"
   },
   {
    "duration": 593,
    "start_time": "2023-10-07T10:45:17.166Z"
   },
   {
    "duration": 487,
    "start_time": "2023-10-07T10:45:53.369Z"
   },
   {
    "duration": 448,
    "start_time": "2023-10-07T10:45:59.136Z"
   },
   {
    "duration": 482,
    "start_time": "2023-10-07T10:46:33.492Z"
   },
   {
    "duration": 483,
    "start_time": "2023-10-07T10:47:12.988Z"
   },
   {
    "duration": 405,
    "start_time": "2023-10-07T10:47:37.220Z"
   },
   {
    "duration": 513,
    "start_time": "2023-10-07T10:48:00.071Z"
   },
   {
    "duration": 423,
    "start_time": "2023-10-07T10:49:10.386Z"
   },
   {
    "duration": 433,
    "start_time": "2023-10-07T10:49:22.703Z"
   },
   {
    "duration": 412,
    "start_time": "2023-10-07T10:50:35.845Z"
   },
   {
    "duration": 392,
    "start_time": "2023-10-07T10:50:41.212Z"
   },
   {
    "duration": 476,
    "start_time": "2023-10-07T10:50:47.236Z"
   },
   {
    "duration": 413,
    "start_time": "2023-10-07T10:50:51.994Z"
   },
   {
    "duration": 382,
    "start_time": "2023-10-07T10:53:03.215Z"
   },
   {
    "duration": 16,
    "start_time": "2023-10-07T11:18:36.783Z"
   },
   {
    "duration": 16,
    "start_time": "2023-10-07T11:18:43.257Z"
   },
   {
    "duration": 15,
    "start_time": "2023-10-07T11:18:56.991Z"
   },
   {
    "duration": 26,
    "start_time": "2023-10-07T11:19:03.843Z"
   },
   {
    "duration": 26,
    "start_time": "2023-10-07T11:19:25.483Z"
   },
   {
    "duration": 20,
    "start_time": "2023-10-07T11:21:38.428Z"
   },
   {
    "duration": 337,
    "start_time": "2023-10-07T11:23:19.559Z"
   },
   {
    "duration": 385,
    "start_time": "2023-10-07T11:23:32.835Z"
   },
   {
    "duration": 31,
    "start_time": "2023-10-07T11:23:37.944Z"
   },
   {
    "duration": 19,
    "start_time": "2023-10-07T11:23:59.408Z"
   },
   {
    "duration": 1372,
    "start_time": "2023-10-07T11:33:20.180Z"
   },
   {
    "duration": 1293,
    "start_time": "2023-10-07T11:33:30.791Z"
   },
   {
    "duration": 1214,
    "start_time": "2023-10-07T11:33:37.896Z"
   },
   {
    "duration": 1542,
    "start_time": "2023-10-07T11:33:52.248Z"
   },
   {
    "duration": 20,
    "start_time": "2023-10-07T11:33:57.502Z"
   },
   {
    "duration": 1470,
    "start_time": "2023-10-07T11:35:40.731Z"
   },
   {
    "duration": 20,
    "start_time": "2023-10-07T11:35:46.192Z"
   },
   {
    "duration": 91,
    "start_time": "2023-10-07T11:39:56.612Z"
   },
   {
    "duration": 34,
    "start_time": "2023-10-07T11:40:02.811Z"
   },
   {
    "duration": 1271,
    "start_time": "2023-10-07T11:40:42.581Z"
   },
   {
    "duration": 33,
    "start_time": "2023-10-07T11:40:58.898Z"
   },
   {
    "duration": 33,
    "start_time": "2023-10-07T11:41:08.026Z"
   },
   {
    "duration": 19,
    "start_time": "2023-10-07T11:43:01.932Z"
   },
   {
    "duration": 1260,
    "start_time": "2023-10-07T11:43:03.530Z"
   },
   {
    "duration": 21,
    "start_time": "2023-10-07T11:43:07.687Z"
   },
   {
    "duration": 18,
    "start_time": "2023-10-07T11:43:26.504Z"
   },
   {
    "duration": 1244,
    "start_time": "2023-10-07T11:43:34.853Z"
   },
   {
    "duration": 19,
    "start_time": "2023-10-07T11:43:42.658Z"
   },
   {
    "duration": 3,
    "start_time": "2023-10-07T11:44:26.294Z"
   },
   {
    "duration": 3,
    "start_time": "2023-10-07T11:45:01.787Z"
   },
   {
    "duration": 203,
    "start_time": "2023-10-07T11:45:01.793Z"
   },
   {
    "duration": 40,
    "start_time": "2023-10-07T11:45:01.998Z"
   },
   {
    "duration": 181,
    "start_time": "2023-10-07T11:45:02.040Z"
   },
   {
    "duration": 100,
    "start_time": "2023-10-07T11:45:02.222Z"
   },
   {
    "duration": 59,
    "start_time": "2023-10-07T11:45:02.324Z"
   },
   {
    "duration": 41,
    "start_time": "2023-10-07T11:45:02.385Z"
   },
   {
    "duration": 46,
    "start_time": "2023-10-07T11:45:02.428Z"
   },
   {
    "duration": 55,
    "start_time": "2023-10-07T11:45:02.476Z"
   },
   {
    "duration": 56,
    "start_time": "2023-10-07T11:45:02.533Z"
   },
   {
    "duration": 57,
    "start_time": "2023-10-07T11:45:02.590Z"
   },
   {
    "duration": 46,
    "start_time": "2023-10-07T11:45:02.649Z"
   },
   {
    "duration": 32,
    "start_time": "2023-10-07T11:45:02.697Z"
   },
   {
    "duration": 37,
    "start_time": "2023-10-07T11:45:02.731Z"
   },
   {
    "duration": 29,
    "start_time": "2023-10-07T11:45:02.772Z"
   },
   {
    "duration": 49,
    "start_time": "2023-10-07T11:45:02.803Z"
   },
   {
    "duration": 307,
    "start_time": "2023-10-07T11:45:02.854Z"
   },
   {
    "duration": 225,
    "start_time": "2023-10-07T11:45:03.163Z"
   },
   {
    "duration": 3,
    "start_time": "2023-10-07T11:45:03.390Z"
   },
   {
    "duration": 308,
    "start_time": "2023-10-07T11:45:03.395Z"
   },
   {
    "duration": 201,
    "start_time": "2023-10-07T11:45:03.706Z"
   },
   {
    "duration": 187,
    "start_time": "2023-10-07T11:45:03.909Z"
   },
   {
    "duration": 14,
    "start_time": "2023-10-07T11:45:04.098Z"
   },
   {
    "duration": 35,
    "start_time": "2023-10-07T11:45:04.116Z"
   },
   {
    "duration": 16,
    "start_time": "2023-10-07T11:45:04.153Z"
   },
   {
    "duration": 466,
    "start_time": "2023-10-07T11:45:04.171Z"
   },
   {
    "duration": 415,
    "start_time": "2023-10-07T11:45:04.643Z"
   },
   {
    "duration": 28,
    "start_time": "2023-10-07T11:45:05.060Z"
   },
   {
    "duration": 1266,
    "start_time": "2023-10-07T11:45:05.090Z"
   },
   {
    "duration": 14,
    "start_time": "2023-10-07T11:46:15.417Z"
   },
   {
    "duration": 19,
    "start_time": "2023-10-07T11:46:26.614Z"
   },
   {
    "duration": 423,
    "start_time": "2023-10-07T11:47:03.749Z"
   },
   {
    "duration": 20,
    "start_time": "2023-10-07T11:47:34.867Z"
   },
   {
    "duration": 1429,
    "start_time": "2023-10-07T11:47:51.574Z"
   },
   {
    "duration": 18,
    "start_time": "2023-10-07T11:48:02.330Z"
   },
   {
    "duration": 21,
    "start_time": "2023-10-07T11:48:08.958Z"
   },
   {
    "duration": 14,
    "start_time": "2023-10-07T11:49:55.710Z"
   },
   {
    "duration": 1979,
    "start_time": "2023-10-07T11:50:04.125Z"
   },
   {
    "duration": 15,
    "start_time": "2023-10-07T11:50:14.697Z"
   },
   {
    "duration": 6,
    "start_time": "2023-10-07T11:50:41.410Z"
   },
   {
    "duration": 3,
    "start_time": "2023-10-07T11:52:03.050Z"
   },
   {
    "duration": 4,
    "start_time": "2023-10-07T11:53:49.998Z"
   },
   {
    "duration": 109,
    "start_time": "2023-10-07T11:53:50.004Z"
   },
   {
    "duration": 10,
    "start_time": "2023-10-07T11:53:50.116Z"
   },
   {
    "duration": 24,
    "start_time": "2023-10-07T11:53:50.128Z"
   },
   {
    "duration": 22,
    "start_time": "2023-10-07T11:53:50.155Z"
   },
   {
    "duration": 16,
    "start_time": "2023-10-07T11:53:50.179Z"
   },
   {
    "duration": 46,
    "start_time": "2023-10-07T11:53:50.197Z"
   },
   {
    "duration": 24,
    "start_time": "2023-10-07T11:53:50.245Z"
   },
   {
    "duration": 19,
    "start_time": "2023-10-07T11:53:50.271Z"
   },
   {
    "duration": 17,
    "start_time": "2023-10-07T11:53:50.292Z"
   },
   {
    "duration": 20,
    "start_time": "2023-10-07T11:53:50.311Z"
   },
   {
    "duration": 12,
    "start_time": "2023-10-07T11:53:50.333Z"
   },
   {
    "duration": 24,
    "start_time": "2023-10-07T11:53:50.347Z"
   },
   {
    "duration": 7,
    "start_time": "2023-10-07T11:53:50.375Z"
   },
   {
    "duration": 33,
    "start_time": "2023-10-07T11:53:50.383Z"
   },
   {
    "duration": 22,
    "start_time": "2023-10-07T11:53:50.419Z"
   },
   {
    "duration": 287,
    "start_time": "2023-10-07T11:53:50.443Z"
   },
   {
    "duration": 249,
    "start_time": "2023-10-07T11:53:50.733Z"
   },
   {
    "duration": 5,
    "start_time": "2023-10-07T11:53:50.984Z"
   },
   {
    "duration": 293,
    "start_time": "2023-10-07T11:53:50.991Z"
   },
   {
    "duration": 396,
    "start_time": "2023-10-07T11:53:51.286Z"
   },
   {
    "duration": 204,
    "start_time": "2023-10-07T11:53:51.683Z"
   },
   {
    "duration": 21,
    "start_time": "2023-10-07T11:53:51.889Z"
   },
   {
    "duration": 34,
    "start_time": "2023-10-07T11:53:51.912Z"
   },
   {
    "duration": 19,
    "start_time": "2023-10-07T11:53:51.947Z"
   },
   {
    "duration": 438,
    "start_time": "2023-10-07T11:53:51.967Z"
   },
   {
    "duration": 420,
    "start_time": "2023-10-07T11:53:52.407Z"
   },
   {
    "duration": 30,
    "start_time": "2023-10-07T11:53:52.829Z"
   },
   {
    "duration": 922,
    "start_time": "2023-10-07T11:53:52.860Z"
   },
   {
    "duration": 0,
    "start_time": "2023-10-07T11:53:53.785Z"
   },
   {
    "duration": 74,
    "start_time": "2023-10-07T11:54:18.004Z"
   },
   {
    "duration": 154,
    "start_time": "2023-10-07T11:54:24.218Z"
   },
   {
    "duration": 130,
    "start_time": "2023-10-07T11:54:29.260Z"
   },
   {
    "duration": 143,
    "start_time": "2023-10-07T11:54:38.966Z"
   },
   {
    "duration": 119,
    "start_time": "2023-10-07T11:54:54.671Z"
   },
   {
    "duration": 3,
    "start_time": "2023-10-07T11:55:04.428Z"
   },
   {
    "duration": 104,
    "start_time": "2023-10-07T11:55:04.434Z"
   },
   {
    "duration": 11,
    "start_time": "2023-10-07T11:55:04.540Z"
   },
   {
    "duration": 23,
    "start_time": "2023-10-07T11:55:04.553Z"
   },
   {
    "duration": 19,
    "start_time": "2023-10-07T11:55:04.579Z"
   },
   {
    "duration": 24,
    "start_time": "2023-10-07T11:55:04.600Z"
   },
   {
    "duration": 12,
    "start_time": "2023-10-07T11:55:04.626Z"
   },
   {
    "duration": 32,
    "start_time": "2023-10-07T11:55:04.640Z"
   },
   {
    "duration": 15,
    "start_time": "2023-10-07T11:55:04.674Z"
   },
   {
    "duration": 7,
    "start_time": "2023-10-07T11:55:04.691Z"
   },
   {
    "duration": 9,
    "start_time": "2023-10-07T11:55:04.700Z"
   },
   {
    "duration": 13,
    "start_time": "2023-10-07T11:55:04.711Z"
   },
   {
    "duration": 22,
    "start_time": "2023-10-07T11:55:04.726Z"
   },
   {
    "duration": 11,
    "start_time": "2023-10-07T11:55:04.752Z"
   },
   {
    "duration": 6,
    "start_time": "2023-10-07T11:55:04.765Z"
   },
   {
    "duration": 9,
    "start_time": "2023-10-07T11:55:04.773Z"
   },
   {
    "duration": 180,
    "start_time": "2023-10-07T11:55:04.784Z"
   },
   {
    "duration": 126,
    "start_time": "2023-10-07T11:55:04.965Z"
   },
   {
    "duration": 4,
    "start_time": "2023-10-07T11:55:05.092Z"
   },
   {
    "duration": 304,
    "start_time": "2023-10-07T11:55:05.097Z"
   },
   {
    "duration": 170,
    "start_time": "2023-10-07T11:55:05.403Z"
   },
   {
    "duration": 199,
    "start_time": "2023-10-07T11:55:05.574Z"
   },
   {
    "duration": 15,
    "start_time": "2023-10-07T11:55:05.775Z"
   },
   {
    "duration": 33,
    "start_time": "2023-10-07T11:55:05.791Z"
   },
   {
    "duration": 42,
    "start_time": "2023-10-07T11:55:05.826Z"
   },
   {
    "duration": 453,
    "start_time": "2023-10-07T11:55:05.870Z"
   },
   {
    "duration": 421,
    "start_time": "2023-10-07T11:55:06.325Z"
   },
   {
    "duration": 30,
    "start_time": "2023-10-07T11:55:06.748Z"
   },
   {
    "duration": 965,
    "start_time": "2023-10-07T11:55:06.779Z"
   },
   {
    "duration": 0,
    "start_time": "2023-10-07T11:55:07.746Z"
   },
   {
    "duration": 874,
    "start_time": "2023-10-08T07:18:38.671Z"
   },
   {
    "duration": 193,
    "start_time": "2023-10-08T07:18:39.547Z"
   },
   {
    "duration": 15,
    "start_time": "2023-10-08T07:18:39.742Z"
   },
   {
    "duration": 25,
    "start_time": "2023-10-08T07:18:39.758Z"
   },
   {
    "duration": 17,
    "start_time": "2023-10-08T07:18:39.786Z"
   },
   {
    "duration": 27,
    "start_time": "2023-10-08T07:18:39.805Z"
   },
   {
    "duration": 7,
    "start_time": "2023-10-08T07:18:39.834Z"
   },
   {
    "duration": 31,
    "start_time": "2023-10-08T07:18:39.843Z"
   },
   {
    "duration": 9,
    "start_time": "2023-10-08T07:18:39.877Z"
   },
   {
    "duration": 6,
    "start_time": "2023-10-08T07:18:39.888Z"
   },
   {
    "duration": 14,
    "start_time": "2023-10-08T07:18:39.896Z"
   },
   {
    "duration": 21,
    "start_time": "2023-10-08T07:18:39.911Z"
   },
   {
    "duration": 8,
    "start_time": "2023-10-08T07:18:39.934Z"
   },
   {
    "duration": 29,
    "start_time": "2023-10-08T07:18:39.945Z"
   },
   {
    "duration": 13,
    "start_time": "2023-10-08T07:18:39.975Z"
   },
   {
    "duration": 13,
    "start_time": "2023-10-08T07:18:39.990Z"
   },
   {
    "duration": 187,
    "start_time": "2023-10-08T07:18:40.005Z"
   },
   {
    "duration": 146,
    "start_time": "2023-10-08T07:18:40.193Z"
   },
   {
    "duration": 7,
    "start_time": "2023-10-08T07:18:40.341Z"
   },
   {
    "duration": 327,
    "start_time": "2023-10-08T07:18:40.351Z"
   },
   {
    "duration": 254,
    "start_time": "2023-10-08T07:18:40.681Z"
   },
   {
    "duration": 212,
    "start_time": "2023-10-08T07:18:40.937Z"
   },
   {
    "duration": 18,
    "start_time": "2023-10-08T07:18:41.151Z"
   },
   {
    "duration": 18,
    "start_time": "2023-10-08T07:18:41.170Z"
   },
   {
    "duration": 18,
    "start_time": "2023-10-08T07:18:41.190Z"
   },
   {
    "duration": 549,
    "start_time": "2023-10-08T07:18:41.210Z"
   },
   {
    "duration": 461,
    "start_time": "2023-10-08T07:18:41.760Z"
   },
   {
    "duration": 35,
    "start_time": "2023-10-08T07:18:42.223Z"
   },
   {
    "duration": 1197,
    "start_time": "2023-10-08T07:18:42.259Z"
   },
   {
    "duration": 0,
    "start_time": "2023-10-08T07:18:43.458Z"
   },
   {
    "duration": 1046,
    "start_time": "2023-10-08T07:19:47.023Z"
   },
   {
    "duration": 928,
    "start_time": "2023-10-08T07:23:34.835Z"
   },
   {
    "duration": 2462,
    "start_time": "2023-10-08T07:24:45.250Z"
   },
   {
    "duration": 1371,
    "start_time": "2023-10-08T07:24:57.834Z"
   },
   {
    "duration": 31,
    "start_time": "2023-10-08T07:27:56.830Z"
   },
   {
    "duration": 999,
    "start_time": "2023-10-08T07:29:03.971Z"
   },
   {
    "duration": 1413,
    "start_time": "2023-10-08T07:29:42.868Z"
   },
   {
    "duration": 27,
    "start_time": "2023-10-08T07:30:41.513Z"
   },
   {
    "duration": 29,
    "start_time": "2023-10-08T07:31:58.669Z"
   },
   {
    "duration": 26,
    "start_time": "2023-10-08T07:34:12.734Z"
   },
   {
    "duration": 21,
    "start_time": "2023-10-08T07:34:29.825Z"
   },
   {
    "duration": 18,
    "start_time": "2023-10-08T07:34:35.558Z"
   },
   {
    "duration": 23,
    "start_time": "2023-10-08T07:35:55.690Z"
   },
   {
    "duration": 22,
    "start_time": "2023-10-08T07:36:25.744Z"
   },
   {
    "duration": 3,
    "start_time": "2023-10-08T07:36:40.324Z"
   },
   {
    "duration": 1316,
    "start_time": "2023-10-08T07:36:45.737Z"
   },
   {
    "duration": 1421,
    "start_time": "2023-10-08T07:38:08.530Z"
   },
   {
    "duration": 1366,
    "start_time": "2023-10-08T07:38:40.973Z"
   },
   {
    "duration": 1323,
    "start_time": "2023-10-08T07:38:55.403Z"
   },
   {
    "duration": 1444,
    "start_time": "2023-10-08T07:39:09.131Z"
   },
   {
    "duration": 17,
    "start_time": "2023-10-08T07:39:17.612Z"
   },
   {
    "duration": 36,
    "start_time": "2023-10-08T07:39:30.712Z"
   },
   {
    "duration": 2190,
    "start_time": "2023-10-08T07:40:01.197Z"
   },
   {
    "duration": 1679,
    "start_time": "2023-10-08T07:40:06.541Z"
   },
   {
    "duration": 108,
    "start_time": "2023-10-08T07:41:14.589Z"
   },
   {
    "duration": 2044,
    "start_time": "2023-10-08T07:41:24.826Z"
   },
   {
    "duration": 864,
    "start_time": "2023-10-08T10:36:50.035Z"
   },
   {
    "duration": 200,
    "start_time": "2023-10-08T10:36:50.901Z"
   },
   {
    "duration": 12,
    "start_time": "2023-10-08T10:36:51.103Z"
   },
   {
    "duration": 34,
    "start_time": "2023-10-08T10:36:51.116Z"
   },
   {
    "duration": 33,
    "start_time": "2023-10-08T10:36:51.153Z"
   },
   {
    "duration": 58,
    "start_time": "2023-10-08T10:36:51.188Z"
   },
   {
    "duration": 12,
    "start_time": "2023-10-08T10:36:51.248Z"
   },
   {
    "duration": 59,
    "start_time": "2023-10-08T10:36:51.261Z"
   },
   {
    "duration": 21,
    "start_time": "2023-10-08T10:36:51.322Z"
   },
   {
    "duration": 122,
    "start_time": "2023-10-08T10:36:51.345Z"
   },
   {
    "duration": 123,
    "start_time": "2023-10-08T10:36:51.469Z"
   },
   {
    "duration": 84,
    "start_time": "2023-10-08T10:36:51.594Z"
   },
   {
    "duration": 109,
    "start_time": "2023-10-08T10:36:51.680Z"
   },
   {
    "duration": 20,
    "start_time": "2023-10-08T10:36:51.792Z"
   },
   {
    "duration": 26,
    "start_time": "2023-10-08T10:36:51.813Z"
   },
   {
    "duration": 32,
    "start_time": "2023-10-08T10:36:51.841Z"
   },
   {
    "duration": 174,
    "start_time": "2023-10-08T10:36:51.875Z"
   },
   {
    "duration": 127,
    "start_time": "2023-10-08T10:36:52.051Z"
   },
   {
    "duration": 4,
    "start_time": "2023-10-08T10:36:52.180Z"
   },
   {
    "duration": 315,
    "start_time": "2023-10-08T10:36:52.185Z"
   },
   {
    "duration": 234,
    "start_time": "2023-10-08T10:36:52.502Z"
   },
   {
    "duration": 185,
    "start_time": "2023-10-08T10:36:52.738Z"
   },
   {
    "duration": 24,
    "start_time": "2023-10-08T10:36:52.924Z"
   },
   {
    "duration": 19,
    "start_time": "2023-10-08T10:36:52.950Z"
   },
   {
    "duration": 18,
    "start_time": "2023-10-08T10:36:52.971Z"
   },
   {
    "duration": 473,
    "start_time": "2023-10-08T10:36:52.991Z"
   },
   {
    "duration": 501,
    "start_time": "2023-10-08T10:36:53.466Z"
   },
   {
    "duration": 22,
    "start_time": "2023-10-08T10:36:53.969Z"
   },
   {
    "duration": 1885,
    "start_time": "2023-10-08T10:36:53.993Z"
   },
   {
    "duration": 0,
    "start_time": "2023-10-08T10:36:55.880Z"
   },
   {
    "duration": 4,
    "start_time": "2023-10-08T10:37:00.872Z"
   },
   {
    "duration": 14,
    "start_time": "2023-10-08T10:37:10.017Z"
   },
   {
    "duration": 16,
    "start_time": "2023-10-08T10:37:39.492Z"
   },
   {
    "duration": 20,
    "start_time": "2023-10-08T10:37:52.944Z"
   },
   {
    "duration": 11,
    "start_time": "2023-10-08T10:38:25.183Z"
   },
   {
    "duration": 11,
    "start_time": "2023-10-08T10:40:34.991Z"
   },
   {
    "duration": 16,
    "start_time": "2023-10-08T10:40:47.413Z"
   },
   {
    "duration": 14,
    "start_time": "2023-10-08T10:42:00.100Z"
   },
   {
    "duration": 23,
    "start_time": "2023-10-08T10:42:28.371Z"
   },
   {
    "duration": 18,
    "start_time": "2023-10-08T10:43:06.651Z"
   },
   {
    "duration": 13,
    "start_time": "2023-10-08T10:43:52.371Z"
   },
   {
    "duration": 14,
    "start_time": "2023-10-08T10:43:56.104Z"
   },
   {
    "duration": 1678,
    "start_time": "2023-10-08T10:44:10.815Z"
   },
   {
    "duration": 76,
    "start_time": "2023-10-08T10:44:24.012Z"
   },
   {
    "duration": 1931,
    "start_time": "2023-10-08T10:44:37.888Z"
   },
   {
    "duration": 64,
    "start_time": "2023-10-08T10:44:52.737Z"
   },
   {
    "duration": 1544,
    "start_time": "2023-10-08T10:45:34.687Z"
   },
   {
    "duration": 21487,
    "start_time": "2023-10-08T10:45:56.922Z"
   },
   {
    "duration": 3,
    "start_time": "2023-10-08T10:47:17.207Z"
   },
   {
    "duration": 3,
    "start_time": "2023-10-08T10:47:22.426Z"
   },
   {
    "duration": 3,
    "start_time": "2023-10-08T10:47:27.632Z"
   },
   {
    "duration": 19968,
    "start_time": "2023-10-08T10:47:38.262Z"
   },
   {
    "duration": 13,
    "start_time": "2023-10-08T10:49:31.100Z"
   },
   {
    "duration": 4,
    "start_time": "2023-10-08T10:51:50.556Z"
   },
   {
    "duration": 87,
    "start_time": "2023-10-08T10:51:50.562Z"
   },
   {
    "duration": 10,
    "start_time": "2023-10-08T10:51:50.651Z"
   },
   {
    "duration": 63,
    "start_time": "2023-10-08T10:51:50.663Z"
   },
   {
    "duration": 51,
    "start_time": "2023-10-08T10:51:50.728Z"
   },
   {
    "duration": 18,
    "start_time": "2023-10-08T10:51:50.780Z"
   },
   {
    "duration": 23,
    "start_time": "2023-10-08T10:51:50.800Z"
   },
   {
    "duration": 37,
    "start_time": "2023-10-08T10:51:50.824Z"
   },
   {
    "duration": 22,
    "start_time": "2023-10-08T10:51:50.863Z"
   },
   {
    "duration": 11,
    "start_time": "2023-10-08T10:51:50.886Z"
   },
   {
    "duration": 7,
    "start_time": "2023-10-08T10:51:50.899Z"
   },
   {
    "duration": 28,
    "start_time": "2023-10-08T10:51:50.908Z"
   },
   {
    "duration": 13,
    "start_time": "2023-10-08T10:51:50.938Z"
   },
   {
    "duration": 40,
    "start_time": "2023-10-08T10:51:50.954Z"
   },
   {
    "duration": 16,
    "start_time": "2023-10-08T10:51:50.996Z"
   },
   {
    "duration": 37,
    "start_time": "2023-10-08T10:51:51.014Z"
   },
   {
    "duration": 154,
    "start_time": "2023-10-08T10:51:51.053Z"
   },
   {
    "duration": 128,
    "start_time": "2023-10-08T10:51:51.209Z"
   },
   {
    "duration": 6,
    "start_time": "2023-10-08T10:51:51.338Z"
   },
   {
    "duration": 298,
    "start_time": "2023-10-08T10:51:51.346Z"
   },
   {
    "duration": 179,
    "start_time": "2023-10-08T10:51:51.646Z"
   },
   {
    "duration": 201,
    "start_time": "2023-10-08T10:51:51.827Z"
   },
   {
    "duration": 22,
    "start_time": "2023-10-08T10:51:52.029Z"
   },
   {
    "duration": 27,
    "start_time": "2023-10-08T10:51:52.053Z"
   },
   {
    "duration": 26,
    "start_time": "2023-10-08T10:51:52.082Z"
   },
   {
    "duration": 485,
    "start_time": "2023-10-08T10:51:52.109Z"
   },
   {
    "duration": 424,
    "start_time": "2023-10-08T10:51:52.596Z"
   },
   {
    "duration": 43,
    "start_time": "2023-10-08T10:51:53.022Z"
   },
   {
    "duration": 14,
    "start_time": "2023-10-08T10:51:53.068Z"
   },
   {
    "duration": 21827,
    "start_time": "2023-10-08T10:51:53.084Z"
   },
   {
    "duration": 22640,
    "start_time": "2023-10-08T10:53:27.060Z"
   },
   {
    "duration": 15,
    "start_time": "2023-10-08T10:55:13.496Z"
   },
   {
    "duration": 13,
    "start_time": "2023-10-08T10:55:17.680Z"
   },
   {
    "duration": 22190,
    "start_time": "2023-10-08T10:55:19.260Z"
   },
   {
    "duration": 3,
    "start_time": "2023-10-08T10:55:55.739Z"
   },
   {
    "duration": 69,
    "start_time": "2023-10-08T10:55:55.744Z"
   },
   {
    "duration": 8,
    "start_time": "2023-10-08T10:55:55.815Z"
   },
   {
    "duration": 10,
    "start_time": "2023-10-08T10:55:55.825Z"
   },
   {
    "duration": 20,
    "start_time": "2023-10-08T10:55:55.838Z"
   },
   {
    "duration": 23,
    "start_time": "2023-10-08T10:55:55.860Z"
   },
   {
    "duration": 6,
    "start_time": "2023-10-08T10:55:55.884Z"
   },
   {
    "duration": 22,
    "start_time": "2023-10-08T10:55:55.892Z"
   },
   {
    "duration": 18,
    "start_time": "2023-10-08T10:55:55.916Z"
   },
   {
    "duration": 15,
    "start_time": "2023-10-08T10:55:55.936Z"
   },
   {
    "duration": 17,
    "start_time": "2023-10-08T10:55:55.953Z"
   },
   {
    "duration": 7,
    "start_time": "2023-10-08T10:55:55.972Z"
   },
   {
    "duration": 5,
    "start_time": "2023-10-08T10:55:55.982Z"
   },
   {
    "duration": 10,
    "start_time": "2023-10-08T10:55:55.988Z"
   },
   {
    "duration": 12,
    "start_time": "2023-10-08T10:55:55.999Z"
   },
   {
    "duration": 27,
    "start_time": "2023-10-08T10:55:56.013Z"
   },
   {
    "duration": 153,
    "start_time": "2023-10-08T10:55:56.042Z"
   },
   {
    "duration": 127,
    "start_time": "2023-10-08T10:55:56.197Z"
   },
   {
    "duration": 3,
    "start_time": "2023-10-08T10:55:56.326Z"
   },
   {
    "duration": 307,
    "start_time": "2023-10-08T10:55:56.331Z"
   },
   {
    "duration": 236,
    "start_time": "2023-10-08T10:55:56.640Z"
   },
   {
    "duration": 187,
    "start_time": "2023-10-08T10:55:56.877Z"
   },
   {
    "duration": 17,
    "start_time": "2023-10-08T10:55:57.066Z"
   },
   {
    "duration": 28,
    "start_time": "2023-10-08T10:55:57.085Z"
   },
   {
    "duration": 14,
    "start_time": "2023-10-08T10:55:57.115Z"
   },
   {
    "duration": 414,
    "start_time": "2023-10-08T10:55:57.145Z"
   },
   {
    "duration": 440,
    "start_time": "2023-10-08T10:55:57.561Z"
   },
   {
    "duration": 14,
    "start_time": "2023-10-08T10:55:58.003Z"
   },
   {
    "duration": 39,
    "start_time": "2023-10-08T10:55:58.018Z"
   },
   {
    "duration": 21947,
    "start_time": "2023-10-08T10:55:58.059Z"
   },
   {
    "duration": 9,
    "start_time": "2023-10-08T10:56:25.518Z"
   },
   {
    "duration": 35783,
    "start_time": "2023-10-08T10:58:15.578Z"
   },
   {
    "duration": 37748,
    "start_time": "2023-10-08T10:59:58.421Z"
   },
   {
    "duration": 11,
    "start_time": "2023-10-08T11:00:55.469Z"
   },
   {
    "duration": 1834,
    "start_time": "2023-10-08T11:01:07.654Z"
   },
   {
    "duration": 6,
    "start_time": "2023-10-08T11:01:51.671Z"
   },
   {
    "duration": 18,
    "start_time": "2023-10-08T11:02:42.042Z"
   },
   {
    "duration": 1565,
    "start_time": "2023-10-08T11:05:10.431Z"
   },
   {
    "duration": 0,
    "start_time": "2023-10-08T11:05:57.126Z"
   },
   {
    "duration": 23405,
    "start_time": "2023-10-08T11:06:11.176Z"
   },
   {
    "duration": 22079,
    "start_time": "2023-10-08T11:07:42.187Z"
   },
   {
    "duration": 13,
    "start_time": "2023-10-08T11:09:16.456Z"
   },
   {
    "duration": 16,
    "start_time": "2023-10-08T11:09:22.903Z"
   },
   {
    "duration": 20,
    "start_time": "2023-10-08T11:09:33.873Z"
   },
   {
    "duration": 22038,
    "start_time": "2023-10-08T11:09:48.872Z"
   },
   {
    "duration": 20185,
    "start_time": "2023-10-08T11:11:06.802Z"
   },
   {
    "duration": 20494,
    "start_time": "2023-10-08T11:13:47.322Z"
   },
   {
    "duration": 29717,
    "start_time": "2023-10-08T11:17:00.615Z"
   },
   {
    "duration": 38542,
    "start_time": "2023-10-08T11:17:50.467Z"
   },
   {
    "duration": 11,
    "start_time": "2023-10-08T11:19:15.593Z"
   },
   {
    "duration": 2158,
    "start_time": "2023-10-08T11:20:55.648Z"
   },
   {
    "duration": 36148,
    "start_time": "2023-10-08T11:21:31.858Z"
   },
   {
    "duration": 16,
    "start_time": "2023-10-08T11:22:38.264Z"
   },
   {
    "duration": 24,
    "start_time": "2023-10-08T11:22:48.338Z"
   },
   {
    "duration": 33204,
    "start_time": "2023-10-08T11:24:43.356Z"
   },
   {
    "duration": 27124,
    "start_time": "2023-10-08T11:26:20.165Z"
   },
   {
    "duration": 75,
    "start_time": "2023-10-08T11:26:47.290Z"
   },
   {
    "duration": 3,
    "start_time": "2023-10-08T11:26:51.121Z"
   },
   {
    "duration": 17425,
    "start_time": "2023-10-08T11:28:37.858Z"
   },
   {
    "duration": 13,
    "start_time": "2023-10-08T11:29:08.600Z"
   },
   {
    "duration": 7,
    "start_time": "2023-10-08T11:46:19.632Z"
   },
   {
    "duration": 5,
    "start_time": "2023-10-08T11:46:30.864Z"
   },
   {
    "duration": 3,
    "start_time": "2023-10-08T11:46:34.420Z"
   },
   {
    "duration": 9,
    "start_time": "2023-10-08T12:14:25.307Z"
   },
   {
    "duration": 432,
    "start_time": "2023-10-08T12:14:46.641Z"
   },
   {
    "duration": 16,
    "start_time": "2023-10-08T12:14:51.044Z"
   },
   {
    "duration": 5,
    "start_time": "2023-10-08T12:28:10.882Z"
   },
   {
    "duration": 77,
    "start_time": "2023-10-08T12:35:11.257Z"
   },
   {
    "duration": 40,
    "start_time": "2023-10-08T12:35:19.716Z"
   },
   {
    "duration": 12,
    "start_time": "2023-10-08T12:35:40.516Z"
   },
   {
    "duration": 12,
    "start_time": "2023-10-08T12:36:03.226Z"
   },
   {
    "duration": 11,
    "start_time": "2023-10-08T12:36:27.202Z"
   },
   {
    "duration": 16,
    "start_time": "2023-10-08T12:43:47.431Z"
   },
   {
    "duration": 14,
    "start_time": "2023-10-08T12:44:49.375Z"
   },
   {
    "duration": 15,
    "start_time": "2023-10-08T12:47:52.160Z"
   },
   {
    "duration": 28,
    "start_time": "2023-10-08T12:48:17.457Z"
   },
   {
    "duration": 12,
    "start_time": "2023-10-08T12:52:19.113Z"
   },
   {
    "duration": 13,
    "start_time": "2023-10-08T12:52:34.475Z"
   },
   {
    "duration": 8,
    "start_time": "2023-10-08T12:53:01.406Z"
   },
   {
    "duration": 8,
    "start_time": "2023-10-08T12:53:30.180Z"
   },
   {
    "duration": 9,
    "start_time": "2023-10-08T12:54:39.299Z"
   },
   {
    "duration": 120,
    "start_time": "2023-10-08T13:00:11.692Z"
   },
   {
    "duration": 3,
    "start_time": "2023-10-08T13:22:45.840Z"
   },
   {
    "duration": 5,
    "start_time": "2023-10-08T13:30:55.520Z"
   },
   {
    "duration": 5,
    "start_time": "2023-10-08T13:31:07.600Z"
   },
   {
    "duration": 5,
    "start_time": "2023-10-08T13:31:11.924Z"
   },
   {
    "duration": 5,
    "start_time": "2023-10-08T13:31:19.991Z"
   },
   {
    "duration": 6,
    "start_time": "2023-10-08T13:31:28.183Z"
   },
   {
    "duration": 11,
    "start_time": "2023-10-08T13:31:34.941Z"
   },
   {
    "duration": 8,
    "start_time": "2023-10-08T13:31:56.240Z"
   },
   {
    "duration": 5,
    "start_time": "2023-10-08T13:32:04.024Z"
   },
   {
    "duration": 7,
    "start_time": "2023-10-08T13:32:09.040Z"
   },
   {
    "duration": 6,
    "start_time": "2023-10-08T13:32:15.286Z"
   },
   {
    "duration": 6,
    "start_time": "2023-10-08T13:32:50.103Z"
   },
   {
    "duration": 5,
    "start_time": "2023-10-08T13:32:57.682Z"
   },
   {
    "duration": 6,
    "start_time": "2023-10-08T13:33:03.828Z"
   },
   {
    "duration": 6,
    "start_time": "2023-10-08T13:33:15.498Z"
   },
   {
    "duration": 5,
    "start_time": "2023-10-08T13:33:22.902Z"
   },
   {
    "duration": 5,
    "start_time": "2023-10-08T13:33:29.630Z"
   },
   {
    "duration": 7,
    "start_time": "2023-10-08T13:33:34.852Z"
   },
   {
    "duration": 9,
    "start_time": "2023-10-08T13:33:39.054Z"
   },
   {
    "duration": 1135,
    "start_time": "2023-10-08T13:36:03.949Z"
   },
   {
    "duration": 1052,
    "start_time": "2023-10-08T13:36:31.186Z"
   },
   {
    "duration": 1079,
    "start_time": "2023-10-08T13:37:53.935Z"
   },
   {
    "duration": 2065,
    "start_time": "2023-10-08T13:38:23.111Z"
   },
   {
    "duration": 52,
    "start_time": "2023-10-08T13:39:55.711Z"
   },
   {
    "duration": 370,
    "start_time": "2023-10-08T13:42:14.843Z"
   },
   {
    "duration": 146,
    "start_time": "2023-10-08T13:42:31.022Z"
   },
   {
    "duration": 365,
    "start_time": "2023-10-08T13:42:44.988Z"
   },
   {
    "duration": 396,
    "start_time": "2023-10-08T13:44:15.983Z"
   },
   {
    "duration": 556,
    "start_time": "2023-10-08T13:45:26.129Z"
   },
   {
    "duration": 412,
    "start_time": "2023-10-08T13:46:48.972Z"
   },
   {
    "duration": 13,
    "start_time": "2023-10-08T13:56:50.575Z"
   },
   {
    "duration": 122,
    "start_time": "2023-10-08T13:57:04.809Z"
   },
   {
    "duration": 115,
    "start_time": "2023-10-08T13:57:11.978Z"
   },
   {
    "duration": 167,
    "start_time": "2023-10-08T13:57:37.475Z"
   },
   {
    "duration": 193,
    "start_time": "2023-10-08T13:57:44.541Z"
   },
   {
    "duration": 34605,
    "start_time": "2023-10-08T13:58:28.486Z"
   },
   {
    "duration": 107,
    "start_time": "2023-10-08T14:01:01.061Z"
   },
   {
    "duration": 109,
    "start_time": "2023-10-08T14:01:55.322Z"
   },
   {
    "duration": 244,
    "start_time": "2023-10-08T14:04:02.401Z"
   },
   {
    "duration": 129,
    "start_time": "2023-10-08T14:04:08.772Z"
   },
   {
    "duration": 112,
    "start_time": "2023-10-08T14:04:20.320Z"
   },
   {
    "duration": 107,
    "start_time": "2023-10-08T14:05:52.889Z"
   },
   {
    "duration": 203,
    "start_time": "2023-10-08T14:07:15.527Z"
   },
   {
    "duration": 385,
    "start_time": "2023-10-08T14:07:42.560Z"
   },
   {
    "duration": 144,
    "start_time": "2023-10-08T14:09:29.979Z"
   },
   {
    "duration": 5,
    "start_time": "2023-10-08T14:10:29.474Z"
   },
   {
    "duration": 5,
    "start_time": "2023-10-08T14:10:39.736Z"
   },
   {
    "duration": 125,
    "start_time": "2023-10-08T14:13:56.528Z"
   },
   {
    "duration": 4,
    "start_time": "2023-10-08T14:55:03.732Z"
   },
   {
    "duration": 91,
    "start_time": "2023-10-08T14:55:03.738Z"
   },
   {
    "duration": 8,
    "start_time": "2023-10-08T14:55:03.831Z"
   },
   {
    "duration": 39,
    "start_time": "2023-10-08T14:55:03.841Z"
   },
   {
    "duration": 40,
    "start_time": "2023-10-08T14:55:03.883Z"
   },
   {
    "duration": 17,
    "start_time": "2023-10-08T14:55:03.925Z"
   },
   {
    "duration": 12,
    "start_time": "2023-10-08T14:55:03.944Z"
   },
   {
    "duration": 24,
    "start_time": "2023-10-08T14:55:03.958Z"
   },
   {
    "duration": 9,
    "start_time": "2023-10-08T14:55:03.983Z"
   },
   {
    "duration": 11,
    "start_time": "2023-10-08T14:55:03.994Z"
   },
   {
    "duration": 39,
    "start_time": "2023-10-08T14:55:04.007Z"
   },
   {
    "duration": 24,
    "start_time": "2023-10-08T14:55:04.048Z"
   },
   {
    "duration": 13,
    "start_time": "2023-10-08T14:55:04.074Z"
   },
   {
    "duration": 9,
    "start_time": "2023-10-08T14:55:04.090Z"
   },
   {
    "duration": 21,
    "start_time": "2023-10-08T14:55:04.100Z"
   },
   {
    "duration": 11,
    "start_time": "2023-10-08T14:55:04.122Z"
   },
   {
    "duration": 135,
    "start_time": "2023-10-08T14:55:04.135Z"
   },
   {
    "duration": 122,
    "start_time": "2023-10-08T14:55:04.272Z"
   },
   {
    "duration": 5,
    "start_time": "2023-10-08T14:55:04.396Z"
   },
   {
    "duration": 344,
    "start_time": "2023-10-08T14:55:04.403Z"
   },
   {
    "duration": 180,
    "start_time": "2023-10-08T14:55:04.749Z"
   },
   {
    "duration": 203,
    "start_time": "2023-10-08T14:55:04.931Z"
   },
   {
    "duration": 20,
    "start_time": "2023-10-08T14:55:05.135Z"
   },
   {
    "duration": 16,
    "start_time": "2023-10-08T14:55:05.157Z"
   },
   {
    "duration": 16,
    "start_time": "2023-10-08T14:55:05.174Z"
   },
   {
    "duration": 404,
    "start_time": "2023-10-08T14:55:05.191Z"
   },
   {
    "duration": 398,
    "start_time": "2023-10-08T14:55:05.597Z"
   },
   {
    "duration": 25,
    "start_time": "2023-10-08T14:55:05.997Z"
   },
   {
    "duration": 27,
    "start_time": "2023-10-08T14:55:06.023Z"
   },
   {
    "duration": 16671,
    "start_time": "2023-10-08T14:55:06.052Z"
   },
   {
    "duration": 6,
    "start_time": "2023-10-08T14:55:22.725Z"
   },
   {
    "duration": 5,
    "start_time": "2023-10-08T14:55:22.743Z"
   },
   {
    "duration": 15,
    "start_time": "2023-10-08T14:55:22.751Z"
   },
   {
    "duration": 12,
    "start_time": "2023-10-08T14:55:22.767Z"
   },
   {
    "duration": 1006,
    "start_time": "2023-10-08T14:55:22.781Z"
   },
   {
    "duration": 586,
    "start_time": "2023-10-08T14:55:23.789Z"
   },
   {
    "duration": 140,
    "start_time": "2023-10-08T14:55:24.377Z"
   },
   {
    "duration": 6,
    "start_time": "2023-10-08T14:55:24.519Z"
   },
   {
    "duration": 103,
    "start_time": "2023-10-08T20:18:54.968Z"
   },
   {
    "duration": 42,
    "start_time": "2023-10-08T20:18:59.577Z"
   },
   {
    "duration": 1266,
    "start_time": "2023-10-08T20:19:06.132Z"
   },
   {
    "duration": 198,
    "start_time": "2023-10-08T20:19:07.400Z"
   },
   {
    "duration": 14,
    "start_time": "2023-10-08T20:19:07.600Z"
   },
   {
    "duration": 40,
    "start_time": "2023-10-08T20:19:07.615Z"
   },
   {
    "duration": 28,
    "start_time": "2023-10-08T20:19:07.657Z"
   },
   {
    "duration": 38,
    "start_time": "2023-10-08T20:19:07.687Z"
   },
   {
    "duration": 14,
    "start_time": "2023-10-08T20:19:07.726Z"
   },
   {
    "duration": 30,
    "start_time": "2023-10-08T20:19:07.742Z"
   },
   {
    "duration": 11,
    "start_time": "2023-10-08T20:19:07.773Z"
   },
   {
    "duration": 12,
    "start_time": "2023-10-08T20:19:07.786Z"
   },
   {
    "duration": 19,
    "start_time": "2023-10-08T20:19:07.800Z"
   },
   {
    "duration": 16,
    "start_time": "2023-10-08T20:19:07.821Z"
   },
   {
    "duration": 21,
    "start_time": "2023-10-08T20:19:07.839Z"
   },
   {
    "duration": 34,
    "start_time": "2023-10-08T20:19:07.863Z"
   },
   {
    "duration": 28,
    "start_time": "2023-10-08T20:19:07.898Z"
   },
   {
    "duration": 18,
    "start_time": "2023-10-08T20:19:07.927Z"
   },
   {
    "duration": 158,
    "start_time": "2023-10-08T20:19:07.947Z"
   },
   {
    "duration": 117,
    "start_time": "2023-10-08T20:19:08.107Z"
   },
   {
    "duration": 3,
    "start_time": "2023-10-08T20:19:08.226Z"
   },
   {
    "duration": 285,
    "start_time": "2023-10-08T20:19:08.243Z"
   },
   {
    "duration": 162,
    "start_time": "2023-10-08T20:19:08.529Z"
   },
   {
    "duration": 179,
    "start_time": "2023-10-08T20:19:08.693Z"
   },
   {
    "duration": 14,
    "start_time": "2023-10-08T20:19:08.874Z"
   },
   {
    "duration": 51,
    "start_time": "2023-10-08T20:19:08.890Z"
   },
   {
    "duration": 34,
    "start_time": "2023-10-08T20:19:08.943Z"
   },
   {
    "duration": 32,
    "start_time": "2023-10-08T20:19:08.978Z"
   },
   {
    "duration": 441,
    "start_time": "2023-10-08T20:19:09.011Z"
   },
   {
    "duration": 476,
    "start_time": "2023-10-08T20:19:09.454Z"
   },
   {
    "duration": 26,
    "start_time": "2023-10-08T20:19:09.932Z"
   },
   {
    "duration": 12,
    "start_time": "2023-10-08T20:19:09.960Z"
   },
   {
    "duration": 15871,
    "start_time": "2023-10-08T20:19:09.974Z"
   },
   {
    "duration": 5,
    "start_time": "2023-10-08T20:19:25.847Z"
   },
   {
    "duration": 20,
    "start_time": "2023-10-08T20:19:25.854Z"
   },
   {
    "duration": 30,
    "start_time": "2023-10-08T20:19:25.876Z"
   },
   {
    "duration": 11,
    "start_time": "2023-10-08T20:19:25.908Z"
   },
   {
    "duration": 952,
    "start_time": "2023-10-08T20:19:25.921Z"
   },
   {
    "duration": 417,
    "start_time": "2023-10-08T20:19:26.875Z"
   },
   {
    "duration": 66,
    "start_time": "2023-10-08T20:19:27.294Z"
   },
   {
    "duration": 0,
    "start_time": "2023-10-08T20:19:27.361Z"
   },
   {
    "duration": 74,
    "start_time": "2023-10-08T20:20:29.280Z"
   },
   {
    "duration": 6,
    "start_time": "2023-10-08T20:22:25.095Z"
   },
   {
    "duration": 1318,
    "start_time": "2023-10-09T07:41:35.431Z"
   },
   {
    "duration": 311,
    "start_time": "2023-10-09T07:41:36.751Z"
   },
   {
    "duration": 13,
    "start_time": "2023-10-09T07:41:37.063Z"
   },
   {
    "duration": 20,
    "start_time": "2023-10-09T07:41:37.078Z"
   },
   {
    "duration": 19,
    "start_time": "2023-10-09T07:41:37.101Z"
   },
   {
    "duration": 13,
    "start_time": "2023-10-09T07:41:37.122Z"
   },
   {
    "duration": 6,
    "start_time": "2023-10-09T07:41:37.137Z"
   },
   {
    "duration": 22,
    "start_time": "2023-10-09T07:41:37.144Z"
   },
   {
    "duration": 47,
    "start_time": "2023-10-09T07:41:37.168Z"
   },
   {
    "duration": 30,
    "start_time": "2023-10-09T07:41:37.217Z"
   },
   {
    "duration": 53,
    "start_time": "2023-10-09T07:41:37.249Z"
   },
   {
    "duration": 26,
    "start_time": "2023-10-09T07:41:37.304Z"
   },
   {
    "duration": 14,
    "start_time": "2023-10-09T07:41:37.331Z"
   },
   {
    "duration": 32,
    "start_time": "2023-10-09T07:41:37.348Z"
   },
   {
    "duration": 15,
    "start_time": "2023-10-09T07:41:37.381Z"
   },
   {
    "duration": 13,
    "start_time": "2023-10-09T07:41:37.397Z"
   },
   {
    "duration": 102,
    "start_time": "2023-10-09T07:41:37.412Z"
   },
   {
    "duration": 0,
    "start_time": "2023-10-09T07:41:37.515Z"
   },
   {
    "duration": 0,
    "start_time": "2023-10-09T07:41:37.516Z"
   },
   {
    "duration": 0,
    "start_time": "2023-10-09T07:41:37.517Z"
   },
   {
    "duration": 0,
    "start_time": "2023-10-09T07:41:37.518Z"
   },
   {
    "duration": 0,
    "start_time": "2023-10-09T07:41:37.519Z"
   },
   {
    "duration": 0,
    "start_time": "2023-10-09T07:41:37.520Z"
   },
   {
    "duration": 0,
    "start_time": "2023-10-09T07:41:37.521Z"
   },
   {
    "duration": 0,
    "start_time": "2023-10-09T07:41:37.522Z"
   },
   {
    "duration": 0,
    "start_time": "2023-10-09T07:41:37.523Z"
   },
   {
    "duration": 0,
    "start_time": "2023-10-09T07:41:37.524Z"
   },
   {
    "duration": 0,
    "start_time": "2023-10-09T07:41:37.525Z"
   },
   {
    "duration": 0,
    "start_time": "2023-10-09T07:41:37.544Z"
   },
   {
    "duration": 0,
    "start_time": "2023-10-09T07:41:37.545Z"
   },
   {
    "duration": 0,
    "start_time": "2023-10-09T07:41:37.546Z"
   },
   {
    "duration": 0,
    "start_time": "2023-10-09T07:41:37.548Z"
   },
   {
    "duration": 0,
    "start_time": "2023-10-09T07:41:37.549Z"
   },
   {
    "duration": 0,
    "start_time": "2023-10-09T07:41:37.550Z"
   },
   {
    "duration": 0,
    "start_time": "2023-10-09T07:41:37.551Z"
   },
   {
    "duration": 0,
    "start_time": "2023-10-09T07:41:37.553Z"
   },
   {
    "duration": 0,
    "start_time": "2023-10-09T07:41:37.554Z"
   },
   {
    "duration": 0,
    "start_time": "2023-10-09T07:41:37.555Z"
   },
   {
    "duration": 0,
    "start_time": "2023-10-09T07:41:37.556Z"
   },
   {
    "duration": 0,
    "start_time": "2023-10-09T07:41:37.557Z"
   },
   {
    "duration": 15,
    "start_time": "2023-10-09T07:42:08.607Z"
   },
   {
    "duration": 15,
    "start_time": "2023-10-09T07:42:25.487Z"
   },
   {
    "duration": 11,
    "start_time": "2023-10-09T07:42:32.058Z"
   },
   {
    "duration": 161,
    "start_time": "2023-10-09T07:42:41.886Z"
   },
   {
    "duration": 10,
    "start_time": "2023-10-09T07:43:02.367Z"
   },
   {
    "duration": 11,
    "start_time": "2023-10-09T07:43:12.095Z"
   },
   {
    "duration": 13,
    "start_time": "2023-10-09T07:43:23.975Z"
   },
   {
    "duration": 11,
    "start_time": "2023-10-09T07:44:04.934Z"
   },
   {
    "duration": 11,
    "start_time": "2023-10-09T07:44:28.825Z"
   },
   {
    "duration": 11,
    "start_time": "2023-10-09T07:44:46.713Z"
   },
   {
    "duration": 140,
    "start_time": "2023-10-09T07:44:51.321Z"
   },
   {
    "duration": 111,
    "start_time": "2023-10-09T07:47:35.366Z"
   },
   {
    "duration": 3,
    "start_time": "2023-10-09T07:47:40.896Z"
   },
   {
    "duration": 77,
    "start_time": "2023-10-09T07:48:18.556Z"
   },
   {
    "duration": 121,
    "start_time": "2023-10-09T07:49:24.730Z"
   },
   {
    "duration": 277,
    "start_time": "2023-10-09T07:50:08.258Z"
   },
   {
    "duration": 165,
    "start_time": "2023-10-09T07:50:13.473Z"
   },
   {
    "duration": 198,
    "start_time": "2023-10-09T07:50:14.906Z"
   },
   {
    "duration": 15,
    "start_time": "2023-10-09T07:51:21.978Z"
   },
   {
    "duration": 9,
    "start_time": "2023-10-09T07:52:48.610Z"
   },
   {
    "duration": 15,
    "start_time": "2023-10-09T07:53:01.716Z"
   },
   {
    "duration": 7,
    "start_time": "2023-10-09T07:53:34.689Z"
   },
   {
    "duration": 6,
    "start_time": "2023-10-09T07:53:40.424Z"
   },
   {
    "duration": 5,
    "start_time": "2023-10-09T07:54:03.771Z"
   },
   {
    "duration": 6,
    "start_time": "2023-10-09T07:54:12.987Z"
   },
   {
    "duration": 14,
    "start_time": "2023-10-09T07:57:57.757Z"
   },
   {
    "duration": 8,
    "start_time": "2023-10-09T07:58:15.882Z"
   },
   {
    "duration": 16,
    "start_time": "2023-10-09T07:58:46.602Z"
   },
   {
    "duration": 15,
    "start_time": "2023-10-09T08:00:22.040Z"
   },
   {
    "duration": 9,
    "start_time": "2023-10-09T08:00:22.961Z"
   },
   {
    "duration": 94,
    "start_time": "2023-10-09T08:00:42.008Z"
   },
   {
    "duration": 13,
    "start_time": "2023-10-09T08:01:31.366Z"
   },
   {
    "duration": 14,
    "start_time": "2023-10-09T08:01:32.801Z"
   },
   {
    "duration": 97,
    "start_time": "2023-10-09T08:04:15.310Z"
   },
   {
    "duration": 16,
    "start_time": "2023-10-09T08:04:21.759Z"
   },
   {
    "duration": 17,
    "start_time": "2023-10-09T08:04:24.934Z"
   },
   {
    "duration": 419,
    "start_time": "2023-10-09T08:04:28.313Z"
   },
   {
    "duration": 387,
    "start_time": "2023-10-09T08:04:31.316Z"
   },
   {
    "duration": 115,
    "start_time": "2023-10-09T08:12:17.683Z"
   },
   {
    "duration": 261,
    "start_time": "2023-10-09T08:12:56.118Z"
   },
   {
    "duration": 147,
    "start_time": "2023-10-09T08:13:44.759Z"
   },
   {
    "duration": 168,
    "start_time": "2023-10-09T08:15:11.698Z"
   },
   {
    "duration": 162,
    "start_time": "2023-10-09T08:15:37.811Z"
   },
   {
    "duration": 159,
    "start_time": "2023-10-09T08:15:49.894Z"
   },
   {
    "duration": 18,
    "start_time": "2023-10-09T08:21:36.727Z"
   },
   {
    "duration": 3,
    "start_time": "2023-10-09T08:21:50.448Z"
   },
   {
    "duration": 14,
    "start_time": "2023-10-09T08:25:31.391Z"
   },
   {
    "duration": 23,
    "start_time": "2023-10-09T08:25:41.742Z"
   },
   {
    "duration": 22,
    "start_time": "2023-10-09T08:26:25.273Z"
   },
   {
    "duration": 103,
    "start_time": "2023-10-09T08:27:37.080Z"
   },
   {
    "duration": 1240,
    "start_time": "2023-10-09T12:56:39.540Z"
   },
   {
    "duration": 195,
    "start_time": "2023-10-09T12:56:42.814Z"
   },
   {
    "duration": 13,
    "start_time": "2023-10-09T12:56:43.522Z"
   },
   {
    "duration": 10,
    "start_time": "2023-10-09T12:56:44.135Z"
   },
   {
    "duration": 7,
    "start_time": "2023-10-09T12:56:45.159Z"
   },
   {
    "duration": 9,
    "start_time": "2023-10-09T12:56:45.671Z"
   },
   {
    "duration": 6,
    "start_time": "2023-10-09T12:56:46.695Z"
   },
   {
    "duration": 9,
    "start_time": "2023-10-09T12:56:47.412Z"
   },
   {
    "duration": 7,
    "start_time": "2023-10-09T12:56:50.895Z"
   },
   {
    "duration": 4,
    "start_time": "2023-10-09T12:56:51.858Z"
   },
   {
    "duration": 6,
    "start_time": "2023-10-09T12:56:53.193Z"
   },
   {
    "duration": 6,
    "start_time": "2023-10-09T12:56:54.067Z"
   },
   {
    "duration": 5,
    "start_time": "2023-10-09T12:56:54.579Z"
   },
   {
    "duration": 5,
    "start_time": "2023-10-09T12:56:55.809Z"
   },
   {
    "duration": 5,
    "start_time": "2023-10-09T12:56:56.889Z"
   },
   {
    "duration": 9,
    "start_time": "2023-10-09T12:56:57.379Z"
   },
   {
    "duration": 12,
    "start_time": "2023-10-09T12:57:01.953Z"
   },
   {
    "duration": 143,
    "start_time": "2023-10-09T12:57:03.693Z"
   },
   {
    "duration": 105,
    "start_time": "2023-10-09T12:57:07.379Z"
   },
   {
    "duration": 3,
    "start_time": "2023-10-09T12:57:08.199Z"
   },
   {
    "duration": 238,
    "start_time": "2023-10-09T12:57:10.864Z"
   },
   {
    "duration": 153,
    "start_time": "2023-10-09T12:57:13.352Z"
   },
   {
    "duration": 150,
    "start_time": "2023-10-09T12:57:15.060Z"
   },
   {
    "duration": 14,
    "start_time": "2023-10-09T13:01:56.147Z"
   },
   {
    "duration": 12,
    "start_time": "2023-10-09T13:01:57.376Z"
   },
   {
    "duration": 15,
    "start_time": "2023-10-09T13:01:59.551Z"
   },
   {
    "duration": 15,
    "start_time": "2023-10-09T13:02:00.141Z"
   },
   {
    "duration": 145,
    "start_time": "2023-10-09T13:02:07.309Z"
   },
   {
    "duration": 156,
    "start_time": "2023-10-09T13:02:07.923Z"
   },
   {
    "duration": 3,
    "start_time": "2023-10-09T13:04:52.378Z"
   },
   {
    "duration": 21,
    "start_time": "2023-10-09T13:04:52.995Z"
   },
   {
    "duration": 21,
    "start_time": "2023-10-09T13:05:55.866Z"
   },
   {
    "duration": 7,
    "start_time": "2023-10-09T13:09:50.567Z"
   },
   {
    "duration": 22,
    "start_time": "2023-10-09T13:10:21.594Z"
   },
   {
    "duration": 19,
    "start_time": "2023-10-09T13:10:41.357Z"
   },
   {
    "duration": 3,
    "start_time": "2023-10-09T13:14:20.494Z"
   },
   {
    "duration": 7,
    "start_time": "2023-10-09T13:14:23.327Z"
   },
   {
    "duration": 3,
    "start_time": "2023-10-09T13:15:01.454Z"
   },
   {
    "duration": 2,
    "start_time": "2023-10-09T13:15:07.189Z"
   },
   {
    "duration": 3667,
    "start_time": "2023-10-09T13:15:08.008Z"
   },
   {
    "duration": 3174,
    "start_time": "2023-10-09T13:15:23.675Z"
   },
   {
    "duration": 3,
    "start_time": "2023-10-09T13:15:53.781Z"
   },
   {
    "duration": 93,
    "start_time": "2023-10-09T13:15:54.600Z"
   },
   {
    "duration": 2,
    "start_time": "2023-10-09T13:16:11.990Z"
   },
   {
    "duration": 789,
    "start_time": "2023-10-09T13:16:13.032Z"
   },
   {
    "duration": 3,
    "start_time": "2023-10-09T13:16:22.044Z"
   },
   {
    "duration": 3430,
    "start_time": "2023-10-09T13:16:22.761Z"
   },
   {
    "duration": 1796,
    "start_time": "2023-10-09T13:20:59.570Z"
   },
   {
    "duration": 1503,
    "start_time": "2023-10-09T13:21:50.237Z"
   },
   {
    "duration": 23147,
    "start_time": "2023-10-09T13:22:05.904Z"
   },
   {
    "duration": 9073,
    "start_time": "2023-10-09T13:23:02.224Z"
   },
   {
    "duration": 8294,
    "start_time": "2023-10-09T13:25:02.443Z"
   },
   {
    "duration": 15924,
    "start_time": "2023-10-09T13:25:22.616Z"
   },
   {
    "duration": 11340,
    "start_time": "2023-10-09T13:26:03.289Z"
   },
   {
    "duration": 206,
    "start_time": "2023-10-09T13:35:21.045Z"
   },
   {
    "duration": 600,
    "start_time": "2023-10-09T13:35:48.261Z"
   },
   {
    "duration": 912,
    "start_time": "2023-10-09T13:36:29.347Z"
   },
   {
    "duration": 1192,
    "start_time": "2023-10-09T13:36:43.682Z"
   },
   {
    "duration": 3154,
    "start_time": "2023-10-09T13:36:49.110Z"
   },
   {
    "duration": 312,
    "start_time": "2023-10-09T13:37:09.488Z"
   },
   {
    "duration": 637,
    "start_time": "2023-10-09T13:37:25.462Z"
   },
   {
    "duration": 11778,
    "start_time": "2023-10-09T13:50:57.018Z"
   },
   {
    "duration": 1722,
    "start_time": "2023-10-09T13:52:10.612Z"
   },
   {
    "duration": 972,
    "start_time": "2023-10-09T13:53:39.102Z"
   },
   {
    "duration": 68,
    "start_time": "2023-10-09T13:53:40.076Z"
   },
   {
    "duration": 15,
    "start_time": "2023-10-09T13:53:40.147Z"
   },
   {
    "duration": 9,
    "start_time": "2023-10-09T13:53:40.164Z"
   },
   {
    "duration": 36,
    "start_time": "2023-10-09T13:53:40.175Z"
   },
   {
    "duration": 13,
    "start_time": "2023-10-09T13:53:40.212Z"
   },
   {
    "duration": 5,
    "start_time": "2023-10-09T13:53:40.227Z"
   },
   {
    "duration": 16,
    "start_time": "2023-10-09T13:53:40.233Z"
   },
   {
    "duration": 15,
    "start_time": "2023-10-09T13:53:40.251Z"
   },
   {
    "duration": 11,
    "start_time": "2023-10-09T13:53:40.268Z"
   },
   {
    "duration": 16,
    "start_time": "2023-10-09T13:53:40.280Z"
   },
   {
    "duration": 6,
    "start_time": "2023-10-09T13:53:40.297Z"
   },
   {
    "duration": 4,
    "start_time": "2023-10-09T13:53:40.304Z"
   },
   {
    "duration": 6,
    "start_time": "2023-10-09T13:53:40.309Z"
   },
   {
    "duration": 8,
    "start_time": "2023-10-09T13:53:40.316Z"
   },
   {
    "duration": 12,
    "start_time": "2023-10-09T13:53:40.325Z"
   },
   {
    "duration": 17,
    "start_time": "2023-10-09T13:53:40.338Z"
   },
   {
    "duration": 162,
    "start_time": "2023-10-09T13:53:40.357Z"
   },
   {
    "duration": 111,
    "start_time": "2023-10-09T13:53:40.521Z"
   },
   {
    "duration": 3,
    "start_time": "2023-10-09T13:53:40.634Z"
   },
   {
    "duration": 255,
    "start_time": "2023-10-09T13:53:40.640Z"
   },
   {
    "duration": 149,
    "start_time": "2023-10-09T13:53:40.896Z"
   },
   {
    "duration": 171,
    "start_time": "2023-10-09T13:53:41.046Z"
   },
   {
    "duration": 21,
    "start_time": "2023-10-09T13:53:41.218Z"
   },
   {
    "duration": 18,
    "start_time": "2023-10-09T13:53:41.241Z"
   },
   {
    "duration": 14,
    "start_time": "2023-10-09T13:53:41.261Z"
   },
   {
    "duration": 13,
    "start_time": "2023-10-09T13:53:41.277Z"
   },
   {
    "duration": 172,
    "start_time": "2023-10-09T13:53:41.293Z"
   },
   {
    "duration": 166,
    "start_time": "2023-10-09T13:53:41.466Z"
   },
   {
    "duration": 3,
    "start_time": "2023-10-09T13:53:41.633Z"
   },
   {
    "duration": 6,
    "start_time": "2023-10-09T13:53:41.639Z"
   },
   {
    "duration": 3370,
    "start_time": "2023-10-09T13:53:41.647Z"
   },
   {
    "duration": 12327,
    "start_time": "2023-10-09T13:53:45.019Z"
   },
   {
    "duration": 6,
    "start_time": "2023-10-09T13:53:57.348Z"
   },
   {
    "duration": 10,
    "start_time": "2023-10-09T13:53:57.357Z"
   },
   {
    "duration": 32,
    "start_time": "2023-10-09T13:53:57.368Z"
   },
   {
    "duration": 1407,
    "start_time": "2023-10-09T13:53:57.401Z"
   },
   {
    "duration": 0,
    "start_time": "2023-10-09T13:53:58.809Z"
   },
   {
    "duration": 0,
    "start_time": "2023-10-09T13:53:58.810Z"
   },
   {
    "duration": 0,
    "start_time": "2023-10-09T13:53:58.811Z"
   },
   {
    "duration": 0,
    "start_time": "2023-10-09T13:53:58.812Z"
   },
   {
    "duration": 15,
    "start_time": "2023-10-09T13:56:55.286Z"
   },
   {
    "duration": 7,
    "start_time": "2023-10-09T13:57:48.841Z"
   },
   {
    "duration": 992,
    "start_time": "2023-10-09T14:00:18.465Z"
   },
   {
    "duration": 65,
    "start_time": "2023-10-09T14:00:19.459Z"
   },
   {
    "duration": 10,
    "start_time": "2023-10-09T14:00:19.526Z"
   },
   {
    "duration": 26,
    "start_time": "2023-10-09T14:00:19.537Z"
   },
   {
    "duration": 22,
    "start_time": "2023-10-09T14:00:19.565Z"
   },
   {
    "duration": 44,
    "start_time": "2023-10-09T14:00:19.588Z"
   },
   {
    "duration": 17,
    "start_time": "2023-10-09T14:00:19.633Z"
   },
   {
    "duration": 38,
    "start_time": "2023-10-09T14:00:19.651Z"
   },
   {
    "duration": 31,
    "start_time": "2023-10-09T14:00:19.690Z"
   },
   {
    "duration": 12,
    "start_time": "2023-10-09T14:00:19.722Z"
   },
   {
    "duration": 24,
    "start_time": "2023-10-09T14:00:19.735Z"
   },
   {
    "duration": 22,
    "start_time": "2023-10-09T14:00:19.762Z"
   },
   {
    "duration": 49,
    "start_time": "2023-10-09T14:00:19.785Z"
   },
   {
    "duration": 33,
    "start_time": "2023-10-09T14:00:19.837Z"
   },
   {
    "duration": 14,
    "start_time": "2023-10-09T14:00:19.871Z"
   },
   {
    "duration": 7,
    "start_time": "2023-10-09T14:00:19.886Z"
   },
   {
    "duration": 19,
    "start_time": "2023-10-09T14:00:19.894Z"
   },
   {
    "duration": 157,
    "start_time": "2023-10-09T14:00:19.914Z"
   },
   {
    "duration": 116,
    "start_time": "2023-10-09T14:00:20.072Z"
   },
   {
    "duration": 3,
    "start_time": "2023-10-09T14:00:20.189Z"
   },
   {
    "duration": 264,
    "start_time": "2023-10-09T14:00:20.193Z"
   },
   {
    "duration": 156,
    "start_time": "2023-10-09T14:00:20.459Z"
   },
   {
    "duration": 162,
    "start_time": "2023-10-09T14:00:20.616Z"
   },
   {
    "duration": 14,
    "start_time": "2023-10-09T14:00:20.779Z"
   },
   {
    "duration": 22,
    "start_time": "2023-10-09T14:00:20.795Z"
   },
   {
    "duration": 34,
    "start_time": "2023-10-09T14:00:20.818Z"
   },
   {
    "duration": 69,
    "start_time": "2023-10-09T14:00:20.853Z"
   },
   {
    "duration": 166,
    "start_time": "2023-10-09T14:00:20.923Z"
   },
   {
    "duration": 152,
    "start_time": "2023-10-09T14:00:21.090Z"
   },
   {
    "duration": 3,
    "start_time": "2023-10-09T14:00:21.244Z"
   },
   {
    "duration": 48,
    "start_time": "2023-10-09T14:00:21.248Z"
   },
   {
    "duration": 3283,
    "start_time": "2023-10-09T14:00:21.297Z"
   },
   {
    "duration": 11264,
    "start_time": "2023-10-09T14:00:24.582Z"
   },
   {
    "duration": 5,
    "start_time": "2023-10-09T14:00:35.847Z"
   },
   {
    "duration": 42,
    "start_time": "2023-10-09T14:00:35.853Z"
   },
   {
    "duration": 12,
    "start_time": "2023-10-09T14:00:35.896Z"
   },
   {
    "duration": 1648,
    "start_time": "2023-10-09T14:00:35.909Z"
   },
   {
    "duration": 422,
    "start_time": "2023-10-09T14:00:37.559Z"
   },
   {
    "duration": 95,
    "start_time": "2023-10-09T14:00:37.982Z"
   },
   {
    "duration": 0,
    "start_time": "2023-10-09T14:00:38.078Z"
   },
   {
    "duration": 118,
    "start_time": "2023-10-09T14:03:14.984Z"
   },
   {
    "duration": 113,
    "start_time": "2023-10-09T14:03:29.630Z"
   },
   {
    "duration": 983,
    "start_time": "2023-10-09T14:03:56.679Z"
   },
   {
    "duration": 64,
    "start_time": "2023-10-09T14:03:57.664Z"
   },
   {
    "duration": 12,
    "start_time": "2023-10-09T14:03:57.729Z"
   },
   {
    "duration": 11,
    "start_time": "2023-10-09T14:03:57.743Z"
   },
   {
    "duration": 10,
    "start_time": "2023-10-09T14:03:57.755Z"
   },
   {
    "duration": 12,
    "start_time": "2023-10-09T14:03:57.766Z"
   },
   {
    "duration": 5,
    "start_time": "2023-10-09T14:03:57.780Z"
   },
   {
    "duration": 9,
    "start_time": "2023-10-09T14:03:57.786Z"
   },
   {
    "duration": 7,
    "start_time": "2023-10-09T14:03:57.796Z"
   },
   {
    "duration": 3,
    "start_time": "2023-10-09T14:03:57.805Z"
   },
   {
    "duration": 32,
    "start_time": "2023-10-09T14:03:57.810Z"
   },
   {
    "duration": 5,
    "start_time": "2023-10-09T14:03:57.843Z"
   },
   {
    "duration": 10,
    "start_time": "2023-10-09T14:03:57.849Z"
   },
   {
    "duration": 15,
    "start_time": "2023-10-09T14:03:57.860Z"
   },
   {
    "duration": 4,
    "start_time": "2023-10-09T14:03:57.876Z"
   },
   {
    "duration": 19,
    "start_time": "2023-10-09T14:03:57.881Z"
   },
   {
    "duration": 20,
    "start_time": "2023-10-09T14:03:57.901Z"
   },
   {
    "duration": 146,
    "start_time": "2023-10-09T14:03:57.922Z"
   },
   {
    "duration": 107,
    "start_time": "2023-10-09T14:03:58.069Z"
   },
   {
    "duration": 4,
    "start_time": "2023-10-09T14:03:58.178Z"
   },
   {
    "duration": 245,
    "start_time": "2023-10-09T14:03:58.183Z"
   },
   {
    "duration": 151,
    "start_time": "2023-10-09T14:03:58.430Z"
   },
   {
    "duration": 159,
    "start_time": "2023-10-09T14:03:58.582Z"
   },
   {
    "duration": 14,
    "start_time": "2023-10-09T14:03:58.742Z"
   },
   {
    "duration": 12,
    "start_time": "2023-10-09T14:03:58.757Z"
   },
   {
    "duration": 13,
    "start_time": "2023-10-09T14:03:58.770Z"
   },
   {
    "duration": 13,
    "start_time": "2023-10-09T14:03:58.785Z"
   },
   {
    "duration": 166,
    "start_time": "2023-10-09T14:03:58.801Z"
   },
   {
    "duration": 145,
    "start_time": "2023-10-09T14:03:58.968Z"
   },
   {
    "duration": 3,
    "start_time": "2023-10-09T14:03:59.114Z"
   },
   {
    "duration": 43,
    "start_time": "2023-10-09T14:03:59.118Z"
   },
   {
    "duration": 3067,
    "start_time": "2023-10-09T14:03:59.163Z"
   },
   {
    "duration": 11447,
    "start_time": "2023-10-09T14:04:02.231Z"
   },
   {
    "duration": 6,
    "start_time": "2023-10-09T14:04:13.679Z"
   },
   {
    "duration": 15,
    "start_time": "2023-10-09T14:04:13.686Z"
   },
   {
    "duration": 20,
    "start_time": "2023-10-09T14:04:13.703Z"
   },
   {
    "duration": 1677,
    "start_time": "2023-10-09T14:04:13.725Z"
   },
   {
    "duration": 422,
    "start_time": "2023-10-09T14:04:15.404Z"
   },
   {
    "duration": 125,
    "start_time": "2023-10-09T14:04:15.828Z"
   },
   {
    "duration": 5,
    "start_time": "2023-10-09T14:04:15.954Z"
   }
  ],
  "kernelspec": {
   "display_name": "Python 3 (ipykernel)",
   "language": "python",
   "name": "python3"
  },
  "language_info": {
   "codemirror_mode": {
    "name": "ipython",
    "version": 3
   },
   "file_extension": ".py",
   "mimetype": "text/x-python",
   "name": "python",
   "nbconvert_exporter": "python",
   "pygments_lexer": "ipython3",
   "version": "3.10.9"
  },
  "toc": {
   "base_numbering": 1,
   "nav_menu": {},
   "number_sections": true,
   "sideBar": true,
   "skip_h1_title": true,
   "title_cell": "Table of Contents",
   "title_sidebar": "Contents",
   "toc_cell": false,
   "toc_position": {},
   "toc_section_display": true,
   "toc_window_display": true
  }
 },
 "nbformat": 4,
 "nbformat_minor": 5
}
