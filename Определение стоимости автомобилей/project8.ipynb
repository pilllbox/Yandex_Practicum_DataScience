{
 "cells": [
  {
   "cell_type": "markdown",
   "metadata": {},
   "source": [
    "# Определение стоимости автомобилей"
   ]
  },
  {
   "cell_type": "markdown",
   "metadata": {},
   "source": [
    "Сервис по продаже автомобилей с пробегом «Не бит, не крашен» разрабатывает приложение для привлечения новых клиентов. В нём можно быстро узнать рыночную стоимость своего автомобиля. В вашем распоряжении исторические данные: технические характеристики, комплектации и цены автомобилей. \n",
    "\n",
    "**Цель:** Построить модель для определения стоимости авомобилей.\n",
    "\n",
    "Заказчику важны:\n",
    "\n",
    "- качество предсказания;\n",
    "- скорость предсказания;\n",
    "- время обучения.\n",
    "\n",
    "**Задачи:** Изучить данные, подготовить выборки, Обучить несколько моделей, проанализировать их и выбрать лучшую.\n",
    "\n",
    "**Описание данных**: В датасете `autos.csv` 15 признаков и 1 целевой признак.\n",
    "\n",
    "Признаки:\n",
    "\n",
    "- `DateCrawled` — дата скачивания анкеты из базы\n",
    "- `VehicleType` — тип автомобильного кузова\n",
    "- `RegistrationYear` — год регистрации автомобиля\n",
    "- `Gearbox` — тип коробки передач\n",
    "- `Power` — мощность (л. с.)\n",
    "- `Model` — модель автомобиля\n",
    "- `Kilometer` — пробег (км)\n",
    "- `RegistrationMonth` — месяц регистрации автомобиля\n",
    "- `FuelType` — тип топлива\n",
    "- `Brand` — марка автомобиля\n",
    "- `Repaired` — была машина в ремонте или нет\n",
    "- `DateCreated` — дата создания анкеты\n",
    "- `NumberOfPictures` — количество фотографий автомобиля\n",
    "- `PostalCode` — почтовый индекс владельца анкеты (пользователя)\n",
    "- `LastSeen` — дата последней активности пользователя\n",
    "\n",
    "Целевой признак:\n",
    "\n",
    "- `Price` — цена (евро)\n",
    "\n",
    "**План работы:**\n",
    "1. Загрузка данных\n",
    "2. Предобработка данных\n",
    "3. Подготовка данных для обучения\n",
    "4. Обучение моделей\n",
    "5. Анализ моделей"
   ]
  },
  {
   "cell_type": "code",
   "execution_count": 1,
   "metadata": {},
   "outputs": [],
   "source": [
    "!pip install -q feature-engine"
   ]
  },
  {
   "cell_type": "code",
   "execution_count": 2,
   "metadata": {},
   "outputs": [],
   "source": [
    "import pandas as pd\n",
    "import numpy as np\n",
    "import matplotlib.pyplot as plt\n",
    "\n",
    "from sklearn.preprocessing import (OneHotEncoder,\n",
    "                                   OrdinalEncoder,\n",
    "                                   StandardScaler,\n",
    "                                   MinMaxScaler)\n",
    "from sklearn.pipeline import Pipeline\n",
    "from sklearn.model_selection import cross_val_score\n",
    "from sklearn.tree import DecisionTreeRegressor\n",
    "from sklearn.linear_model import LinearRegression\n",
    "from feature_engine.encoding import CountFrequencyEncoder\n",
    "from lightgbm import LGBMRegressor\n",
    "from sklearn.model_selection import train_test_split\n",
    "from sklearn.model_selection import GridSearchCV\n",
    "from sklearn.metrics import make_scorer, mean_squared_error\n",
    "from time import time\n",
    "import warnings\n",
    "\n",
    "\n",
    "warnings.filterwarnings('ignore')\n",
    "RANDOM_STATE = 42"
   ]
  },
  {
   "cell_type": "markdown",
   "metadata": {},
   "source": [
    "## Подготовка данных"
   ]
  },
  {
   "cell_type": "markdown",
   "metadata": {},
   "source": [
    "### Загрузка данных"
   ]
  },
  {
   "cell_type": "code",
   "execution_count": 3,
   "metadata": {},
   "outputs": [],
   "source": [
    "autos = pd.read_csv('/datasets/autos.csv', parse_dates=['DateCrawled','DateCreated'])"
   ]
  },
  {
   "cell_type": "code",
   "execution_count": 4,
   "metadata": {},
   "outputs": [
    {
     "data": {
      "text/html": [
       "<div>\n",
       "<style scoped>\n",
       "    .dataframe tbody tr th:only-of-type {\n",
       "        vertical-align: middle;\n",
       "    }\n",
       "\n",
       "    .dataframe tbody tr th {\n",
       "        vertical-align: top;\n",
       "    }\n",
       "\n",
       "    .dataframe thead th {\n",
       "        text-align: right;\n",
       "    }\n",
       "</style>\n",
       "<table border=\"1\" class=\"dataframe\">\n",
       "  <thead>\n",
       "    <tr style=\"text-align: right;\">\n",
       "      <th></th>\n",
       "      <th>DateCrawled</th>\n",
       "      <th>Price</th>\n",
       "      <th>VehicleType</th>\n",
       "      <th>RegistrationYear</th>\n",
       "      <th>Gearbox</th>\n",
       "      <th>Power</th>\n",
       "      <th>Model</th>\n",
       "      <th>Kilometer</th>\n",
       "      <th>RegistrationMonth</th>\n",
       "      <th>FuelType</th>\n",
       "      <th>Brand</th>\n",
       "      <th>Repaired</th>\n",
       "      <th>DateCreated</th>\n",
       "      <th>NumberOfPictures</th>\n",
       "      <th>PostalCode</th>\n",
       "      <th>LastSeen</th>\n",
       "    </tr>\n",
       "  </thead>\n",
       "  <tbody>\n",
       "    <tr>\n",
       "      <th>0</th>\n",
       "      <td>2016-03-24 11:52:17</td>\n",
       "      <td>480</td>\n",
       "      <td>NaN</td>\n",
       "      <td>1993</td>\n",
       "      <td>manual</td>\n",
       "      <td>0</td>\n",
       "      <td>golf</td>\n",
       "      <td>150000</td>\n",
       "      <td>0</td>\n",
       "      <td>petrol</td>\n",
       "      <td>volkswagen</td>\n",
       "      <td>NaN</td>\n",
       "      <td>2016-03-24</td>\n",
       "      <td>0</td>\n",
       "      <td>70435</td>\n",
       "      <td>2016-04-07 03:16:57</td>\n",
       "    </tr>\n",
       "    <tr>\n",
       "      <th>1</th>\n",
       "      <td>2016-03-24 10:58:45</td>\n",
       "      <td>18300</td>\n",
       "      <td>coupe</td>\n",
       "      <td>2011</td>\n",
       "      <td>manual</td>\n",
       "      <td>190</td>\n",
       "      <td>NaN</td>\n",
       "      <td>125000</td>\n",
       "      <td>5</td>\n",
       "      <td>gasoline</td>\n",
       "      <td>audi</td>\n",
       "      <td>yes</td>\n",
       "      <td>2016-03-24</td>\n",
       "      <td>0</td>\n",
       "      <td>66954</td>\n",
       "      <td>2016-04-07 01:46:50</td>\n",
       "    </tr>\n",
       "    <tr>\n",
       "      <th>2</th>\n",
       "      <td>2016-03-14 12:52:21</td>\n",
       "      <td>9800</td>\n",
       "      <td>suv</td>\n",
       "      <td>2004</td>\n",
       "      <td>auto</td>\n",
       "      <td>163</td>\n",
       "      <td>grand</td>\n",
       "      <td>125000</td>\n",
       "      <td>8</td>\n",
       "      <td>gasoline</td>\n",
       "      <td>jeep</td>\n",
       "      <td>NaN</td>\n",
       "      <td>2016-03-14</td>\n",
       "      <td>0</td>\n",
       "      <td>90480</td>\n",
       "      <td>2016-04-05 12:47:46</td>\n",
       "    </tr>\n",
       "    <tr>\n",
       "      <th>3</th>\n",
       "      <td>2016-03-17 16:54:04</td>\n",
       "      <td>1500</td>\n",
       "      <td>small</td>\n",
       "      <td>2001</td>\n",
       "      <td>manual</td>\n",
       "      <td>75</td>\n",
       "      <td>golf</td>\n",
       "      <td>150000</td>\n",
       "      <td>6</td>\n",
       "      <td>petrol</td>\n",
       "      <td>volkswagen</td>\n",
       "      <td>no</td>\n",
       "      <td>2016-03-17</td>\n",
       "      <td>0</td>\n",
       "      <td>91074</td>\n",
       "      <td>2016-03-17 17:40:17</td>\n",
       "    </tr>\n",
       "    <tr>\n",
       "      <th>4</th>\n",
       "      <td>2016-03-31 17:25:20</td>\n",
       "      <td>3600</td>\n",
       "      <td>small</td>\n",
       "      <td>2008</td>\n",
       "      <td>manual</td>\n",
       "      <td>69</td>\n",
       "      <td>fabia</td>\n",
       "      <td>90000</td>\n",
       "      <td>7</td>\n",
       "      <td>gasoline</td>\n",
       "      <td>skoda</td>\n",
       "      <td>no</td>\n",
       "      <td>2016-03-31</td>\n",
       "      <td>0</td>\n",
       "      <td>60437</td>\n",
       "      <td>2016-04-06 10:17:21</td>\n",
       "    </tr>\n",
       "  </tbody>\n",
       "</table>\n",
       "</div>"
      ],
      "text/plain": [
       "          DateCrawled  Price VehicleType  RegistrationYear Gearbox  Power  \\\n",
       "0 2016-03-24 11:52:17    480         NaN              1993  manual      0   \n",
       "1 2016-03-24 10:58:45  18300       coupe              2011  manual    190   \n",
       "2 2016-03-14 12:52:21   9800         suv              2004    auto    163   \n",
       "3 2016-03-17 16:54:04   1500       small              2001  manual     75   \n",
       "4 2016-03-31 17:25:20   3600       small              2008  manual     69   \n",
       "\n",
       "   Model  Kilometer  RegistrationMonth  FuelType       Brand Repaired  \\\n",
       "0   golf     150000                  0    petrol  volkswagen      NaN   \n",
       "1    NaN     125000                  5  gasoline        audi      yes   \n",
       "2  grand     125000                  8  gasoline        jeep      NaN   \n",
       "3   golf     150000                  6    petrol  volkswagen       no   \n",
       "4  fabia      90000                  7  gasoline       skoda       no   \n",
       "\n",
       "  DateCreated  NumberOfPictures  PostalCode             LastSeen  \n",
       "0  2016-03-24                 0       70435  2016-04-07 03:16:57  \n",
       "1  2016-03-24                 0       66954  2016-04-07 01:46:50  \n",
       "2  2016-03-14                 0       90480  2016-04-05 12:47:46  \n",
       "3  2016-03-17                 0       91074  2016-03-17 17:40:17  \n",
       "4  2016-03-31                 0       60437  2016-04-06 10:17:21  "
      ]
     },
     "execution_count": 4,
     "metadata": {},
     "output_type": "execute_result"
    }
   ],
   "source": [
    "autos.head()"
   ]
  },
  {
   "cell_type": "code",
   "execution_count": 5,
   "metadata": {},
   "outputs": [
    {
     "name": "stdout",
     "output_type": "stream",
     "text": [
      "<class 'pandas.core.frame.DataFrame'>\n",
      "RangeIndex: 354369 entries, 0 to 354368\n",
      "Data columns (total 16 columns):\n",
      " #   Column             Non-Null Count   Dtype         \n",
      "---  ------             --------------   -----         \n",
      " 0   DateCrawled        354369 non-null  datetime64[ns]\n",
      " 1   Price              354369 non-null  int64         \n",
      " 2   VehicleType        316879 non-null  object        \n",
      " 3   RegistrationYear   354369 non-null  int64         \n",
      " 4   Gearbox            334536 non-null  object        \n",
      " 5   Power              354369 non-null  int64         \n",
      " 6   Model              334664 non-null  object        \n",
      " 7   Kilometer          354369 non-null  int64         \n",
      " 8   RegistrationMonth  354369 non-null  int64         \n",
      " 9   FuelType           321474 non-null  object        \n",
      " 10  Brand              354369 non-null  object        \n",
      " 11  Repaired           283215 non-null  object        \n",
      " 12  DateCreated        354369 non-null  datetime64[ns]\n",
      " 13  NumberOfPictures   354369 non-null  int64         \n",
      " 14  PostalCode         354369 non-null  int64         \n",
      " 15  LastSeen           354369 non-null  object        \n",
      "dtypes: datetime64[ns](2), int64(7), object(7)\n",
      "memory usage: 43.3+ MB\n"
     ]
    }
   ],
   "source": [
    "autos.info()"
   ]
  },
  {
   "cell_type": "markdown",
   "metadata": {},
   "source": [
    "**Вывод:** В данных 354369 записей. Во многих столбцах присутствуют пропуски. Типы данных совпадают с действительными."
   ]
  },
  {
   "cell_type": "markdown",
   "metadata": {},
   "source": [
    "### Предобработка данных"
   ]
  },
  {
   "cell_type": "markdown",
   "metadata": {},
   "source": [
    "#### Дубликаты"
   ]
  },
  {
   "cell_type": "markdown",
   "metadata": {},
   "source": [
    "Проверим данные на наличие полных дублей и удалим их."
   ]
  },
  {
   "cell_type": "code",
   "execution_count": 6,
   "metadata": {},
   "outputs": [
    {
     "data": {
      "text/plain": [
       "4"
      ]
     },
     "execution_count": 6,
     "metadata": {},
     "output_type": "execute_result"
    }
   ],
   "source": [
    "autos.duplicated().sum()"
   ]
  },
  {
   "cell_type": "code",
   "execution_count": 7,
   "metadata": {},
   "outputs": [
    {
     "data": {
      "text/plain": [
       "0"
      ]
     },
     "execution_count": 7,
     "metadata": {},
     "output_type": "execute_result"
    }
   ],
   "source": [
    "autos = autos.drop_duplicates()\n",
    "autos.duplicated().sum()"
   ]
  },
  {
   "cell_type": "markdown",
   "metadata": {},
   "source": [
    "#### Удаление столбцов"
   ]
  },
  {
   "cell_type": "markdown",
   "metadata": {},
   "source": [
    "Столбцы `DateCrawled`, `DateCreated`, `NumberOfPictures`, `PostalCode`, `LastSeen` не влияют на цену автомобилей, эти столбцы можно удалить. Также удалим `RegistrationMonth`, так как он не содержит ценной информации, для предсказаний будет достаточно года регистрации."
   ]
  },
  {
   "cell_type": "code",
   "execution_count": 8,
   "metadata": {},
   "outputs": [
    {
     "data": {
      "text/html": [
       "<div>\n",
       "<style scoped>\n",
       "    .dataframe tbody tr th:only-of-type {\n",
       "        vertical-align: middle;\n",
       "    }\n",
       "\n",
       "    .dataframe tbody tr th {\n",
       "        vertical-align: top;\n",
       "    }\n",
       "\n",
       "    .dataframe thead th {\n",
       "        text-align: right;\n",
       "    }\n",
       "</style>\n",
       "<table border=\"1\" class=\"dataframe\">\n",
       "  <thead>\n",
       "    <tr style=\"text-align: right;\">\n",
       "      <th></th>\n",
       "      <th>Price</th>\n",
       "      <th>VehicleType</th>\n",
       "      <th>RegistrationYear</th>\n",
       "      <th>Gearbox</th>\n",
       "      <th>Power</th>\n",
       "      <th>Model</th>\n",
       "      <th>Kilometer</th>\n",
       "      <th>FuelType</th>\n",
       "      <th>Brand</th>\n",
       "      <th>Repaired</th>\n",
       "    </tr>\n",
       "  </thead>\n",
       "  <tbody>\n",
       "    <tr>\n",
       "      <th>0</th>\n",
       "      <td>480</td>\n",
       "      <td>NaN</td>\n",
       "      <td>1993</td>\n",
       "      <td>manual</td>\n",
       "      <td>0</td>\n",
       "      <td>golf</td>\n",
       "      <td>150000</td>\n",
       "      <td>petrol</td>\n",
       "      <td>volkswagen</td>\n",
       "      <td>NaN</td>\n",
       "    </tr>\n",
       "    <tr>\n",
       "      <th>1</th>\n",
       "      <td>18300</td>\n",
       "      <td>coupe</td>\n",
       "      <td>2011</td>\n",
       "      <td>manual</td>\n",
       "      <td>190</td>\n",
       "      <td>NaN</td>\n",
       "      <td>125000</td>\n",
       "      <td>gasoline</td>\n",
       "      <td>audi</td>\n",
       "      <td>yes</td>\n",
       "    </tr>\n",
       "    <tr>\n",
       "      <th>2</th>\n",
       "      <td>9800</td>\n",
       "      <td>suv</td>\n",
       "      <td>2004</td>\n",
       "      <td>auto</td>\n",
       "      <td>163</td>\n",
       "      <td>grand</td>\n",
       "      <td>125000</td>\n",
       "      <td>gasoline</td>\n",
       "      <td>jeep</td>\n",
       "      <td>NaN</td>\n",
       "    </tr>\n",
       "    <tr>\n",
       "      <th>3</th>\n",
       "      <td>1500</td>\n",
       "      <td>small</td>\n",
       "      <td>2001</td>\n",
       "      <td>manual</td>\n",
       "      <td>75</td>\n",
       "      <td>golf</td>\n",
       "      <td>150000</td>\n",
       "      <td>petrol</td>\n",
       "      <td>volkswagen</td>\n",
       "      <td>no</td>\n",
       "    </tr>\n",
       "    <tr>\n",
       "      <th>4</th>\n",
       "      <td>3600</td>\n",
       "      <td>small</td>\n",
       "      <td>2008</td>\n",
       "      <td>manual</td>\n",
       "      <td>69</td>\n",
       "      <td>fabia</td>\n",
       "      <td>90000</td>\n",
       "      <td>gasoline</td>\n",
       "      <td>skoda</td>\n",
       "      <td>no</td>\n",
       "    </tr>\n",
       "  </tbody>\n",
       "</table>\n",
       "</div>"
      ],
      "text/plain": [
       "   Price VehicleType  RegistrationYear Gearbox  Power  Model  Kilometer  \\\n",
       "0    480         NaN              1993  manual      0   golf     150000   \n",
       "1  18300       coupe              2011  manual    190    NaN     125000   \n",
       "2   9800         suv              2004    auto    163  grand     125000   \n",
       "3   1500       small              2001  manual     75   golf     150000   \n",
       "4   3600       small              2008  manual     69  fabia      90000   \n",
       "\n",
       "   FuelType       Brand Repaired  \n",
       "0    petrol  volkswagen      NaN  \n",
       "1  gasoline        audi      yes  \n",
       "2  gasoline        jeep      NaN  \n",
       "3    petrol  volkswagen       no  \n",
       "4  gasoline       skoda       no  "
      ]
     },
     "execution_count": 8,
     "metadata": {},
     "output_type": "execute_result"
    }
   ],
   "source": [
    "del_col = ['DateCrawled', 'DateCreated', 'NumberOfPictures', 'PostalCode', 'LastSeen','RegistrationMonth']\n",
    "autos = autos.drop(del_col, axis=1)\n",
    "\n",
    "autos.head()"
   ]
  },
  {
   "cell_type": "markdown",
   "metadata": {},
   "source": [
    "Проверим наличие явных дубликатов после удаления признаков и удалим их."
   ]
  },
  {
   "cell_type": "code",
   "execution_count": 9,
   "metadata": {},
   "outputs": [
    {
     "data": {
      "text/plain": [
       "45036"
      ]
     },
     "execution_count": 9,
     "metadata": {},
     "output_type": "execute_result"
    }
   ],
   "source": [
    "autos.duplicated().sum()"
   ]
  },
  {
   "cell_type": "code",
   "execution_count": 10,
   "metadata": {},
   "outputs": [
    {
     "data": {
      "text/plain": [
       "0"
      ]
     },
     "execution_count": 10,
     "metadata": {},
     "output_type": "execute_result"
    }
   ],
   "source": [
    "autos = autos.drop_duplicates()\n",
    "autos.duplicated().sum()"
   ]
  },
  {
   "cell_type": "markdown",
   "metadata": {},
   "source": [
    "#### Обработка пропусков"
   ]
  },
  {
   "cell_type": "code",
   "execution_count": 11,
   "metadata": {},
   "outputs": [
    {
     "name": "stdout",
     "output_type": "stream",
     "text": [
      "VehicleType ['bus', 'convertible', 'coupe', 'nan', 'other', 'sedan', 'small', 'suv', 'wagon']\n",
      "Gearbox ['auto', 'manual', 'nan']\n",
      "Model ['100', '145', '147', '156', '159', '1_reihe', '1er', '200', '2_reihe', '300c', '3_reihe', '3er', '4_reihe', '500', '5_reihe', '5er', '601', '6_reihe', '6er', '7er', '80', '850', '90', '900', '9000', '911', 'a1', 'a2', 'a3', 'a4', 'a5', 'a6', 'a8', 'a_klasse', 'accord', 'agila', 'alhambra', 'almera', 'altea', 'amarok', 'antara', 'arosa', 'astra', 'auris', 'avensis', 'aveo', 'aygo', 'b_klasse', 'b_max', 'beetle', 'berlingo', 'bora', 'boxster', 'bravo', 'c1', 'c2', 'c3', 'c4', 'c5', 'c_klasse', 'c_max', 'c_reihe', 'caddy', 'calibra', 'captiva', 'carisma', 'carnival', 'cayenne', 'cc', 'ceed', 'charade', 'cherokee', 'citigo', 'civic', 'cl', 'clio', 'clk', 'clubman', 'colt', 'combo', 'cooper', 'cordoba', 'corolla', 'corsa', 'cr_reihe', 'croma', 'crossfire', 'cuore', 'cx_reihe', 'defender', 'delta', 'discovery', 'doblo', 'ducato', 'duster', 'e_klasse', 'elefantino', 'eos', 'escort', 'espace', 'exeo', 'fabia', 'fiesta', 'focus', 'forester', 'forfour', 'fortwo', 'fox', 'freelander', 'fusion', 'g_klasse', 'galant', 'galaxy', 'getz', 'gl', 'glk', 'golf', 'grand', 'i3', 'i_reihe', 'ibiza', 'impreza', 'insignia', 'jazz', 'jetta', 'jimny', 'juke', 'justy', 'ka', 'kadett', 'kaefer', 'kalina', 'kalos', 'kangoo', 'kappa', 'kuga', 'laguna', 'lancer', 'lanos', 'legacy', 'leon', 'lodgy', 'logan', 'lupo', 'lybra', 'm_klasse', 'm_reihe', 'materia', 'matiz', 'megane', 'meriva', 'micra', 'mii', 'modus', 'mondeo', 'move', 'musa', 'mustang', 'mx_reihe', 'nan', 'navara', 'niva', 'note', 'nubira', 'octavia', 'omega', 'one', 'other', 'outlander', 'pajero', 'panda', 'passat', 'phaeton', 'picanto', 'polo', 'primera', 'ptcruiser', 'punto', 'q3', 'q5', 'q7', 'qashqai', 'r19', 'range_rover', 'range_rover_evoque', 'range_rover_sport', 'rangerover', 'rav', 'rio', 'roadster', 'roomster', 'rx_reihe', 's60', 's_klasse', 's_max', 's_type', 'samara', 'sandero', 'santa', 'scenic', 'scirocco', 'seicento', 'serie_1', 'serie_2', 'serie_3', 'sharan', 'signum', 'sirion', 'sl', 'slk', 'sorento', 'spark', 'spider', 'sportage', 'sprinter', 'stilo', 'superb', 'swift', 'terios', 'tigra', 'tiguan', 'toledo', 'touareg', 'touran', 'transit', 'transporter', 'tt', 'tucson', 'twingo', 'up', 'v40', 'v50', 'v60', 'v70', 'v_klasse', 'vectra', 'verso', 'viano', 'vito', 'vivaro', 'voyager', 'wrangler', 'x_reihe', 'x_trail', 'x_type', 'xc_reihe', 'yaris', 'yeti', 'ypsilon', 'z_reihe', 'zafira']\n",
      "FuelType ['cng', 'electric', 'gasoline', 'hybrid', 'lpg', 'nan', 'other', 'petrol']\n",
      "Brand ['alfa_romeo', 'audi', 'bmw', 'chevrolet', 'chrysler', 'citroen', 'dacia', 'daewoo', 'daihatsu', 'fiat', 'ford', 'honda', 'hyundai', 'jaguar', 'jeep', 'kia', 'lada', 'lancia', 'land_rover', 'mazda', 'mercedes_benz', 'mini', 'mitsubishi', 'nissan', 'opel', 'peugeot', 'porsche', 'renault', 'rover', 'saab', 'seat', 'skoda', 'smart', 'sonstige_autos', 'subaru', 'suzuki', 'toyota', 'trabant', 'volkswagen', 'volvo']\n",
      "Repaired ['nan', 'no', 'yes']\n"
     ]
    }
   ],
   "source": [
    "cat_cols = ['VehicleType','Gearbox', 'Model', 'FuelType','Brand','Repaired']\n",
    "for col in cat_cols:\n",
    "    print(col, sorted(autos[col].unique().astype(str)))"
   ]
  },
  {
   "cell_type": "markdown",
   "metadata": {},
   "source": [
    "В столбце `VehicleType` заменим пропуски на `other`."
   ]
  },
  {
   "cell_type": "code",
   "execution_count": 12,
   "metadata": {},
   "outputs": [
    {
     "data": {
      "text/plain": [
       "array(['other', 'coupe', 'suv', 'small', 'sedan', 'convertible', 'bus',\n",
       "       'wagon'], dtype=object)"
      ]
     },
     "execution_count": 12,
     "metadata": {},
     "output_type": "execute_result"
    }
   ],
   "source": [
    "autos['VehicleType'] = autos['VehicleType'].fillna('other')\n",
    "autos['VehicleType'].unique()"
   ]
  },
  {
   "cell_type": "markdown",
   "metadata": {},
   "source": [
    "В столбце `Gearbox`  заменим пропуски на значение `unknown`"
   ]
  },
  {
   "cell_type": "code",
   "execution_count": 13,
   "metadata": {},
   "outputs": [
    {
     "data": {
      "text/plain": [
       "array(['manual', 'auto', 'unknown'], dtype=object)"
      ]
     },
     "execution_count": 13,
     "metadata": {},
     "output_type": "execute_result"
    }
   ],
   "source": [
    "autos['Gearbox'] = autos['Gearbox'].fillna('unknown')\n",
    "autos['Gearbox'].unique()"
   ]
  },
  {
   "cell_type": "markdown",
   "metadata": {},
   "source": [
    "Обработаем неявные дубли в столбце `FuelType` и заменим пропуски на `other`"
   ]
  },
  {
   "cell_type": "code",
   "execution_count": 14,
   "metadata": {},
   "outputs": [
    {
     "data": {
      "text/plain": [
       "array(['petrol', 'other', 'gas', 'hybrid', 'electric'], dtype=object)"
      ]
     },
     "execution_count": 14,
     "metadata": {},
     "output_type": "execute_result"
    }
   ],
   "source": [
    "autos['FuelType'] = autos['FuelType'].replace({'gasoline':'petrol','cng':'gas','lpg':'gas', np.nan:'other'})\n",
    "autos['FuelType'].unique()"
   ]
  },
  {
   "cell_type": "markdown",
   "metadata": {},
   "source": [
    "В столбце `Repaired` заменим пропуски на `no` на основе предположения, что если не указано, значит, ремонта не было."
   ]
  },
  {
   "cell_type": "code",
   "execution_count": 15,
   "metadata": {},
   "outputs": [
    {
     "data": {
      "text/plain": [
       "array(['no', 'yes'], dtype=object)"
      ]
     },
     "execution_count": 15,
     "metadata": {},
     "output_type": "execute_result"
    }
   ],
   "source": [
    "autos['Repaired'] = autos['Repaired'].fillna('no')\n",
    "autos['Repaired'].unique()"
   ]
  },
  {
   "cell_type": "markdown",
   "metadata": {},
   "source": [
    "В столбце `Model` заметим пропуски и значение `other` на `unknown`."
   ]
  },
  {
   "cell_type": "code",
   "execution_count": 16,
   "metadata": {},
   "outputs": [],
   "source": [
    "autos['Model'] = autos['Model'].replace({'other':'unknown', np.nan:'unknown'})"
   ]
  },
  {
   "cell_type": "markdown",
   "metadata": {},
   "source": [
    "#### Обработка аномалий в числовых признаках"
   ]
  },
  {
   "cell_type": "code",
   "execution_count": 17,
   "metadata": {},
   "outputs": [
    {
     "data": {
      "image/png": "[encoded data removed]",
      "text/plain": [
       "<Figure size 1440x360 with 2 Axes>"
      ]
     },
     "metadata": {
      "needs_background": "light"
     },
     "output_type": "display_data"
    }
   ],
   "source": [
    "fig, axs = plt.subplots(nrows= 1 , ncols= 2 )\n",
    "fig.set_size_inches(20, 5)\n",
    "\n",
    "autos['Price'].plot(kind='box',ax=axs[0])\n",
    "axs[0].set_ylabel('Цена в евро')\n",
    "\n",
    "autos['Price'].hist(bins=10,ax=axs[1])\n",
    "axs[1].set_ylabel('Количество автомобилей')\n",
    "axs[1].set_xlabel('Цена в евро')\n",
    "\n",
    "fig.suptitle('Цена автомобилей')\n",
    "plt.subplots_adjust(top= 0.85 )\n",
    "plt.rc('font', size= 15 ) \n",
    "plt.show()"
   ]
  },
  {
   "cell_type": "markdown",
   "metadata": {},
   "source": [
    "Удалим объявления, где цена меньше 700 евро."
   ]
  },
  {
   "cell_type": "code",
   "execution_count": 18,
   "metadata": {},
   "outputs": [],
   "source": [
    "autos = autos[autos['Price']>=700]"
   ]
  },
  {
   "cell_type": "markdown",
   "metadata": {},
   "source": [
    "Исследуем признак `RegistrationYear`."
   ]
  },
  {
   "cell_type": "code",
   "execution_count": 19,
   "metadata": {},
   "outputs": [
    {
     "name": "stdout",
     "output_type": "stream",
     "text": [
      "[1000, 1001, 1039, 1234, 1400, 1500, 1600, 1800, 1910, 1923, 1925, 1927, 1928, 1929, 1930, 1931, 1932, 1933, 1934, 1935, 1936, 1937, 1938, 1940, 1941, 1942, 1943, 1944, 1945, 1946, 1947, 1948, 1949, 1950, 1951, 1952, 1953, 1954, 1955, 1956, 1957, 1958, 1959, 1960, 1961, 1962, 1963, 1964, 1965, 1966, 1967, 1968, 1969, 1970, 1971, 1972, 1973, 1974, 1975, 1976, 1977, 1978, 1979, 1980, 1981, 1982, 1983, 1984, 1985, 1986, 1987, 1988, 1989, 1990, 1991, 1992, 1993, 1994, 1995, 1996, 1997, 1998, 1999, 2000, 2001, 2002, 2003, 2004, 2005, 2006, 2007, 2008, 2009, 2010, 2011, 2012, 2013, 2014, 2015, 2016, 2017, 2018, 2019, 2066, 2290, 2500, 2800, 2900, 3000, 3200, 3700, 4000, 4100, 4500, 5000, 5300, 5555, 5911, 6000, 7000, 7100, 7800, 8500, 8888, 9000, 9999]\n"
     ]
    }
   ],
   "source": [
    "print(sorted(autos['RegistrationYear'].unique()))"
   ]
  },
  {
   "cell_type": "markdown",
   "metadata": {},
   "source": [
    "Удалим данные с аномально большим или мааленьким годом регистрации."
   ]
  },
  {
   "cell_type": "code",
   "execution_count": 20,
   "metadata": {},
   "outputs": [],
   "source": [
    "autos = autos[(autos['RegistrationYear']>1970)&(autos['RegistrationYear']<2016)]"
   ]
  },
  {
   "cell_type": "code",
   "execution_count": 21,
   "metadata": {},
   "outputs": [
    {
     "data": {
      "image/png": "[encoded data removed]",
      "text/plain": [
       "<Figure size 1440x360 with 2 Axes>"
      ]
     },
     "metadata": {
      "needs_background": "light"
     },
     "output_type": "display_data"
    }
   ],
   "source": [
    "fig, axs = plt.subplots(nrows= 1 , ncols= 2 )\n",
    "fig.set_size_inches(20, 5)\n",
    "\n",
    "autos['RegistrationYear'].plot(kind='box',ax=axs[0])\n",
    "axs[0].set_ylabel('Год регистрации')\n",
    "\n",
    "autos['RegistrationYear'].hist(bins=10,ax=axs[1])\n",
    "axs[1].set_ylabel('Количество автомобилей')\n",
    "axs[1].set_xlabel('Год регистрации')\n",
    "\n",
    "fig.suptitle('Год регистрации автомобилей')\n",
    "plt.subplots_adjust(top= 0.85 )\n",
    "plt.rc('font', size= 15 ) \n",
    "plt.show()"
   ]
  },
  {
   "cell_type": "markdown",
   "metadata": {},
   "source": [
    "Исследуем мощность автомобилей."
   ]
  },
  {
   "cell_type": "code",
   "execution_count": 22,
   "metadata": {},
   "outputs": [
    {
     "data": {
      "image/png": "[encoded data removed]",
      "text/plain": [
       "<Figure size 1440x360 with 2 Axes>"
      ]
     },
     "metadata": {
      "needs_background": "light"
     },
     "output_type": "display_data"
    }
   ],
   "source": [
    "fig, axs = plt.subplots(nrows= 1 , ncols= 2 )\n",
    "fig.set_size_inches(20, 5)\n",
    "\n",
    "autos[autos['Power']<500]['Power'].plot(kind='box',ax=axs[0])\n",
    "axs[0].set_ylabel('Год регистрации')\n",
    "\n",
    "autos['Power'].hist(bins=10,ax=axs[1])\n",
    "axs[1].set_ylabel('Количество автомобилей')\n",
    "axs[1].set_xlabel('Год регистрации')\n",
    "\n",
    "fig.suptitle('Год регистрации автомобилей')\n",
    "plt.subplots_adjust(top= 0.85 )\n",
    "plt.rc('font', size= 15 ) \n",
    "plt.show()"
   ]
  },
  {
   "cell_type": "markdown",
   "metadata": {},
   "source": [
    "Удалим аномальные значения мощности."
   ]
  },
  {
   "cell_type": "code",
   "execution_count": 23,
   "metadata": {},
   "outputs": [],
   "source": [
    "autos = autos.loc[(autos['Power']>30)&(autos['Power']<=500)]"
   ]
  },
  {
   "cell_type": "markdown",
   "metadata": {},
   "source": [
    "Построим графики для признака `Kilometer`."
   ]
  },
  {
   "cell_type": "code",
   "execution_count": 24,
   "metadata": {},
   "outputs": [
    {
     "data": {
      "image/png": "[encoded data removed]",
      "text/plain": [
       "<Figure size 1440x360 with 2 Axes>"
      ]
     },
     "metadata": {
      "needs_background": "light"
     },
     "output_type": "display_data"
    }
   ],
   "source": [
    "fig, axs = plt.subplots(nrows= 1 , ncols= 2 )\n",
    "fig.set_size_inches(20, 5)\n",
    "\n",
    "autos['Kilometer'].plot(kind='box',ax=axs[0])\n",
    "axs[0].set_ylabel('Пробег в км')\n",
    "\n",
    "autos['Kilometer'].hist(bins=14,ax=axs[1])\n",
    "axs[1].set_ylabel('Количество автомобилей')\n",
    "axs[1].set_xlabel('Пробег в км')\n",
    "\n",
    "fig.suptitle('Пробег')\n",
    "plt.subplots_adjust(top= 0.85 )\n",
    "plt.rc('font', size= 15 ) \n",
    "plt.show()"
   ]
  },
  {
   "cell_type": "markdown",
   "metadata": {},
   "source": [
    "Аномалий в этом признаке нет."
   ]
  },
  {
   "cell_type": "markdown",
   "metadata": {},
   "source": [
    "#### Вывод"
   ]
  },
  {
   "cell_type": "markdown",
   "metadata": {},
   "source": [
    "В ходе предобработки данных мы:\n",
    "- Удалили полные дубликаты и неинформативные признаки\n",
    "- Обработали пропуски в категориальных признаках, заменив их на заглушки : unknown или other\n",
    "- В столбце `FuelType` исключили неявные дубли\n",
    "- В `Repaired` пропуски заменили на значение no\n",
    "- Оставили записи только с ценой автомобиля не меньше 700 евро\n",
    "- Исключили аномально большие и маленькие года регистрации автомобилей\n",
    "- В данных оставили машины, мощность которых от 30 до 500 л.с.\n"
   ]
  },
  {
   "cell_type": "markdown",
   "metadata": {},
   "source": [
    "## Обучение моделей"
   ]
  },
  {
   "cell_type": "markdown",
   "metadata": {},
   "source": [
    "### Подготовка данных"
   ]
  },
  {
   "cell_type": "markdown",
   "metadata": {},
   "source": [
    "Закодируем и масштабируем данные."
   ]
  },
  {
   "cell_type": "code",
   "execution_count": 25,
   "metadata": {},
   "outputs": [],
   "source": [
    "ohe_col = ['VehicleType','Gearbox','FuelType','Repaired']\n",
    "fre_col = ['Model', 'Brand']\n",
    "ord_col = ['RegistrationYear','Kilometer']"
   ]
  },
  {
   "cell_type": "code",
   "execution_count": 26,
   "metadata": {},
   "outputs": [],
   "source": [
    "num_col = ['Power']\n",
    "\n",
    "autos = autos.reset_index(drop=True)\n",
    "auto = autos.copy()"
   ]
  },
  {
   "cell_type": "code",
   "execution_count": 27,
   "metadata": {},
   "outputs": [],
   "source": [
    "scaler = StandardScaler()\n",
    "auto[num_col] = scaler.fit_transform(auto[num_col])"
   ]
  },
  {
   "cell_type": "code",
   "execution_count": 28,
   "metadata": {},
   "outputs": [],
   "source": [
    "cf = CountFrequencyEncoder(encoding_method='frequency', missing_values='ignore')\n",
    "auto[fre_col] = cf.fit_transform(auto[fre_col])"
   ]
  },
  {
   "cell_type": "code",
   "execution_count": 29,
   "metadata": {},
   "outputs": [],
   "source": [
    "ordinal_encoder = OrdinalEncoder(handle_unknown='use_encoded_value', unknown_value=np.nan)"
   ]
  },
  {
   "cell_type": "code",
   "execution_count": 30,
   "metadata": {},
   "outputs": [],
   "source": [
    "auto[ord_col] = ordinal_encoder.fit_transform(auto[ord_col])"
   ]
  },
  {
   "cell_type": "code",
   "execution_count": 31,
   "metadata": {},
   "outputs": [],
   "source": [
    "ohe_encoder = OneHotEncoder(sparse_output=False, handle_unknown='ignore')\n",
    "auto_ohe = ohe_encoder.fit_transform(auto[ohe_col])\n",
    "names = ohe_encoder.get_feature_names_out() "
   ]
  },
  {
   "cell_type": "code",
   "execution_count": 32,
   "metadata": {},
   "outputs": [
    {
     "data": {
      "text/html": [
       "<div>\n",
       "<style scoped>\n",
       "    .dataframe tbody tr th:only-of-type {\n",
       "        vertical-align: middle;\n",
       "    }\n",
       "\n",
       "    .dataframe tbody tr th {\n",
       "        vertical-align: top;\n",
       "    }\n",
       "\n",
       "    .dataframe thead th {\n",
       "        text-align: right;\n",
       "    }\n",
       "</style>\n",
       "<table border=\"1\" class=\"dataframe\">\n",
       "  <thead>\n",
       "    <tr style=\"text-align: right;\">\n",
       "      <th></th>\n",
       "      <th>Price</th>\n",
       "      <th>RegistrationYear</th>\n",
       "      <th>Power</th>\n",
       "      <th>Model</th>\n",
       "      <th>Kilometer</th>\n",
       "      <th>Brand</th>\n",
       "      <th>VehicleType_bus</th>\n",
       "      <th>VehicleType_convertible</th>\n",
       "      <th>VehicleType_coupe</th>\n",
       "      <th>VehicleType_other</th>\n",
       "      <th>...</th>\n",
       "      <th>Gearbox_auto</th>\n",
       "      <th>Gearbox_manual</th>\n",
       "      <th>Gearbox_unknown</th>\n",
       "      <th>FuelType_electric</th>\n",
       "      <th>FuelType_gas</th>\n",
       "      <th>FuelType_hybrid</th>\n",
       "      <th>FuelType_other</th>\n",
       "      <th>FuelType_petrol</th>\n",
       "      <th>Repaired_no</th>\n",
       "      <th>Repaired_yes</th>\n",
       "    </tr>\n",
       "  </thead>\n",
       "  <tbody>\n",
       "    <tr>\n",
       "      <th>0</th>\n",
       "      <td>18300</td>\n",
       "      <td>40.0</td>\n",
       "      <td>1.182193</td>\n",
       "      <td>0.106725</td>\n",
       "      <td>11.0</td>\n",
       "      <td>0.092178</td>\n",
       "      <td>0.0</td>\n",
       "      <td>0.0</td>\n",
       "      <td>1.0</td>\n",
       "      <td>0.0</td>\n",
       "      <td>...</td>\n",
       "      <td>0.0</td>\n",
       "      <td>1.0</td>\n",
       "      <td>0.0</td>\n",
       "      <td>0.0</td>\n",
       "      <td>0.0</td>\n",
       "      <td>0.0</td>\n",
       "      <td>0.0</td>\n",
       "      <td>1.0</td>\n",
       "      <td>0.0</td>\n",
       "      <td>1.0</td>\n",
       "    </tr>\n",
       "    <tr>\n",
       "      <th>1</th>\n",
       "      <td>9800</td>\n",
       "      <td>33.0</td>\n",
       "      <td>0.679871</td>\n",
       "      <td>0.002098</td>\n",
       "      <td>11.0</td>\n",
       "      <td>0.002340</td>\n",
       "      <td>0.0</td>\n",
       "      <td>0.0</td>\n",
       "      <td>0.0</td>\n",
       "      <td>0.0</td>\n",
       "      <td>...</td>\n",
       "      <td>1.0</td>\n",
       "      <td>0.0</td>\n",
       "      <td>0.0</td>\n",
       "      <td>0.0</td>\n",
       "      <td>0.0</td>\n",
       "      <td>0.0</td>\n",
       "      <td>0.0</td>\n",
       "      <td>1.0</td>\n",
       "      <td>1.0</td>\n",
       "      <td>0.0</td>\n",
       "    </tr>\n",
       "    <tr>\n",
       "      <th>2</th>\n",
       "      <td>1500</td>\n",
       "      <td>30.0</td>\n",
       "      <td>-0.957326</td>\n",
       "      <td>0.075779</td>\n",
       "      <td>12.0</td>\n",
       "      <td>0.204656</td>\n",
       "      <td>0.0</td>\n",
       "      <td>0.0</td>\n",
       "      <td>0.0</td>\n",
       "      <td>0.0</td>\n",
       "      <td>...</td>\n",
       "      <td>0.0</td>\n",
       "      <td>1.0</td>\n",
       "      <td>0.0</td>\n",
       "      <td>0.0</td>\n",
       "      <td>0.0</td>\n",
       "      <td>0.0</td>\n",
       "      <td>0.0</td>\n",
       "      <td>1.0</td>\n",
       "      <td>1.0</td>\n",
       "      <td>0.0</td>\n",
       "    </tr>\n",
       "    <tr>\n",
       "      <th>3</th>\n",
       "      <td>3600</td>\n",
       "      <td>37.0</td>\n",
       "      <td>-1.068953</td>\n",
       "      <td>0.007354</td>\n",
       "      <td>9.0</td>\n",
       "      <td>0.019070</td>\n",
       "      <td>0.0</td>\n",
       "      <td>0.0</td>\n",
       "      <td>0.0</td>\n",
       "      <td>0.0</td>\n",
       "      <td>...</td>\n",
       "      <td>0.0</td>\n",
       "      <td>1.0</td>\n",
       "      <td>0.0</td>\n",
       "      <td>0.0</td>\n",
       "      <td>0.0</td>\n",
       "      <td>0.0</td>\n",
       "      <td>0.0</td>\n",
       "      <td>1.0</td>\n",
       "      <td>1.0</td>\n",
       "      <td>0.0</td>\n",
       "    </tr>\n",
       "    <tr>\n",
       "      <th>4</th>\n",
       "      <td>2200</td>\n",
       "      <td>33.0</td>\n",
       "      <td>-0.324773</td>\n",
       "      <td>0.015196</td>\n",
       "      <td>12.0</td>\n",
       "      <td>0.031958</td>\n",
       "      <td>0.0</td>\n",
       "      <td>1.0</td>\n",
       "      <td>0.0</td>\n",
       "      <td>0.0</td>\n",
       "      <td>...</td>\n",
       "      <td>0.0</td>\n",
       "      <td>1.0</td>\n",
       "      <td>0.0</td>\n",
       "      <td>0.0</td>\n",
       "      <td>0.0</td>\n",
       "      <td>0.0</td>\n",
       "      <td>0.0</td>\n",
       "      <td>1.0</td>\n",
       "      <td>1.0</td>\n",
       "      <td>0.0</td>\n",
       "    </tr>\n",
       "  </tbody>\n",
       "</table>\n",
       "<p>5 rows × 24 columns</p>\n",
       "</div>"
      ],
      "text/plain": [
       "   Price  RegistrationYear     Power     Model  Kilometer     Brand  \\\n",
       "0  18300              40.0  1.182193  0.106725       11.0  0.092178   \n",
       "1   9800              33.0  0.679871  0.002098       11.0  0.002340   \n",
       "2   1500              30.0 -0.957326  0.075779       12.0  0.204656   \n",
       "3   3600              37.0 -1.068953  0.007354        9.0  0.019070   \n",
       "4   2200              33.0 -0.324773  0.015196       12.0  0.031958   \n",
       "\n",
       "   VehicleType_bus  VehicleType_convertible  VehicleType_coupe  \\\n",
       "0              0.0                      0.0                1.0   \n",
       "1              0.0                      0.0                0.0   \n",
       "2              0.0                      0.0                0.0   \n",
       "3              0.0                      0.0                0.0   \n",
       "4              0.0                      1.0                0.0   \n",
       "\n",
       "   VehicleType_other  ...  Gearbox_auto  Gearbox_manual  Gearbox_unknown  \\\n",
       "0                0.0  ...           0.0             1.0              0.0   \n",
       "1                0.0  ...           1.0             0.0              0.0   \n",
       "2                0.0  ...           0.0             1.0              0.0   \n",
       "3                0.0  ...           0.0             1.0              0.0   \n",
       "4                0.0  ...           0.0             1.0              0.0   \n",
       "\n",
       "   FuelType_electric  FuelType_gas  FuelType_hybrid  FuelType_other  \\\n",
       "0                0.0           0.0              0.0             0.0   \n",
       "1                0.0           0.0              0.0             0.0   \n",
       "2                0.0           0.0              0.0             0.0   \n",
       "3                0.0           0.0              0.0             0.0   \n",
       "4                0.0           0.0              0.0             0.0   \n",
       "\n",
       "   FuelType_petrol  Repaired_no  Repaired_yes  \n",
       "0              1.0          0.0           1.0  \n",
       "1              1.0          1.0           0.0  \n",
       "2              1.0          1.0           0.0  \n",
       "3              1.0          1.0           0.0  \n",
       "4              1.0          1.0           0.0  \n",
       "\n",
       "[5 rows x 24 columns]"
      ]
     },
     "execution_count": 32,
     "metadata": {},
     "output_type": "execute_result"
    }
   ],
   "source": [
    "auto = auto.drop(ohe_col, axis=1)\n",
    "df = pd.DataFrame(auto_ohe, columns=names)\n",
    "auto = auto.join(df, how='left')\n",
    "auto.head()"
   ]
  },
  {
   "cell_type": "markdown",
   "metadata": {},
   "source": [
    "### Обучение моделей"
   ]
  },
  {
   "cell_type": "markdown",
   "metadata": {},
   "source": [
    "Отделим целевой признак и разделим данные на обучающую и тестовую выборки."
   ]
  },
  {
   "cell_type": "code",
   "execution_count": 33,
   "metadata": {},
   "outputs": [],
   "source": [
    "X = auto.drop('Price', axis=1)\n",
    "y = auto['Price']"
   ]
  },
  {
   "cell_type": "code",
   "execution_count": 34,
   "metadata": {},
   "outputs": [],
   "source": [
    "X_train, X_test, y_train, y_test = train_test_split(X, y, test_size=0.2, random_state= 42)"
   ]
  },
  {
   "cell_type": "markdown",
   "metadata": {},
   "source": [
    "Создадим функцию для расчета RMSE."
   ]
  },
  {
   "cell_type": "code",
   "execution_count": 35,
   "metadata": {},
   "outputs": [],
   "source": [
    "def rmse(y_true, y_pred):\n",
    "    y_true = np.array(y_true)\n",
    "    y_pred = np.array(y_pred)\n",
    "    mse = ((y_true - y_pred)**2).mean()\n",
    "    res = np.sqrt(mse)\n",
    "    return res\n",
    "\n",
    "RMSE = make_scorer(rmse, greater_is_better = False)"
   ]
  },
  {
   "cell_type": "markdown",
   "metadata": {},
   "source": [
    "Далее подберем параметры и обучим модели линейной регрессии, дерева принятия решений с градиентным бустингом и без него. Посчитаем время затраченное на обучение модели и предсказание значений, а также метрику RMSE с помощью кросс-валидации для анализа точности полученных результатов"
   ]
  },
  {
   "cell_type": "markdown",
   "metadata": {},
   "source": [
    "#### LinearRegression"
   ]
  },
  {
   "cell_type": "code",
   "execution_count": 36,
   "metadata": {},
   "outputs": [
    {
     "name": "stdout",
     "output_type": "stream",
     "text": [
      "Время обучения: 0.27490234375\n"
     ]
    }
   ],
   "source": [
    "start = time()\n",
    "\n",
    "lr = LinearRegression(fit_intercept=False)\n",
    "lr.fit(X_train, y_train)\n",
    "\n",
    "end = time()\n",
    "time_fit_lr = end - start\n",
    "print('Время обучения:', time_fit_lr)"
   ]
  },
  {
   "cell_type": "code",
   "execution_count": 37,
   "metadata": {},
   "outputs": [
    {
     "name": "stdout",
     "output_type": "stream",
     "text": [
      "Время предсказания: 0.10126161575317383\n"
     ]
    }
   ],
   "source": [
    "start = time()\n",
    "\n",
    "y_pred_lr = lr.predict(X_train)\n",
    "\n",
    "end = time()\n",
    "time_pred_lr = end - start\n",
    "print('Время предсказания:', time_pred_lr)"
   ]
  },
  {
   "cell_type": "code",
   "execution_count": 38,
   "metadata": {},
   "outputs": [
    {
     "name": "stdout",
     "output_type": "stream",
     "text": [
      "Значение RMSE линейной регрессии: 2902.5\n"
     ]
    }
   ],
   "source": [
    "model = LinearRegression(fit_intercept=False)\n",
    "rmse_lr = round(-cross_val_score(model, X_train, y_train, scoring='neg_root_mean_squared_error', cv=4).mean(),1)\n",
    "print('Значение RMSE линейной регрессии:', rmse_lr)"
   ]
  },
  {
   "cell_type": "markdown",
   "metadata": {},
   "source": [
    "#### DecisionTreeRegressor"
   ]
  },
  {
   "cell_type": "code",
   "execution_count": 39,
   "metadata": {},
   "outputs": [],
   "source": [
    "model_tr = DecisionTreeRegressor(random_state=RANDOM_STATE)"
   ]
  },
  {
   "cell_type": "code",
   "execution_count": 40,
   "metadata": {},
   "outputs": [],
   "source": [
    "param_tr = {'max_depth':[None] + [i for i in range(2, 7)] ,'min_samples_leaf':[3,4,5,6,7]}"
   ]
  },
  {
   "cell_type": "code",
   "execution_count": 41,
   "metadata": {},
   "outputs": [
    {
     "data": {
      "text/plain": [
       "{'max_depth': None, 'min_samples_leaf': 7}"
      ]
     },
     "execution_count": 41,
     "metadata": {},
     "output_type": "execute_result"
    }
   ],
   "source": [
    "grid_tr = GridSearchCV(model_tr,param_tr, cv=4, scoring = RMSE, n_jobs=-1)\n",
    "grid_tr.fit(X_train, y_train)\n",
    "best_params = grid_tr.best_params_\n",
    "best_params"
   ]
  },
  {
   "cell_type": "code",
   "execution_count": 42,
   "metadata": {},
   "outputs": [
    {
     "name": "stdout",
     "output_type": "stream",
     "text": [
      "Время обучения: 0.7331995964050293\n"
     ]
    }
   ],
   "source": [
    "start = time()\n",
    "\n",
    "tr = DecisionTreeRegressor(**best_params, random_state=RANDOM_STATE)\n",
    "tr.fit(X_train, y_train)\n",
    "\n",
    "end = time()\n",
    "time_fit_tr = end - start\n",
    "print('Время обучения:', time_fit_tr)"
   ]
  },
  {
   "cell_type": "code",
   "execution_count": 43,
   "metadata": {},
   "outputs": [
    {
     "name": "stdout",
     "output_type": "stream",
     "text": [
      "Время предсказания: 0.04746365547180176\n"
     ]
    }
   ],
   "source": [
    "start = time()\n",
    "\n",
    "y_pred_tr = tr.predict(X_train)\n",
    "\n",
    "end = time()\n",
    "time_pred_tr = end - start\n",
    "print('Время предсказания:', time_pred_tr)"
   ]
  },
  {
   "cell_type": "code",
   "execution_count": 44,
   "metadata": {},
   "outputs": [
    {
     "name": "stdout",
     "output_type": "stream",
     "text": [
      "Значение RMSE модели деревав решений: 1810.7\n"
     ]
    }
   ],
   "source": [
    "rmse_tr = round(-grid_tr.best_score_,1)\n",
    "print('Значение RMSE модели деревав решений:', rmse_tr)"
   ]
  },
  {
   "cell_type": "markdown",
   "metadata": {},
   "source": [
    "#### LightGBM"
   ]
  },
  {
   "cell_type": "code",
   "execution_count": 45,
   "metadata": {},
   "outputs": [
    {
     "data": {
      "text/plain": [
       "{'max_depth': None, 'num_leaves': 70, 'subsample_for_bin': 100000}"
      ]
     },
     "execution_count": 45,
     "metadata": {},
     "output_type": "execute_result"
    }
   ],
   "source": [
    "model_lgbm = LGBMRegressor(n_jobs=-1, random_state=RANDOM_STATE)\n",
    "param_lgbm = {'num_leaves':[60, 70],'subsample_for_bin':[100000, 200000],'max_depth':[None, 5,7] }\n",
    "grid_lgbm = GridSearchCV(model_lgbm,param_lgbm, cv=4, scoring = RMSE, n_jobs=-1)\n",
    "grid_lgbm.fit(X_train, y_train)\n",
    "best_params = grid_lgbm.best_params_\n",
    "best_params"
   ]
  },
  {
   "cell_type": "code",
   "execution_count": 46,
   "metadata": {},
   "outputs": [
    {
     "name": "stdout",
     "output_type": "stream",
     "text": [
      "Время обучения: 7.000038146972656\n"
     ]
    }
   ],
   "source": [
    "start = time()\n",
    "\n",
    "lgbm = LGBMRegressor(**best_params, n_jobs=-1, random_state=RANDOM_STATE)\n",
    "lgbm.fit(X_train, y_train)\n",
    "\n",
    "end = time()\n",
    "time_fit_lgbm = end - start\n",
    "print('Время обучения:', time_fit_lgbm)"
   ]
  },
  {
   "cell_type": "code",
   "execution_count": 47,
   "metadata": {},
   "outputs": [
    {
     "name": "stdout",
     "output_type": "stream",
     "text": [
      "Время предсказания: 1.6073760986328125\n"
     ]
    }
   ],
   "source": [
    "start = time()\n",
    "\n",
    "y_pred_lgbm = lgbm.predict(X_train)\n",
    "\n",
    "end = time()\n",
    "time_pred_lgbm = end - start\n",
    "print('Время предсказания:', time_pred_lgbm)"
   ]
  },
  {
   "cell_type": "code",
   "execution_count": 48,
   "metadata": {},
   "outputs": [
    {
     "name": "stdout",
     "output_type": "stream",
     "text": [
      "Значение RMSE модели дерева решений с градиентным бустингом: 1647.4\n"
     ]
    }
   ],
   "source": [
    "rmse_lgbm = round(-grid_lgbm.best_score_,1)\n",
    "print('Значение RMSE модели дерева решений с градиентным бустингом:', rmse_lgbm)"
   ]
  },
  {
   "cell_type": "markdown",
   "metadata": {},
   "source": [
    "## Анализ моделей"
   ]
  },
  {
   "cell_type": "markdown",
   "metadata": {},
   "source": [
    "Составим таблицу из полученных данных и выберем лучшую модель."
   ]
  },
  {
   "cell_type": "code",
   "execution_count": 49,
   "metadata": {},
   "outputs": [
    {
     "data": {
      "text/html": [
       "<div>\n",
       "<style scoped>\n",
       "    .dataframe tbody tr th:only-of-type {\n",
       "        vertical-align: middle;\n",
       "    }\n",
       "\n",
       "    .dataframe tbody tr th {\n",
       "        vertical-align: top;\n",
       "    }\n",
       "\n",
       "    .dataframe thead th {\n",
       "        text-align: right;\n",
       "    }\n",
       "</style>\n",
       "<table border=\"1\" class=\"dataframe\">\n",
       "  <thead>\n",
       "    <tr style=\"text-align: right;\">\n",
       "      <th></th>\n",
       "      <th>Время обучения, с</th>\n",
       "      <th>Время предсказания, с</th>\n",
       "      <th>RMSE</th>\n",
       "    </tr>\n",
       "  </thead>\n",
       "  <tbody>\n",
       "    <tr>\n",
       "      <th>LinearRegression</th>\n",
       "      <td>0.274902</td>\n",
       "      <td>0.101262</td>\n",
       "      <td>2902.5</td>\n",
       "    </tr>\n",
       "    <tr>\n",
       "      <th>DecisiontreeRegressor</th>\n",
       "      <td>0.733200</td>\n",
       "      <td>0.047464</td>\n",
       "      <td>1810.7</td>\n",
       "    </tr>\n",
       "    <tr>\n",
       "      <th>LightGBM</th>\n",
       "      <td>7.000038</td>\n",
       "      <td>1.607376</td>\n",
       "      <td>1647.4</td>\n",
       "    </tr>\n",
       "  </tbody>\n",
       "</table>\n",
       "</div>"
      ],
      "text/plain": [
       "                       Время обучения, с  Время предсказания, с    RMSE\n",
       "LinearRegression                0.274902               0.101262  2902.5\n",
       "DecisiontreeRegressor           0.733200               0.047464  1810.7\n",
       "LightGBM                        7.000038               1.607376  1647.4"
      ]
     },
     "execution_count": 49,
     "metadata": {},
     "output_type": "execute_result"
    }
   ],
   "source": [
    "data = np.array([[time_fit_lr, time_pred_lr, rmse_lr],\n",
    "                 [time_fit_tr, time_pred_tr, rmse_tr],\n",
    "                 [time_fit_lgbm, time_pred_lgbm, rmse_lgbm]])\n",
    "df = pd.DataFrame(data=data,\n",
    "                  columns=['Время обучения, с','Время предсказания, с','RMSE'])\n",
    "df.index = ['LinearRegression','DecisiontreeRegressor','LightGBM']\n",
    "df"
   ]
  },
  {
   "cell_type": "code",
   "execution_count": 50,
   "metadata": {},
   "outputs": [
    {
     "name": "stdout",
     "output_type": "stream",
     "text": [
      "Значение RMSE модели дерева решений на тестовой выборке: 1769.3\n"
     ]
    }
   ],
   "source": [
    "y_pred = tr.predict(X_test)\n",
    "rmse = round(mean_squared_error(y_test, y_pred, squared=False),1)\n",
    "print('Значение RMSE модели дерева решений на тестовой выборке:', rmse)"
   ]
  },
  {
   "cell_type": "markdown",
   "metadata": {},
   "source": [
    "**Вывод:**\n",
    "\n",
    "Линейная регрессия работает быстро, но в предсказаниях есть большие ошибки. RMSE моделей дерева решений почти одинакова, разницу в 150 евро можно считать незначительной. Однако модель без градиентного бустинга обучается во много раз быстрее. RMSE на тестовой выборке выбранной модели равно 1769.3."
   ]
  },
  {
   "cell_type": "markdown",
   "metadata": {},
   "source": [
    "## Общий вывод"
   ]
  },
  {
   "cell_type": "markdown",
   "metadata": {},
   "source": [
    "Перед обучением моделей мы обработали данные:\n",
    "- Удалили полные дубликаты и неинформативные признаки\n",
    "- Обработали пропуски в категориальных признаках, заменив их на заглушки : unknown или other\n",
    "- В столбце `FuelType` исключили неявные дубли\n",
    "- В `Repaired` пропуски заменили на значение no\n",
    "- Оставили записи только с ценой автомобиля не меньше 700 евро\n",
    "- Исключили аномально большие и маленькие года регистрации автомобилей\n",
    "- В данных оставили машины, мощность которых от 30 до 500 л.с.\n",
    "\n",
    "Затем закодировали категориальные признаки с помощью кодировщиков OneHotEncoder, OrdinalEncoder и CountFrequencyEncoder. Для масштабирования числовых признаков использовали StandardScaler. \n",
    "\n",
    "Для того, чтобы получить лучший результат, обучали несколько моделей и подбирали для них параметры. Для сравнения качества использовали метрику RMSE на кросс-валидации.\n",
    "- RMSE линейной регрессии с параметром `'fit_intercept': False` равна 2903\n",
    "- RMSE дерева решений с параметрами `'max_depth': None, 'min_samples_leaf': 7` равна 1811\n",
    "- RMSE дерева решений с градиентрым бустингом с параметрами `'max_depth': None, 'num_leaves': 70, 'subsample_for_bin': 100000` равна 1647\n",
    "\n",
    "Проанализировав качество и время на обучение и предсказание моделей, мы выбрали модель DecisionTreeRegressor, так как она быстро и качественно работает. Ее RMSE на тестовой выборке равна 1769.3."
   ]
  }
 ],
 "metadata": {
  "ExecuteTimeLog": [
   {
    "duration": 459,
    "start_time": "2024-02-11T10:01:40.521Z"
   },
   {
    "duration": 1182,
    "start_time": "2024-02-11T10:01:42.791Z"
   },
   {
    "duration": 29,
    "start_time": "2024-02-11T10:03:10.272Z"
   },
   {
    "duration": 159,
    "start_time": "2024-02-11T10:03:21.596Z"
   },
   {
    "duration": 995,
    "start_time": "2024-02-11T10:04:35.098Z"
   },
   {
    "duration": 13,
    "start_time": "2024-02-11T10:04:36.856Z"
   },
   {
    "duration": 142,
    "start_time": "2024-02-11T10:04:41.938Z"
   },
   {
    "duration": 32,
    "start_time": "2024-02-11T10:42:06.451Z"
   },
   {
    "duration": 22,
    "start_time": "2024-02-11T10:47:20.220Z"
   },
   {
    "duration": 37,
    "start_time": "2024-02-11T10:50:17.940Z"
   },
   {
    "duration": 41,
    "start_time": "2024-02-11T10:50:27.528Z"
   },
   {
    "duration": 59,
    "start_time": "2024-02-11T10:55:02.444Z"
   },
   {
    "duration": 108,
    "start_time": "2024-02-11T10:55:06.771Z"
   },
   {
    "duration": 41,
    "start_time": "2024-02-11T10:55:48.845Z"
   },
   {
    "duration": 41,
    "start_time": "2024-02-11T10:56:15.147Z"
   },
   {
    "duration": 24,
    "start_time": "2024-02-11T10:56:32.772Z"
   },
   {
    "duration": 2,
    "start_time": "2024-02-11T10:57:25.052Z"
   },
   {
    "duration": 43,
    "start_time": "2024-02-11T10:57:36.919Z"
   },
   {
    "duration": 108,
    "start_time": "2024-02-11T10:58:11.902Z"
   },
   {
    "duration": 39,
    "start_time": "2024-02-11T11:05:54.130Z"
   },
   {
    "duration": 39,
    "start_time": "2024-02-11T11:06:13.399Z"
   },
   {
    "duration": 40,
    "start_time": "2024-02-11T11:06:20.979Z"
   },
   {
    "duration": 372,
    "start_time": "2024-02-11T11:06:27.420Z"
   },
   {
    "duration": 966,
    "start_time": "2024-02-11T11:06:27.794Z"
   },
   {
    "duration": 19,
    "start_time": "2024-02-11T11:06:28.761Z"
   },
   {
    "duration": 117,
    "start_time": "2024-02-11T11:06:28.782Z"
   },
   {
    "duration": 45,
    "start_time": "2024-02-11T11:06:28.900Z"
   },
   {
    "duration": 122,
    "start_time": "2024-02-11T11:06:28.946Z"
   },
   {
    "duration": 37,
    "start_time": "2024-02-11T11:06:29.070Z"
   },
   {
    "duration": 38,
    "start_time": "2024-02-11T11:06:29.109Z"
   },
   {
    "duration": 70,
    "start_time": "2024-02-11T11:10:04.434Z"
   },
   {
    "duration": 51,
    "start_time": "2024-02-11T11:15:35.261Z"
   },
   {
    "duration": 414,
    "start_time": "2024-02-11T11:15:43.932Z"
   },
   {
    "duration": 1004,
    "start_time": "2024-02-11T11:15:44.347Z"
   },
   {
    "duration": 23,
    "start_time": "2024-02-11T11:15:45.352Z"
   },
   {
    "duration": 140,
    "start_time": "2024-02-11T11:15:45.377Z"
   },
   {
    "duration": 51,
    "start_time": "2024-02-11T11:15:45.519Z"
   },
   {
    "duration": 126,
    "start_time": "2024-02-11T11:15:45.571Z"
   },
   {
    "duration": 39,
    "start_time": "2024-02-11T11:15:45.699Z"
   },
   {
    "duration": 52,
    "start_time": "2024-02-11T11:15:45.740Z"
   },
   {
    "duration": 87,
    "start_time": "2024-02-11T11:15:45.794Z"
   },
   {
    "duration": 49,
    "start_time": "2024-02-11T11:15:45.883Z"
   },
   {
    "duration": 393,
    "start_time": "2024-02-11T11:16:01.972Z"
   },
   {
    "duration": 976,
    "start_time": "2024-02-11T11:16:02.367Z"
   },
   {
    "duration": 27,
    "start_time": "2024-02-11T11:16:03.345Z"
   },
   {
    "duration": 141,
    "start_time": "2024-02-11T11:16:03.374Z"
   },
   {
    "duration": 58,
    "start_time": "2024-02-11T11:16:03.516Z"
   },
   {
    "duration": 117,
    "start_time": "2024-02-11T11:16:03.576Z"
   },
   {
    "duration": 39,
    "start_time": "2024-02-11T11:16:03.695Z"
   },
   {
    "duration": 50,
    "start_time": "2024-02-11T11:16:03.736Z"
   },
   {
    "duration": 79,
    "start_time": "2024-02-11T11:16:03.787Z"
   },
   {
    "duration": 38,
    "start_time": "2024-02-11T11:16:03.868Z"
   },
   {
    "duration": 98,
    "start_time": "2024-02-11T11:17:17.404Z"
   },
   {
    "duration": 55,
    "start_time": "2024-02-11T11:17:20.984Z"
   },
   {
    "duration": 29,
    "start_time": "2024-02-11T11:17:30.234Z"
   },
   {
    "duration": 31,
    "start_time": "2024-02-11T11:21:40.571Z"
   },
   {
    "duration": 48,
    "start_time": "2024-02-11T15:24:14.863Z"
   },
   {
    "duration": 752,
    "start_time": "2024-02-11T15:24:38.919Z"
   },
   {
    "duration": 1232,
    "start_time": "2024-02-11T15:24:39.674Z"
   },
   {
    "duration": 17,
    "start_time": "2024-02-11T15:24:40.908Z"
   },
   {
    "duration": 116,
    "start_time": "2024-02-11T15:24:40.926Z"
   },
   {
    "duration": 57,
    "start_time": "2024-02-11T15:24:41.044Z"
   },
   {
    "duration": 125,
    "start_time": "2024-02-11T15:24:41.103Z"
   },
   {
    "duration": 40,
    "start_time": "2024-02-11T15:24:41.230Z"
   },
   {
    "duration": 39,
    "start_time": "2024-02-11T15:24:41.282Z"
   },
   {
    "duration": 89,
    "start_time": "2024-02-11T15:24:41.322Z"
   },
   {
    "duration": 41,
    "start_time": "2024-02-11T15:24:41.413Z"
   },
   {
    "duration": 43,
    "start_time": "2024-02-11T15:24:41.455Z"
   },
   {
    "duration": 335,
    "start_time": "2024-02-11T15:24:41.499Z"
   },
   {
    "duration": 19,
    "start_time": "2024-02-11T15:34:51.712Z"
   },
   {
    "duration": 264,
    "start_time": "2024-02-11T15:35:41.484Z"
   },
   {
    "duration": 310,
    "start_time": "2024-02-11T15:35:45.779Z"
   },
   {
    "duration": 360,
    "start_time": "2024-02-11T15:35:50.890Z"
   },
   {
    "duration": 274,
    "start_time": "2024-02-11T15:35:58.496Z"
   },
   {
    "duration": 321,
    "start_time": "2024-02-11T15:36:03.862Z"
   },
   {
    "duration": 312,
    "start_time": "2024-02-11T15:36:44.404Z"
   },
   {
    "duration": 339,
    "start_time": "2024-02-11T15:36:51.563Z"
   },
   {
    "duration": 324,
    "start_time": "2024-02-11T15:36:56.599Z"
   },
   {
    "duration": 398,
    "start_time": "2024-02-11T15:38:06.745Z"
   },
   {
    "duration": 389,
    "start_time": "2024-02-11T15:38:18.239Z"
   },
   {
    "duration": 187,
    "start_time": "2024-02-11T15:38:56.798Z"
   },
   {
    "duration": 194,
    "start_time": "2024-02-11T15:39:07.464Z"
   },
   {
    "duration": 317,
    "start_time": "2024-02-11T15:39:15.369Z"
   },
   {
    "duration": 297,
    "start_time": "2024-02-11T15:40:05.046Z"
   },
   {
    "duration": 185,
    "start_time": "2024-02-11T15:40:55.906Z"
   },
   {
    "duration": 315,
    "start_time": "2024-02-11T15:41:14.033Z"
   },
   {
    "duration": 304,
    "start_time": "2024-02-11T15:41:22.751Z"
   },
   {
    "duration": 256,
    "start_time": "2024-02-11T15:42:03.055Z"
   },
   {
    "duration": 430,
    "start_time": "2024-02-11T15:42:11.815Z"
   },
   {
    "duration": 46,
    "start_time": "2024-02-12T08:12:11.193Z"
   },
   {
    "duration": 766,
    "start_time": "2024-02-12T08:12:36.431Z"
   },
   {
    "duration": 1198,
    "start_time": "2024-02-12T08:12:37.199Z"
   },
   {
    "duration": 16,
    "start_time": "2024-02-12T08:12:38.399Z"
   },
   {
    "duration": 117,
    "start_time": "2024-02-12T08:12:38.417Z"
   },
   {
    "duration": 50,
    "start_time": "2024-02-12T08:12:38.536Z"
   },
   {
    "duration": 121,
    "start_time": "2024-02-12T08:12:38.588Z"
   },
   {
    "duration": 39,
    "start_time": "2024-02-12T08:12:38.715Z"
   },
   {
    "duration": 41,
    "start_time": "2024-02-12T08:12:38.756Z"
   },
   {
    "duration": 102,
    "start_time": "2024-02-12T08:12:38.798Z"
   },
   {
    "duration": 48,
    "start_time": "2024-02-12T08:12:38.902Z"
   },
   {
    "duration": 30,
    "start_time": "2024-02-12T08:12:38.951Z"
   },
   {
    "duration": 320,
    "start_time": "2024-02-12T08:12:38.983Z"
   },
   {
    "duration": 222,
    "start_time": "2024-02-12T08:12:39.304Z"
   },
   {
    "duration": 1898,
    "start_time": "2024-02-12T08:12:39.528Z"
   },
   {
    "duration": 1886,
    "start_time": "2024-02-12T08:13:50.855Z"
   },
   {
    "duration": 2011,
    "start_time": "2024-02-12T08:14:01.912Z"
   },
   {
    "duration": 2037,
    "start_time": "2024-02-12T08:14:14.631Z"
   },
   {
    "duration": 31,
    "start_time": "2024-02-12T08:14:56.047Z"
   },
   {
    "duration": 107,
    "start_time": "2024-02-12T08:15:41.440Z"
   },
   {
    "duration": 638,
    "start_time": "2024-02-12T08:20:06.896Z"
   },
   {
    "duration": 956,
    "start_time": "2024-02-12T08:20:07.536Z"
   },
   {
    "duration": 21,
    "start_time": "2024-02-12T08:20:08.494Z"
   },
   {
    "duration": 123,
    "start_time": "2024-02-12T08:20:08.516Z"
   },
   {
    "duration": 28,
    "start_time": "2024-02-12T08:20:08.641Z"
   },
   {
    "duration": 132,
    "start_time": "2024-02-12T08:20:08.670Z"
   },
   {
    "duration": 48,
    "start_time": "2024-02-12T08:20:08.804Z"
   },
   {
    "duration": 61,
    "start_time": "2024-02-12T08:20:08.854Z"
   },
   {
    "duration": 77,
    "start_time": "2024-02-12T08:20:08.917Z"
   },
   {
    "duration": 60,
    "start_time": "2024-02-12T08:20:08.996Z"
   },
   {
    "duration": 35,
    "start_time": "2024-02-12T08:20:09.058Z"
   },
   {
    "duration": 322,
    "start_time": "2024-02-12T08:20:09.095Z"
   },
   {
    "duration": 217,
    "start_time": "2024-02-12T08:20:09.419Z"
   },
   {
    "duration": 6,
    "start_time": "2024-02-12T08:20:09.638Z"
   },
   {
    "duration": 127,
    "start_time": "2024-02-12T08:20:09.645Z"
   },
   {
    "duration": 2081,
    "start_time": "2024-02-12T08:20:09.773Z"
   },
   {
    "duration": 4,
    "start_time": "2024-02-12T08:20:28.991Z"
   },
   {
    "duration": 5,
    "start_time": "2024-02-12T08:20:37.815Z"
   },
   {
    "duration": 69,
    "start_time": "2024-02-12T08:20:47.351Z"
   },
   {
    "duration": 10,
    "start_time": "2024-02-12T08:20:53.048Z"
   },
   {
    "duration": 6,
    "start_time": "2024-02-12T08:21:29.807Z"
   },
   {
    "duration": 13,
    "start_time": "2024-02-12T08:25:31.497Z"
   },
   {
    "duration": 92,
    "start_time": "2024-02-12T08:26:08.334Z"
   },
   {
    "duration": 95,
    "start_time": "2024-02-12T08:26:14.601Z"
   },
   {
    "duration": 7,
    "start_time": "2024-02-12T08:26:30.431Z"
   },
   {
    "duration": 203,
    "start_time": "2024-02-12T08:27:28.319Z"
   },
   {
    "duration": 146,
    "start_time": "2024-02-12T08:27:30.568Z"
   },
   {
    "duration": 669,
    "start_time": "2024-02-12T08:28:30.088Z"
   },
   {
    "duration": 974,
    "start_time": "2024-02-12T08:28:30.759Z"
   },
   {
    "duration": 16,
    "start_time": "2024-02-12T08:28:31.734Z"
   },
   {
    "duration": 135,
    "start_time": "2024-02-12T08:28:31.752Z"
   },
   {
    "duration": 48,
    "start_time": "2024-02-12T08:28:31.889Z"
   },
   {
    "duration": 141,
    "start_time": "2024-02-12T08:28:31.938Z"
   },
   {
    "duration": 50,
    "start_time": "2024-02-12T08:28:32.081Z"
   },
   {
    "duration": 37,
    "start_time": "2024-02-12T08:28:32.132Z"
   },
   {
    "duration": 79,
    "start_time": "2024-02-12T08:28:32.170Z"
   },
   {
    "duration": 37,
    "start_time": "2024-02-12T08:28:32.250Z"
   },
   {
    "duration": 46,
    "start_time": "2024-02-12T08:28:32.288Z"
   },
   {
    "duration": 303,
    "start_time": "2024-02-12T08:28:32.335Z"
   },
   {
    "duration": 226,
    "start_time": "2024-02-12T08:28:32.640Z"
   },
   {
    "duration": 5,
    "start_time": "2024-02-12T08:28:32.868Z"
   },
   {
    "duration": 59,
    "start_time": "2024-02-12T08:28:32.875Z"
   },
   {
    "duration": 208,
    "start_time": "2024-02-12T08:28:32.936Z"
   },
   {
    "duration": 153,
    "start_time": "2024-02-12T08:28:33.146Z"
   },
   {
    "duration": 45173,
    "start_time": "2024-02-12T08:28:33.301Z"
   },
   {
    "duration": 11,
    "start_time": "2024-02-12T08:29:18.477Z"
   },
   {
    "duration": 18,
    "start_time": "2024-02-12T08:29:18.490Z"
   },
   {
    "duration": 908,
    "start_time": "2024-02-12T08:29:18.510Z"
   },
   {
    "duration": 13,
    "start_time": "2024-02-12T08:29:19.420Z"
   },
   {
    "duration": 120,
    "start_time": "2024-02-12T08:29:19.434Z"
   },
   {
    "duration": 24,
    "start_time": "2024-02-12T08:29:19.556Z"
   },
   {
    "duration": 133,
    "start_time": "2024-02-12T08:29:19.582Z"
   },
   {
    "duration": 46,
    "start_time": "2024-02-12T08:29:19.716Z"
   },
   {
    "duration": 57,
    "start_time": "2024-02-12T08:29:19.764Z"
   },
   {
    "duration": 68,
    "start_time": "2024-02-12T08:29:19.823Z"
   },
   {
    "duration": 47,
    "start_time": "2024-02-12T08:29:19.893Z"
   },
   {
    "duration": 35,
    "start_time": "2024-02-12T08:29:19.941Z"
   },
   {
    "duration": 323,
    "start_time": "2024-02-12T08:29:19.978Z"
   },
   {
    "duration": 211,
    "start_time": "2024-02-12T08:29:20.303Z"
   },
   {
    "duration": 5,
    "start_time": "2024-02-12T08:29:20.516Z"
   },
   {
    "duration": 55,
    "start_time": "2024-02-12T08:29:20.522Z"
   },
   {
    "duration": 216,
    "start_time": "2024-02-12T08:29:20.578Z"
   },
   {
    "duration": 624,
    "start_time": "2024-02-12T08:30:45.082Z"
   },
   {
    "duration": 945,
    "start_time": "2024-02-12T08:30:45.709Z"
   },
   {
    "duration": 17,
    "start_time": "2024-02-12T08:30:46.655Z"
   },
   {
    "duration": 119,
    "start_time": "2024-02-12T08:30:46.673Z"
   },
   {
    "duration": 37,
    "start_time": "2024-02-12T08:30:46.794Z"
   },
   {
    "duration": 117,
    "start_time": "2024-02-12T08:30:46.833Z"
   },
   {
    "duration": 47,
    "start_time": "2024-02-12T08:30:46.952Z"
   },
   {
    "duration": 56,
    "start_time": "2024-02-12T08:30:47.000Z"
   },
   {
    "duration": 88,
    "start_time": "2024-02-12T08:30:47.058Z"
   },
   {
    "duration": 46,
    "start_time": "2024-02-12T08:30:47.148Z"
   },
   {
    "duration": 50,
    "start_time": "2024-02-12T08:30:47.195Z"
   },
   {
    "duration": 336,
    "start_time": "2024-02-12T08:30:47.247Z"
   },
   {
    "duration": 259,
    "start_time": "2024-02-12T08:30:47.585Z"
   },
   {
    "duration": 5,
    "start_time": "2024-02-12T08:30:47.846Z"
   },
   {
    "duration": 104,
    "start_time": "2024-02-12T08:30:47.853Z"
   },
   {
    "duration": 209,
    "start_time": "2024-02-12T08:30:47.958Z"
   },
   {
    "duration": 12,
    "start_time": "2024-02-12T08:30:48.169Z"
   },
   {
    "duration": 155,
    "start_time": "2024-02-12T08:30:48.182Z"
   },
   {
    "duration": 45808,
    "start_time": "2024-02-12T08:30:48.339Z"
   },
   {
    "duration": 3,
    "start_time": "2024-02-12T08:33:39.209Z"
   },
   {
    "duration": 880,
    "start_time": "2024-02-12T08:33:39.216Z"
   },
   {
    "duration": 12,
    "start_time": "2024-02-12T08:33:40.098Z"
   },
   {
    "duration": 130,
    "start_time": "2024-02-12T08:33:40.114Z"
   },
   {
    "duration": 25,
    "start_time": "2024-02-12T08:33:40.246Z"
   },
   {
    "duration": 121,
    "start_time": "2024-02-12T08:33:40.273Z"
   },
   {
    "duration": 47,
    "start_time": "2024-02-12T08:33:40.396Z"
   },
   {
    "duration": 39,
    "start_time": "2024-02-12T08:33:40.445Z"
   },
   {
    "duration": 83,
    "start_time": "2024-02-12T08:33:40.485Z"
   },
   {
    "duration": 46,
    "start_time": "2024-02-12T08:33:40.569Z"
   },
   {
    "duration": 32,
    "start_time": "2024-02-12T08:33:40.617Z"
   },
   {
    "duration": 302,
    "start_time": "2024-02-12T08:33:40.651Z"
   },
   {
    "duration": 198,
    "start_time": "2024-02-12T08:33:40.954Z"
   },
   {
    "duration": 5,
    "start_time": "2024-02-12T08:33:41.153Z"
   },
   {
    "duration": 61,
    "start_time": "2024-02-12T08:33:41.159Z"
   },
   {
    "duration": 10,
    "start_time": "2024-02-12T08:33:45.079Z"
   },
   {
    "duration": 3,
    "start_time": "2024-02-12T08:34:03.671Z"
   },
   {
    "duration": 918,
    "start_time": "2024-02-12T08:34:03.679Z"
   },
   {
    "duration": 15,
    "start_time": "2024-02-12T08:34:04.599Z"
   },
   {
    "duration": 122,
    "start_time": "2024-02-12T08:34:04.616Z"
   },
   {
    "duration": 25,
    "start_time": "2024-02-12T08:34:04.740Z"
   },
   {
    "duration": 146,
    "start_time": "2024-02-12T08:34:04.768Z"
   },
   {
    "duration": 38,
    "start_time": "2024-02-12T08:34:04.916Z"
   },
   {
    "duration": 39,
    "start_time": "2024-02-12T08:34:04.956Z"
   },
   {
    "duration": 83,
    "start_time": "2024-02-12T08:34:04.997Z"
   },
   {
    "duration": 52,
    "start_time": "2024-02-12T08:34:05.082Z"
   },
   {
    "duration": 32,
    "start_time": "2024-02-12T08:34:05.136Z"
   },
   {
    "duration": 321,
    "start_time": "2024-02-12T08:34:05.170Z"
   },
   {
    "duration": 191,
    "start_time": "2024-02-12T08:34:05.493Z"
   },
   {
    "duration": 5,
    "start_time": "2024-02-12T08:34:05.686Z"
   },
   {
    "duration": 228,
    "start_time": "2024-02-12T08:34:45.185Z"
   },
   {
    "duration": 12,
    "start_time": "2024-02-12T08:34:46.174Z"
   },
   {
    "duration": 3,
    "start_time": "2024-02-12T08:35:07.696Z"
   },
   {
    "duration": 878,
    "start_time": "2024-02-12T08:35:07.701Z"
   },
   {
    "duration": 14,
    "start_time": "2024-02-12T08:35:08.581Z"
   },
   {
    "duration": 123,
    "start_time": "2024-02-12T08:35:08.597Z"
   },
   {
    "duration": 25,
    "start_time": "2024-02-12T08:35:08.722Z"
   },
   {
    "duration": 129,
    "start_time": "2024-02-12T08:35:08.749Z"
   },
   {
    "duration": 57,
    "start_time": "2024-02-12T08:35:08.880Z"
   },
   {
    "duration": 39,
    "start_time": "2024-02-12T08:35:08.939Z"
   },
   {
    "duration": 85,
    "start_time": "2024-02-12T08:35:08.980Z"
   },
   {
    "duration": 48,
    "start_time": "2024-02-12T08:35:09.067Z"
   },
   {
    "duration": 31,
    "start_time": "2024-02-12T08:35:09.117Z"
   },
   {
    "duration": 1024,
    "start_time": "2024-02-12T08:35:09.150Z"
   },
   {
    "duration": 167,
    "start_time": "2024-02-12T08:35:10.176Z"
   },
   {
    "duration": 7,
    "start_time": "2024-02-12T08:35:10.344Z"
   },
   {
    "duration": 16,
    "start_time": "2024-02-12T08:35:16.809Z"
   },
   {
    "duration": 10,
    "start_time": "2024-02-12T08:35:37.896Z"
   },
   {
    "duration": 600,
    "start_time": "2024-02-12T08:38:56.654Z"
   },
   {
    "duration": 982,
    "start_time": "2024-02-12T08:38:57.256Z"
   },
   {
    "duration": 16,
    "start_time": "2024-02-12T08:38:58.240Z"
   },
   {
    "duration": 125,
    "start_time": "2024-02-12T08:38:58.258Z"
   },
   {
    "duration": 35,
    "start_time": "2024-02-12T08:38:58.384Z"
   },
   {
    "duration": 120,
    "start_time": "2024-02-12T08:38:58.420Z"
   },
   {
    "duration": 50,
    "start_time": "2024-02-12T08:38:58.542Z"
   },
   {
    "duration": 59,
    "start_time": "2024-02-12T08:38:58.593Z"
   },
   {
    "duration": 92,
    "start_time": "2024-02-12T08:38:58.654Z"
   },
   {
    "duration": 48,
    "start_time": "2024-02-12T08:38:58.748Z"
   },
   {
    "duration": 56,
    "start_time": "2024-02-12T08:38:58.797Z"
   },
   {
    "duration": 304,
    "start_time": "2024-02-12T08:38:58.855Z"
   },
   {
    "duration": 217,
    "start_time": "2024-02-12T08:38:59.160Z"
   },
   {
    "duration": 5,
    "start_time": "2024-02-12T08:38:59.379Z"
   },
   {
    "duration": 11,
    "start_time": "2024-02-12T08:38:59.385Z"
   },
   {
    "duration": 23,
    "start_time": "2024-02-12T08:38:59.397Z"
   },
   {
    "duration": 281,
    "start_time": "2024-02-12T08:38:59.421Z"
   },
   {
    "duration": 15,
    "start_time": "2024-02-12T08:38:59.704Z"
   },
   {
    "duration": 151,
    "start_time": "2024-02-12T08:38:59.721Z"
   },
   {
    "duration": 655,
    "start_time": "2024-02-12T08:39:24.817Z"
   },
   {
    "duration": 939,
    "start_time": "2024-02-12T08:39:25.473Z"
   },
   {
    "duration": 16,
    "start_time": "2024-02-12T08:39:26.413Z"
   },
   {
    "duration": 120,
    "start_time": "2024-02-12T08:39:26.431Z"
   },
   {
    "duration": 49,
    "start_time": "2024-02-12T08:39:26.552Z"
   },
   {
    "duration": 122,
    "start_time": "2024-02-12T08:39:26.602Z"
   },
   {
    "duration": 38,
    "start_time": "2024-02-12T08:39:26.726Z"
   },
   {
    "duration": 56,
    "start_time": "2024-02-12T08:39:26.766Z"
   },
   {
    "duration": 75,
    "start_time": "2024-02-12T08:39:26.824Z"
   },
   {
    "duration": 51,
    "start_time": "2024-02-12T08:39:26.901Z"
   },
   {
    "duration": 31,
    "start_time": "2024-02-12T08:39:26.954Z"
   },
   {
    "duration": 335,
    "start_time": "2024-02-12T08:39:26.986Z"
   },
   {
    "duration": 221,
    "start_time": "2024-02-12T08:39:27.322Z"
   },
   {
    "duration": 5,
    "start_time": "2024-02-12T08:39:27.544Z"
   },
   {
    "duration": 22,
    "start_time": "2024-02-12T08:39:27.550Z"
   },
   {
    "duration": 16,
    "start_time": "2024-02-12T08:39:27.573Z"
   },
   {
    "duration": 239,
    "start_time": "2024-02-12T08:39:27.590Z"
   },
   {
    "duration": 11,
    "start_time": "2024-02-12T08:39:27.830Z"
   },
   {
    "duration": 158,
    "start_time": "2024-02-12T08:39:27.842Z"
   },
   {
    "duration": 614,
    "start_time": "2024-02-12T08:40:06.920Z"
   },
   {
    "duration": 957,
    "start_time": "2024-02-12T08:40:07.536Z"
   },
   {
    "duration": 21,
    "start_time": "2024-02-12T08:40:08.495Z"
   },
   {
    "duration": 116,
    "start_time": "2024-02-12T08:40:08.518Z"
   },
   {
    "duration": 54,
    "start_time": "2024-02-12T08:40:08.635Z"
   },
   {
    "duration": 133,
    "start_time": "2024-02-12T08:40:08.690Z"
   },
   {
    "duration": 51,
    "start_time": "2024-02-12T08:40:08.825Z"
   },
   {
    "duration": 53,
    "start_time": "2024-02-12T08:40:08.877Z"
   },
   {
    "duration": 69,
    "start_time": "2024-02-12T08:40:08.931Z"
   },
   {
    "duration": 48,
    "start_time": "2024-02-12T08:40:09.002Z"
   },
   {
    "duration": 32,
    "start_time": "2024-02-12T08:40:09.052Z"
   },
   {
    "duration": 314,
    "start_time": "2024-02-12T08:40:09.086Z"
   },
   {
    "duration": 220,
    "start_time": "2024-02-12T08:40:09.402Z"
   },
   {
    "duration": 5,
    "start_time": "2024-02-12T08:40:09.623Z"
   },
   {
    "duration": 11,
    "start_time": "2024-02-12T08:40:09.629Z"
   },
   {
    "duration": 13,
    "start_time": "2024-02-12T08:40:09.641Z"
   },
   {
    "duration": 248,
    "start_time": "2024-02-12T08:40:09.655Z"
   },
   {
    "duration": 11,
    "start_time": "2024-02-12T08:40:09.905Z"
   },
   {
    "duration": 153,
    "start_time": "2024-02-12T08:40:09.917Z"
   },
   {
    "duration": 46084,
    "start_time": "2024-02-12T08:40:10.072Z"
   },
   {
    "duration": 652,
    "start_time": "2024-02-12T08:41:03.698Z"
   },
   {
    "duration": 951,
    "start_time": "2024-02-12T08:41:04.352Z"
   },
   {
    "duration": 18,
    "start_time": "2024-02-12T08:41:05.304Z"
   },
   {
    "duration": 122,
    "start_time": "2024-02-12T08:41:05.323Z"
   },
   {
    "duration": 28,
    "start_time": "2024-02-12T08:41:05.447Z"
   },
   {
    "duration": 122,
    "start_time": "2024-02-12T08:41:05.477Z"
   },
   {
    "duration": 52,
    "start_time": "2024-02-12T08:41:05.601Z"
   },
   {
    "duration": 44,
    "start_time": "2024-02-12T08:41:05.655Z"
   },
   {
    "duration": 80,
    "start_time": "2024-02-12T08:41:05.715Z"
   },
   {
    "duration": 61,
    "start_time": "2024-02-12T08:41:05.797Z"
   },
   {
    "duration": 32,
    "start_time": "2024-02-12T08:41:05.860Z"
   },
   {
    "duration": 322,
    "start_time": "2024-02-12T08:41:05.893Z"
   },
   {
    "duration": 224,
    "start_time": "2024-02-12T08:41:06.217Z"
   },
   {
    "duration": 6,
    "start_time": "2024-02-12T08:41:06.444Z"
   },
   {
    "duration": 25,
    "start_time": "2024-02-12T08:41:06.452Z"
   },
   {
    "duration": 30,
    "start_time": "2024-02-12T08:41:06.479Z"
   },
   {
    "duration": 18,
    "start_time": "2024-02-12T08:41:06.511Z"
   },
   {
    "duration": 26,
    "start_time": "2024-02-12T08:41:06.530Z"
   },
   {
    "duration": 140,
    "start_time": "2024-02-12T08:41:06.557Z"
   },
   {
    "duration": 192,
    "start_time": "2024-02-12T08:41:06.698Z"
   },
   {
    "duration": 622,
    "start_time": "2024-02-12T08:41:42.727Z"
   },
   {
    "duration": 947,
    "start_time": "2024-02-12T08:41:43.351Z"
   },
   {
    "duration": 17,
    "start_time": "2024-02-12T08:41:44.300Z"
   },
   {
    "duration": 123,
    "start_time": "2024-02-12T08:41:44.318Z"
   },
   {
    "duration": 48,
    "start_time": "2024-02-12T08:41:44.443Z"
   },
   {
    "duration": 128,
    "start_time": "2024-02-12T08:41:44.493Z"
   },
   {
    "duration": 37,
    "start_time": "2024-02-12T08:41:44.623Z"
   },
   {
    "duration": 54,
    "start_time": "2024-02-12T08:41:44.661Z"
   },
   {
    "duration": 67,
    "start_time": "2024-02-12T08:41:44.717Z"
   },
   {
    "duration": 55,
    "start_time": "2024-02-12T08:41:44.786Z"
   },
   {
    "duration": 31,
    "start_time": "2024-02-12T08:41:44.843Z"
   },
   {
    "duration": 324,
    "start_time": "2024-02-12T08:41:44.875Z"
   },
   {
    "duration": 229,
    "start_time": "2024-02-12T08:41:45.201Z"
   },
   {
    "duration": 4,
    "start_time": "2024-02-12T08:41:45.433Z"
   },
   {
    "duration": 11,
    "start_time": "2024-02-12T08:41:45.438Z"
   },
   {
    "duration": 15,
    "start_time": "2024-02-12T08:41:45.451Z"
   },
   {
    "duration": 253,
    "start_time": "2024-02-12T08:41:45.468Z"
   },
   {
    "duration": 11,
    "start_time": "2024-02-12T08:41:45.723Z"
   },
   {
    "duration": 160,
    "start_time": "2024-02-12T08:41:45.735Z"
   },
   {
    "duration": 5,
    "start_time": "2024-02-12T08:43:04.759Z"
   },
   {
    "duration": 30,
    "start_time": "2024-02-12T08:43:47.463Z"
   },
   {
    "duration": 5,
    "start_time": "2024-02-12T08:44:00.567Z"
   },
   {
    "duration": 647,
    "start_time": "2024-02-12T08:44:06.506Z"
   },
   {
    "duration": 941,
    "start_time": "2024-02-12T08:44:07.154Z"
   },
   {
    "duration": 21,
    "start_time": "2024-02-12T08:44:08.096Z"
   },
   {
    "duration": 124,
    "start_time": "2024-02-12T08:44:08.120Z"
   },
   {
    "duration": 28,
    "start_time": "2024-02-12T08:44:08.246Z"
   },
   {
    "duration": 131,
    "start_time": "2024-02-12T08:44:08.276Z"
   },
   {
    "duration": 51,
    "start_time": "2024-02-12T08:44:08.408Z"
   },
   {
    "duration": 59,
    "start_time": "2024-02-12T08:44:08.461Z"
   },
   {
    "duration": 80,
    "start_time": "2024-02-12T08:44:08.521Z"
   },
   {
    "duration": 56,
    "start_time": "2024-02-12T08:44:08.603Z"
   },
   {
    "duration": 55,
    "start_time": "2024-02-12T08:44:08.660Z"
   },
   {
    "duration": 337,
    "start_time": "2024-02-12T08:44:08.716Z"
   },
   {
    "duration": 221,
    "start_time": "2024-02-12T08:44:09.055Z"
   },
   {
    "duration": 5,
    "start_time": "2024-02-12T08:44:09.278Z"
   },
   {
    "duration": 5,
    "start_time": "2024-02-12T08:44:09.285Z"
   },
   {
    "duration": 291,
    "start_time": "2024-02-12T08:44:45.206Z"
   },
   {
    "duration": 5,
    "start_time": "2024-02-12T08:44:54.944Z"
   },
   {
    "duration": 656,
    "start_time": "2024-02-12T08:46:55.559Z"
   },
   {
    "duration": 973,
    "start_time": "2024-02-12T08:46:56.217Z"
   },
   {
    "duration": 24,
    "start_time": "2024-02-12T08:46:57.191Z"
   },
   {
    "duration": 157,
    "start_time": "2024-02-12T08:46:57.217Z"
   },
   {
    "duration": 65,
    "start_time": "2024-02-12T08:46:57.376Z"
   },
   {
    "duration": 123,
    "start_time": "2024-02-12T08:46:57.443Z"
   },
   {
    "duration": 50,
    "start_time": "2024-02-12T08:46:57.568Z"
   },
   {
    "duration": 39,
    "start_time": "2024-02-12T08:46:57.620Z"
   },
   {
    "duration": 87,
    "start_time": "2024-02-12T08:46:57.661Z"
   },
   {
    "duration": 52,
    "start_time": "2024-02-12T08:46:57.749Z"
   },
   {
    "duration": 44,
    "start_time": "2024-02-12T08:46:57.803Z"
   },
   {
    "duration": 369,
    "start_time": "2024-02-12T08:46:57.848Z"
   },
   {
    "duration": 225,
    "start_time": "2024-02-12T08:46:58.218Z"
   },
   {
    "duration": 7,
    "start_time": "2024-02-12T08:46:58.446Z"
   },
   {
    "duration": 95,
    "start_time": "2024-02-12T08:46:58.454Z"
   },
   {
    "duration": 0,
    "start_time": "2024-02-12T08:46:58.551Z"
   },
   {
    "duration": 261,
    "start_time": "2024-02-12T08:47:10.727Z"
   },
   {
    "duration": 6,
    "start_time": "2024-02-12T08:47:11.960Z"
   },
   {
    "duration": 648,
    "start_time": "2024-02-12T08:47:34.801Z"
   },
   {
    "duration": 933,
    "start_time": "2024-02-12T08:47:35.450Z"
   },
   {
    "duration": 16,
    "start_time": "2024-02-12T08:47:36.384Z"
   },
   {
    "duration": 121,
    "start_time": "2024-02-12T08:47:36.402Z"
   },
   {
    "duration": 52,
    "start_time": "2024-02-12T08:47:36.524Z"
   },
   {
    "duration": 138,
    "start_time": "2024-02-12T08:47:36.577Z"
   },
   {
    "duration": 41,
    "start_time": "2024-02-12T08:47:36.717Z"
   },
   {
    "duration": 55,
    "start_time": "2024-02-12T08:47:36.760Z"
   },
   {
    "duration": 68,
    "start_time": "2024-02-12T08:47:36.817Z"
   },
   {
    "duration": 48,
    "start_time": "2024-02-12T08:47:36.888Z"
   },
   {
    "duration": 32,
    "start_time": "2024-02-12T08:47:36.937Z"
   },
   {
    "duration": 315,
    "start_time": "2024-02-12T08:47:36.971Z"
   },
   {
    "duration": 217,
    "start_time": "2024-02-12T08:47:37.287Z"
   },
   {
    "duration": 9,
    "start_time": "2024-02-12T08:47:37.506Z"
   },
   {
    "duration": 5,
    "start_time": "2024-02-12T08:47:37.516Z"
   },
   {
    "duration": 266,
    "start_time": "2024-02-12T08:47:37.522Z"
   },
   {
    "duration": 6,
    "start_time": "2024-02-12T08:47:37.790Z"
   },
   {
    "duration": 640,
    "start_time": "2024-02-12T08:49:38.802Z"
   },
   {
    "duration": 940,
    "start_time": "2024-02-12T08:49:39.444Z"
   },
   {
    "duration": 16,
    "start_time": "2024-02-12T08:49:40.385Z"
   },
   {
    "duration": 120,
    "start_time": "2024-02-12T08:49:40.402Z"
   },
   {
    "duration": 25,
    "start_time": "2024-02-12T08:49:40.525Z"
   },
   {
    "duration": 123,
    "start_time": "2024-02-12T08:49:40.552Z"
   },
   {
    "duration": 53,
    "start_time": "2024-02-12T08:49:40.676Z"
   },
   {
    "duration": 44,
    "start_time": "2024-02-12T08:49:40.730Z"
   },
   {
    "duration": 92,
    "start_time": "2024-02-12T08:49:40.775Z"
   },
   {
    "duration": 56,
    "start_time": "2024-02-12T08:49:40.869Z"
   },
   {
    "duration": 47,
    "start_time": "2024-02-12T08:49:40.927Z"
   },
   {
    "duration": 312,
    "start_time": "2024-02-12T08:49:40.975Z"
   },
   {
    "duration": 35,
    "start_time": "2024-02-12T08:49:41.288Z"
   },
   {
    "duration": 5,
    "start_time": "2024-02-12T08:49:41.325Z"
   },
   {
    "duration": 5,
    "start_time": "2024-02-12T08:49:41.331Z"
   },
   {
    "duration": 36,
    "start_time": "2024-02-12T08:49:41.337Z"
   },
   {
    "duration": 5,
    "start_time": "2024-02-12T08:49:41.375Z"
   },
   {
    "duration": 37,
    "start_time": "2024-02-12T08:50:17.688Z"
   },
   {
    "duration": 1155,
    "start_time": "2024-02-12T08:51:11.367Z"
   },
   {
    "duration": 155,
    "start_time": "2024-02-12T08:51:39.247Z"
   },
   {
    "duration": 117,
    "start_time": "2024-02-12T08:53:35.048Z"
   },
   {
    "duration": 136,
    "start_time": "2024-02-12T08:53:41.880Z"
   },
   {
    "duration": 593,
    "start_time": "2024-02-12T08:56:18.753Z"
   },
   {
    "duration": 936,
    "start_time": "2024-02-12T08:56:19.347Z"
   },
   {
    "duration": 20,
    "start_time": "2024-02-12T08:56:20.285Z"
   },
   {
    "duration": 123,
    "start_time": "2024-02-12T08:56:20.306Z"
   },
   {
    "duration": 50,
    "start_time": "2024-02-12T08:56:20.431Z"
   },
   {
    "duration": 121,
    "start_time": "2024-02-12T08:56:20.482Z"
   },
   {
    "duration": 48,
    "start_time": "2024-02-12T08:56:20.605Z"
   },
   {
    "duration": 39,
    "start_time": "2024-02-12T08:56:20.654Z"
   },
   {
    "duration": 70,
    "start_time": "2024-02-12T08:56:20.715Z"
   },
   {
    "duration": 55,
    "start_time": "2024-02-12T08:56:20.787Z"
   },
   {
    "duration": 31,
    "start_time": "2024-02-12T08:56:20.843Z"
   },
   {
    "duration": 306,
    "start_time": "2024-02-12T08:56:20.876Z"
   },
   {
    "duration": 39,
    "start_time": "2024-02-12T08:56:21.184Z"
   },
   {
    "duration": 5,
    "start_time": "2024-02-12T08:56:21.225Z"
   },
   {
    "duration": 34,
    "start_time": "2024-02-12T08:56:21.231Z"
   },
   {
    "duration": 309,
    "start_time": "2024-02-12T08:56:21.266Z"
   },
   {
    "duration": 113,
    "start_time": "2024-02-12T08:56:21.576Z"
   },
   {
    "duration": 145,
    "start_time": "2024-02-12T08:56:21.690Z"
   },
   {
    "duration": 661,
    "start_time": "2024-02-12T09:06:16.383Z"
   },
   {
    "duration": 949,
    "start_time": "2024-02-12T09:06:17.046Z"
   },
   {
    "duration": 21,
    "start_time": "2024-02-12T09:06:17.996Z"
   },
   {
    "duration": 120,
    "start_time": "2024-02-12T09:06:18.018Z"
   },
   {
    "duration": 51,
    "start_time": "2024-02-12T09:06:18.141Z"
   },
   {
    "duration": 128,
    "start_time": "2024-02-12T09:06:18.194Z"
   },
   {
    "duration": 37,
    "start_time": "2024-02-12T09:06:18.324Z"
   },
   {
    "duration": 52,
    "start_time": "2024-02-12T09:06:18.363Z"
   },
   {
    "duration": 66,
    "start_time": "2024-02-12T09:06:18.417Z"
   },
   {
    "duration": 52,
    "start_time": "2024-02-12T09:06:18.484Z"
   },
   {
    "duration": 30,
    "start_time": "2024-02-12T09:06:18.538Z"
   },
   {
    "duration": 338,
    "start_time": "2024-02-12T09:06:18.570Z"
   },
   {
    "duration": 35,
    "start_time": "2024-02-12T09:06:18.915Z"
   },
   {
    "duration": 5,
    "start_time": "2024-02-12T09:06:18.953Z"
   },
   {
    "duration": 34,
    "start_time": "2024-02-12T09:06:18.959Z"
   },
   {
    "duration": 320,
    "start_time": "2024-02-12T09:06:18.995Z"
   },
   {
    "duration": 298,
    "start_time": "2024-02-12T09:06:19.317Z"
   },
   {
    "duration": 632,
    "start_time": "2024-02-12T10:59:13.328Z"
   },
   {
    "duration": 980,
    "start_time": "2024-02-12T10:59:13.961Z"
   },
   {
    "duration": 18,
    "start_time": "2024-02-12T10:59:14.943Z"
   },
   {
    "duration": 125,
    "start_time": "2024-02-12T10:59:14.962Z"
   },
   {
    "duration": 40,
    "start_time": "2024-02-12T10:59:15.090Z"
   },
   {
    "duration": 124,
    "start_time": "2024-02-12T10:59:15.132Z"
   },
   {
    "duration": 45,
    "start_time": "2024-02-12T10:59:15.258Z"
   },
   {
    "duration": 45,
    "start_time": "2024-02-12T10:59:15.315Z"
   },
   {
    "duration": 94,
    "start_time": "2024-02-12T10:59:15.362Z"
   },
   {
    "duration": 45,
    "start_time": "2024-02-12T10:59:15.457Z"
   },
   {
    "duration": 48,
    "start_time": "2024-02-12T10:59:15.504Z"
   },
   {
    "duration": 349,
    "start_time": "2024-02-12T10:59:15.553Z"
   },
   {
    "duration": 40,
    "start_time": "2024-02-12T10:59:15.904Z"
   },
   {
    "duration": 5,
    "start_time": "2024-02-12T10:59:15.946Z"
   },
   {
    "duration": 38,
    "start_time": "2024-02-12T10:59:15.953Z"
   },
   {
    "duration": 321,
    "start_time": "2024-02-12T10:59:15.994Z"
   },
   {
    "duration": 619,
    "start_time": "2024-02-12T10:59:16.316Z"
   },
   {
    "duration": 299,
    "start_time": "2024-02-12T10:59:37.287Z"
   },
   {
    "duration": 5,
    "start_time": "2024-02-12T11:00:11.387Z"
   },
   {
    "duration": 7,
    "start_time": "2024-02-12T11:01:41.308Z"
   },
   {
    "duration": 6,
    "start_time": "2024-02-12T11:01:48.566Z"
   },
   {
    "duration": 50,
    "start_time": "2024-02-12T13:55:34.230Z"
   },
   {
    "duration": 868,
    "start_time": "2024-02-12T13:55:44.111Z"
   },
   {
    "duration": 1342,
    "start_time": "2024-02-12T13:55:44.981Z"
   },
   {
    "duration": 23,
    "start_time": "2024-02-12T13:55:46.325Z"
   },
   {
    "duration": 141,
    "start_time": "2024-02-12T13:55:46.349Z"
   },
   {
    "duration": 29,
    "start_time": "2024-02-12T13:55:46.492Z"
   },
   {
    "duration": 145,
    "start_time": "2024-02-12T13:55:46.523Z"
   },
   {
    "duration": 40,
    "start_time": "2024-02-12T13:55:46.670Z"
   },
   {
    "duration": 55,
    "start_time": "2024-02-12T13:55:46.711Z"
   },
   {
    "duration": 91,
    "start_time": "2024-02-12T13:55:46.767Z"
   },
   {
    "duration": 42,
    "start_time": "2024-02-12T13:55:46.860Z"
   },
   {
    "duration": 53,
    "start_time": "2024-02-12T13:55:46.903Z"
   },
   {
    "duration": 345,
    "start_time": "2024-02-12T13:55:46.959Z"
   },
   {
    "duration": 42,
    "start_time": "2024-02-12T13:55:47.306Z"
   },
   {
    "duration": 6,
    "start_time": "2024-02-12T13:55:47.350Z"
   },
   {
    "duration": 35,
    "start_time": "2024-02-12T13:55:47.357Z"
   },
   {
    "duration": 340,
    "start_time": "2024-02-12T13:55:47.394Z"
   },
   {
    "duration": 349,
    "start_time": "2024-02-12T13:55:47.736Z"
   },
   {
    "duration": 49,
    "start_time": "2024-02-12T13:55:48.086Z"
   },
   {
    "duration": 430,
    "start_time": "2024-02-12T13:55:48.137Z"
   },
   {
    "duration": 82,
    "start_time": "2024-02-12T13:55:54.283Z"
   },
   {
    "duration": 334,
    "start_time": "2024-02-12T13:56:12.191Z"
   },
   {
    "duration": 361,
    "start_time": "2024-02-12T13:57:43.589Z"
   },
   {
    "duration": 152,
    "start_time": "2024-02-12T14:04:50.369Z"
   },
   {
    "duration": 171,
    "start_time": "2024-02-12T14:05:10.729Z"
   },
   {
    "duration": 187,
    "start_time": "2024-02-12T14:06:23.820Z"
   },
   {
    "duration": 177,
    "start_time": "2024-02-12T14:06:33.648Z"
   },
   {
    "duration": 164,
    "start_time": "2024-02-12T14:16:05.948Z"
   },
   {
    "duration": 3,
    "start_time": "2024-02-12T14:17:04.531Z"
   },
   {
    "duration": 1000,
    "start_time": "2024-02-12T14:17:04.536Z"
   },
   {
    "duration": 14,
    "start_time": "2024-02-12T14:17:05.538Z"
   },
   {
    "duration": 353,
    "start_time": "2024-02-12T14:17:10.446Z"
   },
   {
    "duration": 336,
    "start_time": "2024-02-12T14:25:59.948Z"
   },
   {
    "duration": 733,
    "start_time": "2024-02-12T14:26:42.548Z"
   },
   {
    "duration": 726,
    "start_time": "2024-02-12T14:27:16.875Z"
   },
   {
    "duration": 13,
    "start_time": "2024-02-12T14:49:23.850Z"
   },
   {
    "duration": 3,
    "start_time": "2024-02-12T14:49:27.969Z"
   },
   {
    "duration": 711,
    "start_time": "2024-02-12T14:50:30.104Z"
   },
   {
    "duration": 1059,
    "start_time": "2024-02-12T14:50:30.817Z"
   },
   {
    "duration": 16,
    "start_time": "2024-02-12T14:50:31.878Z"
   },
   {
    "duration": 199,
    "start_time": "2024-02-12T14:50:31.896Z"
   },
   {
    "duration": 409,
    "start_time": "2024-02-12T14:50:32.097Z"
   },
   {
    "duration": 829,
    "start_time": "2024-02-12T14:50:32.508Z"
   },
   {
    "duration": 51,
    "start_time": "2024-02-12T14:50:33.339Z"
   },
   {
    "duration": 151,
    "start_time": "2024-02-12T14:50:33.392Z"
   },
   {
    "duration": 51,
    "start_time": "2024-02-12T14:50:33.545Z"
   },
   {
    "duration": 64,
    "start_time": "2024-02-12T14:50:33.597Z"
   },
   {
    "duration": 87,
    "start_time": "2024-02-12T14:50:33.662Z"
   },
   {
    "duration": 42,
    "start_time": "2024-02-12T14:50:33.751Z"
   },
   {
    "duration": 53,
    "start_time": "2024-02-12T14:50:33.794Z"
   },
   {
    "duration": 352,
    "start_time": "2024-02-12T14:50:33.850Z"
   },
   {
    "duration": 36,
    "start_time": "2024-02-12T14:50:34.203Z"
   },
   {
    "duration": 5,
    "start_time": "2024-02-12T14:50:34.241Z"
   },
   {
    "duration": 39,
    "start_time": "2024-02-12T14:50:34.248Z"
   },
   {
    "duration": 302,
    "start_time": "2024-02-12T14:50:34.289Z"
   },
   {
    "duration": 353,
    "start_time": "2024-02-12T14:50:34.593Z"
   },
   {
    "duration": 19,
    "start_time": "2024-02-12T14:50:34.948Z"
   },
   {
    "duration": 425,
    "start_time": "2024-02-12T14:50:34.969Z"
   },
   {
    "duration": 4,
    "start_time": "2024-02-12T14:50:35.396Z"
   },
   {
    "duration": 682,
    "start_time": "2024-02-12T15:02:05.987Z"
   },
   {
    "duration": 1074,
    "start_time": "2024-02-12T15:02:06.670Z"
   },
   {
    "duration": 17,
    "start_time": "2024-02-12T15:02:07.746Z"
   },
   {
    "duration": 142,
    "start_time": "2024-02-12T15:02:07.766Z"
   },
   {
    "duration": 400,
    "start_time": "2024-02-12T15:02:07.910Z"
   },
   {
    "duration": 852,
    "start_time": "2024-02-12T15:02:08.311Z"
   },
   {
    "duration": 90,
    "start_time": "2024-02-12T15:02:09.165Z"
   },
   {
    "duration": 0,
    "start_time": "2024-02-12T15:02:09.257Z"
   },
   {
    "duration": 0,
    "start_time": "2024-02-12T15:02:09.258Z"
   },
   {
    "duration": 0,
    "start_time": "2024-02-12T15:02:09.259Z"
   },
   {
    "duration": 0,
    "start_time": "2024-02-12T15:02:09.260Z"
   },
   {
    "duration": 0,
    "start_time": "2024-02-12T15:02:09.261Z"
   },
   {
    "duration": 0,
    "start_time": "2024-02-12T15:02:09.262Z"
   },
   {
    "duration": 0,
    "start_time": "2024-02-12T15:02:09.263Z"
   },
   {
    "duration": 0,
    "start_time": "2024-02-12T15:02:09.264Z"
   },
   {
    "duration": 0,
    "start_time": "2024-02-12T15:02:09.265Z"
   },
   {
    "duration": 0,
    "start_time": "2024-02-12T15:02:09.266Z"
   },
   {
    "duration": 0,
    "start_time": "2024-02-12T15:02:09.267Z"
   },
   {
    "duration": 0,
    "start_time": "2024-02-12T15:02:09.268Z"
   },
   {
    "duration": 0,
    "start_time": "2024-02-12T15:02:09.269Z"
   },
   {
    "duration": 0,
    "start_time": "2024-02-12T15:02:09.270Z"
   },
   {
    "duration": 0,
    "start_time": "2024-02-12T15:02:09.271Z"
   },
   {
    "duration": 698,
    "start_time": "2024-02-12T15:02:47.030Z"
   },
   {
    "duration": 1155,
    "start_time": "2024-02-12T15:02:47.732Z"
   },
   {
    "duration": 18,
    "start_time": "2024-02-12T15:02:48.889Z"
   },
   {
    "duration": 153,
    "start_time": "2024-02-12T15:02:48.908Z"
   },
   {
    "duration": 419,
    "start_time": "2024-02-12T15:02:49.063Z"
   },
   {
    "duration": 882,
    "start_time": "2024-02-12T15:02:49.484Z"
   },
   {
    "duration": 40,
    "start_time": "2024-02-12T15:02:50.368Z"
   },
   {
    "duration": 154,
    "start_time": "2024-02-12T15:02:50.410Z"
   },
   {
    "duration": 42,
    "start_time": "2024-02-12T15:02:50.566Z"
   },
   {
    "duration": 60,
    "start_time": "2024-02-12T15:02:50.610Z"
   },
   {
    "duration": 91,
    "start_time": "2024-02-12T15:02:50.672Z"
   },
   {
    "duration": 43,
    "start_time": "2024-02-12T15:02:50.765Z"
   },
   {
    "duration": 36,
    "start_time": "2024-02-12T15:02:50.821Z"
   },
   {
    "duration": 344,
    "start_time": "2024-02-12T15:02:50.859Z"
   },
   {
    "duration": 40,
    "start_time": "2024-02-12T15:02:51.204Z"
   },
   {
    "duration": 5,
    "start_time": "2024-02-12T15:02:51.246Z"
   },
   {
    "duration": 32,
    "start_time": "2024-02-12T15:02:51.252Z"
   },
   {
    "duration": 311,
    "start_time": "2024-02-12T15:02:51.286Z"
   },
   {
    "duration": 361,
    "start_time": "2024-02-12T15:02:51.599Z"
   },
   {
    "duration": 20,
    "start_time": "2024-02-12T15:02:51.961Z"
   },
   {
    "duration": 436,
    "start_time": "2024-02-12T15:02:51.983Z"
   },
   {
    "duration": 5,
    "start_time": "2024-02-12T15:02:52.421Z"
   },
   {
    "duration": 46,
    "start_time": "2024-02-13T08:52:19.654Z"
   },
   {
    "duration": 1529,
    "start_time": "2024-02-13T08:52:26.214Z"
   },
   {
    "duration": 0,
    "start_time": "2024-02-13T08:52:27.746Z"
   },
   {
    "duration": 0,
    "start_time": "2024-02-13T08:52:27.747Z"
   },
   {
    "duration": 0,
    "start_time": "2024-02-13T08:52:27.748Z"
   },
   {
    "duration": 0,
    "start_time": "2024-02-13T08:52:27.749Z"
   },
   {
    "duration": 0,
    "start_time": "2024-02-13T08:52:27.750Z"
   },
   {
    "duration": 0,
    "start_time": "2024-02-13T08:52:27.751Z"
   },
   {
    "duration": 0,
    "start_time": "2024-02-13T08:52:27.752Z"
   },
   {
    "duration": 0,
    "start_time": "2024-02-13T08:52:27.753Z"
   },
   {
    "duration": 0,
    "start_time": "2024-02-13T08:52:27.754Z"
   },
   {
    "duration": 0,
    "start_time": "2024-02-13T08:52:27.755Z"
   },
   {
    "duration": 0,
    "start_time": "2024-02-13T08:52:27.755Z"
   },
   {
    "duration": 0,
    "start_time": "2024-02-13T08:52:27.756Z"
   },
   {
    "duration": 0,
    "start_time": "2024-02-13T08:52:27.757Z"
   },
   {
    "duration": 0,
    "start_time": "2024-02-13T08:52:27.758Z"
   },
   {
    "duration": 0,
    "start_time": "2024-02-13T08:52:27.759Z"
   },
   {
    "duration": 0,
    "start_time": "2024-02-13T08:52:27.760Z"
   },
   {
    "duration": 0,
    "start_time": "2024-02-13T08:52:27.761Z"
   },
   {
    "duration": 0,
    "start_time": "2024-02-13T08:52:27.761Z"
   },
   {
    "duration": 0,
    "start_time": "2024-02-13T08:52:27.787Z"
   },
   {
    "duration": 0,
    "start_time": "2024-02-13T08:52:27.788Z"
   },
   {
    "duration": 0,
    "start_time": "2024-02-13T08:52:27.789Z"
   },
   {
    "duration": 0,
    "start_time": "2024-02-13T08:52:27.790Z"
   },
   {
    "duration": 0,
    "start_time": "2024-02-13T08:52:27.791Z"
   },
   {
    "duration": 0,
    "start_time": "2024-02-13T08:52:27.791Z"
   },
   {
    "duration": 0,
    "start_time": "2024-02-13T08:52:27.792Z"
   },
   {
    "duration": 1365,
    "start_time": "2024-02-13T08:53:04.406Z"
   },
   {
    "duration": 3060,
    "start_time": "2024-02-13T08:53:05.774Z"
   },
   {
    "duration": 17,
    "start_time": "2024-02-13T08:53:08.836Z"
   },
   {
    "duration": 126,
    "start_time": "2024-02-13T08:53:08.855Z"
   },
   {
    "duration": 383,
    "start_time": "2024-02-13T08:53:08.987Z"
   },
   {
    "duration": 756,
    "start_time": "2024-02-13T08:53:09.372Z"
   },
   {
    "duration": 40,
    "start_time": "2024-02-13T08:53:10.129Z"
   },
   {
    "duration": 141,
    "start_time": "2024-02-13T08:53:10.171Z"
   },
   {
    "duration": 42,
    "start_time": "2024-02-13T08:53:10.314Z"
   },
   {
    "duration": 53,
    "start_time": "2024-02-13T08:53:10.360Z"
   },
   {
    "duration": 86,
    "start_time": "2024-02-13T08:53:10.415Z"
   },
   {
    "duration": 42,
    "start_time": "2024-02-13T08:53:10.503Z"
   },
   {
    "duration": 47,
    "start_time": "2024-02-13T08:53:10.547Z"
   },
   {
    "duration": 316,
    "start_time": "2024-02-13T08:53:10.596Z"
   },
   {
    "duration": 30,
    "start_time": "2024-02-13T08:53:10.913Z"
   },
   {
    "duration": 5,
    "start_time": "2024-02-13T08:53:10.944Z"
   },
   {
    "duration": 49,
    "start_time": "2024-02-13T08:53:10.951Z"
   },
   {
    "duration": 276,
    "start_time": "2024-02-13T08:53:11.002Z"
   },
   {
    "duration": 297,
    "start_time": "2024-02-13T08:53:11.287Z"
   },
   {
    "duration": 19,
    "start_time": "2024-02-13T08:53:11.585Z"
   },
   {
    "duration": 389,
    "start_time": "2024-02-13T08:53:11.605Z"
   },
   {
    "duration": 2,
    "start_time": "2024-02-13T08:53:11.996Z"
   },
   {
    "duration": 6,
    "start_time": "2024-02-13T08:53:11.999Z"
   },
   {
    "duration": 4,
    "start_time": "2024-02-13T08:53:12.007Z"
   },
   {
    "duration": 118,
    "start_time": "2024-02-13T08:53:12.012Z"
   },
   {
    "duration": 0,
    "start_time": "2024-02-13T08:53:12.132Z"
   },
   {
    "duration": 1338,
    "start_time": "2024-02-13T08:53:49.272Z"
   },
   {
    "duration": 998,
    "start_time": "2024-02-13T08:53:50.612Z"
   },
   {
    "duration": 16,
    "start_time": "2024-02-13T08:53:51.611Z"
   },
   {
    "duration": 127,
    "start_time": "2024-02-13T08:53:51.629Z"
   },
   {
    "duration": 366,
    "start_time": "2024-02-13T08:53:51.757Z"
   },
   {
    "duration": 757,
    "start_time": "2024-02-13T08:53:52.124Z"
   },
   {
    "duration": 39,
    "start_time": "2024-02-13T08:53:52.883Z"
   },
   {
    "duration": 126,
    "start_time": "2024-02-13T08:53:52.923Z"
   },
   {
    "duration": 54,
    "start_time": "2024-02-13T08:53:53.051Z"
   },
   {
    "duration": 42,
    "start_time": "2024-02-13T08:53:53.107Z"
   },
   {
    "duration": 91,
    "start_time": "2024-02-13T08:53:53.150Z"
   },
   {
    "duration": 49,
    "start_time": "2024-02-13T08:53:53.243Z"
   },
   {
    "duration": 35,
    "start_time": "2024-02-13T08:53:53.294Z"
   },
   {
    "duration": 331,
    "start_time": "2024-02-13T08:53:53.331Z"
   },
   {
    "duration": 34,
    "start_time": "2024-02-13T08:53:53.663Z"
   },
   {
    "duration": 5,
    "start_time": "2024-02-13T08:53:53.699Z"
   },
   {
    "duration": 57,
    "start_time": "2024-02-13T08:53:53.706Z"
   },
   {
    "duration": 272,
    "start_time": "2024-02-13T08:53:53.765Z"
   },
   {
    "duration": 320,
    "start_time": "2024-02-13T08:53:54.038Z"
   },
   {
    "duration": 19,
    "start_time": "2024-02-13T08:53:54.359Z"
   },
   {
    "duration": 396,
    "start_time": "2024-02-13T08:53:54.388Z"
   },
   {
    "duration": 3,
    "start_time": "2024-02-13T08:53:54.786Z"
   },
   {
    "duration": 10,
    "start_time": "2024-02-13T08:53:54.791Z"
   },
   {
    "duration": 12,
    "start_time": "2024-02-13T08:53:54.803Z"
   },
   {
    "duration": 9,
    "start_time": "2024-02-13T08:53:54.816Z"
   },
   {
    "duration": 141,
    "start_time": "2024-02-13T08:53:54.826Z"
   },
   {
    "duration": 13,
    "start_time": "2024-02-13T08:54:06.069Z"
   },
   {
    "duration": 3,
    "start_time": "2024-02-13T09:17:35.697Z"
   },
   {
    "duration": 27,
    "start_time": "2024-02-13T09:17:36.320Z"
   },
   {
    "duration": 61,
    "start_time": "2024-02-13T09:17:36.937Z"
   },
   {
    "duration": 56,
    "start_time": "2024-02-13T09:17:37.737Z"
   },
   {
    "duration": 426,
    "start_time": "2024-02-13T09:18:17.178Z"
   },
   {
    "duration": 220,
    "start_time": "2024-02-13T09:18:20.930Z"
   },
   {
    "duration": 3,
    "start_time": "2024-02-13T09:18:43.085Z"
   },
   {
    "duration": 928,
    "start_time": "2024-02-13T09:18:43.089Z"
   },
   {
    "duration": 14,
    "start_time": "2024-02-13T09:18:44.019Z"
   },
   {
    "duration": 149,
    "start_time": "2024-02-13T09:18:44.035Z"
   },
   {
    "duration": 340,
    "start_time": "2024-02-13T09:18:44.187Z"
   },
   {
    "duration": 694,
    "start_time": "2024-02-13T09:18:44.529Z"
   },
   {
    "duration": 31,
    "start_time": "2024-02-13T09:18:45.227Z"
   },
   {
    "duration": 135,
    "start_time": "2024-02-13T09:18:45.259Z"
   },
   {
    "duration": 41,
    "start_time": "2024-02-13T09:18:45.395Z"
   },
   {
    "duration": 56,
    "start_time": "2024-02-13T09:18:45.438Z"
   },
   {
    "duration": 68,
    "start_time": "2024-02-13T09:18:45.496Z"
   },
   {
    "duration": 56,
    "start_time": "2024-02-13T09:18:45.566Z"
   },
   {
    "duration": 33,
    "start_time": "2024-02-13T09:18:45.624Z"
   },
   {
    "duration": 314,
    "start_time": "2024-02-13T09:18:45.660Z"
   },
   {
    "duration": 23,
    "start_time": "2024-02-13T09:18:45.975Z"
   },
   {
    "duration": 5,
    "start_time": "2024-02-13T09:18:45.999Z"
   },
   {
    "duration": 33,
    "start_time": "2024-02-13T09:18:46.006Z"
   },
   {
    "duration": 278,
    "start_time": "2024-02-13T09:18:46.041Z"
   },
   {
    "duration": 300,
    "start_time": "2024-02-13T09:18:46.320Z"
   },
   {
    "duration": 19,
    "start_time": "2024-02-13T09:18:46.621Z"
   },
   {
    "duration": 332,
    "start_time": "2024-02-13T09:18:46.642Z"
   },
   {
    "duration": 3,
    "start_time": "2024-02-13T09:18:46.976Z"
   },
   {
    "duration": 20,
    "start_time": "2024-02-13T09:18:46.980Z"
   },
   {
    "duration": 51,
    "start_time": "2024-02-13T09:18:47.002Z"
   },
   {
    "duration": 67,
    "start_time": "2024-02-13T09:18:47.055Z"
   },
   {
    "duration": 426,
    "start_time": "2024-02-13T09:18:47.124Z"
   },
   {
    "duration": 225,
    "start_time": "2024-02-13T09:18:51.979Z"
   },
   {
    "duration": 9,
    "start_time": "2024-02-13T09:20:26.496Z"
   },
   {
    "duration": 13,
    "start_time": "2024-02-13T09:20:44.817Z"
   },
   {
    "duration": 283,
    "start_time": "2024-02-13T09:21:55.777Z"
   },
   {
    "duration": 1330,
    "start_time": "2024-02-13T09:28:36.418Z"
   },
   {
    "duration": 989,
    "start_time": "2024-02-13T09:28:37.750Z"
   },
   {
    "duration": 19,
    "start_time": "2024-02-13T09:28:38.740Z"
   },
   {
    "duration": 133,
    "start_time": "2024-02-13T09:28:38.760Z"
   },
   {
    "duration": 367,
    "start_time": "2024-02-13T09:28:38.895Z"
   },
   {
    "duration": 766,
    "start_time": "2024-02-13T09:28:39.263Z"
   },
   {
    "duration": 39,
    "start_time": "2024-02-13T09:28:40.030Z"
   },
   {
    "duration": 155,
    "start_time": "2024-02-13T09:28:40.071Z"
   },
   {
    "duration": 42,
    "start_time": "2024-02-13T09:28:40.227Z"
   },
   {
    "duration": 54,
    "start_time": "2024-02-13T09:28:40.270Z"
   },
   {
    "duration": 80,
    "start_time": "2024-02-13T09:28:40.326Z"
   },
   {
    "duration": 41,
    "start_time": "2024-02-13T09:28:40.408Z"
   },
   {
    "duration": 52,
    "start_time": "2024-02-13T09:28:40.451Z"
   },
   {
    "duration": 323,
    "start_time": "2024-02-13T09:28:40.506Z"
   },
   {
    "duration": 28,
    "start_time": "2024-02-13T09:28:40.830Z"
   },
   {
    "duration": 11,
    "start_time": "2024-02-13T09:28:40.860Z"
   },
   {
    "duration": 66,
    "start_time": "2024-02-13T09:28:40.873Z"
   },
   {
    "duration": 277,
    "start_time": "2024-02-13T09:28:40.940Z"
   },
   {
    "duration": 315,
    "start_time": "2024-02-13T09:28:41.219Z"
   },
   {
    "duration": 21,
    "start_time": "2024-02-13T09:28:41.536Z"
   },
   {
    "duration": 417,
    "start_time": "2024-02-13T09:28:41.558Z"
   },
   {
    "duration": 2,
    "start_time": "2024-02-13T09:28:41.977Z"
   },
   {
    "duration": 38,
    "start_time": "2024-02-13T09:28:41.986Z"
   },
   {
    "duration": 76,
    "start_time": "2024-02-13T09:28:42.025Z"
   },
   {
    "duration": 54,
    "start_time": "2024-02-13T09:28:42.103Z"
   },
   {
    "duration": 428,
    "start_time": "2024-02-13T09:28:42.159Z"
   },
   {
    "duration": 400,
    "start_time": "2024-02-13T09:28:42.589Z"
   },
   {
    "duration": 0,
    "start_time": "2024-02-13T09:28:42.991Z"
   },
   {
    "duration": 0,
    "start_time": "2024-02-13T09:28:42.992Z"
   },
   {
    "duration": 0,
    "start_time": "2024-02-13T09:28:42.993Z"
   },
   {
    "duration": 0,
    "start_time": "2024-02-13T09:28:42.994Z"
   },
   {
    "duration": 0,
    "start_time": "2024-02-13T09:28:42.994Z"
   },
   {
    "duration": 0,
    "start_time": "2024-02-13T09:28:42.995Z"
   },
   {
    "duration": 280,
    "start_time": "2024-02-13T10:04:33.505Z"
   },
   {
    "duration": 4,
    "start_time": "2024-02-13T10:05:45.613Z"
   },
   {
    "duration": 939,
    "start_time": "2024-02-13T10:05:45.618Z"
   },
   {
    "duration": 13,
    "start_time": "2024-02-13T10:05:46.559Z"
   },
   {
    "duration": 131,
    "start_time": "2024-02-13T10:05:46.574Z"
   },
   {
    "duration": 325,
    "start_time": "2024-02-13T10:05:46.707Z"
   },
   {
    "duration": 680,
    "start_time": "2024-02-13T10:05:47.034Z"
   },
   {
    "duration": 28,
    "start_time": "2024-02-13T10:05:47.716Z"
   },
   {
    "duration": 132,
    "start_time": "2024-02-13T10:05:47.746Z"
   },
   {
    "duration": 41,
    "start_time": "2024-02-13T10:05:47.888Z"
   },
   {
    "duration": 42,
    "start_time": "2024-02-13T10:05:47.930Z"
   },
   {
    "duration": 73,
    "start_time": "2024-02-13T10:05:47.987Z"
   },
   {
    "duration": 51,
    "start_time": "2024-02-13T10:05:48.061Z"
   },
   {
    "duration": 34,
    "start_time": "2024-02-13T10:05:48.113Z"
   },
   {
    "duration": 345,
    "start_time": "2024-02-13T10:05:48.150Z"
   },
   {
    "duration": 19,
    "start_time": "2024-02-13T10:05:48.496Z"
   },
   {
    "duration": 5,
    "start_time": "2024-02-13T10:05:48.517Z"
   },
   {
    "duration": 21,
    "start_time": "2024-02-13T10:05:48.524Z"
   },
   {
    "duration": 307,
    "start_time": "2024-02-13T10:05:48.547Z"
   },
   {
    "duration": 322,
    "start_time": "2024-02-13T10:05:48.856Z"
   },
   {
    "duration": 24,
    "start_time": "2024-02-13T10:05:49.180Z"
   },
   {
    "duration": 362,
    "start_time": "2024-02-13T10:05:49.206Z"
   },
   {
    "duration": 3,
    "start_time": "2024-02-13T10:05:49.569Z"
   },
   {
    "duration": 61,
    "start_time": "2024-02-13T10:05:49.574Z"
   },
   {
    "duration": 441,
    "start_time": "2024-02-13T10:05:49.637Z"
   },
   {
    "duration": 7879,
    "start_time": "2024-02-13T10:05:58.007Z"
   },
   {
    "duration": 4,
    "start_time": "2024-02-13T10:07:45.832Z"
   },
   {
    "duration": 949,
    "start_time": "2024-02-13T10:07:45.838Z"
   },
   {
    "duration": 14,
    "start_time": "2024-02-13T10:07:46.788Z"
   },
   {
    "duration": 128,
    "start_time": "2024-02-13T10:07:46.803Z"
   },
   {
    "duration": 320,
    "start_time": "2024-02-13T10:07:46.933Z"
   },
   {
    "duration": 669,
    "start_time": "2024-02-13T10:07:47.254Z"
   },
   {
    "duration": 26,
    "start_time": "2024-02-13T10:07:47.925Z"
   },
   {
    "duration": 121,
    "start_time": "2024-02-13T10:07:47.953Z"
   },
   {
    "duration": 44,
    "start_time": "2024-02-13T10:07:48.075Z"
   },
   {
    "duration": 37,
    "start_time": "2024-02-13T10:07:48.121Z"
   },
   {
    "duration": 85,
    "start_time": "2024-02-13T10:07:48.159Z"
   },
   {
    "duration": 47,
    "start_time": "2024-02-13T10:07:48.246Z"
   },
   {
    "duration": 31,
    "start_time": "2024-02-13T10:07:48.295Z"
   },
   {
    "duration": 303,
    "start_time": "2024-02-13T10:07:48.328Z"
   },
   {
    "duration": 18,
    "start_time": "2024-02-13T10:07:48.633Z"
   },
   {
    "duration": 6,
    "start_time": "2024-02-13T10:07:48.652Z"
   },
   {
    "duration": 37,
    "start_time": "2024-02-13T10:07:48.659Z"
   },
   {
    "duration": 271,
    "start_time": "2024-02-13T10:07:48.697Z"
   },
   {
    "duration": 327,
    "start_time": "2024-02-13T10:07:48.970Z"
   },
   {
    "duration": 20,
    "start_time": "2024-02-13T10:07:49.298Z"
   },
   {
    "duration": 316,
    "start_time": "2024-02-13T10:07:49.319Z"
   },
   {
    "duration": 3,
    "start_time": "2024-02-13T10:07:49.636Z"
   },
   {
    "duration": 60,
    "start_time": "2024-02-13T10:07:49.640Z"
   },
   {
    "duration": 441,
    "start_time": "2024-02-13T10:07:49.702Z"
   },
   {
    "duration": 262,
    "start_time": "2024-02-13T10:07:52.909Z"
   },
   {
    "duration": 4,
    "start_time": "2024-02-13T10:08:17.070Z"
   },
   {
    "duration": 8885,
    "start_time": "2024-02-13T10:10:32.129Z"
   },
   {
    "duration": 4,
    "start_time": "2024-02-13T10:11:10.202Z"
   },
   {
    "duration": 926,
    "start_time": "2024-02-13T10:11:10.208Z"
   },
   {
    "duration": 14,
    "start_time": "2024-02-13T10:11:11.135Z"
   },
   {
    "duration": 139,
    "start_time": "2024-02-13T10:11:11.150Z"
   },
   {
    "duration": 300,
    "start_time": "2024-02-13T10:11:11.291Z"
   },
   {
    "duration": 636,
    "start_time": "2024-02-13T10:11:11.592Z"
   },
   {
    "duration": 27,
    "start_time": "2024-02-13T10:11:12.229Z"
   },
   {
    "duration": 138,
    "start_time": "2024-02-13T10:11:12.257Z"
   },
   {
    "duration": 41,
    "start_time": "2024-02-13T10:11:12.397Z"
   },
   {
    "duration": 54,
    "start_time": "2024-02-13T10:11:12.440Z"
   },
   {
    "duration": 71,
    "start_time": "2024-02-13T10:11:12.496Z"
   },
   {
    "duration": 50,
    "start_time": "2024-02-13T10:11:12.568Z"
   },
   {
    "duration": 33,
    "start_time": "2024-02-13T10:11:12.619Z"
   },
   {
    "duration": 321,
    "start_time": "2024-02-13T10:11:12.653Z"
   },
   {
    "duration": 22,
    "start_time": "2024-02-13T10:11:12.976Z"
   },
   {
    "duration": 6,
    "start_time": "2024-02-13T10:11:13.000Z"
   },
   {
    "duration": 25,
    "start_time": "2024-02-13T10:11:13.007Z"
   },
   {
    "duration": 306,
    "start_time": "2024-02-13T10:11:13.034Z"
   },
   {
    "duration": 438,
    "start_time": "2024-02-13T10:11:13.342Z"
   },
   {
    "duration": 22,
    "start_time": "2024-02-13T10:11:13.782Z"
   },
   {
    "duration": 358,
    "start_time": "2024-02-13T10:11:13.806Z"
   },
   {
    "duration": 3,
    "start_time": "2024-02-13T10:11:14.166Z"
   },
   {
    "duration": 61,
    "start_time": "2024-02-13T10:11:14.171Z"
   },
   {
    "duration": 462,
    "start_time": "2024-02-13T10:11:14.233Z"
   },
   {
    "duration": 351,
    "start_time": "2024-02-13T10:11:16.853Z"
   },
   {
    "duration": 8143,
    "start_time": "2024-02-13T10:11:25.061Z"
   },
   {
    "duration": 10863,
    "start_time": "2024-02-13T10:11:54.961Z"
   },
   {
    "duration": 4,
    "start_time": "2024-02-13T10:14:06.756Z"
   },
   {
    "duration": 946,
    "start_time": "2024-02-13T10:14:06.762Z"
   },
   {
    "duration": 14,
    "start_time": "2024-02-13T10:14:07.709Z"
   },
   {
    "duration": 134,
    "start_time": "2024-02-13T10:14:07.725Z"
   },
   {
    "duration": 321,
    "start_time": "2024-02-13T10:14:07.861Z"
   },
   {
    "duration": 695,
    "start_time": "2024-02-13T10:14:08.184Z"
   },
   {
    "duration": 27,
    "start_time": "2024-02-13T10:14:08.881Z"
   },
   {
    "duration": 131,
    "start_time": "2024-02-13T10:14:08.910Z"
   },
   {
    "duration": 49,
    "start_time": "2024-02-13T10:14:09.042Z"
   },
   {
    "duration": 41,
    "start_time": "2024-02-13T10:14:09.093Z"
   },
   {
    "duration": 88,
    "start_time": "2024-02-13T10:14:09.135Z"
   },
   {
    "duration": 47,
    "start_time": "2024-02-13T10:14:09.225Z"
   },
   {
    "duration": 46,
    "start_time": "2024-02-13T10:14:09.273Z"
   },
   {
    "duration": 330,
    "start_time": "2024-02-13T10:14:09.321Z"
   },
   {
    "duration": 19,
    "start_time": "2024-02-13T10:14:09.652Z"
   },
   {
    "duration": 17,
    "start_time": "2024-02-13T10:14:09.672Z"
   },
   {
    "duration": 23,
    "start_time": "2024-02-13T10:14:09.690Z"
   },
   {
    "duration": 288,
    "start_time": "2024-02-13T10:14:09.715Z"
   },
   {
    "duration": 327,
    "start_time": "2024-02-13T10:14:10.005Z"
   },
   {
    "duration": 20,
    "start_time": "2024-02-13T10:14:10.333Z"
   },
   {
    "duration": 335,
    "start_time": "2024-02-13T10:14:10.354Z"
   },
   {
    "duration": 3,
    "start_time": "2024-02-13T10:14:10.690Z"
   },
   {
    "duration": 67,
    "start_time": "2024-02-13T10:14:10.695Z"
   },
   {
    "duration": 446,
    "start_time": "2024-02-13T10:14:10.765Z"
   },
   {
    "duration": 261,
    "start_time": "2024-02-13T10:14:13.605Z"
   },
   {
    "duration": 10327,
    "start_time": "2024-02-13T10:16:14.786Z"
   },
   {
    "duration": 10218,
    "start_time": "2024-02-13T10:16:30.439Z"
   },
   {
    "duration": 10558,
    "start_time": "2024-02-13T10:16:52.844Z"
   },
   {
    "duration": 4,
    "start_time": "2024-02-13T10:17:57.055Z"
   },
   {
    "duration": 965,
    "start_time": "2024-02-13T10:17:57.061Z"
   },
   {
    "duration": 16,
    "start_time": "2024-02-13T10:17:58.027Z"
   },
   {
    "duration": 132,
    "start_time": "2024-02-13T10:17:58.045Z"
   },
   {
    "duration": 329,
    "start_time": "2024-02-13T10:17:58.179Z"
   },
   {
    "duration": 678,
    "start_time": "2024-02-13T10:17:58.510Z"
   },
   {
    "duration": 28,
    "start_time": "2024-02-13T10:17:59.189Z"
   },
   {
    "duration": 144,
    "start_time": "2024-02-13T10:17:59.219Z"
   },
   {
    "duration": 46,
    "start_time": "2024-02-13T10:17:59.365Z"
   },
   {
    "duration": 42,
    "start_time": "2024-02-13T10:17:59.414Z"
   },
   {
    "duration": 86,
    "start_time": "2024-02-13T10:17:59.457Z"
   },
   {
    "duration": 53,
    "start_time": "2024-02-13T10:17:59.544Z"
   },
   {
    "duration": 33,
    "start_time": "2024-02-13T10:17:59.599Z"
   },
   {
    "duration": 322,
    "start_time": "2024-02-13T10:17:59.634Z"
   },
   {
    "duration": 18,
    "start_time": "2024-02-13T10:17:59.958Z"
   },
   {
    "duration": 15,
    "start_time": "2024-02-13T10:17:59.977Z"
   },
   {
    "duration": 64,
    "start_time": "2024-02-13T10:17:59.994Z"
   },
   {
    "duration": 341,
    "start_time": "2024-02-13T10:18:00.060Z"
   },
   {
    "duration": 323,
    "start_time": "2024-02-13T10:18:00.403Z"
   },
   {
    "duration": 21,
    "start_time": "2024-02-13T10:18:00.728Z"
   },
   {
    "duration": 517,
    "start_time": "2024-02-13T10:18:00.751Z"
   },
   {
    "duration": 4,
    "start_time": "2024-02-13T10:18:01.269Z"
   },
   {
    "duration": 90,
    "start_time": "2024-02-13T10:18:01.274Z"
   },
   {
    "duration": 471,
    "start_time": "2024-02-13T10:18:01.366Z"
   },
   {
    "duration": 326,
    "start_time": "2024-02-13T10:18:01.838Z"
   },
   {
    "duration": 23,
    "start_time": "2024-02-13T10:18:19.883Z"
   },
   {
    "duration": 81,
    "start_time": "2024-02-13T10:19:02.692Z"
   },
   {
    "duration": 113,
    "start_time": "2024-02-13T10:19:25.730Z"
   },
   {
    "duration": 109,
    "start_time": "2024-02-13T10:21:52.469Z"
   },
   {
    "duration": 3,
    "start_time": "2024-02-13T10:24:20.125Z"
   },
   {
    "duration": 970,
    "start_time": "2024-02-13T10:24:20.130Z"
   },
   {
    "duration": 14,
    "start_time": "2024-02-13T10:24:21.101Z"
   },
   {
    "duration": 143,
    "start_time": "2024-02-13T10:24:21.117Z"
   },
   {
    "duration": 321,
    "start_time": "2024-02-13T10:24:21.262Z"
   },
   {
    "duration": 689,
    "start_time": "2024-02-13T10:24:21.585Z"
   },
   {
    "duration": 33,
    "start_time": "2024-02-13T10:24:22.276Z"
   },
   {
    "duration": 124,
    "start_time": "2024-02-13T10:24:22.311Z"
   },
   {
    "duration": 52,
    "start_time": "2024-02-13T10:24:22.437Z"
   },
   {
    "duration": 43,
    "start_time": "2024-02-13T10:24:22.491Z"
   },
   {
    "duration": 90,
    "start_time": "2024-02-13T10:24:22.536Z"
   },
   {
    "duration": 63,
    "start_time": "2024-02-13T10:24:22.628Z"
   },
   {
    "duration": 32,
    "start_time": "2024-02-13T10:24:22.692Z"
   },
   {
    "duration": 315,
    "start_time": "2024-02-13T10:24:22.727Z"
   },
   {
    "duration": 18,
    "start_time": "2024-02-13T10:24:23.043Z"
   },
   {
    "duration": 5,
    "start_time": "2024-02-13T10:24:23.062Z"
   },
   {
    "duration": 40,
    "start_time": "2024-02-13T10:24:23.068Z"
   },
   {
    "duration": 278,
    "start_time": "2024-02-13T10:24:23.109Z"
   },
   {
    "duration": 319,
    "start_time": "2024-02-13T10:24:23.388Z"
   },
   {
    "duration": 19,
    "start_time": "2024-02-13T10:24:23.709Z"
   },
   {
    "duration": 332,
    "start_time": "2024-02-13T10:24:23.731Z"
   },
   {
    "duration": 3,
    "start_time": "2024-02-13T10:24:24.065Z"
   },
   {
    "duration": 63,
    "start_time": "2024-02-13T10:24:24.070Z"
   },
   {
    "duration": 458,
    "start_time": "2024-02-13T10:24:24.135Z"
   },
   {
    "duration": 14,
    "start_time": "2024-02-13T10:24:24.595Z"
   },
   {
    "duration": 115,
    "start_time": "2024-02-13T10:24:51.067Z"
   },
   {
    "duration": 4,
    "start_time": "2024-02-13T10:26:38.686Z"
   },
   {
    "duration": 984,
    "start_time": "2024-02-13T10:26:38.692Z"
   },
   {
    "duration": 13,
    "start_time": "2024-02-13T10:26:39.678Z"
   },
   {
    "duration": 128,
    "start_time": "2024-02-13T10:26:39.693Z"
   },
   {
    "duration": 330,
    "start_time": "2024-02-13T10:26:39.823Z"
   },
   {
    "duration": 677,
    "start_time": "2024-02-13T10:26:40.155Z"
   },
   {
    "duration": 27,
    "start_time": "2024-02-13T10:26:40.834Z"
   },
   {
    "duration": 140,
    "start_time": "2024-02-13T10:26:40.862Z"
   },
   {
    "duration": 43,
    "start_time": "2024-02-13T10:26:41.003Z"
   },
   {
    "duration": 56,
    "start_time": "2024-02-13T10:26:41.047Z"
   },
   {
    "duration": 93,
    "start_time": "2024-02-13T10:26:41.105Z"
   },
   {
    "duration": 41,
    "start_time": "2024-02-13T10:26:41.200Z"
   },
   {
    "duration": 49,
    "start_time": "2024-02-13T10:26:41.243Z"
   },
   {
    "duration": 304,
    "start_time": "2024-02-13T10:26:41.295Z"
   },
   {
    "duration": 18,
    "start_time": "2024-02-13T10:26:41.601Z"
   },
   {
    "duration": 5,
    "start_time": "2024-02-13T10:26:41.620Z"
   },
   {
    "duration": 21,
    "start_time": "2024-02-13T10:26:41.626Z"
   },
   {
    "duration": 296,
    "start_time": "2024-02-13T10:26:41.648Z"
   },
   {
    "duration": 324,
    "start_time": "2024-02-13T10:26:41.946Z"
   },
   {
    "duration": 25,
    "start_time": "2024-02-13T10:26:42.271Z"
   },
   {
    "duration": 341,
    "start_time": "2024-02-13T10:26:42.297Z"
   },
   {
    "duration": 3,
    "start_time": "2024-02-13T10:26:42.639Z"
   },
   {
    "duration": 64,
    "start_time": "2024-02-13T10:26:42.643Z"
   },
   {
    "duration": 436,
    "start_time": "2024-02-13T10:26:42.709Z"
   },
   {
    "duration": 13,
    "start_time": "2024-02-13T10:26:43.147Z"
   },
   {
    "duration": 418,
    "start_time": "2024-02-13T10:26:43.161Z"
   },
   {
    "duration": 97,
    "start_time": "2024-02-13T10:26:49.026Z"
   },
   {
    "duration": 116,
    "start_time": "2024-02-13T10:27:35.405Z"
   },
   {
    "duration": 4,
    "start_time": "2024-02-13T10:27:42.468Z"
   },
   {
    "duration": 959,
    "start_time": "2024-02-13T10:27:42.473Z"
   },
   {
    "duration": 13,
    "start_time": "2024-02-13T10:27:43.434Z"
   },
   {
    "duration": 121,
    "start_time": "2024-02-13T10:27:43.448Z"
   },
   {
    "duration": 338,
    "start_time": "2024-02-13T10:27:43.570Z"
   },
   {
    "duration": 712,
    "start_time": "2024-02-13T10:27:43.909Z"
   },
   {
    "duration": 28,
    "start_time": "2024-02-13T10:27:44.623Z"
   },
   {
    "duration": 136,
    "start_time": "2024-02-13T10:27:44.653Z"
   },
   {
    "duration": 38,
    "start_time": "2024-02-13T10:27:44.791Z"
   },
   {
    "duration": 40,
    "start_time": "2024-02-13T10:27:44.830Z"
   },
   {
    "duration": 68,
    "start_time": "2024-02-13T10:27:44.887Z"
   },
   {
    "duration": 52,
    "start_time": "2024-02-13T10:27:44.956Z"
   },
   {
    "duration": 32,
    "start_time": "2024-02-13T10:27:45.010Z"
   },
   {
    "duration": 356,
    "start_time": "2024-02-13T10:27:45.045Z"
   },
   {
    "duration": 19,
    "start_time": "2024-02-13T10:27:45.403Z"
   },
   {
    "duration": 75,
    "start_time": "2024-02-13T10:27:45.423Z"
   },
   {
    "duration": 69,
    "start_time": "2024-02-13T10:27:45.500Z"
   },
   {
    "duration": 321,
    "start_time": "2024-02-13T10:27:45.571Z"
   },
   {
    "duration": 336,
    "start_time": "2024-02-13T10:27:45.894Z"
   },
   {
    "duration": 20,
    "start_time": "2024-02-13T10:27:46.232Z"
   },
   {
    "duration": 352,
    "start_time": "2024-02-13T10:27:46.254Z"
   },
   {
    "duration": 3,
    "start_time": "2024-02-13T10:27:46.608Z"
   },
   {
    "duration": 66,
    "start_time": "2024-02-13T10:27:46.612Z"
   },
   {
    "duration": 434,
    "start_time": "2024-02-13T10:27:46.680Z"
   },
   {
    "duration": 13,
    "start_time": "2024-02-13T10:27:47.115Z"
   },
   {
    "duration": 413,
    "start_time": "2024-02-13T10:27:47.129Z"
   },
   {
    "duration": 84,
    "start_time": "2024-02-13T10:27:51.577Z"
   },
   {
    "duration": 4,
    "start_time": "2024-02-13T10:30:42.186Z"
   },
   {
    "duration": 4,
    "start_time": "2024-02-13T10:33:09.850Z"
   },
   {
    "duration": 961,
    "start_time": "2024-02-13T10:33:09.856Z"
   },
   {
    "duration": 14,
    "start_time": "2024-02-13T10:33:10.818Z"
   },
   {
    "duration": 154,
    "start_time": "2024-02-13T10:33:10.833Z"
   },
   {
    "duration": 325,
    "start_time": "2024-02-13T10:33:10.989Z"
   },
   {
    "duration": 687,
    "start_time": "2024-02-13T10:33:11.316Z"
   },
   {
    "duration": 28,
    "start_time": "2024-02-13T10:33:12.005Z"
   },
   {
    "duration": 135,
    "start_time": "2024-02-13T10:33:12.034Z"
   },
   {
    "duration": 48,
    "start_time": "2024-02-13T10:33:12.170Z"
   },
   {
    "duration": 40,
    "start_time": "2024-02-13T10:33:12.219Z"
   },
   {
    "duration": 83,
    "start_time": "2024-02-13T10:33:12.260Z"
   },
   {
    "duration": 56,
    "start_time": "2024-02-13T10:33:12.345Z"
   },
   {
    "duration": 32,
    "start_time": "2024-02-13T10:33:12.402Z"
   },
   {
    "duration": 311,
    "start_time": "2024-02-13T10:33:12.436Z"
   },
   {
    "duration": 19,
    "start_time": "2024-02-13T10:33:12.749Z"
   },
   {
    "duration": 18,
    "start_time": "2024-02-13T10:33:12.769Z"
   },
   {
    "duration": 25,
    "start_time": "2024-02-13T10:33:12.789Z"
   },
   {
    "duration": 290,
    "start_time": "2024-02-13T10:33:12.816Z"
   },
   {
    "duration": 694,
    "start_time": "2024-02-13T10:33:13.108Z"
   },
   {
    "duration": 20,
    "start_time": "2024-02-13T10:33:13.803Z"
   },
   {
    "duration": 356,
    "start_time": "2024-02-13T10:33:13.825Z"
   },
   {
    "duration": 20,
    "start_time": "2024-02-13T10:33:14.182Z"
   },
   {
    "duration": 46,
    "start_time": "2024-02-13T10:33:14.204Z"
   },
   {
    "duration": 642,
    "start_time": "2024-02-13T10:33:14.251Z"
   },
   {
    "duration": 390,
    "start_time": "2024-02-13T10:33:14.894Z"
   },
   {
    "duration": 67,
    "start_time": "2024-02-13T10:33:15.285Z"
   },
   {
    "duration": 1376,
    "start_time": "2024-02-13T10:47:00.626Z"
   },
   {
    "duration": 978,
    "start_time": "2024-02-13T10:47:02.004Z"
   },
   {
    "duration": 16,
    "start_time": "2024-02-13T10:47:02.984Z"
   },
   {
    "duration": 181,
    "start_time": "2024-02-13T10:47:03.001Z"
   },
   {
    "duration": 374,
    "start_time": "2024-02-13T10:47:03.187Z"
   },
   {
    "duration": 792,
    "start_time": "2024-02-13T10:47:03.563Z"
   },
   {
    "duration": 42,
    "start_time": "2024-02-13T10:47:04.356Z"
   },
   {
    "duration": 141,
    "start_time": "2024-02-13T10:47:04.400Z"
   },
   {
    "duration": 48,
    "start_time": "2024-02-13T10:47:04.543Z"
   },
   {
    "duration": 40,
    "start_time": "2024-02-13T10:47:04.593Z"
   },
   {
    "duration": 88,
    "start_time": "2024-02-13T10:47:04.635Z"
   },
   {
    "duration": 47,
    "start_time": "2024-02-13T10:47:04.725Z"
   },
   {
    "duration": 40,
    "start_time": "2024-02-13T10:47:04.773Z"
   },
   {
    "duration": 321,
    "start_time": "2024-02-13T10:47:04.816Z"
   },
   {
    "duration": 37,
    "start_time": "2024-02-13T10:47:05.138Z"
   },
   {
    "duration": 14,
    "start_time": "2024-02-13T10:47:05.177Z"
   },
   {
    "duration": 39,
    "start_time": "2024-02-13T10:47:05.193Z"
   },
   {
    "duration": 281,
    "start_time": "2024-02-13T10:47:05.233Z"
   },
   {
    "duration": 321,
    "start_time": "2024-02-13T10:47:05.516Z"
   },
   {
    "duration": 20,
    "start_time": "2024-02-13T10:47:05.838Z"
   },
   {
    "duration": 411,
    "start_time": "2024-02-13T10:47:05.859Z"
   },
   {
    "duration": 32,
    "start_time": "2024-02-13T10:47:06.272Z"
   },
   {
    "duration": 57,
    "start_time": "2024-02-13T10:47:06.306Z"
   },
   {
    "duration": 672,
    "start_time": "2024-02-13T10:47:06.364Z"
   },
   {
    "duration": 385,
    "start_time": "2024-02-13T10:47:07.038Z"
   },
   {
    "duration": 77,
    "start_time": "2024-02-13T10:47:07.425Z"
   },
   {
    "duration": 57,
    "start_time": "2024-02-13T10:47:07.503Z"
   },
   {
    "duration": 83,
    "start_time": "2024-02-13T10:47:07.561Z"
   },
   {
    "duration": 122,
    "start_time": "2024-02-13T10:47:07.645Z"
   },
   {
    "duration": 9,
    "start_time": "2024-02-13T10:47:31.829Z"
   },
   {
    "duration": 5,
    "start_time": "2024-02-13T10:47:45.870Z"
   },
   {
    "duration": 10,
    "start_time": "2024-02-13T10:51:24.098Z"
   },
   {
    "duration": 1334,
    "start_time": "2024-02-13T10:51:44.279Z"
   },
   {
    "duration": 962,
    "start_time": "2024-02-13T10:51:45.616Z"
   },
   {
    "duration": 20,
    "start_time": "2024-02-13T10:51:46.579Z"
   },
   {
    "duration": 124,
    "start_time": "2024-02-13T10:51:46.601Z"
   },
   {
    "duration": 366,
    "start_time": "2024-02-13T10:51:46.727Z"
   },
   {
    "duration": 793,
    "start_time": "2024-02-13T10:51:47.095Z"
   },
   {
    "duration": 40,
    "start_time": "2024-02-13T10:51:47.890Z"
   },
   {
    "duration": 133,
    "start_time": "2024-02-13T10:51:47.931Z"
   },
   {
    "duration": 55,
    "start_time": "2024-02-13T10:51:48.065Z"
   },
   {
    "duration": 43,
    "start_time": "2024-02-13T10:51:48.122Z"
   },
   {
    "duration": 85,
    "start_time": "2024-02-13T10:51:48.167Z"
   },
   {
    "duration": 53,
    "start_time": "2024-02-13T10:51:48.254Z"
   },
   {
    "duration": 33,
    "start_time": "2024-02-13T10:51:48.308Z"
   },
   {
    "duration": 326,
    "start_time": "2024-02-13T10:51:48.342Z"
   },
   {
    "duration": 35,
    "start_time": "2024-02-13T10:51:48.670Z"
   },
   {
    "duration": 6,
    "start_time": "2024-02-13T10:51:48.706Z"
   },
   {
    "duration": 36,
    "start_time": "2024-02-13T10:51:48.713Z"
   },
   {
    "duration": 296,
    "start_time": "2024-02-13T10:51:48.750Z"
   },
   {
    "duration": 335,
    "start_time": "2024-02-13T10:51:49.047Z"
   },
   {
    "duration": 21,
    "start_time": "2024-02-13T10:51:49.383Z"
   },
   {
    "duration": 406,
    "start_time": "2024-02-13T10:51:49.406Z"
   },
   {
    "duration": 28,
    "start_time": "2024-02-13T10:51:49.814Z"
   },
   {
    "duration": 72,
    "start_time": "2024-02-13T10:51:49.843Z"
   },
   {
    "duration": 622,
    "start_time": "2024-02-13T10:51:49.916Z"
   },
   {
    "duration": 363,
    "start_time": "2024-02-13T10:51:50.539Z"
   },
   {
    "duration": 74,
    "start_time": "2024-02-13T10:51:50.903Z"
   },
   {
    "duration": 64,
    "start_time": "2024-02-13T10:51:50.978Z"
   },
   {
    "duration": 75,
    "start_time": "2024-02-13T10:51:51.045Z"
   },
   {
    "duration": 113,
    "start_time": "2024-02-13T10:51:51.121Z"
   },
   {
    "duration": 24,
    "start_time": "2024-02-13T10:52:41.098Z"
   },
   {
    "duration": 13,
    "start_time": "2024-02-13T10:54:47.763Z"
   },
   {
    "duration": 1330,
    "start_time": "2024-02-13T10:55:26.784Z"
   },
   {
    "duration": 967,
    "start_time": "2024-02-13T10:55:28.116Z"
   },
   {
    "duration": 16,
    "start_time": "2024-02-13T10:55:29.085Z"
   },
   {
    "duration": 136,
    "start_time": "2024-02-13T10:55:29.102Z"
   },
   {
    "duration": 382,
    "start_time": "2024-02-13T10:55:29.240Z"
   },
   {
    "duration": 825,
    "start_time": "2024-02-13T10:55:29.623Z"
   },
   {
    "duration": 47,
    "start_time": "2024-02-13T10:55:30.450Z"
   },
   {
    "duration": 152,
    "start_time": "2024-02-13T10:55:30.499Z"
   },
   {
    "duration": 48,
    "start_time": "2024-02-13T10:55:30.653Z"
   },
   {
    "duration": 48,
    "start_time": "2024-02-13T10:55:30.703Z"
   },
   {
    "duration": 92,
    "start_time": "2024-02-13T10:55:30.753Z"
   },
   {
    "duration": 44,
    "start_time": "2024-02-13T10:55:30.847Z"
   },
   {
    "duration": 40,
    "start_time": "2024-02-13T10:55:30.893Z"
   },
   {
    "duration": 344,
    "start_time": "2024-02-13T10:55:30.936Z"
   },
   {
    "duration": 34,
    "start_time": "2024-02-13T10:55:31.281Z"
   },
   {
    "duration": 15,
    "start_time": "2024-02-13T10:55:31.317Z"
   },
   {
    "duration": 56,
    "start_time": "2024-02-13T10:55:31.333Z"
   },
   {
    "duration": 278,
    "start_time": "2024-02-13T10:55:31.390Z"
   },
   {
    "duration": 315,
    "start_time": "2024-02-13T10:55:31.669Z"
   },
   {
    "duration": 20,
    "start_time": "2024-02-13T10:55:31.986Z"
   },
   {
    "duration": 429,
    "start_time": "2024-02-13T10:55:32.008Z"
   },
   {
    "duration": 27,
    "start_time": "2024-02-13T10:55:32.439Z"
   },
   {
    "duration": 64,
    "start_time": "2024-02-13T10:55:32.468Z"
   },
   {
    "duration": 615,
    "start_time": "2024-02-13T10:55:32.534Z"
   },
   {
    "duration": 390,
    "start_time": "2024-02-13T10:55:33.151Z"
   },
   {
    "duration": 76,
    "start_time": "2024-02-13T10:55:33.542Z"
   },
   {
    "duration": 20,
    "start_time": "2024-02-13T10:55:33.620Z"
   },
   {
    "duration": 71,
    "start_time": "2024-02-13T10:55:33.642Z"
   },
   {
    "duration": 64,
    "start_time": "2024-02-13T10:55:33.715Z"
   },
   {
    "duration": 4620,
    "start_time": "2024-02-13T10:55:33.786Z"
   },
   {
    "duration": 1350,
    "start_time": "2024-02-13T11:00:31.653Z"
   },
   {
    "duration": 980,
    "start_time": "2024-02-13T11:00:33.005Z"
   },
   {
    "duration": 17,
    "start_time": "2024-02-13T11:00:33.987Z"
   },
   {
    "duration": 143,
    "start_time": "2024-02-13T11:00:34.005Z"
   },
   {
    "duration": 384,
    "start_time": "2024-02-13T11:00:34.151Z"
   },
   {
    "duration": 773,
    "start_time": "2024-02-13T11:00:34.537Z"
   },
   {
    "duration": 40,
    "start_time": "2024-02-13T11:00:35.311Z"
   },
   {
    "duration": 136,
    "start_time": "2024-02-13T11:00:35.353Z"
   },
   {
    "duration": 41,
    "start_time": "2024-02-13T11:00:35.491Z"
   },
   {
    "duration": 57,
    "start_time": "2024-02-13T11:00:35.533Z"
   },
   {
    "duration": 69,
    "start_time": "2024-02-13T11:00:35.591Z"
   },
   {
    "duration": 52,
    "start_time": "2024-02-13T11:00:35.662Z"
   },
   {
    "duration": 33,
    "start_time": "2024-02-13T11:00:35.715Z"
   },
   {
    "duration": 324,
    "start_time": "2024-02-13T11:00:35.751Z"
   },
   {
    "duration": 33,
    "start_time": "2024-02-13T11:00:36.077Z"
   },
   {
    "duration": 5,
    "start_time": "2024-02-13T11:00:36.111Z"
   },
   {
    "duration": 31,
    "start_time": "2024-02-13T11:00:36.118Z"
   },
   {
    "duration": 287,
    "start_time": "2024-02-13T11:00:36.151Z"
   },
   {
    "duration": 321,
    "start_time": "2024-02-13T11:00:36.440Z"
   },
   {
    "duration": 28,
    "start_time": "2024-02-13T11:00:36.762Z"
   },
   {
    "duration": 380,
    "start_time": "2024-02-13T11:00:36.792Z"
   },
   {
    "duration": 31,
    "start_time": "2024-02-13T11:00:37.173Z"
   },
   {
    "duration": 64,
    "start_time": "2024-02-13T11:00:37.206Z"
   },
   {
    "duration": 631,
    "start_time": "2024-02-13T11:00:37.272Z"
   },
   {
    "duration": 377,
    "start_time": "2024-02-13T11:00:37.904Z"
   },
   {
    "duration": 70,
    "start_time": "2024-02-13T11:00:38.282Z"
   },
   {
    "duration": 69,
    "start_time": "2024-02-13T11:00:38.353Z"
   },
   {
    "duration": 67,
    "start_time": "2024-02-13T11:00:38.424Z"
   },
   {
    "duration": 4708,
    "start_time": "2024-02-13T11:00:38.493Z"
   },
   {
    "duration": 298,
    "start_time": "2024-02-13T11:00:43.203Z"
   },
   {
    "duration": 1562,
    "start_time": "2024-02-14T11:50:19.039Z"
   },
   {
    "duration": 1272,
    "start_time": "2024-02-14T11:50:20.603Z"
   },
   {
    "duration": 20,
    "start_time": "2024-02-14T11:50:21.877Z"
   },
   {
    "duration": 145,
    "start_time": "2024-02-14T11:50:21.898Z"
   },
   {
    "duration": 381,
    "start_time": "2024-02-14T11:50:22.045Z"
   },
   {
    "duration": 816,
    "start_time": "2024-02-14T11:50:22.427Z"
   },
   {
    "duration": 46,
    "start_time": "2024-02-14T11:50:23.244Z"
   },
   {
    "duration": 127,
    "start_time": "2024-02-14T11:50:23.292Z"
   },
   {
    "duration": 41,
    "start_time": "2024-02-14T11:50:23.420Z"
   },
   {
    "duration": 57,
    "start_time": "2024-02-14T11:50:23.463Z"
   },
   {
    "duration": 87,
    "start_time": "2024-02-14T11:50:23.521Z"
   },
   {
    "duration": 41,
    "start_time": "2024-02-14T11:50:23.610Z"
   },
   {
    "duration": 48,
    "start_time": "2024-02-14T11:50:23.653Z"
   },
   {
    "duration": 345,
    "start_time": "2024-02-14T11:50:23.702Z"
   },
   {
    "duration": 37,
    "start_time": "2024-02-14T11:50:24.048Z"
   },
   {
    "duration": 6,
    "start_time": "2024-02-14T11:50:24.086Z"
   },
   {
    "duration": 33,
    "start_time": "2024-02-14T11:50:24.093Z"
   },
   {
    "duration": 294,
    "start_time": "2024-02-14T11:50:24.127Z"
   },
   {
    "duration": 337,
    "start_time": "2024-02-14T11:50:24.423Z"
   },
   {
    "duration": 35,
    "start_time": "2024-02-14T11:50:24.762Z"
   },
   {
    "duration": 422,
    "start_time": "2024-02-14T11:50:24.799Z"
   },
   {
    "duration": 33,
    "start_time": "2024-02-14T11:50:25.223Z"
   },
   {
    "duration": 80,
    "start_time": "2024-02-14T11:50:25.258Z"
   },
   {
    "duration": 657,
    "start_time": "2024-02-14T11:50:25.340Z"
   },
   {
    "duration": 395,
    "start_time": "2024-02-14T11:50:25.999Z"
   },
   {
    "duration": 76,
    "start_time": "2024-02-14T11:50:26.396Z"
   },
   {
    "duration": 64,
    "start_time": "2024-02-14T11:50:26.473Z"
   },
   {
    "duration": 85,
    "start_time": "2024-02-14T11:50:26.540Z"
   },
   {
    "duration": 4865,
    "start_time": "2024-02-14T11:50:26.627Z"
   },
   {
    "duration": 309,
    "start_time": "2024-02-14T11:50:31.494Z"
   },
   {
    "duration": 1348,
    "start_time": "2024-02-14T11:52:42.872Z"
   },
   {
    "duration": 1031,
    "start_time": "2024-02-14T11:52:44.222Z"
   },
   {
    "duration": 29,
    "start_time": "2024-02-14T11:52:45.254Z"
   },
   {
    "duration": 159,
    "start_time": "2024-02-14T11:52:45.285Z"
   },
   {
    "duration": 398,
    "start_time": "2024-02-14T11:52:45.446Z"
   },
   {
    "duration": 814,
    "start_time": "2024-02-14T11:52:45.845Z"
   },
   {
    "duration": 42,
    "start_time": "2024-02-14T11:52:46.661Z"
   },
   {
    "duration": 145,
    "start_time": "2024-02-14T11:52:46.705Z"
   },
   {
    "duration": 53,
    "start_time": "2024-02-14T11:52:46.852Z"
   },
   {
    "duration": 45,
    "start_time": "2024-02-14T11:52:46.907Z"
   },
   {
    "duration": 88,
    "start_time": "2024-02-14T11:52:46.953Z"
   },
   {
    "duration": 51,
    "start_time": "2024-02-14T11:52:47.042Z"
   },
   {
    "duration": 33,
    "start_time": "2024-02-14T11:52:47.095Z"
   },
   {
    "duration": 330,
    "start_time": "2024-02-14T11:52:47.130Z"
   },
   {
    "duration": 40,
    "start_time": "2024-02-14T11:52:47.462Z"
   },
   {
    "duration": 6,
    "start_time": "2024-02-14T11:52:47.504Z"
   },
   {
    "duration": 32,
    "start_time": "2024-02-14T11:52:47.512Z"
   },
   {
    "duration": 293,
    "start_time": "2024-02-14T11:52:47.546Z"
   },
   {
    "duration": 340,
    "start_time": "2024-02-14T11:52:47.841Z"
   },
   {
    "duration": 27,
    "start_time": "2024-02-14T11:52:48.183Z"
   },
   {
    "duration": 422,
    "start_time": "2024-02-14T11:52:48.212Z"
   },
   {
    "duration": 19,
    "start_time": "2024-02-14T11:52:48.635Z"
   },
   {
    "duration": 71,
    "start_time": "2024-02-14T11:52:48.655Z"
   },
   {
    "duration": 655,
    "start_time": "2024-02-14T11:52:48.727Z"
   },
   {
    "duration": 409,
    "start_time": "2024-02-14T11:52:49.383Z"
   },
   {
    "duration": 57,
    "start_time": "2024-02-14T11:52:49.794Z"
   },
   {
    "duration": 74,
    "start_time": "2024-02-14T11:52:49.853Z"
   },
   {
    "duration": 60,
    "start_time": "2024-02-14T11:52:49.930Z"
   },
   {
    "duration": 115,
    "start_time": "2024-02-14T11:52:49.992Z"
   },
   {
    "duration": 0,
    "start_time": "2024-02-14T11:52:50.108Z"
   },
   {
    "duration": 0,
    "start_time": "2024-02-14T11:52:50.110Z"
   },
   {
    "duration": 1360,
    "start_time": "2024-02-14T11:54:36.846Z"
   },
   {
    "duration": 1042,
    "start_time": "2024-02-14T11:54:38.208Z"
   },
   {
    "duration": 17,
    "start_time": "2024-02-14T11:54:39.251Z"
   },
   {
    "duration": 137,
    "start_time": "2024-02-14T11:54:39.270Z"
   },
   {
    "duration": 396,
    "start_time": "2024-02-14T11:54:39.408Z"
   },
   {
    "duration": 781,
    "start_time": "2024-02-14T11:54:39.805Z"
   },
   {
    "duration": 40,
    "start_time": "2024-02-14T11:54:40.587Z"
   },
   {
    "duration": 136,
    "start_time": "2024-02-14T11:54:40.629Z"
   },
   {
    "duration": 45,
    "start_time": "2024-02-14T11:54:40.767Z"
   },
   {
    "duration": 43,
    "start_time": "2024-02-14T11:54:40.815Z"
   },
   {
    "duration": 112,
    "start_time": "2024-02-14T11:54:40.860Z"
   },
   {
    "duration": 57,
    "start_time": "2024-02-14T11:54:40.974Z"
   },
   {
    "duration": 59,
    "start_time": "2024-02-14T11:54:41.033Z"
   },
   {
    "duration": 329,
    "start_time": "2024-02-14T11:54:41.093Z"
   },
   {
    "duration": 31,
    "start_time": "2024-02-14T11:54:41.424Z"
   },
   {
    "duration": 6,
    "start_time": "2024-02-14T11:54:41.456Z"
   },
   {
    "duration": 50,
    "start_time": "2024-02-14T11:54:41.463Z"
   },
   {
    "duration": 300,
    "start_time": "2024-02-14T11:54:41.515Z"
   },
   {
    "duration": 338,
    "start_time": "2024-02-14T11:54:41.817Z"
   },
   {
    "duration": 32,
    "start_time": "2024-02-14T11:54:42.156Z"
   },
   {
    "duration": 444,
    "start_time": "2024-02-14T11:54:42.189Z"
   },
   {
    "duration": 28,
    "start_time": "2024-02-14T11:54:42.634Z"
   },
   {
    "duration": 70,
    "start_time": "2024-02-14T11:54:42.664Z"
   },
   {
    "duration": 683,
    "start_time": "2024-02-14T11:54:42.735Z"
   },
   {
    "duration": 410,
    "start_time": "2024-02-14T11:54:43.419Z"
   },
   {
    "duration": 86,
    "start_time": "2024-02-14T11:54:43.831Z"
   },
   {
    "duration": 67,
    "start_time": "2024-02-14T11:54:43.919Z"
   },
   {
    "duration": 61,
    "start_time": "2024-02-14T11:54:43.990Z"
   },
   {
    "duration": 128,
    "start_time": "2024-02-14T11:54:44.053Z"
   },
   {
    "duration": 0,
    "start_time": "2024-02-14T11:54:44.183Z"
   },
   {
    "duration": 0,
    "start_time": "2024-02-14T11:54:44.185Z"
   },
   {
    "duration": 10,
    "start_time": "2024-02-14T11:56:28.247Z"
   },
   {
    "duration": 95,
    "start_time": "2024-02-14T12:02:15.801Z"
   },
   {
    "duration": 9,
    "start_time": "2024-02-14T12:05:42.338Z"
   },
   {
    "duration": 4,
    "start_time": "2024-02-14T12:05:48.747Z"
   },
   {
    "duration": 10,
    "start_time": "2024-02-14T12:05:54.987Z"
   },
   {
    "duration": 4,
    "start_time": "2024-02-14T12:06:02.737Z"
   },
   {
    "duration": 6724,
    "start_time": "2024-02-14T12:06:05.376Z"
   },
   {
    "duration": 216,
    "start_time": "2024-02-14T12:06:16.486Z"
   },
   {
    "duration": 60,
    "start_time": "2024-02-14T12:06:21.325Z"
   },
   {
    "duration": 37,
    "start_time": "2024-02-14T12:07:25.044Z"
   },
   {
    "duration": 6,
    "start_time": "2024-02-14T12:07:36.033Z"
   },
   {
    "duration": 4,
    "start_time": "2024-02-14T12:07:48.394Z"
   },
   {
    "duration": 4,
    "start_time": "2024-02-14T12:09:50.672Z"
   },
   {
    "duration": 13,
    "start_time": "2024-02-14T12:10:36.015Z"
   },
   {
    "duration": 104,
    "start_time": "2024-02-14T12:11:11.044Z"
   },
   {
    "duration": 7,
    "start_time": "2024-02-14T12:11:16.780Z"
   },
   {
    "duration": 8,
    "start_time": "2024-02-14T12:12:58.793Z"
   },
   {
    "duration": 4,
    "start_time": "2024-02-14T12:13:03.775Z"
   },
   {
    "duration": 26,
    "start_time": "2024-02-14T12:27:27.432Z"
   },
   {
    "duration": 1421,
    "start_time": "2024-02-14T12:29:16.949Z"
   },
   {
    "duration": 1007,
    "start_time": "2024-02-14T12:29:18.372Z"
   },
   {
    "duration": 20,
    "start_time": "2024-02-14T12:29:19.380Z"
   },
   {
    "duration": 157,
    "start_time": "2024-02-14T12:29:19.402Z"
   },
   {
    "duration": 388,
    "start_time": "2024-02-14T12:29:19.560Z"
   },
   {
    "duration": 802,
    "start_time": "2024-02-14T12:29:19.949Z"
   },
   {
    "duration": 51,
    "start_time": "2024-02-14T12:29:20.752Z"
   },
   {
    "duration": 136,
    "start_time": "2024-02-14T12:29:20.804Z"
   },
   {
    "duration": 53,
    "start_time": "2024-02-14T12:29:20.942Z"
   },
   {
    "duration": 43,
    "start_time": "2024-02-14T12:29:20.998Z"
   },
   {
    "duration": 90,
    "start_time": "2024-02-14T12:29:21.043Z"
   },
   {
    "duration": 47,
    "start_time": "2024-02-14T12:29:21.135Z"
   },
   {
    "duration": 33,
    "start_time": "2024-02-14T12:29:21.184Z"
   },
   {
    "duration": 331,
    "start_time": "2024-02-14T12:29:21.219Z"
   },
   {
    "duration": 41,
    "start_time": "2024-02-14T12:29:21.552Z"
   },
   {
    "duration": 6,
    "start_time": "2024-02-14T12:29:21.594Z"
   },
   {
    "duration": 39,
    "start_time": "2024-02-14T12:29:21.601Z"
   },
   {
    "duration": 311,
    "start_time": "2024-02-14T12:29:21.642Z"
   },
   {
    "duration": 338,
    "start_time": "2024-02-14T12:29:21.955Z"
   },
   {
    "duration": 22,
    "start_time": "2024-02-14T12:29:22.294Z"
   },
   {
    "duration": 460,
    "start_time": "2024-02-14T12:29:22.318Z"
   },
   {
    "duration": 27,
    "start_time": "2024-02-14T12:29:22.780Z"
   },
   {
    "duration": 73,
    "start_time": "2024-02-14T12:29:22.809Z"
   },
   {
    "duration": 666,
    "start_time": "2024-02-14T12:29:22.883Z"
   },
   {
    "duration": 410,
    "start_time": "2024-02-14T12:29:23.551Z"
   },
   {
    "duration": 83,
    "start_time": "2024-02-14T12:29:23.962Z"
   },
   {
    "duration": 62,
    "start_time": "2024-02-14T12:29:24.047Z"
   },
   {
    "duration": 70,
    "start_time": "2024-02-14T12:29:24.112Z"
   },
   {
    "duration": 4,
    "start_time": "2024-02-14T12:29:24.183Z"
   },
   {
    "duration": 6796,
    "start_time": "2024-02-14T12:29:24.188Z"
   },
   {
    "duration": 396,
    "start_time": "2024-02-14T12:29:30.987Z"
   },
   {
    "duration": 99,
    "start_time": "2024-02-14T12:29:31.385Z"
   },
   {
    "duration": 98,
    "start_time": "2024-02-14T12:29:31.487Z"
   },
   {
    "duration": 303813,
    "start_time": "2024-02-14T12:29:31.586Z"
   },
   {
    "duration": 7092,
    "start_time": "2024-02-14T12:36:06.196Z"
   },
   {
    "duration": 478,
    "start_time": "2024-02-14T12:36:33.127Z"
   },
   {
    "duration": 4,
    "start_time": "2024-02-14T12:36:52.482Z"
   },
   {
    "duration": 358929,
    "start_time": "2024-02-14T12:39:29.463Z"
   },
   {
    "duration": 8500,
    "start_time": "2024-02-14T12:45:42.499Z"
   },
   {
    "duration": 591,
    "start_time": "2024-02-14T12:45:58.491Z"
   },
   {
    "duration": 5,
    "start_time": "2024-02-14T12:46:00.225Z"
   },
   {
    "duration": 141,
    "start_time": "2024-02-14T13:11:32.024Z"
   },
   {
    "duration": 27,
    "start_time": "2024-02-14T13:12:10.026Z"
   },
   {
    "duration": 1496,
    "start_time": "2024-02-14T13:16:56.654Z"
   },
   {
    "duration": 1090,
    "start_time": "2024-02-14T13:16:58.152Z"
   },
   {
    "duration": 18,
    "start_time": "2024-02-14T13:16:59.244Z"
   },
   {
    "duration": 148,
    "start_time": "2024-02-14T13:16:59.264Z"
   },
   {
    "duration": 443,
    "start_time": "2024-02-14T13:16:59.415Z"
   },
   {
    "duration": 857,
    "start_time": "2024-02-14T13:16:59.860Z"
   },
   {
    "duration": 43,
    "start_time": "2024-02-14T13:17:00.719Z"
   },
   {
    "duration": 140,
    "start_time": "2024-02-14T13:17:00.782Z"
   },
   {
    "duration": 44,
    "start_time": "2024-02-14T13:17:00.924Z"
   },
   {
    "duration": 55,
    "start_time": "2024-02-14T13:17:00.970Z"
   },
   {
    "duration": 108,
    "start_time": "2024-02-14T13:17:01.027Z"
   },
   {
    "duration": 51,
    "start_time": "2024-02-14T13:17:01.136Z"
   },
   {
    "duration": 34,
    "start_time": "2024-02-14T13:17:01.189Z"
   },
   {
    "duration": 371,
    "start_time": "2024-02-14T13:17:01.225Z"
   },
   {
    "duration": 31,
    "start_time": "2024-02-14T13:17:01.598Z"
   },
   {
    "duration": 17,
    "start_time": "2024-02-14T13:17:01.631Z"
   },
   {
    "duration": 79,
    "start_time": "2024-02-14T13:17:01.649Z"
   },
   {
    "duration": 314,
    "start_time": "2024-02-14T13:17:01.730Z"
   },
   {
    "duration": 373,
    "start_time": "2024-02-14T13:17:02.045Z"
   },
   {
    "duration": 20,
    "start_time": "2024-02-14T13:17:02.420Z"
   },
   {
    "duration": 443,
    "start_time": "2024-02-14T13:17:02.442Z"
   },
   {
    "duration": 28,
    "start_time": "2024-02-14T13:17:02.887Z"
   },
   {
    "duration": 70,
    "start_time": "2024-02-14T13:17:02.917Z"
   },
   {
    "duration": 686,
    "start_time": "2024-02-14T13:17:02.989Z"
   },
   {
    "duration": 408,
    "start_time": "2024-02-14T13:17:03.677Z"
   },
   {
    "duration": 82,
    "start_time": "2024-02-14T13:17:04.087Z"
   },
   {
    "duration": 64,
    "start_time": "2024-02-14T13:17:04.171Z"
   },
   {
    "duration": 74,
    "start_time": "2024-02-14T13:17:04.236Z"
   },
   {
    "duration": 3,
    "start_time": "2024-02-14T13:17:04.312Z"
   },
   {
    "duration": 6882,
    "start_time": "2024-02-14T13:17:04.316Z"
   },
   {
    "duration": 386,
    "start_time": "2024-02-14T13:17:11.200Z"
   },
   {
    "duration": 95,
    "start_time": "2024-02-14T13:17:11.588Z"
   },
   {
    "duration": 6,
    "start_time": "2024-02-14T13:17:11.686Z"
   },
   {
    "duration": 50669,
    "start_time": "2024-02-14T13:17:23.780Z"
   },
   {
    "duration": 24396,
    "start_time": "2024-02-14T13:18:51.127Z"
   },
   {
    "duration": 25855,
    "start_time": "2024-02-14T13:19:32.499Z"
   },
   {
    "duration": 26369,
    "start_time": "2024-02-14T13:20:17.452Z"
   },
   {
    "duration": 916,
    "start_time": "2024-02-14T13:20:46.738Z"
   },
   {
    "duration": 24,
    "start_time": "2024-02-14T13:20:49.511Z"
   },
   {
    "duration": 4,
    "start_time": "2024-02-14T13:20:51.039Z"
   },
   {
    "duration": 33253,
    "start_time": "2024-02-14T13:21:12.501Z"
   },
   {
    "duration": 863,
    "start_time": "2024-02-14T13:21:48.895Z"
   },
   {
    "duration": 20,
    "start_time": "2024-02-14T13:21:50.843Z"
   },
   {
    "duration": 5,
    "start_time": "2024-02-14T13:21:51.673Z"
   },
   {
    "duration": 39943,
    "start_time": "2024-02-14T13:22:04.053Z"
   },
   {
    "duration": 923,
    "start_time": "2024-02-14T13:22:49.516Z"
   },
   {
    "duration": 22,
    "start_time": "2024-02-14T13:22:52.179Z"
   },
   {
    "duration": 5,
    "start_time": "2024-02-14T13:22:53.008Z"
   },
   {
    "duration": 246,
    "start_time": "2024-02-15T10:03:27.640Z"
   },
   {
    "duration": 168,
    "start_time": "2024-02-15T10:03:55.003Z"
   },
   {
    "duration": 1742,
    "start_time": "2024-02-16T10:15:22.953Z"
   },
   {
    "duration": 3119,
    "start_time": "2024-02-16T10:15:24.697Z"
   },
   {
    "duration": 21,
    "start_time": "2024-02-16T10:15:27.817Z"
   },
   {
    "duration": 151,
    "start_time": "2024-02-16T10:15:27.839Z"
   },
   {
    "duration": 445,
    "start_time": "2024-02-16T10:15:27.992Z"
   },
   {
    "duration": 860,
    "start_time": "2024-02-16T10:15:28.440Z"
   },
   {
    "duration": 44,
    "start_time": "2024-02-16T10:15:29.302Z"
   },
   {
    "duration": 201,
    "start_time": "2024-02-16T10:15:29.347Z"
   },
   {
    "duration": 56,
    "start_time": "2024-02-16T10:15:29.551Z"
   },
   {
    "duration": 43,
    "start_time": "2024-02-16T10:15:29.609Z"
   },
   {
    "duration": 105,
    "start_time": "2024-02-16T10:15:29.653Z"
   },
   {
    "duration": 59,
    "start_time": "2024-02-16T10:15:29.760Z"
   },
   {
    "duration": 38,
    "start_time": "2024-02-16T10:15:29.820Z"
   },
   {
    "duration": 380,
    "start_time": "2024-02-16T10:15:29.861Z"
   },
   {
    "duration": 34,
    "start_time": "2024-02-16T10:15:30.243Z"
   },
   {
    "duration": 30,
    "start_time": "2024-02-16T10:15:30.284Z"
   },
   {
    "duration": 56,
    "start_time": "2024-02-16T10:15:30.316Z"
   },
   {
    "duration": 310,
    "start_time": "2024-02-16T10:15:30.374Z"
   },
   {
    "duration": 377,
    "start_time": "2024-02-16T10:15:30.685Z"
   },
   {
    "duration": 30,
    "start_time": "2024-02-16T10:15:31.064Z"
   },
   {
    "duration": 669,
    "start_time": "2024-02-16T10:15:31.096Z"
   },
   {
    "duration": 38,
    "start_time": "2024-02-16T10:15:31.766Z"
   },
   {
    "duration": 64,
    "start_time": "2024-02-16T10:15:31.805Z"
   },
   {
    "duration": 722,
    "start_time": "2024-02-16T10:15:31.870Z"
   },
   {
    "duration": 416,
    "start_time": "2024-02-16T10:15:32.594Z"
   },
   {
    "duration": 93,
    "start_time": "2024-02-16T10:15:33.012Z"
   },
   {
    "duration": 228,
    "start_time": "2024-02-16T10:15:33.107Z"
   },
   {
    "duration": 367,
    "start_time": "2024-02-16T10:15:33.337Z"
   },
   {
    "duration": 368,
    "start_time": "2024-02-16T10:15:33.705Z"
   },
   {
    "duration": 6917,
    "start_time": "2024-02-16T10:15:34.075Z"
   },
   {
    "duration": 167,
    "start_time": "2024-02-16T10:15:40.994Z"
   },
   {
    "duration": 0,
    "start_time": "2024-02-16T10:15:41.164Z"
   },
   {
    "duration": 0,
    "start_time": "2024-02-16T10:15:41.166Z"
   },
   {
    "duration": 0,
    "start_time": "2024-02-16T10:15:41.167Z"
   },
   {
    "duration": 0,
    "start_time": "2024-02-16T10:15:41.168Z"
   },
   {
    "duration": 0,
    "start_time": "2024-02-16T10:15:41.170Z"
   },
   {
    "duration": 0,
    "start_time": "2024-02-16T10:15:41.172Z"
   },
   {
    "duration": 0,
    "start_time": "2024-02-16T10:15:41.173Z"
   },
   {
    "duration": 0,
    "start_time": "2024-02-16T10:15:41.192Z"
   },
   {
    "duration": 0,
    "start_time": "2024-02-16T10:15:41.193Z"
   },
   {
    "duration": 0,
    "start_time": "2024-02-16T10:15:41.195Z"
   },
   {
    "duration": 0,
    "start_time": "2024-02-16T10:15:41.197Z"
   },
   {
    "duration": 1559,
    "start_time": "2024-02-16T10:16:55.885Z"
   },
   {
    "duration": 1121,
    "start_time": "2024-02-16T10:16:57.447Z"
   },
   {
    "duration": 22,
    "start_time": "2024-02-16T10:16:58.570Z"
   },
   {
    "duration": 153,
    "start_time": "2024-02-16T10:16:58.595Z"
   },
   {
    "duration": 447,
    "start_time": "2024-02-16T10:16:58.749Z"
   },
   {
    "duration": 891,
    "start_time": "2024-02-16T10:16:59.197Z"
   },
   {
    "duration": 44,
    "start_time": "2024-02-16T10:17:00.091Z"
   },
   {
    "duration": 208,
    "start_time": "2024-02-16T10:17:00.138Z"
   },
   {
    "duration": 52,
    "start_time": "2024-02-16T10:17:00.348Z"
   },
   {
    "duration": 98,
    "start_time": "2024-02-16T10:17:00.404Z"
   },
   {
    "duration": 115,
    "start_time": "2024-02-16T10:17:00.504Z"
   },
   {
    "duration": 53,
    "start_time": "2024-02-16T10:17:00.621Z"
   },
   {
    "duration": 91,
    "start_time": "2024-02-16T10:17:00.676Z"
   },
   {
    "duration": 477,
    "start_time": "2024-02-16T10:17:00.768Z"
   },
   {
    "duration": 52,
    "start_time": "2024-02-16T10:17:01.247Z"
   },
   {
    "duration": 77,
    "start_time": "2024-02-16T10:17:01.302Z"
   },
   {
    "duration": 76,
    "start_time": "2024-02-16T10:17:01.381Z"
   },
   {
    "duration": 335,
    "start_time": "2024-02-16T10:17:01.460Z"
   },
   {
    "duration": 396,
    "start_time": "2024-02-16T10:17:01.797Z"
   },
   {
    "duration": 22,
    "start_time": "2024-02-16T10:17:02.195Z"
   },
   {
    "duration": 523,
    "start_time": "2024-02-16T10:17:02.219Z"
   },
   {
    "duration": 47,
    "start_time": "2024-02-16T10:17:02.745Z"
   },
   {
    "duration": 87,
    "start_time": "2024-02-16T10:17:02.795Z"
   },
   {
    "duration": 696,
    "start_time": "2024-02-16T10:17:02.892Z"
   },
   {
    "duration": 416,
    "start_time": "2024-02-16T10:17:03.589Z"
   },
   {
    "duration": 89,
    "start_time": "2024-02-16T10:17:04.007Z"
   },
   {
    "duration": 60,
    "start_time": "2024-02-16T10:17:04.098Z"
   },
   {
    "duration": 81,
    "start_time": "2024-02-16T10:17:04.161Z"
   },
   {
    "duration": 4,
    "start_time": "2024-02-16T10:17:04.243Z"
   },
   {
    "duration": 6957,
    "start_time": "2024-02-16T10:17:04.249Z"
   },
   {
    "duration": 302,
    "start_time": "2024-02-16T10:17:11.208Z"
   },
   {
    "duration": 101,
    "start_time": "2024-02-16T10:17:11.591Z"
   },
   {
    "duration": 99,
    "start_time": "2024-02-16T10:17:11.694Z"
   },
   {
    "duration": 0,
    "start_time": "2024-02-16T10:17:11.795Z"
   },
   {
    "duration": 0,
    "start_time": "2024-02-16T10:17:11.796Z"
   },
   {
    "duration": 0,
    "start_time": "2024-02-16T10:17:11.796Z"
   },
   {
    "duration": 0,
    "start_time": "2024-02-16T10:17:11.798Z"
   },
   {
    "duration": 0,
    "start_time": "2024-02-16T10:17:11.800Z"
   },
   {
    "duration": 0,
    "start_time": "2024-02-16T10:17:11.801Z"
   },
   {
    "duration": 0,
    "start_time": "2024-02-16T10:17:11.802Z"
   },
   {
    "duration": 0,
    "start_time": "2024-02-16T10:17:11.804Z"
   },
   {
    "duration": 0,
    "start_time": "2024-02-16T10:17:11.805Z"
   },
   {
    "duration": 5,
    "start_time": "2024-02-16T10:17:24.494Z"
   },
   {
    "duration": 44188,
    "start_time": "2024-02-16T10:17:29.302Z"
   },
   {
    "duration": 1020,
    "start_time": "2024-02-16T10:18:13.492Z"
   },
   {
    "duration": 24,
    "start_time": "2024-02-16T10:18:14.514Z"
   },
   {
    "duration": 6,
    "start_time": "2024-02-16T10:18:14.540Z"
   },
   {
    "duration": 1581,
    "start_time": "2024-02-16T10:29:59.908Z"
   },
   {
    "duration": 1244,
    "start_time": "2024-02-16T10:30:01.491Z"
   },
   {
    "duration": 19,
    "start_time": "2024-02-16T10:30:02.737Z"
   },
   {
    "duration": 149,
    "start_time": "2024-02-16T10:30:02.758Z"
   },
   {
    "duration": 453,
    "start_time": "2024-02-16T10:30:02.910Z"
   },
   {
    "duration": 940,
    "start_time": "2024-02-16T10:30:03.365Z"
   },
   {
    "duration": 43,
    "start_time": "2024-02-16T10:30:04.307Z"
   },
   {
    "duration": 411,
    "start_time": "2024-02-16T10:30:04.352Z"
   },
   {
    "duration": 48,
    "start_time": "2024-02-16T10:30:04.764Z"
   },
   {
    "duration": 44,
    "start_time": "2024-02-16T10:30:04.816Z"
   },
   {
    "duration": 94,
    "start_time": "2024-02-16T10:30:04.861Z"
   },
   {
    "duration": 60,
    "start_time": "2024-02-16T10:30:04.957Z"
   },
   {
    "duration": 36,
    "start_time": "2024-02-16T10:30:05.019Z"
   },
   {
    "duration": 403,
    "start_time": "2024-02-16T10:30:05.057Z"
   },
   {
    "duration": 33,
    "start_time": "2024-02-16T10:30:05.462Z"
   },
   {
    "duration": 7,
    "start_time": "2024-02-16T10:30:05.497Z"
   },
   {
    "duration": 50,
    "start_time": "2024-02-16T10:30:05.505Z"
   },
   {
    "duration": 314,
    "start_time": "2024-02-16T10:30:05.557Z"
   },
   {
    "duration": 376,
    "start_time": "2024-02-16T10:30:05.873Z"
   },
   {
    "duration": 22,
    "start_time": "2024-02-16T10:30:06.251Z"
   },
   {
    "duration": 470,
    "start_time": "2024-02-16T10:30:06.275Z"
   },
   {
    "duration": 30,
    "start_time": "2024-02-16T10:30:06.747Z"
   },
   {
    "duration": 68,
    "start_time": "2024-02-16T10:30:06.790Z"
   },
   {
    "duration": 674,
    "start_time": "2024-02-16T10:30:06.860Z"
   },
   {
    "duration": 444,
    "start_time": "2024-02-16T10:30:07.536Z"
   },
   {
    "duration": 93,
    "start_time": "2024-02-16T10:30:07.983Z"
   },
   {
    "duration": 73,
    "start_time": "2024-02-16T10:30:08.078Z"
   },
   {
    "duration": 91,
    "start_time": "2024-02-16T10:30:08.154Z"
   },
   {
    "duration": 5,
    "start_time": "2024-02-16T10:30:08.247Z"
   },
   {
    "duration": 6653,
    "start_time": "2024-02-16T10:30:08.253Z"
   },
   {
    "duration": 302,
    "start_time": "2024-02-16T10:30:14.908Z"
   },
   {
    "duration": 91,
    "start_time": "2024-02-16T10:30:15.212Z"
   },
   {
    "duration": 6,
    "start_time": "2024-02-16T10:30:15.393Z"
   },
   {
    "duration": 42751,
    "start_time": "2024-02-16T10:30:15.401Z"
   },
   {
    "duration": 956,
    "start_time": "2024-02-16T10:30:58.154Z"
   },
   {
    "duration": 25,
    "start_time": "2024-02-16T10:30:59.111Z"
   },
   {
    "duration": 57,
    "start_time": "2024-02-16T10:30:59.137Z"
   },
   {
    "duration": 362607,
    "start_time": "2024-02-16T10:30:59.196Z"
   },
   {
    "duration": 7999,
    "start_time": "2024-02-16T10:37:01.804Z"
   },
   {
    "duration": 690,
    "start_time": "2024-02-16T10:37:09.805Z"
   },
   {
    "duration": 5,
    "start_time": "2024-02-16T10:37:10.496Z"
   },
   {
    "duration": 66,
    "start_time": "2024-02-16T10:37:10.503Z"
   },
   {
    "duration": 11,
    "start_time": "2024-02-16T10:38:00.351Z"
   },
   {
    "duration": 12,
    "start_time": "2024-02-16T10:44:42.259Z"
   },
   {
    "duration": 272713,
    "start_time": "2024-02-16T10:51:16.092Z"
   },
   {
    "duration": 11308,
    "start_time": "2024-02-16T10:55:48.892Z"
   },
   {
    "duration": 704,
    "start_time": "2024-02-16T10:56:00.202Z"
   },
   {
    "duration": 5,
    "start_time": "2024-02-16T10:56:00.908Z"
   },
   {
    "duration": 123,
    "start_time": "2024-02-16T10:56:00.915Z"
   },
   {
    "duration": 15608,
    "start_time": "2024-02-16T11:00:34.686Z"
   },
   {
    "duration": 4,
    "start_time": "2024-02-16T11:09:18.745Z"
   },
   {
    "duration": 1149,
    "start_time": "2024-02-16T11:09:18.751Z"
   },
   {
    "duration": 16,
    "start_time": "2024-02-16T11:09:19.902Z"
   },
   {
    "duration": 139,
    "start_time": "2024-02-16T11:09:19.919Z"
   },
   {
    "duration": 349,
    "start_time": "2024-02-16T11:09:20.061Z"
   },
   {
    "duration": 759,
    "start_time": "2024-02-16T11:09:20.411Z"
   },
   {
    "duration": 36,
    "start_time": "2024-02-16T11:09:21.171Z"
   },
   {
    "duration": 146,
    "start_time": "2024-02-16T11:09:21.209Z"
   },
   {
    "duration": 57,
    "start_time": "2024-02-16T11:09:21.357Z"
   },
   {
    "duration": 43,
    "start_time": "2024-02-16T11:09:21.416Z"
   },
   {
    "duration": 94,
    "start_time": "2024-02-16T11:09:21.461Z"
   },
   {
    "duration": 56,
    "start_time": "2024-02-16T11:09:21.557Z"
   },
   {
    "duration": 35,
    "start_time": "2024-02-16T11:09:21.615Z"
   },
   {
    "duration": 343,
    "start_time": "2024-02-16T11:09:21.652Z"
   },
   {
    "duration": 21,
    "start_time": "2024-02-16T11:09:21.996Z"
   },
   {
    "duration": 6,
    "start_time": "2024-02-16T11:09:22.019Z"
   },
   {
    "duration": 43,
    "start_time": "2024-02-16T11:09:22.027Z"
   },
   {
    "duration": 315,
    "start_time": "2024-02-16T11:09:22.072Z"
   },
   {
    "duration": 341,
    "start_time": "2024-02-16T11:09:22.388Z"
   },
   {
    "duration": 21,
    "start_time": "2024-02-16T11:09:22.730Z"
   },
   {
    "duration": 376,
    "start_time": "2024-02-16T11:09:29.833Z"
   },
   {
    "duration": 118,
    "start_time": "2024-02-16T11:22:43.951Z"
   },
   {
    "duration": 7,
    "start_time": "2024-02-16T11:22:51.835Z"
   },
   {
    "duration": 1535,
    "start_time": "2024-02-16T11:23:20.933Z"
   },
   {
    "duration": 1118,
    "start_time": "2024-02-16T11:23:22.470Z"
   },
   {
    "duration": 19,
    "start_time": "2024-02-16T11:23:23.590Z"
   },
   {
    "duration": 145,
    "start_time": "2024-02-16T11:23:23.612Z"
   },
   {
    "duration": 451,
    "start_time": "2024-02-16T11:23:23.759Z"
   },
   {
    "duration": 880,
    "start_time": "2024-02-16T11:23:24.212Z"
   },
   {
    "duration": 45,
    "start_time": "2024-02-16T11:23:25.094Z"
   },
   {
    "duration": 151,
    "start_time": "2024-02-16T11:23:25.141Z"
   },
   {
    "duration": 45,
    "start_time": "2024-02-16T11:23:25.294Z"
   },
   {
    "duration": 58,
    "start_time": "2024-02-16T11:23:25.341Z"
   },
   {
    "duration": 98,
    "start_time": "2024-02-16T11:23:25.401Z"
   },
   {
    "duration": 43,
    "start_time": "2024-02-16T11:23:25.500Z"
   },
   {
    "duration": 50,
    "start_time": "2024-02-16T11:23:25.545Z"
   },
   {
    "duration": 355,
    "start_time": "2024-02-16T11:23:25.597Z"
   },
   {
    "duration": 41,
    "start_time": "2024-02-16T11:23:25.954Z"
   },
   {
    "duration": 6,
    "start_time": "2024-02-16T11:23:25.997Z"
   },
   {
    "duration": 55,
    "start_time": "2024-02-16T11:23:26.004Z"
   },
   {
    "duration": 296,
    "start_time": "2024-02-16T11:23:26.061Z"
   },
   {
    "duration": 354,
    "start_time": "2024-02-16T11:23:26.358Z"
   },
   {
    "duration": 23,
    "start_time": "2024-02-16T11:23:26.714Z"
   },
   {
    "duration": 463,
    "start_time": "2024-02-16T11:23:26.739Z"
   },
   {
    "duration": 30,
    "start_time": "2024-02-16T11:23:27.204Z"
   },
   {
    "duration": 77,
    "start_time": "2024-02-16T11:23:27.236Z"
   },
   {
    "duration": 699,
    "start_time": "2024-02-16T11:23:27.315Z"
   },
   {
    "duration": 410,
    "start_time": "2024-02-16T11:23:28.016Z"
   },
   {
    "duration": 97,
    "start_time": "2024-02-16T11:23:28.427Z"
   },
   {
    "duration": 67,
    "start_time": "2024-02-16T11:23:28.526Z"
   },
   {
    "duration": 65,
    "start_time": "2024-02-16T11:23:28.596Z"
   },
   {
    "duration": 3,
    "start_time": "2024-02-16T11:23:28.663Z"
   },
   {
    "duration": 6750,
    "start_time": "2024-02-16T11:23:28.668Z"
   },
   {
    "duration": 306,
    "start_time": "2024-02-16T11:23:35.492Z"
   },
   {
    "duration": 8,
    "start_time": "2024-02-16T11:23:35.800Z"
   },
   {
    "duration": 8,
    "start_time": "2024-02-16T11:23:35.892Z"
   },
   {
    "duration": 43524,
    "start_time": "2024-02-16T11:23:35.903Z"
   },
   {
    "duration": 957,
    "start_time": "2024-02-16T11:24:19.428Z"
   },
   {
    "duration": 25,
    "start_time": "2024-02-16T11:24:20.386Z"
   },
   {
    "duration": 5,
    "start_time": "2024-02-16T11:24:20.412Z"
   },
   {
    "duration": 553886,
    "start_time": "2024-02-16T11:24:20.418Z"
   },
   {
    "duration": 8195,
    "start_time": "2024-02-16T11:33:34.307Z"
   },
   {
    "duration": 689,
    "start_time": "2024-02-16T11:33:42.504Z"
   },
   {
    "duration": 4,
    "start_time": "2024-02-16T11:33:43.195Z"
   },
   {
    "duration": 28,
    "start_time": "2024-02-16T11:33:43.201Z"
   },
   {
    "duration": 1455,
    "start_time": "2024-02-16T17:54:07.426Z"
   },
   {
    "duration": 1157,
    "start_time": "2024-02-16T17:54:08.883Z"
   },
   {
    "duration": 16,
    "start_time": "2024-02-16T17:54:10.042Z"
   },
   {
    "duration": 125,
    "start_time": "2024-02-16T17:54:10.059Z"
   },
   {
    "duration": 369,
    "start_time": "2024-02-16T17:54:10.186Z"
   },
   {
    "duration": 703,
    "start_time": "2024-02-16T17:54:10.556Z"
   },
   {
    "duration": 38,
    "start_time": "2024-02-16T17:54:11.260Z"
   },
   {
    "duration": 194,
    "start_time": "2024-02-16T17:54:11.299Z"
   },
   {
    "duration": 388,
    "start_time": "2024-02-16T17:54:11.494Z"
   },
   {
    "duration": 4,
    "start_time": "2024-02-16T18:28:18.204Z"
   },
   {
    "duration": 950,
    "start_time": "2024-02-16T18:28:18.209Z"
   },
   {
    "duration": 14,
    "start_time": "2024-02-16T18:28:19.160Z"
   },
   {
    "duration": 135,
    "start_time": "2024-02-16T18:28:19.175Z"
   },
   {
    "duration": 314,
    "start_time": "2024-02-16T18:28:19.312Z"
   },
   {
    "duration": 637,
    "start_time": "2024-02-16T18:28:19.628Z"
   },
   {
    "duration": 26,
    "start_time": "2024-02-16T18:28:20.266Z"
   },
   {
    "duration": 200,
    "start_time": "2024-02-16T18:28:20.294Z"
   },
   {
    "duration": 333,
    "start_time": "2024-02-16T18:28:20.496Z"
   },
   {
    "duration": 105,
    "start_time": "2024-02-16T18:28:20.830Z"
   },
   {
    "duration": 35,
    "start_time": "2024-02-16T18:28:20.937Z"
   },
   {
    "duration": 55,
    "start_time": "2024-02-16T18:28:20.973Z"
   },
   {
    "duration": 62,
    "start_time": "2024-02-16T18:28:21.029Z"
   },
   {
    "duration": 41,
    "start_time": "2024-02-16T18:28:21.093Z"
   },
   {
    "duration": 27,
    "start_time": "2024-02-16T18:28:21.136Z"
   },
   {
    "duration": 294,
    "start_time": "2024-02-16T18:28:21.164Z"
   },
   {
    "duration": 17,
    "start_time": "2024-02-16T18:28:21.460Z"
   },
   {
    "duration": 4,
    "start_time": "2024-02-16T18:28:21.479Z"
   },
   {
    "duration": 35,
    "start_time": "2024-02-16T18:28:21.484Z"
   },
   {
    "duration": 255,
    "start_time": "2024-02-16T18:28:21.521Z"
   },
   {
    "duration": 322,
    "start_time": "2024-02-16T18:28:21.777Z"
   },
   {
    "duration": 22,
    "start_time": "2024-02-16T18:28:22.101Z"
   },
   {
    "duration": 276,
    "start_time": "2024-02-16T18:28:22.125Z"
   },
   {
    "duration": 3,
    "start_time": "2024-02-16T18:28:22.402Z"
   },
   {
    "duration": 24,
    "start_time": "2024-02-16T18:28:22.406Z"
   },
   {
    "duration": 38,
    "start_time": "2024-02-16T18:28:22.432Z"
   },
   {
    "duration": 2,
    "start_time": "2024-02-16T18:28:22.472Z"
   },
   {
    "duration": 119,
    "start_time": "2024-02-16T18:28:22.476Z"
   },
   {
    "duration": 109,
    "start_time": "2024-02-16T18:28:22.598Z"
   },
   {
    "duration": 0,
    "start_time": "2024-02-16T18:28:22.708Z"
   },
   {
    "duration": 0,
    "start_time": "2024-02-16T18:28:22.709Z"
   },
   {
    "duration": 0,
    "start_time": "2024-02-16T18:28:22.710Z"
   },
   {
    "duration": 0,
    "start_time": "2024-02-16T18:28:22.710Z"
   },
   {
    "duration": 0,
    "start_time": "2024-02-16T18:28:22.711Z"
   },
   {
    "duration": 0,
    "start_time": "2024-02-16T18:28:22.717Z"
   },
   {
    "duration": 0,
    "start_time": "2024-02-16T18:28:22.718Z"
   },
   {
    "duration": 0,
    "start_time": "2024-02-16T18:28:22.719Z"
   },
   {
    "duration": 0,
    "start_time": "2024-02-16T18:28:22.720Z"
   },
   {
    "duration": 0,
    "start_time": "2024-02-16T18:28:22.721Z"
   },
   {
    "duration": 0,
    "start_time": "2024-02-16T18:28:22.722Z"
   },
   {
    "duration": 0,
    "start_time": "2024-02-16T18:28:22.723Z"
   },
   {
    "duration": 0,
    "start_time": "2024-02-16T18:28:22.724Z"
   },
   {
    "duration": 5,
    "start_time": "2024-02-16T18:29:31.995Z"
   },
   {
    "duration": 969,
    "start_time": "2024-02-16T18:29:32.002Z"
   },
   {
    "duration": 13,
    "start_time": "2024-02-16T18:29:32.973Z"
   },
   {
    "duration": 122,
    "start_time": "2024-02-16T18:29:32.987Z"
   },
   {
    "duration": 311,
    "start_time": "2024-02-16T18:29:33.111Z"
   },
   {
    "duration": 1027,
    "start_time": "2024-02-16T18:29:33.423Z"
   },
   {
    "duration": 78,
    "start_time": "2024-02-16T18:29:34.452Z"
   },
   {
    "duration": 315,
    "start_time": "2024-02-16T18:29:34.532Z"
   },
   {
    "duration": 597,
    "start_time": "2024-02-16T18:29:34.848Z"
   },
   {
    "duration": 105,
    "start_time": "2024-02-16T18:29:35.446Z"
   },
   {
    "duration": 36,
    "start_time": "2024-02-16T18:29:35.554Z"
   },
   {
    "duration": 48,
    "start_time": "2024-02-16T18:29:35.591Z"
   },
   {
    "duration": 63,
    "start_time": "2024-02-16T18:29:35.640Z"
   },
   {
    "duration": 48,
    "start_time": "2024-02-16T18:29:35.717Z"
   },
   {
    "duration": 30,
    "start_time": "2024-02-16T18:29:35.767Z"
   },
   {
    "duration": 321,
    "start_time": "2024-02-16T18:29:35.799Z"
   },
   {
    "duration": 18,
    "start_time": "2024-02-16T18:29:36.122Z"
   },
   {
    "duration": 5,
    "start_time": "2024-02-16T18:29:36.141Z"
   },
   {
    "duration": 24,
    "start_time": "2024-02-16T18:29:36.147Z"
   },
   {
    "duration": 279,
    "start_time": "2024-02-16T18:29:36.172Z"
   },
   {
    "duration": 326,
    "start_time": "2024-02-16T18:29:36.452Z"
   },
   {
    "duration": 17,
    "start_time": "2024-02-16T18:29:36.780Z"
   },
   {
    "duration": 275,
    "start_time": "2024-02-16T18:29:36.799Z"
   },
   {
    "duration": 3,
    "start_time": "2024-02-16T18:29:37.075Z"
   },
   {
    "duration": 17,
    "start_time": "2024-02-16T18:29:37.079Z"
   },
   {
    "duration": 50,
    "start_time": "2024-02-16T18:29:37.098Z"
   },
   {
    "duration": 3,
    "start_time": "2024-02-16T18:29:37.149Z"
   },
   {
    "duration": 109,
    "start_time": "2024-02-16T18:29:37.153Z"
   },
   {
    "duration": 994,
    "start_time": "2024-02-16T18:29:37.266Z"
   },
   {
    "duration": 1452,
    "start_time": "2024-02-16T18:29:38.261Z"
   },
   {
    "duration": 642,
    "start_time": "2024-02-16T18:29:39.714Z"
   },
   {
    "duration": 1165,
    "start_time": "2024-02-16T18:29:40.358Z"
   },
   {
    "duration": 4,
    "start_time": "2024-02-16T18:29:41.524Z"
   },
   {
    "duration": 1408,
    "start_time": "2024-02-16T18:30:07.163Z"
   },
   {
    "duration": 1216,
    "start_time": "2024-02-16T18:30:08.573Z"
   },
   {
    "duration": 17,
    "start_time": "2024-02-16T18:30:09.791Z"
   },
   {
    "duration": 122,
    "start_time": "2024-02-16T18:30:09.810Z"
   },
   {
    "duration": 366,
    "start_time": "2024-02-16T18:30:09.934Z"
   },
   {
    "duration": 759,
    "start_time": "2024-02-16T18:30:10.302Z"
   },
   {
    "duration": 37,
    "start_time": "2024-02-16T18:30:11.063Z"
   },
   {
    "duration": 212,
    "start_time": "2024-02-16T18:30:11.102Z"
   },
   {
    "duration": 388,
    "start_time": "2024-02-16T18:30:11.317Z"
   },
   {
    "duration": 101,
    "start_time": "2024-02-16T18:30:11.707Z"
   },
   {
    "duration": 39,
    "start_time": "2024-02-16T18:30:11.810Z"
   },
   {
    "duration": 34,
    "start_time": "2024-02-16T18:30:11.850Z"
   },
   {
    "duration": 84,
    "start_time": "2024-02-16T18:30:11.886Z"
   },
   {
    "duration": 56,
    "start_time": "2024-02-16T18:30:11.972Z"
   },
   {
    "duration": 37,
    "start_time": "2024-02-16T18:30:12.030Z"
   },
   {
    "duration": 316,
    "start_time": "2024-02-16T18:30:12.069Z"
   },
   {
    "duration": 26,
    "start_time": "2024-02-16T18:30:12.386Z"
   },
   {
    "duration": 7,
    "start_time": "2024-02-16T18:30:12.413Z"
   },
   {
    "duration": 21,
    "start_time": "2024-02-16T18:30:12.421Z"
   },
   {
    "duration": 477,
    "start_time": "2024-02-16T18:30:12.444Z"
   },
   {
    "duration": 542,
    "start_time": "2024-02-16T18:30:12.923Z"
   },
   {
    "duration": 15,
    "start_time": "2024-02-16T18:30:13.519Z"
   },
   {
    "duration": 570,
    "start_time": "2024-02-16T18:30:13.536Z"
   },
   {
    "duration": 3,
    "start_time": "2024-02-16T18:30:14.107Z"
   },
   {
    "duration": 28,
    "start_time": "2024-02-16T18:30:14.117Z"
   },
   {
    "duration": 45,
    "start_time": "2024-02-16T18:30:14.146Z"
   },
   {
    "duration": 3,
    "start_time": "2024-02-16T18:30:14.193Z"
   },
   {
    "duration": 118,
    "start_time": "2024-02-16T18:30:14.199Z"
   },
   {
    "duration": 936,
    "start_time": "2024-02-16T18:30:14.319Z"
   },
   {
    "duration": 1573,
    "start_time": "2024-02-16T18:30:15.256Z"
   },
   {
    "duration": 653,
    "start_time": "2024-02-16T18:30:16.830Z"
   },
   {
    "duration": 1279,
    "start_time": "2024-02-16T18:30:17.484Z"
   },
   {
    "duration": 4,
    "start_time": "2024-02-16T18:30:18.764Z"
   },
   {
    "duration": 57,
    "start_time": "2024-02-16T18:30:34.227Z"
   },
   {
    "duration": 1338,
    "start_time": "2024-02-16T18:30:42.844Z"
   },
   {
    "duration": 1164,
    "start_time": "2024-02-16T18:30:44.919Z"
   },
   {
    "duration": 16,
    "start_time": "2024-02-16T18:30:46.085Z"
   },
   {
    "duration": 147,
    "start_time": "2024-02-16T18:30:46.731Z"
   },
   {
    "duration": 400,
    "start_time": "2024-02-16T18:30:49.189Z"
   },
   {
    "duration": 807,
    "start_time": "2024-02-16T18:30:49.591Z"
   },
   {
    "duration": 38,
    "start_time": "2024-02-16T18:30:50.858Z"
   },
   {
    "duration": 215,
    "start_time": "2024-02-16T18:30:51.506Z"
   },
   {
    "duration": 423,
    "start_time": "2024-02-16T18:30:51.801Z"
   },
   {
    "duration": 109,
    "start_time": "2024-02-16T18:30:53.198Z"
   },
   {
    "duration": 36,
    "start_time": "2024-02-16T18:30:53.754Z"
   },
   {
    "duration": 35,
    "start_time": "2024-02-16T18:30:54.333Z"
   },
   {
    "duration": 60,
    "start_time": "2024-02-16T18:30:54.933Z"
   },
   {
    "duration": 34,
    "start_time": "2024-02-16T18:30:55.511Z"
   },
   {
    "duration": 28,
    "start_time": "2024-02-16T18:30:56.118Z"
   },
   {
    "duration": 300,
    "start_time": "2024-02-16T18:30:56.964Z"
   },
   {
    "duration": 28,
    "start_time": "2024-02-16T18:30:57.575Z"
   },
   {
    "duration": 5,
    "start_time": "2024-02-16T18:30:59.121Z"
   },
   {
    "duration": 22,
    "start_time": "2024-02-16T18:30:59.826Z"
   },
   {
    "duration": 242,
    "start_time": "2024-02-16T18:31:00.457Z"
   },
   {
    "duration": 301,
    "start_time": "2024-02-16T18:31:01.539Z"
   },
   {
    "duration": 16,
    "start_time": "2024-02-16T18:31:02.782Z"
   },
   {
    "duration": 293,
    "start_time": "2024-02-16T18:31:04.762Z"
   },
   {
    "duration": 2,
    "start_time": "2024-02-16T18:31:09.203Z"
   },
   {
    "duration": 29,
    "start_time": "2024-02-16T18:31:10.957Z"
   },
   {
    "duration": 46,
    "start_time": "2024-02-16T18:31:11.535Z"
   },
   {
    "duration": 3,
    "start_time": "2024-02-16T18:31:11.989Z"
   },
   {
    "duration": 103,
    "start_time": "2024-02-16T18:31:13.102Z"
   },
   {
    "duration": 988,
    "start_time": "2024-02-16T18:31:15.151Z"
   },
   {
    "duration": 1471,
    "start_time": "2024-02-16T18:31:16.141Z"
   },
   {
    "duration": 649,
    "start_time": "2024-02-16T18:31:28.301Z"
   },
   {
    "duration": 1298,
    "start_time": "2024-02-16T18:31:29.649Z"
   },
   {
    "duration": 4,
    "start_time": "2024-02-16T18:31:33.283Z"
   },
   {
    "duration": 6907,
    "start_time": "2024-02-16T18:38:20.103Z"
   },
   {
    "duration": 1279,
    "start_time": "2024-02-16T18:38:27.013Z"
   },
   {
    "duration": 1164,
    "start_time": "2024-02-16T18:38:28.293Z"
   },
   {
    "duration": 15,
    "start_time": "2024-02-16T18:38:29.459Z"
   },
   {
    "duration": 180,
    "start_time": "2024-02-16T18:38:29.476Z"
   },
   {
    "duration": 769,
    "start_time": "2024-02-16T18:38:29.658Z"
   },
   {
    "duration": 996,
    "start_time": "2024-02-16T18:38:30.428Z"
   },
   {
    "duration": 38,
    "start_time": "2024-02-16T18:38:31.425Z"
   },
   {
    "duration": 236,
    "start_time": "2024-02-16T18:38:31.465Z"
   },
   {
    "duration": 392,
    "start_time": "2024-02-16T18:38:31.704Z"
   },
   {
    "duration": 104,
    "start_time": "2024-02-16T18:38:32.097Z"
   },
   {
    "duration": 43,
    "start_time": "2024-02-16T18:38:32.203Z"
   },
   {
    "duration": 36,
    "start_time": "2024-02-16T18:38:32.248Z"
   },
   {
    "duration": 80,
    "start_time": "2024-02-16T18:38:32.285Z"
   },
   {
    "duration": 34,
    "start_time": "2024-02-16T18:38:32.367Z"
   },
   {
    "duration": 40,
    "start_time": "2024-02-16T18:38:32.402Z"
   },
   {
    "duration": 314,
    "start_time": "2024-02-16T18:38:32.444Z"
   },
   {
    "duration": 26,
    "start_time": "2024-02-16T18:38:32.760Z"
   },
   {
    "duration": 5,
    "start_time": "2024-02-16T18:38:32.787Z"
   },
   {
    "duration": 41,
    "start_time": "2024-02-16T18:38:32.794Z"
   },
   {
    "duration": 261,
    "start_time": "2024-02-16T18:38:32.836Z"
   },
   {
    "duration": 316,
    "start_time": "2024-02-16T18:38:33.099Z"
   },
   {
    "duration": 15,
    "start_time": "2024-02-16T18:38:33.417Z"
   },
   {
    "duration": 334,
    "start_time": "2024-02-16T18:38:33.434Z"
   },
   {
    "duration": 2,
    "start_time": "2024-02-16T18:38:33.770Z"
   },
   {
    "duration": 51,
    "start_time": "2024-02-16T18:38:33.773Z"
   },
   {
    "duration": 47,
    "start_time": "2024-02-16T18:38:33.826Z"
   },
   {
    "duration": 185,
    "start_time": "2024-02-16T18:38:33.881Z"
   },
   {
    "duration": 3,
    "start_time": "2024-02-16T18:38:34.067Z"
   },
   {
    "duration": 113,
    "start_time": "2024-02-16T18:38:34.071Z"
   },
   {
    "duration": 114,
    "start_time": "2024-02-16T18:38:34.186Z"
   },
   {
    "duration": 0,
    "start_time": "2024-02-16T18:38:34.302Z"
   },
   {
    "duration": 287,
    "start_time": "2024-02-16T18:40:02.915Z"
   },
   {
    "duration": 247,
    "start_time": "2024-02-16T18:40:37.425Z"
   },
   {
    "duration": 61,
    "start_time": "2024-02-16T18:40:38.964Z"
   },
   {
    "duration": 2361,
    "start_time": "2024-02-16T18:41:17.966Z"
   },
   {
    "duration": 5,
    "start_time": "2024-02-16T18:41:20.330Z"
   },
   {
    "duration": 962,
    "start_time": "2024-02-16T18:41:20.337Z"
   },
   {
    "duration": 17,
    "start_time": "2024-02-16T18:41:21.301Z"
   },
   {
    "duration": 207,
    "start_time": "2024-02-16T18:41:21.320Z"
   },
   {
    "duration": 324,
    "start_time": "2024-02-16T18:41:21.528Z"
   },
   {
    "duration": 695,
    "start_time": "2024-02-16T18:41:21.853Z"
   },
   {
    "duration": 26,
    "start_time": "2024-02-16T18:41:22.549Z"
   },
   {
    "duration": 177,
    "start_time": "2024-02-16T18:41:22.576Z"
   },
   {
    "duration": 318,
    "start_time": "2024-02-16T18:41:22.756Z"
   },
   {
    "duration": 105,
    "start_time": "2024-02-16T18:41:23.076Z"
   },
   {
    "duration": 42,
    "start_time": "2024-02-16T18:41:23.182Z"
   },
   {
    "duration": 35,
    "start_time": "2024-02-16T18:41:23.226Z"
   },
   {
    "duration": 83,
    "start_time": "2024-02-16T18:41:23.263Z"
   },
   {
    "duration": 34,
    "start_time": "2024-02-16T18:41:23.348Z"
   },
   {
    "duration": 45,
    "start_time": "2024-02-16T18:41:23.383Z"
   },
   {
    "duration": 314,
    "start_time": "2024-02-16T18:41:23.429Z"
   },
   {
    "duration": 18,
    "start_time": "2024-02-16T18:41:23.744Z"
   },
   {
    "duration": 5,
    "start_time": "2024-02-16T18:41:23.763Z"
   },
   {
    "duration": 17,
    "start_time": "2024-02-16T18:41:23.770Z"
   },
   {
    "duration": 276,
    "start_time": "2024-02-16T18:41:23.789Z"
   },
   {
    "duration": 288,
    "start_time": "2024-02-16T18:41:24.067Z"
   },
   {
    "duration": 16,
    "start_time": "2024-02-16T18:41:24.356Z"
   },
   {
    "duration": 309,
    "start_time": "2024-02-16T18:41:24.373Z"
   },
   {
    "duration": 3,
    "start_time": "2024-02-16T18:41:24.684Z"
   },
   {
    "duration": 30,
    "start_time": "2024-02-16T18:41:24.688Z"
   },
   {
    "duration": 40,
    "start_time": "2024-02-16T18:41:24.720Z"
   },
   {
    "duration": 206,
    "start_time": "2024-02-16T18:41:24.763Z"
   },
   {
    "duration": 3,
    "start_time": "2024-02-16T18:41:24.971Z"
   },
   {
    "duration": 118,
    "start_time": "2024-02-16T18:41:24.975Z"
   },
   {
    "duration": 266,
    "start_time": "2024-02-16T18:41:25.095Z"
   },
   {
    "duration": 80,
    "start_time": "2024-02-16T18:41:25.363Z"
   },
   {
    "duration": 54,
    "start_time": "2024-02-16T18:41:25.444Z"
   },
   {
    "duration": 138,
    "start_time": "2024-02-16T18:41:25.500Z"
   },
   {
    "duration": 4,
    "start_time": "2024-02-16T18:41:25.639Z"
   },
   {
    "duration": 473,
    "start_time": "2024-02-16T18:41:25.645Z"
   },
   {
    "duration": 97,
    "start_time": "2024-02-16T18:41:26.120Z"
   },
   {
    "duration": 7,
    "start_time": "2024-02-16T18:41:26.220Z"
   },
   {
    "duration": 88,
    "start_time": "2024-02-16T18:41:26.230Z"
   },
   {
    "duration": 4,
    "start_time": "2024-02-16T18:41:26.320Z"
   },
   {
    "duration": 27148,
    "start_time": "2024-02-16T18:41:26.327Z"
   },
   {
    "duration": 752,
    "start_time": "2024-02-16T18:41:53.477Z"
   },
   {
    "duration": 18,
    "start_time": "2024-02-16T18:41:54.231Z"
   },
   {
    "duration": 6,
    "start_time": "2024-02-16T18:41:54.251Z"
   },
   {
    "duration": 2,
    "start_time": "2024-02-16T18:42:33.509Z"
   },
   {
    "duration": 30788,
    "start_time": "2024-02-16T18:42:35.021Z"
   },
   {
    "duration": 671,
    "start_time": "2024-02-16T18:43:05.811Z"
   },
   {
    "duration": 18,
    "start_time": "2024-02-16T18:43:06.483Z"
   },
   {
    "duration": 6,
    "start_time": "2024-02-16T18:43:06.518Z"
   },
   {
    "duration": 208632,
    "start_time": "2024-02-16T18:47:53.499Z"
   },
   {
    "duration": 6085,
    "start_time": "2024-02-16T18:51:22.132Z"
   },
   {
    "duration": 415,
    "start_time": "2024-02-16T18:51:28.219Z"
   },
   {
    "duration": 5,
    "start_time": "2024-02-16T18:51:28.636Z"
   },
   {
    "duration": 518117,
    "start_time": "2024-02-16T19:03:17.109Z"
   },
   {
    "duration": 8606,
    "start_time": "2024-02-16T19:11:55.228Z"
   },
   {
    "duration": 501,
    "start_time": "2024-02-16T19:12:03.835Z"
   },
   {
    "duration": 5,
    "start_time": "2024-02-16T19:12:04.338Z"
   },
   {
    "duration": 14,
    "start_time": "2024-02-16T19:16:57.030Z"
   },
   {
    "duration": 3,
    "start_time": "2024-02-16T19:17:12.594Z"
   },
   {
    "duration": 3,
    "start_time": "2024-02-16T19:17:14.949Z"
   },
   {
    "duration": 26700,
    "start_time": "2024-02-16T19:17:16.895Z"
   },
   {
    "duration": 704,
    "start_time": "2024-02-16T19:17:43.596Z"
   },
   {
    "duration": 21,
    "start_time": "2024-02-16T19:17:44.302Z"
   },
   {
    "duration": 5,
    "start_time": "2024-02-16T19:17:44.326Z"
   },
   {
    "duration": 10,
    "start_time": "2024-02-16T19:17:47.410Z"
   },
   {
    "duration": 22,
    "start_time": "2024-02-16T19:20:03.911Z"
   },
   {
    "duration": 364,
    "start_time": "2024-02-16T19:20:28.282Z"
   },
   {
    "duration": 21,
    "start_time": "2024-02-16T19:20:45.895Z"
   },
   {
    "duration": 387,
    "start_time": "2024-02-16T19:21:47.642Z"
   },
   {
    "duration": 2323,
    "start_time": "2024-02-16T19:23:09.783Z"
   },
   {
    "duration": 1334,
    "start_time": "2024-02-16T19:23:12.109Z"
   },
   {
    "duration": 987,
    "start_time": "2024-02-16T19:23:13.445Z"
   },
   {
    "duration": 18,
    "start_time": "2024-02-16T19:23:14.434Z"
   },
   {
    "duration": 120,
    "start_time": "2024-02-16T19:23:14.453Z"
   },
   {
    "duration": 370,
    "start_time": "2024-02-16T19:23:14.574Z"
   },
   {
    "duration": 743,
    "start_time": "2024-02-16T19:23:14.945Z"
   },
   {
    "duration": 44,
    "start_time": "2024-02-16T19:23:15.689Z"
   },
   {
    "duration": 209,
    "start_time": "2024-02-16T19:23:15.735Z"
   },
   {
    "duration": 399,
    "start_time": "2024-02-16T19:23:15.948Z"
   },
   {
    "duration": 125,
    "start_time": "2024-02-16T19:23:16.349Z"
   },
   {
    "duration": 44,
    "start_time": "2024-02-16T19:23:16.476Z"
   },
   {
    "duration": 41,
    "start_time": "2024-02-16T19:23:16.521Z"
   },
   {
    "duration": 79,
    "start_time": "2024-02-16T19:23:16.564Z"
   },
   {
    "duration": 32,
    "start_time": "2024-02-16T19:23:16.644Z"
   },
   {
    "duration": 41,
    "start_time": "2024-02-16T19:23:16.677Z"
   },
   {
    "duration": 319,
    "start_time": "2024-02-16T19:23:16.720Z"
   },
   {
    "duration": 19,
    "start_time": "2024-02-16T19:23:17.040Z"
   },
   {
    "duration": 5,
    "start_time": "2024-02-16T19:23:17.060Z"
   },
   {
    "duration": 18,
    "start_time": "2024-02-16T19:23:17.066Z"
   },
   {
    "duration": 293,
    "start_time": "2024-02-16T19:23:17.086Z"
   },
   {
    "duration": 328,
    "start_time": "2024-02-16T19:23:17.380Z"
   },
   {
    "duration": 32,
    "start_time": "2024-02-16T19:23:17.710Z"
   },
   {
    "duration": 307,
    "start_time": "2024-02-16T19:23:17.743Z"
   },
   {
    "duration": 3,
    "start_time": "2024-02-16T19:23:18.051Z"
   },
   {
    "duration": 26,
    "start_time": "2024-02-16T19:23:18.055Z"
   },
   {
    "duration": 63,
    "start_time": "2024-02-16T19:23:18.083Z"
   },
   {
    "duration": 198,
    "start_time": "2024-02-16T19:23:18.150Z"
   },
   {
    "duration": 3,
    "start_time": "2024-02-16T19:23:18.350Z"
   },
   {
    "duration": 116,
    "start_time": "2024-02-16T19:23:18.355Z"
   },
   {
    "duration": 281,
    "start_time": "2024-02-16T19:23:18.473Z"
   },
   {
    "duration": 168,
    "start_time": "2024-02-16T19:23:18.756Z"
   },
   {
    "duration": 62,
    "start_time": "2024-02-16T19:23:18.926Z"
   },
   {
    "duration": 128,
    "start_time": "2024-02-16T19:23:18.990Z"
   },
   {
    "duration": 5,
    "start_time": "2024-02-16T19:23:19.120Z"
   },
   {
    "duration": 292,
    "start_time": "2024-02-16T19:23:19.127Z"
   },
   {
    "duration": 18,
    "start_time": "2024-02-16T19:23:19.421Z"
   },
   {
    "duration": 6,
    "start_time": "2024-02-16T19:23:19.518Z"
   },
   {
    "duration": 87,
    "start_time": "2024-02-16T19:23:19.531Z"
   },
   {
    "duration": 4,
    "start_time": "2024-02-16T19:23:19.621Z"
   },
   {
    "duration": 22315,
    "start_time": "2024-02-16T19:23:19.628Z"
   },
   {
    "duration": 637,
    "start_time": "2024-02-16T19:23:41.945Z"
   },
   {
    "duration": 14,
    "start_time": "2024-02-16T19:23:42.584Z"
   },
   {
    "duration": 18,
    "start_time": "2024-02-16T19:23:42.600Z"
   },
   {
    "duration": 304407,
    "start_time": "2024-02-16T19:23:42.620Z"
   },
   {
    "duration": 6189,
    "start_time": "2024-02-16T19:28:47.029Z"
   },
   {
    "duration": 314,
    "start_time": "2024-02-16T19:28:53.220Z"
   },
   {
    "duration": 85,
    "start_time": "2024-02-16T19:28:53.535Z"
   },
   {
    "duration": 15,
    "start_time": "2024-02-16T19:28:53.622Z"
   },
   {
    "duration": 481,
    "start_time": "2024-02-16T19:28:53.638Z"
   },
   {
    "duration": 17,
    "start_time": "2024-02-16T19:32:32.663Z"
   },
   {
    "duration": 6608,
    "start_time": "2024-02-17T12:17:20.665Z"
   },
   {
    "duration": 1427,
    "start_time": "2024-02-17T12:17:27.276Z"
   },
   {
    "duration": 1206,
    "start_time": "2024-02-17T12:17:28.705Z"
   },
   {
    "duration": 18,
    "start_time": "2024-02-17T12:17:29.913Z"
   },
   {
    "duration": 119,
    "start_time": "2024-02-17T12:17:29.932Z"
   },
   {
    "duration": 363,
    "start_time": "2024-02-17T12:17:30.052Z"
   },
   {
    "duration": 791,
    "start_time": "2024-02-17T12:17:30.417Z"
   },
   {
    "duration": 38,
    "start_time": "2024-02-17T12:17:31.210Z"
   },
   {
    "duration": 199,
    "start_time": "2024-02-17T12:17:31.250Z"
   },
   {
    "duration": 385,
    "start_time": "2024-02-17T12:17:31.451Z"
   },
   {
    "duration": 100,
    "start_time": "2024-02-17T12:17:31.837Z"
   },
   {
    "duration": 46,
    "start_time": "2024-02-17T12:17:31.938Z"
   },
   {
    "duration": 36,
    "start_time": "2024-02-17T12:17:31.986Z"
   },
   {
    "duration": 78,
    "start_time": "2024-02-17T12:17:32.024Z"
   },
   {
    "duration": 34,
    "start_time": "2024-02-17T12:17:32.103Z"
   },
   {
    "duration": 43,
    "start_time": "2024-02-17T12:17:32.138Z"
   },
   {
    "duration": 329,
    "start_time": "2024-02-17T12:17:32.182Z"
   },
   {
    "duration": 25,
    "start_time": "2024-02-17T12:17:32.512Z"
   },
   {
    "duration": 4,
    "start_time": "2024-02-17T12:17:32.539Z"
   },
   {
    "duration": 35,
    "start_time": "2024-02-17T12:17:32.545Z"
   },
   {
    "duration": 255,
    "start_time": "2024-02-17T12:17:32.582Z"
   },
   {
    "duration": 282,
    "start_time": "2024-02-17T12:17:32.838Z"
   },
   {
    "duration": 16,
    "start_time": "2024-02-17T12:17:33.121Z"
   },
   {
    "duration": 408,
    "start_time": "2024-02-17T12:17:33.138Z"
   },
   {
    "duration": 2,
    "start_time": "2024-02-17T12:17:33.548Z"
   },
   {
    "duration": 24,
    "start_time": "2024-02-17T12:17:33.551Z"
   },
   {
    "duration": 38,
    "start_time": "2024-02-17T12:17:33.577Z"
   },
   {
    "duration": 209,
    "start_time": "2024-02-17T12:17:33.618Z"
   },
   {
    "duration": 3,
    "start_time": "2024-02-17T12:17:33.828Z"
   },
   {
    "duration": 107,
    "start_time": "2024-02-17T12:17:33.832Z"
   },
   {
    "duration": 262,
    "start_time": "2024-02-17T12:17:33.941Z"
   },
   {
    "duration": 72,
    "start_time": "2024-02-17T12:17:34.205Z"
   },
   {
    "duration": 53,
    "start_time": "2024-02-17T12:17:34.278Z"
   },
   {
    "duration": 66,
    "start_time": "2024-02-17T12:17:34.332Z"
   },
   {
    "duration": 3,
    "start_time": "2024-02-17T12:17:34.400Z"
   },
   {
    "duration": 269,
    "start_time": "2024-02-17T12:17:34.405Z"
   },
   {
    "duration": 100,
    "start_time": "2024-02-17T12:17:34.676Z"
   },
   {
    "duration": 2094,
    "start_time": "2024-02-17T12:17:34.777Z"
   },
   {
    "duration": 1492,
    "start_time": "2024-02-17T12:18:25.280Z"
   },
   {
    "duration": 1494,
    "start_time": "2024-02-17T12:18:40.778Z"
   },
   {
    "duration": 1569,
    "start_time": "2024-02-17T12:20:15.501Z"
   },
   {
    "duration": 1638,
    "start_time": "2024-02-17T12:20:35.614Z"
   },
   {
    "duration": 1456,
    "start_time": "2024-02-17T12:20:44.813Z"
   },
   {
    "duration": 1516,
    "start_time": "2024-02-17T12:20:57.550Z"
   },
   {
    "duration": 1676,
    "start_time": "2024-02-17T12:23:23.292Z"
   },
   {
    "duration": 2,
    "start_time": "2024-02-17T12:25:05.568Z"
   },
   {
    "duration": 3,
    "start_time": "2024-02-17T12:25:08.453Z"
   },
   {
    "duration": 26792,
    "start_time": "2024-02-17T12:25:10.614Z"
   },
   {
    "duration": 701,
    "start_time": "2024-02-17T12:25:46.659Z"
   },
   {
    "duration": 52,
    "start_time": "2024-02-17T12:25:51.905Z"
   },
   {
    "duration": 4,
    "start_time": "2024-02-17T12:25:55.204Z"
   },
   {
    "duration": 3,
    "start_time": "2024-02-17T12:26:01.905Z"
   },
   {
    "duration": 270739,
    "start_time": "2024-02-17T12:26:16.733Z"
   },
   {
    "duration": 9593,
    "start_time": "2024-02-17T12:30:47.474Z"
   },
   {
    "duration": 1606,
    "start_time": "2024-02-17T12:30:57.069Z"
   },
   {
    "duration": 3,
    "start_time": "2024-02-17T12:30:58.678Z"
   },
   {
    "duration": 8,
    "start_time": "2024-02-17T12:32:56.500Z"
   },
   {
    "duration": 20,
    "start_time": "2024-02-17T12:33:18.008Z"
   },
   {
    "duration": 2332,
    "start_time": "2024-02-17T12:36:28.170Z"
   },
   {
    "duration": 1262,
    "start_time": "2024-02-17T12:36:30.504Z"
   },
   {
    "duration": 937,
    "start_time": "2024-02-17T12:36:31.767Z"
   },
   {
    "duration": 16,
    "start_time": "2024-02-17T12:36:32.706Z"
   },
   {
    "duration": 124,
    "start_time": "2024-02-17T12:36:32.723Z"
   },
   {
    "duration": 355,
    "start_time": "2024-02-17T12:36:32.848Z"
   },
   {
    "duration": 762,
    "start_time": "2024-02-17T12:36:33.204Z"
   },
   {
    "duration": 37,
    "start_time": "2024-02-17T12:36:33.968Z"
   },
   {
    "duration": 205,
    "start_time": "2024-02-17T12:36:34.007Z"
   },
   {
    "duration": 373,
    "start_time": "2024-02-17T12:36:34.215Z"
   },
   {
    "duration": 103,
    "start_time": "2024-02-17T12:36:34.590Z"
   },
   {
    "duration": 36,
    "start_time": "2024-02-17T12:36:34.695Z"
   },
   {
    "duration": 47,
    "start_time": "2024-02-17T12:36:34.733Z"
   },
   {
    "duration": 59,
    "start_time": "2024-02-17T12:36:34.782Z"
   },
   {
    "duration": 52,
    "start_time": "2024-02-17T12:36:34.843Z"
   },
   {
    "duration": 32,
    "start_time": "2024-02-17T12:36:34.896Z"
   },
   {
    "duration": 297,
    "start_time": "2024-02-17T12:36:34.930Z"
   },
   {
    "duration": 24,
    "start_time": "2024-02-17T12:36:35.229Z"
   },
   {
    "duration": 12,
    "start_time": "2024-02-17T12:36:35.254Z"
   },
   {
    "duration": 33,
    "start_time": "2024-02-17T12:36:35.268Z"
   },
   {
    "duration": 247,
    "start_time": "2024-02-17T12:36:35.303Z"
   },
   {
    "duration": 294,
    "start_time": "2024-02-17T12:36:35.552Z"
   },
   {
    "duration": 22,
    "start_time": "2024-02-17T12:36:35.847Z"
   },
   {
    "duration": 296,
    "start_time": "2024-02-17T12:36:35.870Z"
   },
   {
    "duration": 3,
    "start_time": "2024-02-17T12:36:36.167Z"
   },
   {
    "duration": 66,
    "start_time": "2024-02-17T12:36:36.172Z"
   },
   {
    "duration": 44,
    "start_time": "2024-02-17T12:36:36.239Z"
   },
   {
    "duration": 169,
    "start_time": "2024-02-17T12:36:36.286Z"
   },
   {
    "duration": 8,
    "start_time": "2024-02-17T12:36:36.457Z"
   },
   {
    "duration": 111,
    "start_time": "2024-02-17T12:36:36.466Z"
   },
   {
    "duration": 250,
    "start_time": "2024-02-17T12:36:36.579Z"
   },
   {
    "duration": 140,
    "start_time": "2024-02-17T12:36:36.831Z"
   },
   {
    "duration": 53,
    "start_time": "2024-02-17T12:36:36.972Z"
   },
   {
    "duration": 64,
    "start_time": "2024-02-17T12:36:37.026Z"
   },
   {
    "duration": 3,
    "start_time": "2024-02-17T12:36:37.091Z"
   },
   {
    "duration": 270,
    "start_time": "2024-02-17T12:36:37.096Z"
   },
   {
    "duration": 17,
    "start_time": "2024-02-17T12:36:37.368Z"
   },
   {
    "duration": 1601,
    "start_time": "2024-02-17T12:36:37.464Z"
   },
   {
    "duration": 3,
    "start_time": "2024-02-17T12:36:39.068Z"
   },
   {
    "duration": 5,
    "start_time": "2024-02-17T12:36:39.074Z"
   },
   {
    "duration": 26774,
    "start_time": "2024-02-17T12:36:39.080Z"
   },
   {
    "duration": 691,
    "start_time": "2024-02-17T12:37:05.855Z"
   },
   {
    "duration": 57,
    "start_time": "2024-02-17T12:37:06.548Z"
   },
   {
    "duration": 3,
    "start_time": "2024-02-17T12:37:06.606Z"
   },
   {
    "duration": 8689,
    "start_time": "2024-02-17T12:41:34.077Z"
   },
   {
    "duration": 1619,
    "start_time": "2024-02-17T12:41:42.768Z"
   },
   {
    "duration": 3,
    "start_time": "2024-02-17T12:41:44.388Z"
   },
   {
    "duration": 11,
    "start_time": "2024-02-17T12:41:44.392Z"
   },
   {
    "duration": 18,
    "start_time": "2024-02-17T12:41:44.404Z"
   },
   {
    "duration": 2264,
    "start_time": "2024-02-17T12:51:10.896Z"
   },
   {
    "duration": 1251,
    "start_time": "2024-02-17T12:51:13.162Z"
   },
   {
    "duration": 912,
    "start_time": "2024-02-17T12:51:14.414Z"
   },
   {
    "duration": 16,
    "start_time": "2024-02-17T12:51:15.328Z"
   },
   {
    "duration": 120,
    "start_time": "2024-02-17T12:51:15.345Z"
   },
   {
    "duration": 366,
    "start_time": "2024-02-17T12:51:15.466Z"
   },
   {
    "duration": 744,
    "start_time": "2024-02-17T12:51:15.834Z"
   },
   {
    "duration": 38,
    "start_time": "2024-02-17T12:51:16.579Z"
   },
   {
    "duration": 198,
    "start_time": "2024-02-17T12:51:16.619Z"
   },
   {
    "duration": 370,
    "start_time": "2024-02-17T12:51:16.819Z"
   },
   {
    "duration": 101,
    "start_time": "2024-02-17T12:51:17.191Z"
   },
   {
    "duration": 34,
    "start_time": "2024-02-17T12:51:17.294Z"
   },
   {
    "duration": 48,
    "start_time": "2024-02-17T12:51:17.329Z"
   },
   {
    "duration": 58,
    "start_time": "2024-02-17T12:51:17.378Z"
   },
   {
    "duration": 48,
    "start_time": "2024-02-17T12:51:17.437Z"
   },
   {
    "duration": 27,
    "start_time": "2024-02-17T12:51:17.486Z"
   },
   {
    "duration": 306,
    "start_time": "2024-02-17T12:51:17.514Z"
   },
   {
    "duration": 25,
    "start_time": "2024-02-17T12:51:17.822Z"
   },
   {
    "duration": 16,
    "start_time": "2024-02-17T12:51:17.849Z"
   },
   {
    "duration": 22,
    "start_time": "2024-02-17T12:51:17.867Z"
   },
   {
    "duration": 257,
    "start_time": "2024-02-17T12:51:17.890Z"
   },
   {
    "duration": 278,
    "start_time": "2024-02-17T12:51:18.149Z"
   },
   {
    "duration": 16,
    "start_time": "2024-02-17T12:51:18.428Z"
   },
   {
    "duration": 281,
    "start_time": "2024-02-17T12:51:18.445Z"
   },
   {
    "duration": 2,
    "start_time": "2024-02-17T12:51:18.728Z"
   },
   {
    "duration": 40,
    "start_time": "2024-02-17T12:51:18.732Z"
   },
   {
    "duration": 44,
    "start_time": "2024-02-17T12:51:18.774Z"
   },
   {
    "duration": 221,
    "start_time": "2024-02-17T12:51:18.821Z"
   },
   {
    "duration": 2,
    "start_time": "2024-02-17T12:51:19.044Z"
   },
   {
    "duration": 114,
    "start_time": "2024-02-17T12:51:19.047Z"
   },
   {
    "duration": 251,
    "start_time": "2024-02-17T12:51:19.164Z"
   },
   {
    "duration": 143,
    "start_time": "2024-02-17T12:51:19.416Z"
   },
   {
    "duration": 56,
    "start_time": "2024-02-17T12:51:19.560Z"
   },
   {
    "duration": 62,
    "start_time": "2024-02-17T12:51:19.617Z"
   },
   {
    "duration": 3,
    "start_time": "2024-02-17T12:51:19.681Z"
   },
   {
    "duration": 283,
    "start_time": "2024-02-17T12:51:19.685Z"
   },
   {
    "duration": 199,
    "start_time": "2024-02-17T12:51:19.970Z"
   },
   {
    "duration": 1593,
    "start_time": "2024-02-17T12:51:20.171Z"
   },
   {
    "duration": 3,
    "start_time": "2024-02-17T12:51:21.766Z"
   },
   {
    "duration": 99,
    "start_time": "2024-02-17T12:51:21.772Z"
   },
   {
    "duration": 26158,
    "start_time": "2024-02-17T12:51:21.872Z"
   },
   {
    "duration": 736,
    "start_time": "2024-02-17T12:51:48.032Z"
   },
   {
    "duration": 50,
    "start_time": "2024-02-17T12:51:48.770Z"
   },
   {
    "duration": 3,
    "start_time": "2024-02-17T12:51:48.822Z"
   },
   {
    "duration": 299344,
    "start_time": "2024-02-17T12:51:48.826Z"
   },
   {
    "duration": 7003,
    "start_time": "2024-02-17T12:56:48.172Z"
   },
   {
    "duration": 1689,
    "start_time": "2024-02-17T12:56:55.176Z"
   },
   {
    "duration": 4,
    "start_time": "2024-02-17T12:56:56.866Z"
   },
   {
    "duration": 12,
    "start_time": "2024-02-17T12:56:56.871Z"
   },
   {
    "duration": 17,
    "start_time": "2024-02-17T12:56:56.885Z"
   }
  ],
  "kernelspec": {
   "display_name": "Python 3 (ipykernel)",
   "language": "python",
   "name": "python3"
  },
  "language_info": {
   "codemirror_mode": {
    "name": "ipython",
    "version": 3
   },
   "file_extension": ".py",
   "mimetype": "text/x-python",
   "name": "python",
   "nbconvert_exporter": "python",
   "pygments_lexer": "ipython3",
   "version": "3.10.9"
  },
  "toc": {
   "base_numbering": 1,
   "nav_menu": {},
   "number_sections": true,
   "sideBar": true,
   "skip_h1_title": true,
   "title_cell": "Table of Contents",
   "title_sidebar": "Contents",
   "toc_cell": false,
   "toc_position": {
    "height": "calc(100% - 180px)",
    "left": "10px",
    "top": "150px",
    "width": "341.333px"
   },
   "toc_section_display": true,
   "toc_window_display": true
  }
 },
 "nbformat": 4,
 "nbformat_minor": 2
}
