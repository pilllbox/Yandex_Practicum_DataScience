{
 "cells": [
  {
   "cell_type": "markdown",
   "metadata": {
    "toc": true
   },
   "source": [
    "<h1>Содержание<span class=\"tocSkip\"></span></h1>\n",
    "<div class=\"toc\"><ul class=\"toc-item\"><li><span><a href=\"#Подготовка\" data-toc-modified-id=\"Подготовка-1\"><span class=\"toc-item-num\">1&nbsp;&nbsp;</span>Подготовка</a></span><ul class=\"toc-item\"><li><span><a href=\"#Загрузка-данных\" data-toc-modified-id=\"Загрузка-данных-1.1\"><span class=\"toc-item-num\">1.1&nbsp;&nbsp;</span>Загрузка данных</a></span></li><li><span><a href=\"#Подготовка-данных\" data-toc-modified-id=\"Подготовка-данных-1.2\"><span class=\"toc-item-num\">1.2&nbsp;&nbsp;</span>Подготовка данных</a></span></li><li><span><a href=\"#Анализ-данных\" data-toc-modified-id=\"Анализ-данных-1.3\"><span class=\"toc-item-num\">1.3&nbsp;&nbsp;</span>Анализ данных</a></span></li><li><span><a href=\"#Вывод\" data-toc-modified-id=\"Вывод-1.4\"><span class=\"toc-item-num\">1.4&nbsp;&nbsp;</span>Вывод</a></span></li></ul></li><li><span><a href=\"#Обучение\" data-toc-modified-id=\"Обучение-2\"><span class=\"toc-item-num\">2&nbsp;&nbsp;</span>Обучение</a></span></li><li><span><a href=\"#Выводы\" data-toc-modified-id=\"Выводы-3\"><span class=\"toc-item-num\">3&nbsp;&nbsp;</span>Выводы</a></span></li><li><span><a href=\"#Чек-лист-проверки\" data-toc-modified-id=\"Чек-лист-проверки-4\"><span class=\"toc-item-num\">4&nbsp;&nbsp;</span>Чек-лист проверки</a></span></li></ul></div>"
   ]
  },
  {
   "cell_type": "markdown",
   "metadata": {},
   "source": [
    "# Проект для «Викишоп»"
   ]
  },
  {
   "cell_type": "markdown",
   "metadata": {},
   "source": [
    "Интернет-магазин «Викишоп» запускает новый сервис. Теперь пользователи могут редактировать и дополнять описания товаров, как в вики-сообществах. То есть клиенты предлагают свои правки и комментируют изменения других. . \n",
    "\n",
    "**Цель:** Подготовить инструмент, который будет искать токсичные комментарии и отправлять их на модерацию.\n",
    "Обучите модель классифицировать комментарии на позитивные и негативные. \n",
    "\n",
    "**Задача:** Обучите модель классифицировать комментарии на позитивные и негативные. Значение метрики качества *F1* должно быть не меньше 0.75. \n",
    "\n",
    "**Ход работы:**\n",
    "\n",
    "1. Загрузить и подготовить данные\n",
    "2. Обучить разные модели\n",
    "3. Сделать выводы\n",
    "\n",
    "**Описание данных**\n",
    "\n",
    "Данные находятся в файле `toxic_comments.csv`. \n",
    "- `text` - текст комментария\n",
    "- `toxic` — целевой признак "
   ]
  },
  {
   "cell_type": "code",
   "execution_count": 1,
   "metadata": {},
   "outputs": [
    {
     "name": "stderr",
     "output_type": "stream",
     "text": [
      "[nltk_data] Downloading package punkt to /home/jovyan/nltk_data...\n",
      "[nltk_data]   Package punkt is already up-to-date!\n",
      "[nltk_data] Downloading package omw-1.4 to /home/jovyan/nltk_data...\n",
      "[nltk_data]   Package omw-1.4 is already up-to-date!\n",
      "[nltk_data] Downloading package averaged_perceptron_tagger to\n",
      "[nltk_data]     /home/jovyan/nltk_data...\n",
      "[nltk_data]   Package averaged_perceptron_tagger is already up-to-\n",
      "[nltk_data]       date!\n",
      "[nltk_data] Downloading package stopwords to /home/jovyan/nltk_data...\n",
      "[nltk_data]   Package stopwords is already up-to-date!\n"
     ]
    }
   ],
   "source": [
    "import pandas as pd\n",
    "import re\n",
    "import nltk \n",
    "from nltk.tokenize import word_tokenize\n",
    "from nltk.stem import WordNetLemmatizer\n",
    "from nltk import pos_tag\n",
    "from nltk.corpus import stopwords\n",
    "from nltk.corpus import wordnet\n",
    "import matplotlib.pyplot as plt\n",
    "from sklearn.feature_extraction.text import TfidfVectorizer\n",
    "from sklearn.pipeline import Pipeline\n",
    "from sklearn.model_selection import train_test_split, RandomizedSearchCV, GridSearchCV\n",
    "from sklearn.tree import DecisionTreeClassifier\n",
    "from sklearn.metrics import f1_score\n",
    "from sklearn.linear_model import LogisticRegression\n",
    "import warnings\n",
    "warnings.filterwarnings(\"ignore\")\n",
    "\n",
    "nltk.download('punkt')\n",
    "nltk.download('omw-1.4')\n",
    "nltk.download('averaged_perceptron_tagger')\n",
    "nltk.download('stopwords') \n",
    "\n",
    "RANDOM_STATE = 42"
   ]
  },
  {
   "cell_type": "markdown",
   "metadata": {},
   "source": [
    "## Подготовка"
   ]
  },
  {
   "cell_type": "markdown",
   "metadata": {},
   "source": [
    "### Загрузка данных"
   ]
  },
  {
   "cell_type": "code",
   "execution_count": 2,
   "metadata": {},
   "outputs": [],
   "source": [
    "data = pd.read_csv('/datasets/toxic_comments.csv')"
   ]
  },
  {
   "cell_type": "code",
   "execution_count": 3,
   "metadata": {},
   "outputs": [
    {
     "data": {
      "text/html": [
       "<div>\n",
       "<style scoped>\n",
       "    .dataframe tbody tr th:only-of-type {\n",
       "        vertical-align: middle;\n",
       "    }\n",
       "\n",
       "    .dataframe tbody tr th {\n",
       "        vertical-align: top;\n",
       "    }\n",
       "\n",
       "    .dataframe thead th {\n",
       "        text-align: right;\n",
       "    }\n",
       "</style>\n",
       "<table border=\"1\" class=\"dataframe\">\n",
       "  <thead>\n",
       "    <tr style=\"text-align: right;\">\n",
       "      <th></th>\n",
       "      <th>Unnamed: 0</th>\n",
       "      <th>text</th>\n",
       "      <th>toxic</th>\n",
       "    </tr>\n",
       "  </thead>\n",
       "  <tbody>\n",
       "    <tr>\n",
       "      <th>0</th>\n",
       "      <td>0</td>\n",
       "      <td>Explanation\\nWhy the edits made under my usern...</td>\n",
       "      <td>0</td>\n",
       "    </tr>\n",
       "    <tr>\n",
       "      <th>1</th>\n",
       "      <td>1</td>\n",
       "      <td>D'aww! He matches this background colour I'm s...</td>\n",
       "      <td>0</td>\n",
       "    </tr>\n",
       "    <tr>\n",
       "      <th>2</th>\n",
       "      <td>2</td>\n",
       "      <td>Hey man, I'm really not trying to edit war. It...</td>\n",
       "      <td>0</td>\n",
       "    </tr>\n",
       "    <tr>\n",
       "      <th>3</th>\n",
       "      <td>3</td>\n",
       "      <td>\"\\nMore\\nI can't make any real suggestions on ...</td>\n",
       "      <td>0</td>\n",
       "    </tr>\n",
       "    <tr>\n",
       "      <th>4</th>\n",
       "      <td>4</td>\n",
       "      <td>You, sir, are my hero. Any chance you remember...</td>\n",
       "      <td>0</td>\n",
       "    </tr>\n",
       "  </tbody>\n",
       "</table>\n",
       "</div>"
      ],
      "text/plain": [
       "   Unnamed: 0                                               text  toxic\n",
       "0           0  Explanation\\nWhy the edits made under my usern...      0\n",
       "1           1  D'aww! He matches this background colour I'm s...      0\n",
       "2           2  Hey man, I'm really not trying to edit war. It...      0\n",
       "3           3  \"\\nMore\\nI can't make any real suggestions on ...      0\n",
       "4           4  You, sir, are my hero. Any chance you remember...      0"
      ]
     },
     "execution_count": 3,
     "metadata": {},
     "output_type": "execute_result"
    }
   ],
   "source": [
    "data.head()"
   ]
  },
  {
   "cell_type": "code",
   "execution_count": 4,
   "metadata": {},
   "outputs": [
    {
     "name": "stdout",
     "output_type": "stream",
     "text": [
      "<class 'pandas.core.frame.DataFrame'>\n",
      "RangeIndex: 159292 entries, 0 to 159291\n",
      "Data columns (total 3 columns):\n",
      " #   Column      Non-Null Count   Dtype \n",
      "---  ------      --------------   ----- \n",
      " 0   Unnamed: 0  159292 non-null  int64 \n",
      " 1   text        159292 non-null  object\n",
      " 2   toxic       159292 non-null  int64 \n",
      "dtypes: int64(2), object(1)\n",
      "memory usage: 3.6+ MB\n"
     ]
    }
   ],
   "source": [
    "data.info()"
   ]
  },
  {
   "cell_type": "markdown",
   "metadata": {},
   "source": [
    "**Вывод:** В данных 159292 записей. Пропусков нет. Токсичные комментарии имеют значение 1 в поле `toxic`. В данных есть отдельных столбец с индексами, удалим его на следующем шаге."
   ]
  },
  {
   "cell_type": "markdown",
   "metadata": {},
   "source": [
    "### Подготовка данных"
   ]
  },
  {
   "cell_type": "markdown",
   "metadata": {},
   "source": [
    "Удалим столбец `Unnamed: 0`."
   ]
  },
  {
   "cell_type": "code",
   "execution_count": 5,
   "metadata": {},
   "outputs": [
    {
     "data": {
      "text/plain": [
       "Index(['text', 'toxic'], dtype='object')"
      ]
     },
     "execution_count": 5,
     "metadata": {},
     "output_type": "execute_result"
    }
   ],
   "source": [
    "data = data.drop('Unnamed: 0', axis=1)\n",
    "data.columns"
   ]
  },
  {
   "cell_type": "markdown",
   "metadata": {},
   "source": [
    "Проведем лемматизацию, а также удалим все ненужные символы и стоп-слова. Для этого создадим экземпляр класса `WordNetLemmatizer`, загрузим стоп слова и создадим словарь для определения части речи, который понадобится для лемматизации."
   ]
  },
  {
   "cell_type": "code",
   "execution_count": 6,
   "metadata": {},
   "outputs": [],
   "source": [
    "lemmatizer = WordNetLemmatizer()\n",
    "\n",
    "stop_words = set(stopwords.words('english'))\n",
    "\n",
    "tag_dict = {\"j\": wordnet.ADJ, \n",
    "            \"n\": wordnet.NOUN, \n",
    "            \"v\": wordnet.VERB, \n",
    "            \"r\": wordnet.ADV}"
   ]
  },
  {
   "cell_type": "markdown",
   "metadata": {},
   "source": [
    "Создадим функцию для обработки текста, которая принимает на вход строку, избавляет ее от ненужных символов с помощью регулярного выражения, разбивает строку на слова и находит из леммы. Функция возвращает строку, состоящую из лемм исходных слов."
   ]
  },
  {
   "cell_type": "code",
   "execution_count": 7,
   "metadata": {},
   "outputs": [],
   "source": [
    "def processing(text):\n",
    "    text = text.lower()\n",
    "    text = re.sub(r'[^a-z]', ' ', text)\n",
    "    \n",
    "    token = word_tokenize(text)\n",
    "    text = [word for word in token if word not in stop_words]\n",
    "    \n",
    "    text = [lemmatizer.lemmatize(word, pos=tag_dict.get(nltk.pos_tag([word])[0][1][0].lower(), wordnet.NOUN)) for word in text]\n",
    "    l_text = ' '.join(text)\n",
    "    \n",
    "    return l_text"
   ]
  },
  {
   "cell_type": "code",
   "execution_count": 8,
   "metadata": {},
   "outputs": [],
   "source": [
    "data['processed_text'] = data['text'].apply(processing)"
   ]
  },
  {
   "cell_type": "code",
   "execution_count": 9,
   "metadata": {
    "scrolled": true
   },
   "outputs": [
    {
     "data": {
      "text/html": [
       "<div>\n",
       "<style scoped>\n",
       "    .dataframe tbody tr th:only-of-type {\n",
       "        vertical-align: middle;\n",
       "    }\n",
       "\n",
       "    .dataframe tbody tr th {\n",
       "        vertical-align: top;\n",
       "    }\n",
       "\n",
       "    .dataframe thead th {\n",
       "        text-align: right;\n",
       "    }\n",
       "</style>\n",
       "<table border=\"1\" class=\"dataframe\">\n",
       "  <thead>\n",
       "    <tr style=\"text-align: right;\">\n",
       "      <th></th>\n",
       "      <th>text</th>\n",
       "      <th>toxic</th>\n",
       "      <th>processed_text</th>\n",
       "    </tr>\n",
       "  </thead>\n",
       "  <tbody>\n",
       "    <tr>\n",
       "      <th>0</th>\n",
       "      <td>Explanation\\nWhy the edits made under my usern...</td>\n",
       "      <td>0</td>\n",
       "      <td>explanation edits make username hardcore metal...</td>\n",
       "    </tr>\n",
       "    <tr>\n",
       "      <th>1</th>\n",
       "      <td>D'aww! He matches this background colour I'm s...</td>\n",
       "      <td>0</td>\n",
       "      <td>aww match background colour seemingly stuck th...</td>\n",
       "    </tr>\n",
       "    <tr>\n",
       "      <th>2</th>\n",
       "      <td>Hey man, I'm really not trying to edit war. It...</td>\n",
       "      <td>0</td>\n",
       "      <td>hey man really try edit war guy constantly rem...</td>\n",
       "    </tr>\n",
       "    <tr>\n",
       "      <th>3</th>\n",
       "      <td>\"\\nMore\\nI can't make any real suggestions on ...</td>\n",
       "      <td>0</td>\n",
       "      <td>make real suggestion improvement wonder sectio...</td>\n",
       "    </tr>\n",
       "    <tr>\n",
       "      <th>4</th>\n",
       "      <td>You, sir, are my hero. Any chance you remember...</td>\n",
       "      <td>0</td>\n",
       "      <td>sir hero chance remember page</td>\n",
       "    </tr>\n",
       "  </tbody>\n",
       "</table>\n",
       "</div>"
      ],
      "text/plain": [
       "                                                text  toxic  \\\n",
       "0  Explanation\\nWhy the edits made under my usern...      0   \n",
       "1  D'aww! He matches this background colour I'm s...      0   \n",
       "2  Hey man, I'm really not trying to edit war. It...      0   \n",
       "3  \"\\nMore\\nI can't make any real suggestions on ...      0   \n",
       "4  You, sir, are my hero. Any chance you remember...      0   \n",
       "\n",
       "                                      processed_text  \n",
       "0  explanation edits make username hardcore metal...  \n",
       "1  aww match background colour seemingly stuck th...  \n",
       "2  hey man really try edit war guy constantly rem...  \n",
       "3  make real suggestion improvement wonder sectio...  \n",
       "4                      sir hero chance remember page  "
      ]
     },
     "execution_count": 9,
     "metadata": {},
     "output_type": "execute_result"
    }
   ],
   "source": [
    "data.head()"
   ]
  },
  {
   "cell_type": "markdown",
   "metadata": {},
   "source": [
    "Проверим на наличие дубликатов и удалим их, если имеются."
   ]
  },
  {
   "cell_type": "code",
   "execution_count": 10,
   "metadata": {},
   "outputs": [
    {
     "data": {
      "text/plain": [
       "0"
      ]
     },
     "execution_count": 10,
     "metadata": {},
     "output_type": "execute_result"
    }
   ],
   "source": [
    "data.duplicated().sum()"
   ]
  },
  {
   "cell_type": "code",
   "execution_count": 11,
   "metadata": {},
   "outputs": [
    {
     "data": {
      "text/plain": [
       "0"
      ]
     },
     "execution_count": 11,
     "metadata": {},
     "output_type": "execute_result"
    }
   ],
   "source": [
    "data = data.drop_duplicates()\n",
    "data.duplicated().sum()"
   ]
  },
  {
   "cell_type": "markdown",
   "metadata": {},
   "source": [
    "### Анализ данных"
   ]
  },
  {
   "cell_type": "markdown",
   "metadata": {},
   "source": [
    "Посмотрим на соотношение токсичных комментариев к не токсичным."
   ]
  },
  {
   "cell_type": "code",
   "execution_count": 12,
   "metadata": {
    "scrolled": true
   },
   "outputs": [
    {
     "data": {
      "text/plain": [
       "0    143106\n",
       "1     16186\n",
       "Name: toxic, dtype: int64"
      ]
     },
     "execution_count": 12,
     "metadata": {},
     "output_type": "execute_result"
    }
   ],
   "source": [
    "data['toxic'].value_counts()"
   ]
  },
  {
   "cell_type": "code",
   "execution_count": 13,
   "metadata": {},
   "outputs": [
    {
     "data": {
      "image/png": "[encoded data removed]",
      "text/plain": [
       "<Figure size 504x504 with 1 Axes>"
      ]
     },
     "metadata": {},
     "output_type": "display_data"
    }
   ],
   "source": [
    "plt.figure(figsize=(7,7))\n",
    "labels = ['Не токсичные', 'Токсичные']\n",
    "exp = (0, 0.3)\n",
    "data['toxic'].value_counts().plot(kind='pie', autopct='%.2f', labels=labels, explode=exp, shadow=True)\n",
    "plt.title('Соотношение комментариев')\n",
    "plt.rc('font', size= 15 ) \n",
    "plt.show()"
   ]
  },
  {
   "cell_type": "markdown",
   "metadata": {},
   "source": [
    "### Вывод"
   ]
  },
  {
   "cell_type": "markdown",
   "metadata": {},
   "source": [
    "Мы загрузили и подготовили данные:\n",
    "1. Избавились от лишних символов с помощью регулярных выражений\n",
    "2. Избавились от стоп-слов\n",
    "3. Привели слова к их леммам\n",
    "4. Удалили дубликаты\n",
    "\n",
    "Посмотрели на соотношение токсичных комментариев к не токсичным. Токсичных комментариев 15986, это составляет примерно 10% от всех данных."
   ]
  },
  {
   "cell_type": "markdown",
   "metadata": {},
   "source": [
    "## Обучение"
   ]
  },
  {
   "cell_type": "markdown",
   "metadata": {},
   "source": [
    "Разделим данные на тренировочную и тестовую выборки. Затем в пайплайне создадим признак `TF-IDF` и обучим на нем логистическую регрессию и дерево решией."
   ]
  },
  {
   "cell_type": "code",
   "execution_count": 14,
   "metadata": {},
   "outputs": [],
   "source": [
    "X_train, X_test, y_train, y_test = train_test_split(data['processed_text'], data['toxic'], stratify = data['toxic'])"
   ]
  },
  {
   "cell_type": "code",
   "execution_count": 15,
   "metadata": {},
   "outputs": [],
   "source": [
    "pipeline = Pipeline([\n",
    "    ('tf-idf',  TfidfVectorizer(decode_error='ignore')),\n",
    "    ('models', LogisticRegression())\n",
    "])"
   ]
  },
  {
   "cell_type": "code",
   "execution_count": 16,
   "metadata": {},
   "outputs": [],
   "source": [
    "param_grid = [\n",
    "    {\n",
    "        'models': [LogisticRegression(random_state=RANDOM_STATE)],\n",
    "        'models__C': range(1,4)\n",
    "    },\n",
    "    {\n",
    "        'models': [DecisionTreeClassifier(random_state=RANDOM_STATE)],\n",
    "        'models__max_depth': range(3,7) \n",
    "    }\n",
    "]"
   ]
  },
  {
   "cell_type": "code",
   "execution_count": 17,
   "metadata": {},
   "outputs": [
    {
     "data": {
      "text/html": [
       "<style>#sk-container-id-1 {\n",
       "  /* Definition of color scheme common for light and dark mode */\n",
       "  --sklearn-color-text: black;\n",
       "  --sklearn-color-line: gray;\n",
       "  /* Definition of color scheme for unfitted estimators */\n",
       "  --sklearn-color-unfitted-level-0: #fff5e6;\n",
       "  --sklearn-color-unfitted-level-1: #f6e4d2;\n",
       "  --sklearn-color-unfitted-level-2: #ffe0b3;\n",
       "  --sklearn-color-unfitted-level-3: chocolate;\n",
       "  /* Definition of color scheme for fitted estimators */\n",
       "  --sklearn-color-fitted-level-0: #f0f8ff;\n",
       "  --sklearn-color-fitted-level-1: #d4ebff;\n",
       "  --sklearn-color-fitted-level-2: #b3dbfd;\n",
       "  --sklearn-color-fitted-level-3: cornflowerblue;\n",
       "\n",
       "  /* Specific color for light theme */\n",
       "  --sklearn-color-text-on-default-background: var(--sg-text-color, var(--theme-code-foreground, var(--jp-content-font-color1, black)));\n",
       "  --sklearn-color-background: var(--sg-background-color, var(--theme-background, var(--jp-layout-color0, white)));\n",
       "  --sklearn-color-border-box: var(--sg-text-color, var(--theme-code-foreground, var(--jp-content-font-color1, black)));\n",
       "  --sklearn-color-icon: #696969;\n",
       "\n",
       "  @media (prefers-color-scheme: dark) {\n",
       "    /* Redefinition of color scheme for dark theme */\n",
       "    --sklearn-color-text-on-default-background: var(--sg-text-color, var(--theme-code-foreground, var(--jp-content-font-color1, white)));\n",
       "    --sklearn-color-background: var(--sg-background-color, var(--theme-background, var(--jp-layout-color0, #111)));\n",
       "    --sklearn-color-border-box: var(--sg-text-color, var(--theme-code-foreground, var(--jp-content-font-color1, white)));\n",
       "    --sklearn-color-icon: #878787;\n",
       "  }\n",
       "}\n",
       "\n",
       "#sk-container-id-1 {\n",
       "  color: var(--sklearn-color-text);\n",
       "}\n",
       "\n",
       "#sk-container-id-1 pre {\n",
       "  padding: 0;\n",
       "}\n",
       "\n",
       "#sk-container-id-1 input.sk-hidden--visually {\n",
       "  border: 0;\n",
       "  clip: rect(1px 1px 1px 1px);\n",
       "  clip: rect(1px, 1px, 1px, 1px);\n",
       "  height: 1px;\n",
       "  margin: -1px;\n",
       "  overflow: hidden;\n",
       "  padding: 0;\n",
       "  position: absolute;\n",
       "  width: 1px;\n",
       "}\n",
       "\n",
       "#sk-container-id-1 div.sk-dashed-wrapped {\n",
       "  border: 1px dashed var(--sklearn-color-line);\n",
       "  margin: 0 0.4em 0.5em 0.4em;\n",
       "  box-sizing: border-box;\n",
       "  padding-bottom: 0.4em;\n",
       "  background-color: var(--sklearn-color-background);\n",
       "}\n",
       "\n",
       "#sk-container-id-1 div.sk-container {\n",
       "  /* jupyter's `normalize.less` sets `[hidden] { display: none; }`\n",
       "     but bootstrap.min.css set `[hidden] { display: none !important; }`\n",
       "     so we also need the `!important` here to be able to override the\n",
       "     default hidden behavior on the sphinx rendered scikit-learn.org.\n",
       "     See: https://github.com/scikit-learn/scikit-learn/issues/21755 */\n",
       "  display: inline-block !important;\n",
       "  position: relative;\n",
       "}\n",
       "\n",
       "#sk-container-id-1 div.sk-text-repr-fallback {\n",
       "  display: none;\n",
       "}\n",
       "\n",
       "div.sk-parallel-item,\n",
       "div.sk-serial,\n",
       "div.sk-item {\n",
       "  /* draw centered vertical line to link estimators */\n",
       "  background-image: linear-gradient(var(--sklearn-color-text-on-default-background), var(--sklearn-color-text-on-default-background));\n",
       "  background-size: 2px 100%;\n",
       "  background-repeat: no-repeat;\n",
       "  background-position: center center;\n",
       "}\n",
       "\n",
       "/* Parallel-specific style estimator block */\n",
       "\n",
       "#sk-container-id-1 div.sk-parallel-item::after {\n",
       "  content: \"\";\n",
       "  width: 100%;\n",
       "  border-bottom: 2px solid var(--sklearn-color-text-on-default-background);\n",
       "  flex-grow: 1;\n",
       "}\n",
       "\n",
       "#sk-container-id-1 div.sk-parallel {\n",
       "  display: flex;\n",
       "  align-items: stretch;\n",
       "  justify-content: center;\n",
       "  background-color: var(--sklearn-color-background);\n",
       "  position: relative;\n",
       "}\n",
       "\n",
       "#sk-container-id-1 div.sk-parallel-item {\n",
       "  display: flex;\n",
       "  flex-direction: column;\n",
       "}\n",
       "\n",
       "#sk-container-id-1 div.sk-parallel-item:first-child::after {\n",
       "  align-self: flex-end;\n",
       "  width: 50%;\n",
       "}\n",
       "\n",
       "#sk-container-id-1 div.sk-parallel-item:last-child::after {\n",
       "  align-self: flex-start;\n",
       "  width: 50%;\n",
       "}\n",
       "\n",
       "#sk-container-id-1 div.sk-parallel-item:only-child::after {\n",
       "  width: 0;\n",
       "}\n",
       "\n",
       "/* Serial-specific style estimator block */\n",
       "\n",
       "#sk-container-id-1 div.sk-serial {\n",
       "  display: flex;\n",
       "  flex-direction: column;\n",
       "  align-items: center;\n",
       "  background-color: var(--sklearn-color-background);\n",
       "  padding-right: 1em;\n",
       "  padding-left: 1em;\n",
       "}\n",
       "\n",
       "\n",
       "/* Toggleable style: style used for estimator/Pipeline/ColumnTransformer box that is\n",
       "clickable and can be expanded/collapsed.\n",
       "- Pipeline and ColumnTransformer use this feature and define the default style\n",
       "- Estimators will overwrite some part of the style using the `sk-estimator` class\n",
       "*/\n",
       "\n",
       "/* Pipeline and ColumnTransformer style (default) */\n",
       "\n",
       "#sk-container-id-1 div.sk-toggleable {\n",
       "  /* Default theme specific background. It is overwritten whether we have a\n",
       "  specific estimator or a Pipeline/ColumnTransformer */\n",
       "  background-color: var(--sklearn-color-background);\n",
       "}\n",
       "\n",
       "/* Toggleable label */\n",
       "#sk-container-id-1 label.sk-toggleable__label {\n",
       "  cursor: pointer;\n",
       "  display: block;\n",
       "  width: 100%;\n",
       "  margin-bottom: 0;\n",
       "  padding: 0.5em;\n",
       "  box-sizing: border-box;\n",
       "  text-align: center;\n",
       "}\n",
       "\n",
       "#sk-container-id-1 label.sk-toggleable__label-arrow:before {\n",
       "  /* Arrow on the left of the label */\n",
       "  content: \"▸\";\n",
       "  float: left;\n",
       "  margin-right: 0.25em;\n",
       "  color: var(--sklearn-color-icon);\n",
       "}\n",
       "\n",
       "#sk-container-id-1 label.sk-toggleable__label-arrow:hover:before {\n",
       "  color: var(--sklearn-color-text);\n",
       "}\n",
       "\n",
       "/* Toggleable content - dropdown */\n",
       "\n",
       "#sk-container-id-1 div.sk-toggleable__content {\n",
       "  max-height: 0;\n",
       "  max-width: 0;\n",
       "  overflow: hidden;\n",
       "  text-align: left;\n",
       "  /* unfitted */\n",
       "  background-color: var(--sklearn-color-unfitted-level-0);\n",
       "}\n",
       "\n",
       "#sk-container-id-1 div.sk-toggleable__content.fitted {\n",
       "  /* fitted */\n",
       "  background-color: var(--sklearn-color-fitted-level-0);\n",
       "}\n",
       "\n",
       "#sk-container-id-1 div.sk-toggleable__content pre {\n",
       "  margin: 0.2em;\n",
       "  border-radius: 0.25em;\n",
       "  color: var(--sklearn-color-text);\n",
       "  /* unfitted */\n",
       "  background-color: var(--sklearn-color-unfitted-level-0);\n",
       "}\n",
       "\n",
       "#sk-container-id-1 div.sk-toggleable__content.fitted pre {\n",
       "  /* unfitted */\n",
       "  background-color: var(--sklearn-color-fitted-level-0);\n",
       "}\n",
       "\n",
       "#sk-container-id-1 input.sk-toggleable__control:checked~div.sk-toggleable__content {\n",
       "  /* Expand drop-down */\n",
       "  max-height: 200px;\n",
       "  max-width: 100%;\n",
       "  overflow: auto;\n",
       "}\n",
       "\n",
       "#sk-container-id-1 input.sk-toggleable__control:checked~label.sk-toggleable__label-arrow:before {\n",
       "  content: \"▾\";\n",
       "}\n",
       "\n",
       "/* Pipeline/ColumnTransformer-specific style */\n",
       "\n",
       "#sk-container-id-1 div.sk-label input.sk-toggleable__control:checked~label.sk-toggleable__label {\n",
       "  color: var(--sklearn-color-text);\n",
       "  background-color: var(--sklearn-color-unfitted-level-2);\n",
       "}\n",
       "\n",
       "#sk-container-id-1 div.sk-label.fitted input.sk-toggleable__control:checked~label.sk-toggleable__label {\n",
       "  background-color: var(--sklearn-color-fitted-level-2);\n",
       "}\n",
       "\n",
       "/* Estimator-specific style */\n",
       "\n",
       "/* Colorize estimator box */\n",
       "#sk-container-id-1 div.sk-estimator input.sk-toggleable__control:checked~label.sk-toggleable__label {\n",
       "  /* unfitted */\n",
       "  background-color: var(--sklearn-color-unfitted-level-2);\n",
       "}\n",
       "\n",
       "#sk-container-id-1 div.sk-estimator.fitted input.sk-toggleable__control:checked~label.sk-toggleable__label {\n",
       "  /* fitted */\n",
       "  background-color: var(--sklearn-color-fitted-level-2);\n",
       "}\n",
       "\n",
       "#sk-container-id-1 div.sk-label label.sk-toggleable__label,\n",
       "#sk-container-id-1 div.sk-label label {\n",
       "  /* The background is the default theme color */\n",
       "  color: var(--sklearn-color-text-on-default-background);\n",
       "}\n",
       "\n",
       "/* On hover, darken the color of the background */\n",
       "#sk-container-id-1 div.sk-label:hover label.sk-toggleable__label {\n",
       "  color: var(--sklearn-color-text);\n",
       "  background-color: var(--sklearn-color-unfitted-level-2);\n",
       "}\n",
       "\n",
       "/* Label box, darken color on hover, fitted */\n",
       "#sk-container-id-1 div.sk-label.fitted:hover label.sk-toggleable__label.fitted {\n",
       "  color: var(--sklearn-color-text);\n",
       "  background-color: var(--sklearn-color-fitted-level-2);\n",
       "}\n",
       "\n",
       "/* Estimator label */\n",
       "\n",
       "#sk-container-id-1 div.sk-label label {\n",
       "  font-family: monospace;\n",
       "  font-weight: bold;\n",
       "  display: inline-block;\n",
       "  line-height: 1.2em;\n",
       "}\n",
       "\n",
       "#sk-container-id-1 div.sk-label-container {\n",
       "  text-align: center;\n",
       "}\n",
       "\n",
       "/* Estimator-specific */\n",
       "#sk-container-id-1 div.sk-estimator {\n",
       "  font-family: monospace;\n",
       "  border: 1px dotted var(--sklearn-color-border-box);\n",
       "  border-radius: 0.25em;\n",
       "  box-sizing: border-box;\n",
       "  margin-bottom: 0.5em;\n",
       "  /* unfitted */\n",
       "  background-color: var(--sklearn-color-unfitted-level-0);\n",
       "}\n",
       "\n",
       "#sk-container-id-1 div.sk-estimator.fitted {\n",
       "  /* fitted */\n",
       "  background-color: var(--sklearn-color-fitted-level-0);\n",
       "}\n",
       "\n",
       "/* on hover */\n",
       "#sk-container-id-1 div.sk-estimator:hover {\n",
       "  /* unfitted */\n",
       "  background-color: var(--sklearn-color-unfitted-level-2);\n",
       "}\n",
       "\n",
       "#sk-container-id-1 div.sk-estimator.fitted:hover {\n",
       "  /* fitted */\n",
       "  background-color: var(--sklearn-color-fitted-level-2);\n",
       "}\n",
       "\n",
       "/* Specification for estimator info (e.g. \"i\" and \"?\") */\n",
       "\n",
       "/* Common style for \"i\" and \"?\" */\n",
       "\n",
       ".sk-estimator-doc-link,\n",
       "a:link.sk-estimator-doc-link,\n",
       "a:visited.sk-estimator-doc-link {\n",
       "  float: right;\n",
       "  font-size: smaller;\n",
       "  line-height: 1em;\n",
       "  font-family: monospace;\n",
       "  background-color: var(--sklearn-color-background);\n",
       "  border-radius: 1em;\n",
       "  height: 1em;\n",
       "  width: 1em;\n",
       "  text-decoration: none !important;\n",
       "  margin-left: 1ex;\n",
       "  /* unfitted */\n",
       "  border: var(--sklearn-color-unfitted-level-1) 1pt solid;\n",
       "  color: var(--sklearn-color-unfitted-level-1);\n",
       "}\n",
       "\n",
       ".sk-estimator-doc-link.fitted,\n",
       "a:link.sk-estimator-doc-link.fitted,\n",
       "a:visited.sk-estimator-doc-link.fitted {\n",
       "  /* fitted */\n",
       "  border: var(--sklearn-color-fitted-level-1) 1pt solid;\n",
       "  color: var(--sklearn-color-fitted-level-1);\n",
       "}\n",
       "\n",
       "/* On hover */\n",
       "div.sk-estimator:hover .sk-estimator-doc-link:hover,\n",
       ".sk-estimator-doc-link:hover,\n",
       "div.sk-label-container:hover .sk-estimator-doc-link:hover,\n",
       ".sk-estimator-doc-link:hover {\n",
       "  /* unfitted */\n",
       "  background-color: var(--sklearn-color-unfitted-level-3);\n",
       "  color: var(--sklearn-color-background);\n",
       "  text-decoration: none;\n",
       "}\n",
       "\n",
       "div.sk-estimator.fitted:hover .sk-estimator-doc-link.fitted:hover,\n",
       ".sk-estimator-doc-link.fitted:hover,\n",
       "div.sk-label-container:hover .sk-estimator-doc-link.fitted:hover,\n",
       ".sk-estimator-doc-link.fitted:hover {\n",
       "  /* fitted */\n",
       "  background-color: var(--sklearn-color-fitted-level-3);\n",
       "  color: var(--sklearn-color-background);\n",
       "  text-decoration: none;\n",
       "}\n",
       "\n",
       "/* Span, style for the box shown on hovering the info icon */\n",
       ".sk-estimator-doc-link span {\n",
       "  display: none;\n",
       "  z-index: 9999;\n",
       "  position: relative;\n",
       "  font-weight: normal;\n",
       "  right: .2ex;\n",
       "  padding: .5ex;\n",
       "  margin: .5ex;\n",
       "  width: min-content;\n",
       "  min-width: 20ex;\n",
       "  max-width: 50ex;\n",
       "  color: var(--sklearn-color-text);\n",
       "  box-shadow: 2pt 2pt 4pt #999;\n",
       "  /* unfitted */\n",
       "  background: var(--sklearn-color-unfitted-level-0);\n",
       "  border: .5pt solid var(--sklearn-color-unfitted-level-3);\n",
       "}\n",
       "\n",
       ".sk-estimator-doc-link.fitted span {\n",
       "  /* fitted */\n",
       "  background: var(--sklearn-color-fitted-level-0);\n",
       "  border: var(--sklearn-color-fitted-level-3);\n",
       "}\n",
       "\n",
       ".sk-estimator-doc-link:hover span {\n",
       "  display: block;\n",
       "}\n",
       "\n",
       "/* \"?\"-specific style due to the `<a>` HTML tag */\n",
       "\n",
       "#sk-container-id-1 a.estimator_doc_link {\n",
       "  float: right;\n",
       "  font-size: 1rem;\n",
       "  line-height: 1em;\n",
       "  font-family: monospace;\n",
       "  background-color: var(--sklearn-color-background);\n",
       "  border-radius: 1rem;\n",
       "  height: 1rem;\n",
       "  width: 1rem;\n",
       "  text-decoration: none;\n",
       "  /* unfitted */\n",
       "  color: var(--sklearn-color-unfitted-level-1);\n",
       "  border: var(--sklearn-color-unfitted-level-1) 1pt solid;\n",
       "}\n",
       "\n",
       "#sk-container-id-1 a.estimator_doc_link.fitted {\n",
       "  /* fitted */\n",
       "  border: var(--sklearn-color-fitted-level-1) 1pt solid;\n",
       "  color: var(--sklearn-color-fitted-level-1);\n",
       "}\n",
       "\n",
       "/* On hover */\n",
       "#sk-container-id-1 a.estimator_doc_link:hover {\n",
       "  /* unfitted */\n",
       "  background-color: var(--sklearn-color-unfitted-level-3);\n",
       "  color: var(--sklearn-color-background);\n",
       "  text-decoration: none;\n",
       "}\n",
       "\n",
       "#sk-container-id-1 a.estimator_doc_link.fitted:hover {\n",
       "  /* fitted */\n",
       "  background-color: var(--sklearn-color-fitted-level-3);\n",
       "}\n",
       "</style><div id=\"sk-container-id-1\" class=\"sk-top-container\"><div class=\"sk-text-repr-fallback\"><pre>RandomizedSearchCV(estimator=Pipeline(steps=[(&#x27;tf-idf&#x27;,\n",
       "                                              TfidfVectorizer(decode_error=&#x27;ignore&#x27;)),\n",
       "                                             (&#x27;models&#x27;, LogisticRegression())]),\n",
       "                   n_jobs=-1,\n",
       "                   param_distributions=[{&#x27;models&#x27;: [LogisticRegression(random_state=42)],\n",
       "                                         &#x27;models__C&#x27;: range(1, 4)},\n",
       "                                        {&#x27;models&#x27;: [DecisionTreeClassifier(random_state=42)],\n",
       "                                         &#x27;models__max_depth&#x27;: range(3, 7)}],\n",
       "                   scoring=&#x27;f1&#x27;)</pre><b>In a Jupyter environment, please rerun this cell to show the HTML representation or trust the notebook. <br />On GitHub, the HTML representation is unable to render, please try loading this page with nbviewer.org.</b></div><div class=\"sk-container\" hidden><div class=\"sk-item sk-dashed-wrapped\"><div class=\"sk-label-container\"><div class=\"sk-label fitted sk-toggleable\"><input class=\"sk-toggleable__control sk-hidden--visually\" id=\"sk-estimator-id-1\" type=\"checkbox\" ><label for=\"sk-estimator-id-1\" class=\"sk-toggleable__label fitted sk-toggleable__label-arrow fitted\">&nbsp;&nbsp;RandomizedSearchCV<a class=\"sk-estimator-doc-link fitted\" rel=\"noreferrer\" target=\"_blank\" href=\"https://scikit-learn.org/1.4/modules/generated/sklearn.model_selection.RandomizedSearchCV.html\">?<span>Documentation for RandomizedSearchCV</span></a><span class=\"sk-estimator-doc-link fitted\">i<span>Fitted</span></span></label><div class=\"sk-toggleable__content fitted\"><pre>RandomizedSearchCV(estimator=Pipeline(steps=[(&#x27;tf-idf&#x27;,\n",
       "                                              TfidfVectorizer(decode_error=&#x27;ignore&#x27;)),\n",
       "                                             (&#x27;models&#x27;, LogisticRegression())]),\n",
       "                   n_jobs=-1,\n",
       "                   param_distributions=[{&#x27;models&#x27;: [LogisticRegression(random_state=42)],\n",
       "                                         &#x27;models__C&#x27;: range(1, 4)},\n",
       "                                        {&#x27;models&#x27;: [DecisionTreeClassifier(random_state=42)],\n",
       "                                         &#x27;models__max_depth&#x27;: range(3, 7)}],\n",
       "                   scoring=&#x27;f1&#x27;)</pre></div> </div></div><div class=\"sk-parallel\"><div class=\"sk-parallel-item\"><div class=\"sk-item\"><div class=\"sk-label-container\"><div class=\"sk-label fitted sk-toggleable\"><input class=\"sk-toggleable__control sk-hidden--visually\" id=\"sk-estimator-id-2\" type=\"checkbox\" ><label for=\"sk-estimator-id-2\" class=\"sk-toggleable__label fitted sk-toggleable__label-arrow fitted\">estimator: Pipeline</label><div class=\"sk-toggleable__content fitted\"><pre>Pipeline(steps=[(&#x27;tf-idf&#x27;, TfidfVectorizer(decode_error=&#x27;ignore&#x27;)),\n",
       "                (&#x27;models&#x27;, LogisticRegression())])</pre></div> </div></div><div class=\"sk-serial\"><div class=\"sk-item\"><div class=\"sk-serial\"><div class=\"sk-item\"><div class=\"sk-estimator fitted sk-toggleable\"><input class=\"sk-toggleable__control sk-hidden--visually\" id=\"sk-estimator-id-3\" type=\"checkbox\" ><label for=\"sk-estimator-id-3\" class=\"sk-toggleable__label fitted sk-toggleable__label-arrow fitted\">&nbsp;TfidfVectorizer<a class=\"sk-estimator-doc-link fitted\" rel=\"noreferrer\" target=\"_blank\" href=\"https://scikit-learn.org/1.4/modules/generated/sklearn.feature_extraction.text.TfidfVectorizer.html\">?<span>Documentation for TfidfVectorizer</span></a></label><div class=\"sk-toggleable__content fitted\"><pre>TfidfVectorizer(decode_error=&#x27;ignore&#x27;)</pre></div> </div></div><div class=\"sk-item\"><div class=\"sk-estimator fitted sk-toggleable\"><input class=\"sk-toggleable__control sk-hidden--visually\" id=\"sk-estimator-id-4\" type=\"checkbox\" ><label for=\"sk-estimator-id-4\" class=\"sk-toggleable__label fitted sk-toggleable__label-arrow fitted\">&nbsp;LogisticRegression<a class=\"sk-estimator-doc-link fitted\" rel=\"noreferrer\" target=\"_blank\" href=\"https://scikit-learn.org/1.4/modules/generated/sklearn.linear_model.LogisticRegression.html\">?<span>Documentation for LogisticRegression</span></a></label><div class=\"sk-toggleable__content fitted\"><pre>LogisticRegression()</pre></div> </div></div></div></div></div></div></div></div></div></div></div>"
      ],
      "text/plain": [
       "RandomizedSearchCV(estimator=Pipeline(steps=[('tf-idf',\n",
       "                                              TfidfVectorizer(decode_error='ignore')),\n",
       "                                             ('models', LogisticRegression())]),\n",
       "                   n_jobs=-1,\n",
       "                   param_distributions=[{'models': [LogisticRegression(random_state=42)],\n",
       "                                         'models__C': range(1, 4)},\n",
       "                                        {'models': [DecisionTreeClassifier(random_state=42)],\n",
       "                                         'models__max_depth': range(3, 7)}],\n",
       "                   scoring='f1')"
      ]
     },
     "execution_count": 17,
     "metadata": {},
     "output_type": "execute_result"
    }
   ],
   "source": [
    "randomized_search = RandomizedSearchCV(\n",
    "    pipeline, \n",
    "    param_grid,\n",
    "    scoring='f1', \n",
    "    n_jobs=-1\n",
    ")\n",
    "\n",
    "randomized_search.fit(X_train, y_train)"
   ]
  },
  {
   "cell_type": "code",
   "execution_count": 18,
   "metadata": {},
   "outputs": [
    {
     "name": "stdout",
     "output_type": "stream",
     "text": [
      "Лучшая модель: Pipeline(steps=[('tf-idf', TfidfVectorizer(decode_error='ignore')),\n",
      "                ('models', LogisticRegression(C=3, random_state=42))])\n"
     ]
    }
   ],
   "source": [
    "print('Лучшая модель:',randomized_search.best_estimator_)"
   ]
  },
  {
   "cell_type": "code",
   "execution_count": 19,
   "metadata": {},
   "outputs": [
    {
     "name": "stdout",
     "output_type": "stream",
     "text": [
      "Метрика f1 лучшей модели на тренировочных данных: 0.7663511412555348\n"
     ]
    }
   ],
   "source": [
    "print('Метрика f1 лучшей модели на тренировочных данных:',randomized_search.best_score_)"
   ]
  },
  {
   "cell_type": "code",
   "execution_count": 20,
   "metadata": {},
   "outputs": [
    {
     "name": "stdout",
     "output_type": "stream",
     "text": [
      "Метрика f1 лучшей модели на тестовой выборке: 0.7695373665480427\n"
     ]
    }
   ],
   "source": [
    "res = f1_score(y_test, randomized_search.predict(X_test))\n",
    "print('Метрика f1 лучшей модели на тестовой выборке:', res)"
   ]
  },
  {
   "cell_type": "markdown",
   "metadata": {},
   "source": [
    "Метрики логистической регрессии с параметром `C=3` больше 0.75, что удовлетворяет требованиям."
   ]
  },
  {
   "cell_type": "markdown",
   "metadata": {},
   "source": [
    "## Выводы"
   ]
  },
  {
   "cell_type": "markdown",
   "metadata": {},
   "source": [
    "При подготовке данных мы выполнили следующие шаги:\n",
    "1. Избавились от лишних символов с помощью регулярных выражений\n",
    "2. Избавились от стоп-слов\n",
    "3. Привели слова к их леммам с помощью функции из библиотеки `nltk` \n",
    "4. Удалили дубликаты\n",
    "\n",
    "В данных присутствует дисбалланс классов, токсичные комментарии составляют 10% от всех записей, поэтому при разделении данных на выборки мы учитывали соотношение классов. \n",
    "\n",
    "Мы создали пайплайн, в котором кодируем признак с помощью `TfidfVectorizer` и обучаем две модели, подбирая параметры:\n",
    "- `LogisticRegression` с параметром `C` от 1 до 3\n",
    "- `DecisionTreeClassifier` с параметром `max_depth` от 3 до 6\n",
    "\n",
    "Лучшей моделью оказалась логистическая регрессия с `C=3`. Ее метрика `F1` на тренировочных и тестовых данных равна примерно `0.76`, что удовлетворяет требованиям."
   ]
  }
 ],
 "metadata": {
  "ExecuteTimeLog": [
   {
    "duration": 399,
    "start_time": "2024-02-28T11:30:29.847Z"
   },
   {
    "duration": 2422,
    "start_time": "2024-02-28T11:30:31.847Z"
   },
   {
    "duration": 12,
    "start_time": "2024-02-28T11:30:34.271Z"
   },
   {
    "duration": 8,
    "start_time": "2024-02-28T11:30:41.063Z"
   },
   {
    "duration": 29,
    "start_time": "2024-02-28T11:30:59.802Z"
   },
   {
    "duration": 3,
    "start_time": "2024-02-28T11:31:53.700Z"
   },
   {
    "duration": 4,
    "start_time": "2024-02-28T11:32:20.084Z"
   },
   {
    "duration": 4,
    "start_time": "2024-02-28T11:33:01.881Z"
   },
   {
    "duration": 3,
    "start_time": "2024-02-28T11:33:39.548Z"
   },
   {
    "duration": 58,
    "start_time": "2024-02-28T11:37:47.362Z"
   },
   {
    "duration": 13,
    "start_time": "2024-02-28T11:37:53.501Z"
   },
   {
    "duration": 32,
    "start_time": "2024-02-28T11:41:25.368Z"
   },
   {
    "duration": 3153,
    "start_time": "2024-02-28T11:45:44.880Z"
   },
   {
    "duration": 7,
    "start_time": "2024-02-28T11:45:53.351Z"
   },
   {
    "duration": 29,
    "start_time": "2024-02-28T11:45:54.375Z"
   },
   {
    "duration": 4,
    "start_time": "2024-02-28T11:46:36.462Z"
   },
   {
    "duration": 12,
    "start_time": "2024-02-28T11:46:41.684Z"
   },
   {
    "duration": 4,
    "start_time": "2024-02-28T11:48:32.379Z"
   },
   {
    "duration": 8,
    "start_time": "2024-02-28T11:48:34.632Z"
   },
   {
    "duration": 25,
    "start_time": "2024-02-28T11:49:51.433Z"
   },
   {
    "duration": 30,
    "start_time": "2024-02-28T11:49:58.805Z"
   },
   {
    "duration": 347,
    "start_time": "2024-02-28T11:52:10.691Z"
   },
   {
    "duration": 895,
    "start_time": "2024-02-28T11:52:11.039Z"
   },
   {
    "duration": 12,
    "start_time": "2024-02-28T11:52:11.935Z"
   },
   {
    "duration": 27,
    "start_time": "2024-02-28T11:52:11.949Z"
   },
   {
    "duration": 10,
    "start_time": "2024-02-28T11:52:11.978Z"
   },
   {
    "duration": 3,
    "start_time": "2024-02-28T11:52:11.990Z"
   },
   {
    "duration": 405,
    "start_time": "2024-02-28T12:10:48.100Z"
   },
   {
    "duration": 891,
    "start_time": "2024-02-28T12:10:48.507Z"
   },
   {
    "duration": 13,
    "start_time": "2024-02-28T12:10:49.400Z"
   },
   {
    "duration": 40,
    "start_time": "2024-02-28T12:10:49.415Z"
   },
   {
    "duration": 11,
    "start_time": "2024-02-28T12:10:49.457Z"
   },
   {
    "duration": 4,
    "start_time": "2024-02-28T12:10:49.469Z"
   },
   {
    "duration": 80008,
    "start_time": "2024-02-28T12:10:49.474Z"
   },
   {
    "duration": 71,
    "start_time": "2024-02-28T12:12:09.484Z"
   },
   {
    "duration": 7,
    "start_time": "2024-02-28T12:13:06.351Z"
   },
   {
    "duration": 4,
    "start_time": "2024-02-28T12:13:59.379Z"
   },
   {
    "duration": 3,
    "start_time": "2024-02-28T12:14:09.721Z"
   },
   {
    "duration": 706,
    "start_time": "2024-02-28T12:14:11.666Z"
   },
   {
    "duration": 3068,
    "start_time": "2024-02-28T12:14:51.910Z"
   },
   {
    "duration": 3837,
    "start_time": "2024-02-28T12:55:38.384Z"
   },
   {
    "duration": 444,
    "start_time": "2024-02-28T12:56:17.480Z"
   },
   {
    "duration": 459,
    "start_time": "2024-02-28T12:56:22.395Z"
   },
   {
    "duration": 433,
    "start_time": "2024-02-28T12:56:39.180Z"
   },
   {
    "duration": 405,
    "start_time": "2024-02-28T12:58:41.488Z"
   },
   {
    "duration": 5728,
    "start_time": "2024-02-28T12:58:50.583Z"
   },
   {
    "duration": 3233,
    "start_time": "2024-02-28T13:00:44.200Z"
   },
   {
    "duration": 840,
    "start_time": "2024-02-28T13:00:47.435Z"
   },
   {
    "duration": 14,
    "start_time": "2024-02-28T13:00:48.276Z"
   },
   {
    "duration": 43,
    "start_time": "2024-02-28T13:00:48.291Z"
   },
   {
    "duration": 11,
    "start_time": "2024-02-28T13:00:48.337Z"
   },
   {
    "duration": 69,
    "start_time": "2024-02-28T13:00:48.349Z"
   },
   {
    "duration": 0,
    "start_time": "2024-02-28T13:00:48.420Z"
   },
   {
    "duration": 552,
    "start_time": "2024-02-28T13:01:00.774Z"
   },
   {
    "duration": 1209,
    "start_time": "2024-02-28T13:41:09.292Z"
   },
   {
    "duration": 917,
    "start_time": "2024-02-28T13:41:10.503Z"
   },
   {
    "duration": 13,
    "start_time": "2024-02-28T13:41:11.421Z"
   },
   {
    "duration": 33,
    "start_time": "2024-02-28T13:41:11.436Z"
   },
   {
    "duration": 21,
    "start_time": "2024-02-28T13:41:11.471Z"
   },
   {
    "duration": 12,
    "start_time": "2024-02-28T13:41:11.494Z"
   },
   {
    "duration": 497,
    "start_time": "2024-02-28T13:41:11.508Z"
   },
   {
    "duration": 372,
    "start_time": "2024-02-28T13:41:44.807Z"
   },
   {
    "duration": 353,
    "start_time": "2024-02-28T13:42:21.033Z"
   },
   {
    "duration": 11,
    "start_time": "2024-02-28T13:42:55.144Z"
   },
   {
    "duration": 3,
    "start_time": "2024-02-28T13:43:52.937Z"
   },
   {
    "duration": 858,
    "start_time": "2024-02-28T13:43:52.941Z"
   },
   {
    "duration": 7,
    "start_time": "2024-02-28T13:43:53.801Z"
   },
   {
    "duration": 38,
    "start_time": "2024-02-28T13:43:53.810Z"
   },
   {
    "duration": 11,
    "start_time": "2024-02-28T13:43:53.850Z"
   },
   {
    "duration": 24,
    "start_time": "2024-02-28T13:43:53.863Z"
   },
   {
    "duration": 12,
    "start_time": "2024-02-28T13:43:53.889Z"
   },
   {
    "duration": 83439,
    "start_time": "2024-02-28T13:43:53.903Z"
   },
   {
    "duration": 6,
    "start_time": "2024-02-28T13:46:11.918Z"
   },
   {
    "duration": 1314,
    "start_time": "2024-02-28T13:51:11.896Z"
   },
   {
    "duration": 990,
    "start_time": "2024-02-28T13:51:13.212Z"
   },
   {
    "duration": 14,
    "start_time": "2024-02-28T13:51:14.207Z"
   },
   {
    "duration": 39,
    "start_time": "2024-02-28T13:51:14.223Z"
   },
   {
    "duration": 12,
    "start_time": "2024-02-28T13:51:14.264Z"
   },
   {
    "duration": 363,
    "start_time": "2024-02-28T13:51:14.277Z"
   },
   {
    "duration": 3,
    "start_time": "2024-02-28T13:51:14.641Z"
   },
   {
    "duration": 126539,
    "start_time": "2024-02-28T13:51:14.646Z"
   },
   {
    "duration": 9,
    "start_time": "2024-02-28T13:53:21.187Z"
   },
   {
    "duration": 3,
    "start_time": "2024-02-28T13:55:07.988Z"
   },
   {
    "duration": 5372,
    "start_time": "2024-02-28T13:58:11.302Z"
   },
   {
    "duration": 4,
    "start_time": "2024-02-28T13:58:27.350Z"
   },
   {
    "duration": 3,
    "start_time": "2024-02-28T13:58:30.216Z"
   },
   {
    "duration": 3,
    "start_time": "2024-02-28T13:58:52.123Z"
   },
   {
    "duration": 3,
    "start_time": "2024-02-28T13:59:06.089Z"
   },
   {
    "duration": 3,
    "start_time": "2024-02-28T14:01:11.619Z"
   },
   {
    "duration": 4,
    "start_time": "2024-02-28T14:02:06.773Z"
   },
   {
    "duration": 336,
    "start_time": "2024-02-28T14:15:08.550Z"
   },
   {
    "duration": 2,
    "start_time": "2024-02-28T14:15:12.878Z"
   },
   {
    "duration": 4,
    "start_time": "2024-02-28T14:15:13.481Z"
   },
   {
    "duration": 109,
    "start_time": "2024-02-28T14:15:15.934Z"
   },
   {
    "duration": 3,
    "start_time": "2024-02-28T14:15:27.499Z"
   },
   {
    "duration": 99,
    "start_time": "2024-02-28T14:15:30.881Z"
   },
   {
    "duration": 1320,
    "start_time": "2024-02-28T14:15:40.229Z"
   },
   {
    "duration": 972,
    "start_time": "2024-02-28T14:15:41.551Z"
   },
   {
    "duration": 16,
    "start_time": "2024-02-28T14:15:42.527Z"
   },
   {
    "duration": 34,
    "start_time": "2024-02-28T14:15:42.546Z"
   },
   {
    "duration": 12,
    "start_time": "2024-02-28T14:15:42.582Z"
   },
   {
    "duration": 331,
    "start_time": "2024-02-28T14:15:42.596Z"
   },
   {
    "duration": 3,
    "start_time": "2024-02-28T14:15:42.932Z"
   },
   {
    "duration": 9,
    "start_time": "2024-02-28T14:15:42.937Z"
   },
   {
    "duration": 1833,
    "start_time": "2024-02-28T14:15:42.948Z"
   },
   {
    "duration": 0,
    "start_time": "2024-02-28T14:15:44.783Z"
   },
   {
    "duration": 0,
    "start_time": "2024-02-28T14:15:44.785Z"
   },
   {
    "duration": 5,
    "start_time": "2024-02-28T14:17:53.137Z"
   },
   {
    "duration": 3,
    "start_time": "2024-02-28T14:18:02.037Z"
   },
   {
    "duration": 4,
    "start_time": "2024-02-28T14:18:07.464Z"
   },
   {
    "duration": 4,
    "start_time": "2024-02-28T14:18:10.880Z"
   },
   {
    "duration": 4,
    "start_time": "2024-02-28T14:19:03.953Z"
   },
   {
    "duration": 351,
    "start_time": "2024-02-28T14:19:05.802Z"
   },
   {
    "duration": 4,
    "start_time": "2024-02-28T14:19:18.798Z"
   },
   {
    "duration": 4,
    "start_time": "2024-02-28T14:19:36.293Z"
   },
   {
    "duration": 4,
    "start_time": "2024-02-28T14:19:41.219Z"
   },
   {
    "duration": 5,
    "start_time": "2024-02-28T14:19:50.057Z"
   },
   {
    "duration": 4,
    "start_time": "2024-02-28T14:19:58.990Z"
   },
   {
    "duration": 73,
    "start_time": "2024-02-28T14:20:58.702Z"
   },
   {
    "duration": 22814,
    "start_time": "2024-02-28T14:21:09.541Z"
   },
   {
    "duration": 94,
    "start_time": "2024-02-28T14:22:27.402Z"
   },
   {
    "duration": 1293,
    "start_time": "2024-02-28T14:24:28.815Z"
   },
   {
    "duration": 907,
    "start_time": "2024-02-28T14:24:30.110Z"
   },
   {
    "duration": 18,
    "start_time": "2024-02-28T14:24:31.019Z"
   },
   {
    "duration": 50,
    "start_time": "2024-02-28T14:24:31.038Z"
   },
   {
    "duration": 61,
    "start_time": "2024-02-28T14:24:31.090Z"
   },
   {
    "duration": 243,
    "start_time": "2024-02-28T14:24:31.153Z"
   },
   {
    "duration": 110,
    "start_time": "2024-02-28T14:24:31.398Z"
   },
   {
    "duration": 0,
    "start_time": "2024-02-28T14:24:31.510Z"
   },
   {
    "duration": 0,
    "start_time": "2024-02-28T14:24:31.511Z"
   },
   {
    "duration": 0,
    "start_time": "2024-02-28T14:24:31.512Z"
   },
   {
    "duration": 0,
    "start_time": "2024-02-28T14:24:31.513Z"
   },
   {
    "duration": 3,
    "start_time": "2024-02-28T14:24:54.169Z"
   },
   {
    "duration": 4,
    "start_time": "2024-02-28T14:24:58.314Z"
   },
   {
    "duration": 4,
    "start_time": "2024-02-28T14:25:00.321Z"
   },
   {
    "duration": 2008,
    "start_time": "2024-02-28T14:25:01.132Z"
   },
   {
    "duration": 4,
    "start_time": "2024-02-28T14:26:18.690Z"
   },
   {
    "duration": 458,
    "start_time": "2024-02-28T14:26:19.434Z"
   },
   {
    "duration": 236,
    "start_time": "2024-02-28T14:26:33.158Z"
   },
   {
    "duration": 4,
    "start_time": "2024-02-28T14:26:36.115Z"
   },
   {
    "duration": 457,
    "start_time": "2024-02-28T14:26:36.718Z"
   },
   {
    "duration": 2,
    "start_time": "2024-02-28T14:39:48.621Z"
   },
   {
    "duration": 1221,
    "start_time": "2024-02-28T14:42:50.493Z"
   },
   {
    "duration": 1045,
    "start_time": "2024-02-28T14:42:51.715Z"
   },
   {
    "duration": 19,
    "start_time": "2024-02-28T14:42:52.762Z"
   },
   {
    "duration": 51,
    "start_time": "2024-02-28T14:42:52.784Z"
   },
   {
    "duration": 14,
    "start_time": "2024-02-28T14:42:52.838Z"
   },
   {
    "duration": 310,
    "start_time": "2024-02-28T14:42:52.854Z"
   },
   {
    "duration": 1273,
    "start_time": "2024-02-28T14:42:53.166Z"
   },
   {
    "duration": 5,
    "start_time": "2024-02-28T14:42:54.441Z"
   },
   {
    "duration": 474,
    "start_time": "2024-02-28T14:42:54.448Z"
   },
   {
    "duration": 0,
    "start_time": "2024-02-28T14:42:54.924Z"
   },
   {
    "duration": 0,
    "start_time": "2024-02-28T14:42:54.925Z"
   },
   {
    "duration": 5,
    "start_time": "2024-02-28T14:43:42.542Z"
   },
   {
    "duration": 690594,
    "start_time": "2024-02-28T14:43:43.215Z"
   },
   {
    "duration": 7,
    "start_time": "2024-02-28T14:55:13.810Z"
   },
   {
    "duration": 849,
    "start_time": "2024-02-28T14:56:34.975Z"
   },
   {
    "duration": 833,
    "start_time": "2024-02-28T14:56:56.789Z"
   },
   {
    "duration": 5,
    "start_time": "2024-02-28T14:56:59.777Z"
   },
   {
    "duration": 393,
    "start_time": "2024-02-28T15:21:04.896Z"
   },
   {
    "duration": 21,
    "start_time": "2024-02-28T15:21:49.624Z"
   },
   {
    "duration": 9,
    "start_time": "2024-02-28T15:22:00.520Z"
   },
   {
    "duration": 133,
    "start_time": "2024-02-28T15:22:58.826Z"
   },
   {
    "duration": 127,
    "start_time": "2024-02-28T15:23:04.248Z"
   },
   {
    "duration": 89,
    "start_time": "2024-02-28T15:23:36.373Z"
   },
   {
    "duration": 13,
    "start_time": "2024-02-28T15:27:20.985Z"
   },
   {
    "duration": 67,
    "start_time": "2024-02-28T15:27:25.201Z"
   },
   {
    "duration": 69,
    "start_time": "2024-02-28T15:28:18.638Z"
   },
   {
    "duration": 5,
    "start_time": "2024-02-28T15:28:32.554Z"
   },
   {
    "duration": 86,
    "start_time": "2024-02-28T15:31:13.935Z"
   },
   {
    "duration": 88,
    "start_time": "2024-02-28T15:32:40.010Z"
   },
   {
    "duration": 101,
    "start_time": "2024-02-28T15:33:44.621Z"
   },
   {
    "duration": 4,
    "start_time": "2024-02-28T15:34:04.973Z"
   },
   {
    "duration": 81,
    "start_time": "2024-02-28T15:34:08.822Z"
   },
   {
    "duration": 5,
    "start_time": "2024-02-28T15:34:19.490Z"
   },
   {
    "duration": 14,
    "start_time": "2024-02-28T15:34:36.606Z"
   },
   {
    "duration": 4,
    "start_time": "2024-02-28T15:34:39.802Z"
   },
   {
    "duration": 276,
    "start_time": "2024-02-28T15:34:46.877Z"
   },
   {
    "duration": 129,
    "start_time": "2024-02-28T15:34:51.953Z"
   },
   {
    "duration": 106,
    "start_time": "2024-02-28T15:35:00.290Z"
   },
   {
    "duration": 6,
    "start_time": "2024-02-28T15:35:54.353Z"
   },
   {
    "duration": 91,
    "start_time": "2024-02-28T15:39:27.234Z"
   },
   {
    "duration": 4,
    "start_time": "2024-02-28T15:39:33.201Z"
   },
   {
    "duration": 82,
    "start_time": "2024-02-28T15:39:37.883Z"
   },
   {
    "duration": 5,
    "start_time": "2024-02-28T15:40:43.812Z"
   },
   {
    "duration": 6,
    "start_time": "2024-02-28T15:40:51.716Z"
   },
   {
    "duration": 94,
    "start_time": "2024-02-28T15:40:57.150Z"
   },
   {
    "duration": 6,
    "start_time": "2024-02-28T15:41:27.670Z"
   },
   {
    "duration": 90,
    "start_time": "2024-02-28T15:41:31.664Z"
   },
   {
    "duration": 8,
    "start_time": "2024-02-28T15:41:43.743Z"
   },
   {
    "duration": 93,
    "start_time": "2024-02-28T15:41:50.957Z"
   },
   {
    "duration": 88,
    "start_time": "2024-02-28T15:42:13.571Z"
   },
   {
    "duration": 99,
    "start_time": "2024-02-28T15:42:17.770Z"
   },
   {
    "duration": 106,
    "start_time": "2024-02-28T15:42:51.112Z"
   },
   {
    "duration": 122,
    "start_time": "2024-02-28T15:43:04.810Z"
   },
   {
    "duration": 111,
    "start_time": "2024-02-28T15:43:13.013Z"
   },
   {
    "duration": 119,
    "start_time": "2024-02-28T15:43:18.980Z"
   },
   {
    "duration": 2948,
    "start_time": "2024-02-29T09:33:06.717Z"
   },
   {
    "duration": 113,
    "start_time": "2024-02-29T09:33:17.630Z"
   },
   {
    "duration": 1261,
    "start_time": "2024-02-29T09:33:28.483Z"
   },
   {
    "duration": 12,
    "start_time": "2024-02-29T09:33:31.572Z"
   },
   {
    "duration": 63,
    "start_time": "2024-02-29T09:35:27.542Z"
   },
   {
    "duration": 2263,
    "start_time": "2024-02-29T09:35:27.607Z"
   },
   {
    "duration": 9,
    "start_time": "2024-02-29T09:35:29.872Z"
   },
   {
    "duration": 96,
    "start_time": "2024-02-29T09:35:29.884Z"
   },
   {
    "duration": 42,
    "start_time": "2024-02-29T09:35:29.982Z"
   },
   {
    "duration": 39,
    "start_time": "2024-02-29T09:35:30.026Z"
   },
   {
    "duration": 37,
    "start_time": "2024-02-29T09:35:30.067Z"
   },
   {
    "duration": 700174,
    "start_time": "2024-02-29T09:35:30.106Z"
   },
   {
    "duration": 7,
    "start_time": "2024-02-29T09:47:10.282Z"
   },
   {
    "duration": 151,
    "start_time": "2024-02-29T09:47:10.291Z"
   },
   {
    "duration": 5,
    "start_time": "2024-02-29T09:47:10.444Z"
   },
   {
    "duration": 162,
    "start_time": "2024-02-29T09:47:10.450Z"
   },
   {
    "duration": 285,
    "start_time": "2024-02-29T09:51:31.812Z"
   },
   {
    "duration": 6,
    "start_time": "2024-02-29T09:51:36.410Z"
   },
   {
    "duration": 117,
    "start_time": "2024-02-29T09:51:38.156Z"
   },
   {
    "duration": 15,
    "start_time": "2024-02-29T10:34:35.401Z"
   },
   {
    "duration": 241,
    "start_time": "2024-02-29T10:34:39.667Z"
   },
   {
    "duration": 63,
    "start_time": "2024-02-29T10:34:50.161Z"
   },
   {
    "duration": 5,
    "start_time": "2024-02-29T10:34:52.741Z"
   },
   {
    "duration": 3,
    "start_time": "2024-02-29T10:34:54.935Z"
   },
   {
    "duration": 18,
    "start_time": "2024-02-29T10:35:38.965Z"
   },
   {
    "duration": 4,
    "start_time": "2024-02-29T10:35:56.603Z"
   },
   {
    "duration": 45,
    "start_time": "2024-02-29T10:36:31.831Z"
   },
   {
    "duration": 3,
    "start_time": "2024-02-29T10:36:42.516Z"
   },
   {
    "duration": 4,
    "start_time": "2024-02-29T10:36:43.264Z"
   },
   {
    "duration": 37,
    "start_time": "2024-02-29T10:36:44.715Z"
   },
   {
    "duration": 3,
    "start_time": "2024-02-29T10:37:13.618Z"
   },
   {
    "duration": 1849,
    "start_time": "2024-02-29T11:10:22.254Z"
   },
   {
    "duration": 1014,
    "start_time": "2024-02-29T11:10:24.105Z"
   },
   {
    "duration": 11,
    "start_time": "2024-02-29T11:10:25.120Z"
   },
   {
    "duration": 44,
    "start_time": "2024-02-29T11:10:25.133Z"
   },
   {
    "duration": 124,
    "start_time": "2024-02-29T11:10:25.179Z"
   },
   {
    "duration": 1438,
    "start_time": "2024-02-29T11:10:25.304Z"
   },
   {
    "duration": 4,
    "start_time": "2024-02-29T11:10:26.744Z"
   },
   {
    "duration": 769898,
    "start_time": "2024-02-29T11:10:26.749Z"
   },
   {
    "duration": 8,
    "start_time": "2024-02-29T11:23:16.649Z"
   },
   {
    "duration": 169,
    "start_time": "2024-02-29T11:23:16.669Z"
   },
   {
    "duration": 293,
    "start_time": "2024-02-29T11:23:16.840Z"
   },
   {
    "duration": 6,
    "start_time": "2024-02-29T11:23:17.135Z"
   },
   {
    "duration": 190,
    "start_time": "2024-02-29T11:23:17.142Z"
   },
   {
    "duration": 70,
    "start_time": "2024-02-29T11:23:17.334Z"
   },
   {
    "duration": 2,
    "start_time": "2024-02-29T11:23:17.406Z"
   },
   {
    "duration": 75,
    "start_time": "2024-02-29T11:23:17.410Z"
   },
   {
    "duration": 1783,
    "start_time": "2024-02-29T12:05:31.370Z"
   },
   {
    "duration": 971,
    "start_time": "2024-02-29T12:05:33.155Z"
   },
   {
    "duration": 11,
    "start_time": "2024-02-29T12:05:34.127Z"
   },
   {
    "duration": 75,
    "start_time": "2024-02-29T12:05:34.140Z"
   },
   {
    "duration": 45,
    "start_time": "2024-02-29T12:05:34.218Z"
   },
   {
    "duration": 1385,
    "start_time": "2024-02-29T12:05:34.273Z"
   },
   {
    "duration": 5,
    "start_time": "2024-02-29T12:05:35.660Z"
   },
   {
    "duration": 766942,
    "start_time": "2024-02-29T12:05:35.666Z"
   },
   {
    "duration": 7,
    "start_time": "2024-02-29T12:18:22.610Z"
   },
   {
    "duration": 175,
    "start_time": "2024-02-29T12:18:22.619Z"
   },
   {
    "duration": 290,
    "start_time": "2024-02-29T12:18:22.796Z"
   },
   {
    "duration": 7,
    "start_time": "2024-02-29T12:18:23.087Z"
   },
   {
    "duration": 158,
    "start_time": "2024-02-29T12:18:23.095Z"
   },
   {
    "duration": 65,
    "start_time": "2024-02-29T12:18:23.255Z"
   },
   {
    "duration": 3,
    "start_time": "2024-02-29T12:18:23.322Z"
   },
   {
    "duration": 24,
    "start_time": "2024-02-29T12:18:23.326Z"
   },
   {
    "duration": 810715,
    "start_time": "2024-02-29T12:18:23.352Z"
   },
   {
    "duration": 4,
    "start_time": "2024-02-29T12:31:54.070Z"
   },
   {
    "duration": 6,
    "start_time": "2024-02-29T12:34:19.789Z"
   },
   {
    "duration": 4,
    "start_time": "2024-02-29T12:36:41.205Z"
   },
   {
    "duration": 7,
    "start_time": "2024-02-29T12:37:11.822Z"
   },
   {
    "duration": 3,
    "start_time": "2024-02-29T12:37:35.886Z"
   },
   {
    "duration": 6,
    "start_time": "2024-02-29T12:42:24.349Z"
   },
   {
    "duration": 3,
    "start_time": "2024-02-29T12:42:29.161Z"
   },
   {
    "duration": 1849,
    "start_time": "2024-02-29T12:59:44.766Z"
   },
   {
    "duration": 979,
    "start_time": "2024-02-29T12:59:46.617Z"
   },
   {
    "duration": 12,
    "start_time": "2024-02-29T12:59:47.597Z"
   },
   {
    "duration": 121,
    "start_time": "2024-02-29T12:59:47.611Z"
   },
   {
    "duration": 66,
    "start_time": "2024-02-29T12:59:47.733Z"
   },
   {
    "duration": 1428,
    "start_time": "2024-02-29T12:59:47.801Z"
   },
   {
    "duration": 4,
    "start_time": "2024-02-29T12:59:49.230Z"
   },
   {
    "duration": 798780,
    "start_time": "2024-02-29T12:59:49.236Z"
   },
   {
    "duration": 7,
    "start_time": "2024-02-29T13:13:08.018Z"
   },
   {
    "duration": 194,
    "start_time": "2024-02-29T13:13:08.027Z"
   },
   {
    "duration": 288,
    "start_time": "2024-02-29T13:13:08.223Z"
   },
   {
    "duration": 6,
    "start_time": "2024-02-29T13:13:08.512Z"
   },
   {
    "duration": 2324,
    "start_time": "2024-02-29T13:13:08.520Z"
   },
   {
    "duration": 70,
    "start_time": "2024-02-29T13:13:10.846Z"
   },
   {
    "duration": 3,
    "start_time": "2024-02-29T13:13:10.918Z"
   },
   {
    "duration": 22,
    "start_time": "2024-02-29T13:13:10.923Z"
   },
   {
    "duration": 874330,
    "start_time": "2024-02-29T13:13:10.947Z"
   },
   {
    "duration": 6,
    "start_time": "2024-02-29T13:27:45.279Z"
   },
   {
    "duration": 113,
    "start_time": "2024-02-29T13:27:45.287Z"
   },
   {
    "duration": 1286,
    "start_time": "2024-02-29T13:27:45.402Z"
   },
   {
    "duration": 1979,
    "start_time": "2024-03-04T14:18:11.801Z"
   },
   {
    "duration": 0,
    "start_time": "2024-03-04T14:18:13.782Z"
   },
   {
    "duration": 0,
    "start_time": "2024-03-04T14:18:13.783Z"
   },
   {
    "duration": 0,
    "start_time": "2024-03-04T14:18:13.784Z"
   },
   {
    "duration": 0,
    "start_time": "2024-03-04T14:18:13.786Z"
   },
   {
    "duration": 0,
    "start_time": "2024-03-04T14:18:13.787Z"
   },
   {
    "duration": 0,
    "start_time": "2024-03-04T14:18:13.792Z"
   },
   {
    "duration": 0,
    "start_time": "2024-03-04T14:18:13.793Z"
   },
   {
    "duration": 0,
    "start_time": "2024-03-04T14:18:13.794Z"
   },
   {
    "duration": 0,
    "start_time": "2024-03-04T14:18:13.795Z"
   },
   {
    "duration": 0,
    "start_time": "2024-03-04T14:18:13.796Z"
   },
   {
    "duration": 0,
    "start_time": "2024-03-04T14:18:13.797Z"
   },
   {
    "duration": 0,
    "start_time": "2024-03-04T14:18:13.799Z"
   },
   {
    "duration": 0,
    "start_time": "2024-03-04T14:18:13.800Z"
   },
   {
    "duration": 0,
    "start_time": "2024-03-04T14:18:13.801Z"
   },
   {
    "duration": 0,
    "start_time": "2024-03-04T14:18:13.802Z"
   },
   {
    "duration": 0,
    "start_time": "2024-03-04T14:18:13.803Z"
   },
   {
    "duration": 0,
    "start_time": "2024-03-04T14:18:13.805Z"
   },
   {
    "duration": 0,
    "start_time": "2024-03-04T14:18:13.805Z"
   },
   {
    "duration": 0,
    "start_time": "2024-03-04T14:18:13.806Z"
   },
   {
    "duration": 0,
    "start_time": "2024-03-04T14:18:13.808Z"
   },
   {
    "duration": 7941,
    "start_time": "2024-03-04T14:18:42.104Z"
   },
   {
    "duration": 2698,
    "start_time": "2024-03-04T14:18:58.341Z"
   },
   {
    "duration": 1773,
    "start_time": "2024-03-04T14:19:01.042Z"
   },
   {
    "duration": 0,
    "start_time": "2024-03-04T14:19:02.899Z"
   },
   {
    "duration": 0,
    "start_time": "2024-03-04T14:19:02.900Z"
   },
   {
    "duration": 0,
    "start_time": "2024-03-04T14:19:02.902Z"
   },
   {
    "duration": 0,
    "start_time": "2024-03-04T14:19:02.903Z"
   },
   {
    "duration": 0,
    "start_time": "2024-03-04T14:19:02.904Z"
   },
   {
    "duration": 0,
    "start_time": "2024-03-04T14:19:02.905Z"
   },
   {
    "duration": 0,
    "start_time": "2024-03-04T14:19:02.907Z"
   },
   {
    "duration": 0,
    "start_time": "2024-03-04T14:19:02.907Z"
   },
   {
    "duration": 0,
    "start_time": "2024-03-04T14:19:02.908Z"
   },
   {
    "duration": 0,
    "start_time": "2024-03-04T14:19:02.910Z"
   },
   {
    "duration": 0,
    "start_time": "2024-03-04T14:19:02.911Z"
   },
   {
    "duration": 0,
    "start_time": "2024-03-04T14:19:02.912Z"
   },
   {
    "duration": 0,
    "start_time": "2024-03-04T14:19:02.913Z"
   },
   {
    "duration": 0,
    "start_time": "2024-03-04T14:19:02.914Z"
   },
   {
    "duration": 0,
    "start_time": "2024-03-04T14:19:02.915Z"
   },
   {
    "duration": 0,
    "start_time": "2024-03-04T14:19:02.916Z"
   },
   {
    "duration": 0,
    "start_time": "2024-03-04T14:19:02.917Z"
   },
   {
    "duration": 0,
    "start_time": "2024-03-04T14:19:02.918Z"
   },
   {
    "duration": 0,
    "start_time": "2024-03-04T14:19:02.919Z"
   },
   {
    "duration": 0,
    "start_time": "2024-03-04T14:19:02.920Z"
   },
   {
    "duration": 2824,
    "start_time": "2024-03-04T14:20:41.569Z"
   },
   {
    "duration": 4011,
    "start_time": "2024-03-04T14:20:44.397Z"
   },
   {
    "duration": 3436,
    "start_time": "2024-03-04T14:20:48.410Z"
   },
   {
    "duration": 11,
    "start_time": "2024-03-04T14:20:51.850Z"
   },
   {
    "duration": 52,
    "start_time": "2024-03-04T14:20:51.864Z"
   },
   {
    "duration": 19,
    "start_time": "2024-03-04T14:20:51.918Z"
   },
   {
    "duration": 1351,
    "start_time": "2024-03-04T14:20:51.939Z"
   },
   {
    "duration": 7,
    "start_time": "2024-03-04T14:20:53.292Z"
   },
   {
    "duration": 819209,
    "start_time": "2024-03-04T14:20:53.301Z"
   },
   {
    "duration": 7,
    "start_time": "2024-03-04T14:34:32.512Z"
   },
   {
    "duration": 165,
    "start_time": "2024-03-04T14:34:32.521Z"
   },
   {
    "duration": 302,
    "start_time": "2024-03-04T14:34:32.692Z"
   },
   {
    "duration": 6,
    "start_time": "2024-03-04T14:34:32.995Z"
   },
   {
    "duration": 205,
    "start_time": "2024-03-04T14:34:33.004Z"
   },
   {
    "duration": 174,
    "start_time": "2024-03-04T14:34:33.211Z"
   },
   {
    "duration": 0,
    "start_time": "2024-03-04T14:34:33.387Z"
   },
   {
    "duration": 0,
    "start_time": "2024-03-04T14:34:33.388Z"
   },
   {
    "duration": 0,
    "start_time": "2024-03-04T14:34:33.389Z"
   },
   {
    "duration": 0,
    "start_time": "2024-03-04T14:34:33.390Z"
   },
   {
    "duration": 0,
    "start_time": "2024-03-04T14:34:33.391Z"
   },
   {
    "duration": 0,
    "start_time": "2024-03-04T14:34:33.393Z"
   },
   {
    "duration": 0,
    "start_time": "2024-03-04T14:34:33.393Z"
   },
   {
    "duration": 11,
    "start_time": "2024-03-04T14:38:07.187Z"
   },
   {
    "duration": 2045,
    "start_time": "2024-03-04T14:38:57.824Z"
   },
   {
    "duration": 955,
    "start_time": "2024-03-04T14:38:59.871Z"
   },
   {
    "duration": 11,
    "start_time": "2024-03-04T14:39:00.828Z"
   },
   {
    "duration": 63,
    "start_time": "2024-03-04T14:39:00.841Z"
   },
   {
    "duration": 49,
    "start_time": "2024-03-04T14:39:00.906Z"
   },
   {
    "duration": 1487,
    "start_time": "2024-03-04T14:39:00.957Z"
   },
   {
    "duration": 5,
    "start_time": "2024-03-04T14:39:02.445Z"
   },
   {
    "duration": 813129,
    "start_time": "2024-03-04T14:39:02.451Z"
   },
   {
    "duration": 7,
    "start_time": "2024-03-04T14:52:35.582Z"
   },
   {
    "duration": 163,
    "start_time": "2024-03-04T14:52:35.591Z"
   },
   {
    "duration": 308,
    "start_time": "2024-03-04T14:52:35.756Z"
   },
   {
    "duration": 7,
    "start_time": "2024-03-04T14:52:36.067Z"
   },
   {
    "duration": 234,
    "start_time": "2024-03-04T14:52:36.076Z"
   },
   {
    "duration": 64,
    "start_time": "2024-03-04T14:52:36.314Z"
   },
   {
    "duration": 12,
    "start_time": "2024-03-04T14:52:36.380Z"
   },
   {
    "duration": 12,
    "start_time": "2024-03-04T14:52:36.394Z"
   },
   {
    "duration": 455115,
    "start_time": "2024-03-04T14:52:36.408Z"
   },
   {
    "duration": 8,
    "start_time": "2024-03-04T15:00:11.525Z"
   },
   {
    "duration": 29,
    "start_time": "2024-03-04T15:00:11.535Z"
   },
   {
    "duration": 1252,
    "start_time": "2024-03-04T15:00:11.565Z"
   },
   {
    "duration": 1768,
    "start_time": "2024-03-04T16:17:13.283Z"
   },
   {
    "duration": 973,
    "start_time": "2024-03-04T16:17:15.053Z"
   },
   {
    "duration": 11,
    "start_time": "2024-03-04T16:17:16.028Z"
   },
   {
    "duration": 35,
    "start_time": "2024-03-04T16:17:16.041Z"
   },
   {
    "duration": 26,
    "start_time": "2024-03-04T16:17:16.077Z"
   },
   {
    "duration": 1405,
    "start_time": "2024-03-04T16:17:16.105Z"
   },
   {
    "duration": 4,
    "start_time": "2024-03-04T16:17:17.512Z"
   },
   {
    "duration": 787500,
    "start_time": "2024-03-04T16:17:17.517Z"
   },
   {
    "duration": 8,
    "start_time": "2024-03-04T16:30:25.019Z"
   },
   {
    "duration": 400,
    "start_time": "2024-03-04T16:30:25.030Z"
   },
   {
    "duration": 709,
    "start_time": "2024-03-04T16:30:25.432Z"
   },
   {
    "duration": 5,
    "start_time": "2024-03-04T16:30:26.143Z"
   },
   {
    "duration": 157,
    "start_time": "2024-03-04T16:30:26.150Z"
   },
   {
    "duration": 64,
    "start_time": "2024-03-04T16:30:26.308Z"
   },
   {
    "duration": 3,
    "start_time": "2024-03-04T16:30:26.375Z"
   },
   {
    "duration": 8,
    "start_time": "2024-03-04T16:30:26.392Z"
   },
   {
    "duration": 469715,
    "start_time": "2024-03-04T16:30:26.401Z"
   },
   {
    "duration": 6,
    "start_time": "2024-03-04T16:38:16.118Z"
   },
   {
    "duration": 19,
    "start_time": "2024-03-04T16:38:16.126Z"
   },
   {
    "duration": 1426,
    "start_time": "2024-03-04T16:38:16.146Z"
   }
  ],
  "kernelspec": {
   "display_name": "Python 3 (ipykernel)",
   "language": "python",
   "name": "python3"
  },
  "language_info": {
   "codemirror_mode": {
    "name": "ipython",
    "version": 3
   },
   "file_extension": ".py",
   "mimetype": "text/x-python",
   "name": "python",
   "nbconvert_exporter": "python",
   "pygments_lexer": "ipython3",
   "version": "3.10.9"
  },
  "toc": {
   "base_numbering": 1,
   "nav_menu": {},
   "number_sections": true,
   "sideBar": true,
   "skip_h1_title": true,
   "title_cell": "Содержание",
   "title_sidebar": "Contents",
   "toc_cell": true,
   "toc_position": {
    "height": "calc(100% - 180px)",
    "left": "10px",
    "top": "150px",
    "width": "302.391px"
   },
   "toc_section_display": true,
   "toc_window_display": true
  }
 },
 "nbformat": 4,
 "nbformat_minor": 2
}
